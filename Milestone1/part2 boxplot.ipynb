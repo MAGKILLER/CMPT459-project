{
 "cells": [
  {
   "cell_type": "code",
   "execution_count": 44,
   "metadata": {},
   "outputs": [],
   "source": [
    "import json  \n",
    "import zipfile\n",
    "import pandas as pd\n",
    "from datetime import datetime\n",
    "import numpy as np\n",
    "import matplotlib.pyplot as plt\n",
    "%matplotlib inline"
   ]
  },
  {
   "cell_type": "code",
   "execution_count": null,
   "metadata": {
    "scrolled": true
   },
   "outputs": [],
   "source": []
  },
  {
   "cell_type": "code",
   "execution_count": 45,
   "metadata": {},
   "outputs": [
    {
     "name": "stdout",
     "output_type": "stream",
     "text": [
      "train.json\n"
     ]
    }
   ],
   "source": [
    "\n",
    "train = None\n",
    "data_train = None\n",
    "with zipfile.ZipFile(r'C:\\\\Users\\qwase\\Desktop\\train.json.zip' ,'r') as z:\n",
    "    for filename in z.namelist():\n",
    "        print(filename)\n",
    "        with z.open(filename) as f:\n",
    "            data_train = f.read()\n",
    "            train = json.loads(data_train.decode(\"utf-8\"))\n"
   ]
  },
  {
   "cell_type": "code",
   "execution_count": 46,
   "metadata": {},
   "outputs": [],
   "source": [
    "my_df2 = pd.DataFrame(train)"
   ]
  },
  {
   "cell_type": "code",
   "execution_count": 56,
   "metadata": {},
   "outputs": [],
   "source": [
    "price = zip(my_df2.price)"
   ]
  },
  {
   "cell_type": "code",
   "execution_count": 63,
   "metadata": {
    "scrolled": false
   },
   "outputs": [
    {
     "data": {
      "text/plain": [
       "<matplotlib.axes._subplots.AxesSubplot at 0x2ee834e0>"
      ]
     },
     "execution_count": 63,
     "metadata": {},
     "output_type": "execute_result"
    },
    {
     "data": {
      "image/png": "[encoded data removed]",
      "text/plain": [
       "<Figure size 1224x216 with 3 Axes>"
      ]
     },
     "metadata": {
      "needs_background": "light"
     },
     "output_type": "display_data"
    }
   ],
   "source": [
    "fig = plt.figure(figsize = (17,3))\n",
    "\n",
    "plt.subplot(131)\n",
    "my_df2.price.plot.box(vert = False,xlim=(0,2000))\n",
    "plt.subplot(132)\n",
    "my_df2.price.plot.box(vert = False,xlim=(2000,10000))\n",
    "plt.subplot(133)\n",
    "my_df2.price.plot.box(vert = False,xlim=(10000,10000000))"
   ]
  },
  {
   "cell_type": "code",
   "execution_count": 66,
   "metadata": {},
   "outputs": [
    {
     "data": {
      "text/plain": [
       "<matplotlib.axes._subplots.AxesSubplot at 0x2f4a7e10>"
      ]
     },
     "execution_count": 66,
     "metadata": {},
     "output_type": "execute_result"
    },
    {
     "data": {
      "image/png": "[encoded data removed]",
      "text/plain": [
       "<Figure size 1224x216 with 3 Axes>"
      ]
     },
     "metadata": {
      "needs_background": "light"
     },
     "output_type": "display_data"
    }
   ],
   "source": [
    "fig = plt.figure(figsize = (17,3))\n",
    "\n",
    "plt.subplot(131)\n",
    "my_df2.bathrooms.plot.box(vert = False,xlim=(1,4))\n",
    "plt.subplot(132)\n",
    "my_df2.bathrooms.plot.box(vert = False,xlim=(5,7))\n",
    "plt.subplot(133)\n",
    "my_df2.bathrooms.plot.box(vert = False,xlim=(8,11))"
   ]
  },
  {
   "cell_type": "code",
   "execution_count": null,
   "metadata": {},
   "outputs": [],
   "source": []
  }
 ],
 "metadata": {
  "kernelspec": {
   "display_name": "Python 2",
   "language": "python",
   "name": "python2"
  },
  "language_info": {
   "codemirror_mode": {
    "name": "ipython",
    "version": 2
   },
   "file_extension": ".py",
   "mimetype": "text/x-python",
   "name": "python",
   "nbconvert_exporter": "python",
   "pygments_lexer": "ipython2",
   "version": "2.7.16"
  }
 },
 "nbformat": 4,
 "nbformat_minor": 2
}

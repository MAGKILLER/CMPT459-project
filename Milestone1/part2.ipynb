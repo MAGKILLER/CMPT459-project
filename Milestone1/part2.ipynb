{
 "cells": [
  {
   "cell_type": "code",
   "execution_count": 6,
   "metadata": {},
   "outputs": [],
   "source": [
    "import json\n",
    "import zipfile\n",
    "import matplotlib.pyplot as plt\n",
    "import pandas as pd\n",
    "import numpy as np\n",
    "import cmath\n",
    "from scipy import stats\n",
    "#from impyute.imputation.cs import fast_knn"
   ]
  },
  {
   "cell_type": "code",
   "execution_count": null,
   "metadata": {},
   "outputs": [],
   "source": []
  },
  {
   "cell_type": "code",
   "execution_count": 7,
   "metadata": {},
   "outputs": [
    {
     "name": "stdout",
     "output_type": "stream",
     "text": [
      "test.json\n"
     ]
    }
   ],
   "source": [
    "test = None\n",
    "data_test = None\n",
    "with zipfile.ZipFile(\"/home/qizhouc/CMPT459/test.json.zip\", \"r\") as z:\n",
    "    for filename in z.namelist():\n",
    "        print(filename)\n",
    "        with z.open(filename) as f:\n",
    "            data_test = f.read()\n",
    "            test = json.loads(data_test.decode(\"utf-8\"))"
   ]
  },
  {
   "cell_type": "code",
   "execution_count": 8,
   "metadata": {},
   "outputs": [
    {
     "name": "stdout",
     "output_type": "stream",
     "text": [
      "train.json\n"
     ]
    }
   ],
   "source": [
    "train = None\n",
    "data_train = None\n",
    "with zipfile.ZipFile(\"/home/qizhouc/CMPT459/train.json.zip\", \"r\") as z:\n",
    "    for filename in z.namelist():\n",
    "        print(filename)\n",
    "        with z.open(filename) as f:\n",
    "            data_train = f.read()\n",
    "            train = json.loads(data_train.decode(\"utf-8\"))"
   ]
  },
  {
   "cell_type": "code",
   "execution_count": 9,
   "metadata": {},
   "outputs": [],
   "source": [
    "my_df2 = pd.DataFrame(train)\n",
    "my_df1 = pd.DataFrame(test)"
   ]
  },
  {
   "cell_type": "code",
   "execution_count": 10,
   "metadata": {},
   "outputs": [
    {
     "name": "stdout",
     "output_type": "stream",
     "text": [
      "        bathrooms  bedrooms                       building_id  \\\n",
      "4             1.0         1  8579a0b0d54db803821a35a4a615e97a   \n",
      "6             1.0         2  b8e75fc949a6cd8225b455648a951712   \n",
      "9             1.0         2  cd759a988b8f23924b5a2058d5ab2b49   \n",
      "10            1.5         3  53a5b119ba8f7b61d4e010512e0dfc85   \n",
      "15            1.0         0  bfb9405149bfff42a92980b594c28234   \n",
      "...           ...       ...                               ...   \n",
      "124000        1.0         3  92bbbf38baadfde0576fc496bd41749c   \n",
      "124002        1.0         2  5565db9b7cba3603834c4aa6f2950960   \n",
      "124004        1.0         1  67997a128056ee1ed7d046bbb856e3c7   \n",
      "124008        1.0         2  3c0574a740154806c18bdf1fddd3d966   \n",
      "124009        1.0         3  d89f514c3ed0abaae52cba7017ac0701   \n",
      "\n",
      "                    created  \\\n",
      "4       2016-06-16 05:55:27   \n",
      "6       2016-06-01 05:44:33   \n",
      "9       2016-06-14 15:19:59   \n",
      "10      2016-06-24 07:54:24   \n",
      "15      2016-06-28 03:50:23   \n",
      "...                     ...   \n",
      "124000  2016-04-05 03:58:33   \n",
      "124002  2016-04-02 02:25:31   \n",
      "124004  2016-04-26 05:42:03   \n",
      "124008  2016-04-19 02:47:33   \n",
      "124009  2016-04-20 05:34:00   \n",
      "\n",
      "                                              description  \\\n",
      "4       Spacious 1 Bedroom 1 Bathroom in Williamsburg!...   \n",
      "6       BRAND NEW GUT RENOVATED TRUE 2 BEDROOMFind you...   \n",
      "9       **FLEX 2 BEDROOM WITH FULL PRESSURIZED WALL**L...   \n",
      "10      A Brand New 3 Bedroom 1.5 bath ApartmentEnjoy ...   \n",
      "15      Over-sized Studio w abundant closets. Availabl...   \n",
      "...                                                   ...   \n",
      "124000  There is 700 square feet of recently renovated...   \n",
      "124002  2 bedroom apartment with updated kitchen, rece...   \n",
      "124004  No Brokers Fee * Never Lived 1 Bedroom 1 Bathr...   \n",
      "124008  Wonderful Bright Chelsea 2 Bedroom apartment o...   \n",
      "124009  ***PRIME MIDTOWN EAST OFF PARK AVE***TRUE 3 BE...   \n",
      "\n",
      "             display_address  \\\n",
      "4        145 Borinquen Place   \n",
      "6                  East 44th   \n",
      "9           East 56th Street   \n",
      "10       Metropolitan Avenue   \n",
      "15          East 34th Street   \n",
      "...                      ...   \n",
      "124000          W 171 Street   \n",
      "124002              Broadway   \n",
      "124004  210 Brighton 15th St   \n",
      "124008      West 21st Street   \n",
      "124009             E 54th St   \n",
      "\n",
      "                                                 features  latitude  \\\n",
      "4       [Dining Room, Pre-War, Laundry in Building, Di...   40.7108   \n",
      "6       [Doorman, Elevator, Laundry in Building, Dishw...   40.7513   \n",
      "9       [Doorman, Elevator, Laundry in Building, Laund...   40.7575   \n",
      "10                                                     []   40.7145   \n",
      "15      [Doorman, Elevator, Fitness Center, Laundry in...   40.7439   \n",
      "...                                                   ...       ...   \n",
      "124000            [Elevator, Dishwasher, Hardwood Floors]   40.8433   \n",
      "124002  [Common Outdoor Space, Cats Allowed, Dogs Allo...   40.8198   \n",
      "124004  [Dining Room, Elevator, Pre-War, Laundry in Bu...   40.5765   \n",
      "124008  [Pre-War, Laundry in Unit, Dishwasher, No Fee,...   40.7448   \n",
      "124009  [Dining Room, Elevator, Laundry in Building, D...   40.7594   \n",
      "\n",
      "        listing_id  longitude                        manager_id  \\\n",
      "4          7170325   -73.9539  a10db4590843d78c784171a107bdacb4   \n",
      "6          7092344   -73.9722  955db33477af4f40004820b4aed804a0   \n",
      "9          7158677   -73.9625  c8b10a317b766204f08e613cef4ce7a0   \n",
      "10         7211212   -73.9425  5ba989232d0489da1b5f2c45f6688adc   \n",
      "15         7225292   -73.9743  2c3b41f588fbb5234d8a1e885a436cfa   \n",
      "...            ...        ...                               ...   \n",
      "124000     6824800   -73.9396  a61e21da3ba18c7a3d54cfdcc247e1f8   \n",
      "124002     6813268   -73.9578  8f90e5e10e8a2d7cf997f016d89230eb   \n",
      "124004     6927093   -73.9554  a10db4590843d78c784171a107bdacb4   \n",
      "124008     6892816   -74.0017  c3cd45f4381ac371507090e9ffabea80   \n",
      "124009     6901023   -73.9712  e90f2ded843cdb2efd65ef47d9fc8029   \n",
      "\n",
      "                                                   photos  price  \\\n",
      "4       [https://photos.renthop.com/2/7170325_3bb5ac84...   2400   \n",
      "6       [https://photos.renthop.com/2/7092344_7663c19a...   3800   \n",
      "9       [https://photos.renthop.com/2/7158677_c897a134...   3495   \n",
      "10      [https://photos.renthop.com/2/7211212_1ed4542e...   3000   \n",
      "15      [https://photos.renthop.com/2/7225292_901f1984...   2795   \n",
      "...                                                   ...    ...   \n",
      "124000  [https://photos.renthop.com/2/6824800_0682be16...   2800   \n",
      "124002  [https://photos.renthop.com/2/6813268_1e6fcc32...   2395   \n",
      "124004  [https://photos.renthop.com/2/6927093_93a52104...   1850   \n",
      "124008  [https://photos.renthop.com/2/6892816_1a8d087a...   4195   \n",
      "124009  [https://photos.renthop.com/2/6901023_02052d90...   4280   \n",
      "\n",
      "                 street_address interest_level  \n",
      "4           145 Borinquen Place         medium  \n",
      "6                 230 East 44th            low  \n",
      "9          405 East 56th Street         medium  \n",
      "10      792 Metropolitan Avenue         medium  \n",
      "15         340 East 34th Street            low  \n",
      "...                         ...            ...  \n",
      "124000         620 W 171 Street            low  \n",
      "124002            3333 Broadway         medium  \n",
      "124004     210 Brighton 15th St         medium  \n",
      "124008     350 West 21st Street         medium  \n",
      "124009            123 E 54th St           high  \n",
      "\n",
      "[49352 rows x 15 columns]\n"
     ]
    }
   ],
   "source": [
    "print(my_df2)"
   ]
  },
  {
   "cell_type": "code",
   "execution_count": null,
   "metadata": {},
   "outputs": [],
   "source": [
    "for i in range(0,49352)\n"
   ]
  },
  {
   "cell_type": "code",
   "execution_count": 36,
   "metadata": {},
   "outputs": [
    {
     "name": "stdout",
     "output_type": "stream",
     "text": [
      "Q1 2500.0\n",
      "Q1 3150.0\n",
      "Q1 4100.0\n",
      "Lower_Bound 100.0\n",
      "Upper_Bound 6500.0\n"
     ]
    }
   ],
   "source": [
    "print('Q1',my_df2.price.quantile(.25))\n",
    "print('Q1',my_df2.price.quantile(.5))\n",
    "print('Q1',my_df2.price.quantile(.75))\n",
    "IQR = my_df2.price.quantile(.75) - my_df2.price.quantile(.25)\n",
    "print('Lower_Bound',my_df2.price.quantile(.25) - 1.5*IQR)\n",
    "print('Upper_Bound',my_df2.price.quantile(.75) + 1.5*IQR)"
   ]
  },
  {
   "cell_type": "code",
   "execution_count": 33,
   "metadata": {},
   "outputs": [],
   "source": [
    "#use IQR to determin outlier\n",
    "Q1 = (49352+1)*0.25\n",
    "Q2 = (49352+1)*0.5\n",
    "Q3 = (49352+1)*0.75"
   ]
  },
  {
   "cell_type": "code",
   "execution_count": 32,
   "metadata": {
    "scrolled": false
   },
   "outputs": [
    {
     "name": "stdout",
     "output_type": "stream",
     "text": [
      "(500, 1000]                18\n",
      "(1000, 1500]              678\n",
      "(1500, 2000]             4610\n",
      "(2000, 2500]             8126\n",
      "(2500, 3000]             9719\n",
      "(3000, 3500]             7899\n",
      "(3500, 4000]             5543\n",
      "(4000, 4500]             3144\n",
      "(4500, 5000]             2691\n",
      "(5000, 5500]             1681\n",
      "(5500, 6000]             1477\n",
      "(6000, 6500]              977\n",
      "(6500, 7000]              571\n",
      "(7000, 7500]              395\n",
      "(7500, 8000]              351\n",
      "(8000, 8500]              171\n",
      "(8500, 9000]              169\n",
      "(9000, 9500]               99\n",
      "(9500, 10000]             152\n",
      "(10000, 100000000000]     878\n",
      "Name: PriceInterval, dtype: int64\n"
     ]
    }
   ],
   "source": [
    "bins = [500,1000,1500,2000,2500,3000,3500,4000,4500,5000,5500,6000,6500,7000,7500,8000,8500,9000,9500,10000,100000000000]\n",
    "my_df2['PriceInterval'] = pd.cut(my_df2['price'],bins)\n",
    "df2_count = pd.value_counts(my_df2.PriceInterval,sort = False)\n",
    "print(df2_count)"
   ]
  },
  {
   "cell_type": "code",
   "execution_count": null,
   "metadata": {},
   "outputs": [],
   "source": []
  },
  {
   "cell_type": "code",
   "execution_count": 37,
   "metadata": {
    "scrolled": true
   },
   "outputs": [
    {
     "name": "stdout",
     "output_type": "stream",
     "text": [
      "4490000\n"
     ]
    }
   ],
   "source": [
    "max2= my_df2.price.max()\n",
    "print(max2)\n",
    "my_df2.drop(my_df2[my_df2.price < 100].index, inplace = True)\n"
   ]
  },
  {
   "cell_type": "code",
   "execution_count": 38,
   "metadata": {},
   "outputs": [
    {
     "name": "stdout",
     "output_type": "stream",
     "text": [
      "401\n"
     ]
    }
   ],
   "source": [
    "min2= my_df2.price.min()\n",
    "print(min2)\n",
    "my_df2.drop(my_df2[my_df2.price >6500].index, inplace = True)\n"
   ]
  },
  {
   "cell_type": "code",
   "execution_count": 39,
   "metadata": {},
   "outputs": [
    {
     "data": {
      "image/png": "[encoded data removed]",
      "text/plain": [
       "<Figure size 432x288 with 1 Axes>"
      ]
     },
     "metadata": {
      "needs_background": "light"
     },
     "output_type": "display_data"
    }
   ],
   "source": [
    "plt.boxplot(x = my_df2.price, whis = 1.5)\n",
    "plt.show()"
   ]
  },
  {
   "cell_type": "code",
   "execution_count": 103,
   "metadata": {
    "scrolled": false
   },
   "outputs": [],
   "source": [
    "pd.set_option('display.max_rows',1000)\n",
    "pd.set_option('display.max_columns',20)\n",
    "pd.set_option('display.width',1000)"
   ]
  },
  {
   "cell_type": "code",
   "execution_count": 104,
   "metadata": {
    "scrolled": true
   },
   "outputs": [],
   "source": [
    "#print (my_df2)"
   ]
  },
  {
   "cell_type": "code",
   "execution_count": 28,
   "metadata": {
    "scrolled": true
   },
   "outputs": [
    {
     "name": "stdout",
     "output_type": "stream",
     "text": [
      "(500, 1000]        18\n",
      "(1000, 1500]      678\n",
      "(1500, 2000]     4610\n",
      "(2000, 2500]     8126\n",
      "(2500, 3000]     9719\n",
      "(3000, 3500]     7899\n",
      "(3500, 4000]     5543\n",
      "(4000, 4500]     3144\n",
      "(4500, 5000]     2691\n",
      "(5000, 5500]     1681\n",
      "(5500, 6000]     1477\n",
      "(6000, 6500]      977\n",
      "(6500, 7000]      571\n",
      "(7000, 7500]      395\n",
      "(7500, 8000]      351\n",
      "(8000, 8500]      171\n",
      "(8500, 9000]      169\n",
      "(9000, 9500]       99\n",
      "(9500, 10000]     152\n",
      "Name: PriceInterval, dtype: int64\n"
     ]
    }
   ],
   "source": [
    "#bins = [0,500,750,1000,1250,1500,1750,2000,2250,2500,2750,3000,3250,3500,3750,4000,4250,4500,4750,5000,5250,5500,5750,6000,6250,6500,6750,7000,7250,7500,7750,8000,8250,8500,8750,9000,9250,9500,9750,10000,10250,10500,10750,11000,11250,11500,11750,12000,12250,12500,12750,13000,13250,13500,13750,14000,14250,14500,14750,15000,50000]\n",
    "bins = [500,1000,1500,2000,2500,3000,3500,4000,4500,5000,5500,6000,6500,7000,7500,8000,8500,9000,9500,10000]\n",
    "my_df2['PriceInterval'] = pd.cut(my_df2['price'],bins)\n",
    "df2_count = pd.value_counts(my_df2.PriceInterval,sort = False)\n",
    "print(df2_count)"
   ]
  },
  {
   "cell_type": "code",
   "execution_count": 29,
   "metadata": {
    "scrolled": false
   },
   "outputs": [
    {
     "data": {
      "image/png": "[encoded data removed]",
      "text/plain": [
       "<Figure size 432x288 with 1 Axes>"
      ]
     },
     "metadata": {
      "needs_background": "light"
     },
     "output_type": "display_data"
    }
   ],
   "source": [
    "plt.boxplot(x = my_df2.price, whis = 1.5)\n",
    "plt.show()"
   ]
  },
  {
   "cell_type": "code",
   "execution_count": 72,
   "metadata": {},
   "outputs": [
    {
     "data": {
      "image/png": "[encoded data removed]",
      "text/plain": [
       "<Figure size 432x288 with 1 Axes>"
      ]
     },
     "metadata": {
      "needs_background": "light"
     },
     "output_type": "display_data"
    }
   ],
   "source": [
    "my_df2.drop(my_df2[my_df2.price > 30000].index, inplace = True)\n",
    "plt.boxplot(x = my_df2.price, whis = 1.5)\n",
    "plt.show()"
   ]
  },
  {
   "cell_type": "code",
   "execution_count": 30,
   "metadata": {
    "scrolled": false
   },
   "outputs": [
    {
     "data": {
      "image/png": "[encoded data removed]",
      "text/plain": [
       "<Figure size 432x288 with 1 Axes>"
      ]
     },
     "metadata": {
      "needs_background": "light"
     },
     "output_type": "display_data"
    }
   ],
   "source": [
    "df2_count.plot(kind = 'bar', title = '1')\n",
    "#ax = plt.subplot()\n",
    "#ax.bar(range(5),range(5),width = 1, bottom = 10)\n",
    "#my_df2.groupby('price').plot( kind = 'bar', title = '1')\n",
    "#plt.xticks(rotation = 'horizontal')\n",
    "#plt.xticks(np.linspace(0,50,100))\n",
    "plt.show()\n"
   ]
  },
  {
   "cell_type": "code",
   "execution_count": 33,
   "metadata": {},
   "outputs": [],
   "source": [
    "sample_mean = my_df2.price.mean()"
   ]
  },
  {
   "cell_type": "code",
   "execution_count": 34,
   "metadata": {},
   "outputs": [
    {
     "name": "stdout",
     "output_type": "stream",
     "text": [
      "3830.174035500081\n"
     ]
    }
   ],
   "source": [
    "print(sample_mean)"
   ]
  },
  {
   "cell_type": "code",
   "execution_count": 64,
   "metadata": {
    "scrolled": true
   },
   "outputs": [
    {
     "name": "stdout",
     "output_type": "stream",
     "text": [
      "22066.86588468595\n",
      "47081.23116948454\n",
      "-39420.88309848438\n"
     ]
    }
   ],
   "source": [
    "sample_std = my_df2.price.std()\n",
    "ub = sample_mean + 1.960 * sample_std \n",
    "lb = sample_mean - 1.960 * sample_std \n",
    "print(sample_std)\n",
    "print(ub)\n",
    "print(lb)"
   ]
  },
  {
   "cell_type": "code",
   "execution_count": 49,
   "metadata": {},
   "outputs": [],
   "source": [
    "#t_ci = 1.960\n",
    "#z value of 95% CI\n",
    "#se = stats.sem(my_df2.price)\n",
    "#a = sample_mean - t_ci * se\n",
    "#b = sample_mean + t_ci * se\n",
    "my_df2.drop(my_df2[my_df2.price > ub].index, inplace = True)\n",
    "my_df2.drop(my_df2[my_df2.price < lb].index, inplace = True)"
   ]
  },
  {
   "cell_type": "code",
   "execution_count": 50,
   "metadata": {
    "scrolled": false
   },
   "outputs": [
    {
     "name": "stdout",
     "output_type": "stream",
     "text": [
      "(0, 1000]            21\n",
      "(1000, 2000]       5288\n",
      "(2000, 3000]      17845\n",
      "(3000, 4000]      13442\n",
      "(4000, 5000]       5835\n",
      "(5000, 6000]       3158\n",
      "(6000, 7000]       1548\n",
      "(7000, 8000]        746\n",
      "(8000, 9000]        340\n",
      "(9000, 10000]       251\n",
      "(10000, 11000]      138\n",
      "(11000, 12000]      157\n",
      "(12000, 13000]      102\n",
      "(13000, 14000]      116\n",
      "(14000, 15000]      109\n",
      "(15000, 16000]       38\n",
      "(16000, 17000]       29\n",
      "(17000, 18000]       27\n",
      "(18000, 19000]       20\n",
      "(19000, 20000]       33\n",
      "(20000, 50000]       89\n",
      "Name: PriceInterval, dtype: int64\n"
     ]
    }
   ],
   "source": [
    "bins = [0,1000,2000,3000,4000,5000,6000,7000,8000,9000,10000,11000,12000,13000,14000,15000,16000,17000,18000,19000,20000,50000]\n",
    "my_df2['PriceInterval'] = pd.cut(my_df2['price'],bins)\n",
    "df2_count = pd.value_counts(my_df2.PriceInterval,sort = False)\n",
    "print(df2_count)"
   ]
  },
  {
   "cell_type": "code",
   "execution_count": null,
   "metadata": {},
   "outputs": [],
   "source": []
  }
 ],
 "metadata": {
  "kernelspec": {
   "display_name": "Python 3",
   "language": "python",
   "name": "python3"
  },
  "language_info": {
   "codemirror_mode": {
    "name": "ipython",
    "version": 3
   },
   "file_extension": ".py",
   "mimetype": "text/x-python",
   "name": "python",
   "nbconvert_exporter": "python",
   "pygments_lexer": "ipython3",
   "version": "3.7.4"
  }
 },
 "nbformat": 4,
 "nbformat_minor": 2
}

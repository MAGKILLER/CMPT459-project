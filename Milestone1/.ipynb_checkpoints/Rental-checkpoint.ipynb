{
 "cells": [
  {
   "cell_type": "code",
   "execution_count": 22,
   "metadata": {},
   "outputs": [],
   "source": [
    "import json  \n",
    "import zipfile\n",
    "import pandas as pd\n",
    "from datetime import datetime\n",
    "import numpy as np\n",
    "import matplotlib.pyplot as plt\n",
    "%matplotlib inline"
   ]
  },
  {
   "cell_type": "code",
   "execution_count": 23,
   "metadata": {},
   "outputs": [
    {
     "name": "stdout",
     "output_type": "stream",
     "text": [
      "train.json\n"
     ]
    }
   ],
   "source": [
    "d = None  \n",
    "data = None  \n",
    "with zipfile.ZipFile(\"./two-sigma-connect-rental-listing-inquiries/train.json.zip\", \"r\") as z:\n",
    "    for filename in z.namelist():\n",
    "        print(filename)\n",
    "        with z.open(filename) as f:\n",
    "            data = f.read()\n",
    "            d = json.loads(data.decode(\"utf-8\"))"
   ]
  },
  {
   "cell_type": "code",
   "execution_count": 24,
   "metadata": {},
   "outputs": [
    {
     "name": "stdout",
     "output_type": "stream",
     "text": [
      "        bathrooms  bedrooms                       building_id              created                                        description       display_address                                           features  latitude  listing_id  longitude                        manager_id                                             photos  price           street_address interest_level\n",
      "4             1.0         1  8579a0b0d54db803821a35a4a615e97a  2016-06-16 05:55:27  Spacious 1 Bedroom 1 Bathroom in Williamsburg!...   145 Borinquen Place  [Dining Room, Pre-War, Laundry in Building, Di...   40.7108     7170325   -73.9539  a10db4590843d78c784171a107bdacb4  [https://photos.renthop.com/2/7170325_3bb5ac84...   2400      145 Borinquen Place         medium\n",
      "6             1.0         2  b8e75fc949a6cd8225b455648a951712  2016-06-01 05:44:33  BRAND NEW GUT RENOVATED TRUE 2 BEDROOMFind you...             East 44th  [Doorman, Elevator, Laundry in Building, Dishw...   40.7513     7092344   -73.9722  955db33477af4f40004820b4aed804a0  [https://photos.renthop.com/2/7092344_7663c19a...   3800            230 East 44th            low\n",
      "9             1.0         2  cd759a988b8f23924b5a2058d5ab2b49  2016-06-14 15:19:59  **FLEX 2 BEDROOM WITH FULL PRESSURIZED WALL**L...      East 56th Street  [Doorman, Elevator, Laundry in Building, Laund...   40.7575     7158677   -73.9625  c8b10a317b766204f08e613cef4ce7a0  [https://photos.renthop.com/2/7158677_c897a134...   3495     405 East 56th Street         medium\n",
      "10            1.5         3  53a5b119ba8f7b61d4e010512e0dfc85  2016-06-24 07:54:24  A Brand New 3 Bedroom 1.5 bath ApartmentEnjoy ...   Metropolitan Avenue                                                 []   40.7145     7211212   -73.9425  5ba989232d0489da1b5f2c45f6688adc  [https://photos.renthop.com/2/7211212_1ed4542e...   3000  792 Metropolitan Avenue         medium\n",
      "15            1.0         0  bfb9405149bfff42a92980b594c28234  2016-06-28 03:50:23  Over-sized Studio w abundant closets. Availabl...      East 34th Street  [Doorman, Elevator, Fitness Center, Laundry in...   40.7439     7225292   -73.9743  2c3b41f588fbb5234d8a1e885a436cfa  [https://photos.renthop.com/2/7225292_901f1984...   2795     340 East 34th Street            low\n",
      "...           ...       ...                               ...                  ...                                                ...                   ...                                                ...       ...         ...        ...                               ...                                                ...    ...                      ...            ...\n",
      "124000        1.0         3  92bbbf38baadfde0576fc496bd41749c  2016-04-05 03:58:33  There is 700 square feet of recently renovated...          W 171 Street            [Elevator, Dishwasher, Hardwood Floors]   40.8433     6824800   -73.9396  a61e21da3ba18c7a3d54cfdcc247e1f8  [https://photos.renthop.com/2/6824800_0682be16...   2800         620 W 171 Street            low\n",
      "124002        1.0         2  5565db9b7cba3603834c4aa6f2950960  2016-04-02 02:25:31  2 bedroom apartment with updated kitchen, rece...              Broadway  [Common Outdoor Space, Cats Allowed, Dogs Allo...   40.8198     6813268   -73.9578  8f90e5e10e8a2d7cf997f016d89230eb  [https://photos.renthop.com/2/6813268_1e6fcc32...   2395            3333 Broadway         medium\n",
      "124004        1.0         1  67997a128056ee1ed7d046bbb856e3c7  2016-04-26 05:42:03  No Brokers Fee * Never Lived 1 Bedroom 1 Bathr...  210 Brighton 15th St  [Dining Room, Elevator, Pre-War, Laundry in Bu...   40.5765     6927093   -73.9554  a10db4590843d78c784171a107bdacb4  [https://photos.renthop.com/2/6927093_93a52104...   1850     210 Brighton 15th St         medium\n",
      "124008        1.0         2  3c0574a740154806c18bdf1fddd3d966  2016-04-19 02:47:33  Wonderful Bright Chelsea 2 Bedroom apartment o...      West 21st Street  [Pre-War, Laundry in Unit, Dishwasher, No Fee,...   40.7448     6892816   -74.0017  c3cd45f4381ac371507090e9ffabea80  [https://photos.renthop.com/2/6892816_1a8d087a...   4195     350 West 21st Street         medium\n",
      "124009        1.0         3  d89f514c3ed0abaae52cba7017ac0701  2016-04-20 05:34:00  ***PRIME MIDTOWN EAST OFF PARK AVE***TRUE 3 BE...             E 54th St  [Dining Room, Elevator, Laundry in Building, D...   40.7594     6901023   -73.9712  e90f2ded843cdb2efd65ef47d9fc8029  [https://photos.renthop.com/2/6901023_02052d90...   4280            123 E 54th St           high\n",
      "\n",
      "[49352 rows x 15 columns]\n"
     ]
    }
   ],
   "source": [
    "my_df = pd.DataFrame(d)\n",
    "pd.set_option('display.max_columns', 3)\n",
    "pd.set_option('display.max_rows', 1000)\n",
    "pd.set_option('display.max_columns', 20)\n",
    "pd.set_option('display.width', 1000)\n",
    "print(my_df)"
   ]
  },
  {
   "cell_type": "code",
   "execution_count": 25,
   "metadata": {
    "scrolled": false
   },
   "outputs": [
    {
     "data": {
      "image/png": "[encoded data removed]",
      "text/plain": [
       "<Figure size 432x288 with 1 Axes>"
      ]
     },
     "metadata": {
      "needs_background": "light"
     },
     "output_type": "display_data"
    }
   ],
   "source": [
    "timebins = []\n",
    "for time_index in range(24):\n",
    "    timebins.append(time_index)\n",
    "hours = pd.to_datetime(my_df['created'])\n",
    "hours = hours.dt.hour\n",
    "\n",
    "my_df['TimeInterval'] = pd.cut(hours, timebins)\n",
    "hour_count = pd.value_counts(my_df.TimeInterval).head()\n",
    "hour_count.plot(kind='bar', title= 'hours distribution')\n",
    "plt.show()"
   ]
  },
  {
   "cell_type": "code",
   "execution_count": 38,
   "metadata": {},
   "outputs": [
    {
     "name": "stdout",
     "output_type": "stream",
     "text": [
      "                    PriceInterval\n",
      "(0, 1000]                      21\n",
      "(1000, 2000]                 5288\n",
      "(2000, 3000]                17845\n",
      "(3000, 4000]                13442\n",
      "(4000, 5000]                 5835\n",
      "(5000, 6000]                 3158\n",
      "(6000, 7000]                 1548\n",
      "(7000, 8000]                  746\n",
      "(8000, 9000]                  340\n",
      "(9000, 10000]                 251\n",
      "(10000, 11000]                138\n",
      "(11000, 12000]                157\n",
      "(12000, 13000]                102\n",
      "(13000, 14000]                116\n",
      "(14000, 15000]                109\n",
      "(15000, 16000]                 38\n",
      "(16000, 17000]                 29\n",
      "(17000, 18000]                 27\n",
      "(18000, 19000]                 20\n",
      "(19000, 20000]                 33\n",
      "(20000, 21000]                  7\n",
      "(21000, 22000]                  6\n",
      "(22000, 23000]                  4\n",
      "(23000, 24000]                  8\n",
      "(24000, 25000]                 16\n",
      "(26000, 27000]                  5\n",
      "(27000, 28000]                  8\n",
      "(28000, 29000]                  2\n",
      "(29000, 30000]                 18\n",
      "(31000, 32000]                  4\n",
      "(34000, 35000]                  4\n",
      "(35000, 36000]                  1\n",
      "(36000, 37000]                  1\n",
      "(37000, 38000]                  1\n",
      "(39000, 40000]                  2\n",
      "(44000, 45000]                  2\n",
      "(48000, 49000]                  1\n",
      "(49000, 50000]                  3\n",
      "(50000, 51000]                  2\n",
      "(53000, 54000]                  1\n",
      "(54000, 55000]                  1\n",
      "(58000, 59000]                  1\n",
      "(59000, 60000]                  1\n",
      "(79000, 80000]                  1\n",
      "(84000, 85000]                  1\n",
      "(89000, 90000]                  1\n",
      "(99000, 100000]                 1\n",
      "(111000, 112000]                1\n",
      "(134000, 135000]                1\n",
      "(1069000, 1070000]              2\n",
      "(1149000, 1150000]              1\n",
      "(4489000, 4490000]              1\n"
     ]
    }
   ],
   "source": [
    "# maxPrice = my_df['price'].max()\n",
    "step = 2000\n",
    "priceBin =[]\n",
    "for index in range(0, maxPrice+1, step):\n",
    "    priceBin.append(index)\n",
    "\n",
    "my_df['PriceInterval'] = pd.cut(my_df['price'], priceBin)\n",
    "df_count = pd.value_counts(my_df.PriceInterval, sort=False)\n",
    "\n",
    "df_count = df_count.to_frame()\n",
    "df_count = df_count[(df_count.T != 0).any()]\n",
    "print(df_count)"
   ]
  },
  {
   "cell_type": "code",
   "execution_count": 39,
   "metadata": {},
   "outputs": [
    {
     "data": {
      "image/png": "[encoded data removed]",
      "text/plain": [
       "<Figure size 432x288 with 1 Axes>"
      ]
     },
     "metadata": {
      "needs_background": "light"
     },
     "output_type": "display_data"
    }
   ],
   "source": [
    "df_count.plot(kind='bar', title= '1')\n",
    "plt.show()"
   ]
  },
  {
   "cell_type": "code",
   "execution_count": 15,
   "metadata": {},
   "outputs": [
    {
     "name": "stdout",
     "output_type": "stream",
     "text": [
      "(40, 41]    49312\n",
      "(42, 43]       13\n",
      "(41, 42]        9\n",
      "(44, 45]        2\n",
      "(39, 40]        2\n",
      "(43, 44]        1\n",
      "(34, 35]        1\n",
      "(38, 39]        0\n",
      "(37, 38]        0\n",
      "(36, 37]        0\n",
      "(35, 36]        0\n",
      "Name: LatitudeInterval, dtype: int64\n"
     ]
    }
   ],
   "source": [
    "bins = [34, 35, 36, 37, 38, 39, 40, 41, 42, 43, 44, 45]\n",
    "my_df['LatitudeInterval'] = pd.cut(my_df['latitude'], bins)\n",
    "df_count2 = pd.value_counts(my_df.LatitudeInterval)\n",
    "print(df_count2)"
   ]
  },
  {
   "cell_type": "code",
   "execution_count": 16,
   "metadata": {},
   "outputs": [
    {
     "data": {
      "image/png": "[encoded data removed]",
      "text/plain": [
       "<Figure size 432x288 with 1 Axes>"
      ]
     },
     "metadata": {
      "needs_background": "light"
     },
     "output_type": "display_data"
    }
   ],
   "source": [
    "df_count2.plot(kind='bar', title= '1')\n",
    "plt.show()"
   ]
  },
  {
   "cell_type": "code",
   "execution_count": 17,
   "metadata": {},
   "outputs": [
    {
     "name": "stdout",
     "output_type": "stream",
     "text": [
      "(-80, -70]    49336\n",
      "(-10, 0]         12\n",
      "(-90, -80]        2\n",
      "(0, 10]           0\n",
      "(-20, -10]        0\n",
      "(-30, -20]        0\n",
      "(-40, -30]        0\n",
      "(-50, -40]        0\n",
      "(-60, -50]        0\n",
      "(-70, -60]        0\n",
      "Name: LongitudeInterval, dtype: int64\n"
     ]
    }
   ],
   "source": [
    "bins = [-90, -80, -70, -60, -50, -40, -30, -20, -10, 0, 10]\n",
    "my_df['LongitudeInterval'] = pd.cut(my_df['longitude'], bins)\n",
    "df_count3 = pd.value_counts(my_df.LongitudeInterval)\n",
    "print(df_count3)"
   ]
  },
  {
   "cell_type": "code",
   "execution_count": 18,
   "metadata": {},
   "outputs": [
    {
     "data": {
      "image/png": "[encoded data removed]",
      "text/plain": [
       "<Figure size 432x288 with 1 Axes>"
      ]
     },
     "metadata": {
      "needs_background": "light"
     },
     "output_type": "display_data"
    }
   ],
   "source": [
    "df_count3.plot(kind='bar', title= '1')\n",
    "plt.show()"
   ]
  },
  {
   "cell_type": "code",
   "execution_count": null,
   "metadata": {},
   "outputs": [],
   "source": []
  },
  {
   "cell_type": "code",
   "execution_count": null,
   "metadata": {},
   "outputs": [],
   "source": []
  },
  {
   "cell_type": "code",
   "execution_count": null,
   "metadata": {},
   "outputs": [],
   "source": []
  }
 ],
 "metadata": {
  "kernelspec": {
   "display_name": "Python 3",
   "language": "python",
   "name": "python3"
  },
  "language_info": {
   "codemirror_mode": {
    "name": "ipython",
    "version": 3
   },
   "file_extension": ".py",
   "mimetype": "text/x-python",
   "name": "python",
   "nbconvert_exporter": "python",
   "pygments_lexer": "ipython3",
   "version": "3.7.4"
  }
 },
 "nbformat": 4,
 "nbformat_minor": 2
}

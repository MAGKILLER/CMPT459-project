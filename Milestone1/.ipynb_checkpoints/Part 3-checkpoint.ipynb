{
 "cells": [
  {
   "cell_type": "code",
   "execution_count": 97,
   "metadata": {},
   "outputs": [],
   "source": [
    "import json  \n",
    "import zipfile\n",
    "import pandas as pd\n",
    "import numpy as np\n",
    "import matplotlib.pyplot as plt\n",
    "%matplotlib inline"
   ]
  },
  {
   "cell_type": "code",
   "execution_count": 100,
   "metadata": {},
   "outputs": [
    {
     "name": "stdout",
     "output_type": "stream",
     "text": [
      "train.json\n",
      "['https://photos.renthop.com/2/7170325_3bb5ac84a5a10227b17b273e79bd77b4.jpg', 'https://photos.renthop.com/2/7170325_a29a17a771ee6af213966699b05c8ea2.jpg', 'https://photos.renthop.com/2/7170325_149a898e8760cac1cad56e30cfe98baa.jpg', 'https://photos.renthop.com/2/7170325_f74a43d781bcc3c5588e61dd47de81ba.jpg', 'https://photos.renthop.com/2/7170325_e677d9d249ac99abe01aa5454c6e9f59.jpg', 'https://photos.renthop.com/2/7170325_960ea0e180bf2f15467b68b455db6172.jpg', 'https://photos.renthop.com/2/7170325_cbc1b8437155dbf7f5d63b3a0b5a45a3.jpg', 'https://photos.renthop.com/2/7170325_9a9f2adc2ce922e1d5394727efdf64bb.jpg', 'https://photos.renthop.com/2/7170325_aae2a39d536103eebb282775fab1c315.jpg', 'https://photos.renthop.com/2/7170325_cd290d0051b9f08e3482195dcbf6b5a6.jpg', 'https://photos.renthop.com/2/7170325_a2b599da7880eea1edd10c4b04250dc1.jpg', 'https://photos.renthop.com/2/7170325_6b83fa82d662bcb09733ac3a8a107113.jpg']\n"
     ]
    }
   ],
   "source": [
    "d = None  \n",
    "data = None  \n",
    "with zipfile.ZipFile(\"./two-sigma-connect-rental-listing-inquiries/train.json.zip\", \"r\") as z:\n",
    "    for filename in z.namelist():\n",
    "        print(filename)\n",
    "        with z.open(filename) as f:\n",
    "            data = f.read()\n",
    "            d = json.loads(data.decode(\"utf-8\"))\n",
    "            \n",
    "df = pd.DataFrame(d)\n",
    "print(df.photos[0])"
   ]
  },
  {
   "cell_type": "code",
   "execution_count": null,
   "metadata": {},
   "outputs": [],
   "source": []
  },
  {
   "cell_type": "code",
   "execution_count": 105,
   "metadata": {},
   "outputs": [],
   "source": [
    "#keys are copied from : https://machinelearningmastery.com/clean-text-machine-learning-python/\n",
    "stopWordsDelete = ['i', 'me', 'my', 'myself', 'we', 'our', 'ours', 'ourselves', 'you', 'your', 'yours', 'yourself', 'yourselves', 'he', 'him', 'his', 'himself', 'she', 'her', 'hers', 'herself', 'it', 'its', 'itself', 'they', 'them', 'their', 'theirs', 'themselves', 'what', 'which', 'who', 'whom', 'this', 'that', 'these', 'those', 'am', 'is', 'are', 'was', 'were', 'be', 'been', 'being', 'have', 'has', 'had', 'having', 'do', 'does', 'did', 'doing', 'a', 'an', 'the', 'and', 'but', 'if', 'or', 'because', 'as', 'until', 'while', 'of', 'at', 'by', 'for', 'with', 'about', 'against', 'between', 'into', 'through', 'during', 'before', 'after', 'above', 'below', 'to', 'from', 'up', 'down', 'in', 'out', 'on', 'off', 'over', 'under', 'again', 'further', 'then', 'once', 'here', 'there', 'when', 'where', 'why', 'how', 'all', 'any', 'both', 'each', 'few', 'more', 'most', 'other', 'some', 'such', 'no', 'nor', 'not', 'only', 'own', 'same', 'so', 'than', 'too', 'very', 's', 't', 'can', 'will', 'just', 'don', 'should', 'now', 'd', 'll', 'm', 'o', 're', 've', 'y', 'ain', 'aren', 'couldn', 'didn', 'doesn', 'hadn', 'hasn', 'haven', 'isn', 'ma', 'mightn', 'mustn', 'needn', 'shan', 'shouldn', 'wasn', 'weren', 'won', 'wouldn']"
   ]
  },
  {
   "cell_type": "code",
   "execution_count": 111,
   "metadata": {},
   "outputs": [
    {
     "name": "stdout",
     "output_type": "stream",
     "text": [
      "Spacious 1 Bedroom 1 Bathroom in Williamsburg!Apartment Features:- Renovated Eat in Kitchen With Dishwasher- Renovated Bathroom- Beautiful Hardwood Floors- Lots of Sunlight- Great Closet Space- Freshly Painted- Heat and Hot Water Included- Live in Super Nearby L, J, M & G Trains !<br /><br />Contact Information:Kenneth BeakExclusive AgentC: 064-692-8838Email: kagglemanager@renthop.com, Text or Email to schedule a private viewing!<br /><br /><br /><br /><br /><br /><br /><br /><br /><br /><br /><br /><br /><br /><br /><br /><p><a  website_redacted \n",
      "spacious 1 bedroom 1 bathroom in williamsburg!apartment features:- renovated eat in kitchen with dishwasher- renovated bathroom- beautiful hardwood floors- lots of sunlight- great closet space- freshly painted- heat and hot water included- live in super nearby l, j, m & g trains !  contact information:kenneth beakexclusive agentc: 064-692-8838email: kagglemanager@renthop.com, text or email to schedule a private viewing!                 <a  website_redacted \n",
      "spacious 1 bedroom 1 bathroom in williamsburg!apartment features:- renovated eat in kitchen with dishwasher- renovated bathroom- beautiful hardwood floors- lots of sunlight- great closet space- freshly painted- heat and hot water included- live in super nearby l, j, m & g trains !  contact information:kenneth beakexclusive agentc:  email: kagglemanager@renthop.com, text or email to schedule a private viewing!                 <a  website_redacted \n",
      "['spacious', '1', 'bedroom', '1', 'bathroom', 'in', 'williamsburg', 'apartment', 'features', 'renovated', 'eat', 'in', 'kitchen', 'with', 'dishwasher', 'renovated', 'bathroom', 'beautiful', 'hardwood', 'floors', 'lots', 'of', 'sunlight', 'great', 'closet', 'space', 'freshly', 'painted', 'heat', 'and', 'hot', 'water', 'included', 'live', 'in', 'super', 'nearby', 'l', 'j', 'm', 'g', 'trains', 'contact', 'information', 'kenneth', 'beakexclusive', 'agentc', 'email', 'text', 'or', 'email', 'to', 'schedule', 'a', 'private', 'viewing']\n"
     ]
    }
   ],
   "source": [
    "des = df['description']\n",
    "print(des[0])\n",
    "des = des.str.lower().str.replace('<.*?>',' ')\n",
    "print(des[0])\n",
    "des = des.str.replace('[0-9][0-9][0-9]-[0-9][0-9][0-9]-[0-9][0-9][0-9][0-9]',' ')\n",
    "print(des[0])\n",
    "des = des.str.replace('kagglemanager\\@renthop\\.com',' ')\n",
    "des = des.str.replace('new york',' ')\n",
    "des = des.str.replace('<a  website_redacted',' ')\n",
    "des = des.str.replace('[^\\w\\s]',' ')\n",
    "des = des.str.replace('\\_',' ')\n",
    "des = des.str.strip()\n",
    "# des = des.str.replace('  ',' ')\n",
    "# des = des.str.replace('  ',' ')\n",
    "# des = des.str.replace('  ',' ')\n",
    "# des = des.str.replace('  ',' ')\n",
    "# des = des.str.replace('  ',' ')\n",
    "# des = des.str.split(' ')\n",
    "\n",
    "\n",
    "# # function that filters vowels\n",
    "# def filterVowels(alphabet):\n",
    "    \n",
    "#     if(alphabet in stopWordsDelete):\n",
    "#         return False\n",
    "#     else:\n",
    "#         return True\n",
    "    \n",
    "# for lst in des:\n",
    "#     lst = filter(filterVowels, lst)\n",
    "\n",
    "print(des[0])"
   ]
  },
  {
   "cell_type": "code",
   "execution_count": 90,
   "metadata": {},
   "outputs": [],
   "source": [
    "#histOfWord = des.str.split(expand=True).stack().value_counts()\n",
    "histOfWord = des.str.split(expand=True)\n",
    "print(histOfWord)"
   ]
  },
  {
   "cell_type": "code",
   "execution_count": 91,
   "metadata": {},
   "outputs": [],
   "source": [
    "wordCount = histOfWord.stack().value_counts()"
   ]
  },
  {
   "cell_type": "code",
   "execution_count": 92,
   "metadata": {},
   "outputs": [],
   "source": []
  },
  {
   "cell_type": "code",
   "execution_count": 93,
   "metadata": {},
   "outputs": [
    {
     "name": "stdout",
     "output_type": "stream",
     "text": [
      "apartment      41309\n",
      "kitchen        31423\n",
      "room           23624\n",
      "appliances     20465\n",
      "floors         20304\n",
      "space          19819\n",
      "hardwood       18494\n",
      "renovated      18375\n",
      "large          18209\n",
      "features       17448\n",
      "stainless      17396\n",
      "new            17157\n",
      "laundry        16559\n",
      "steel          16554\n",
      "great          16312\n",
      "high           15705\n",
      "located        15442\n",
      "unit           15278\n",
      "living         15185\n",
      "contact        15024\n",
      "bathroom       14193\n",
      "doorman        13333\n",
      "windows        13066\n",
      "full           13001\n",
      "marble         12473\n",
      "park           12355\n",
      "fee            12115\n",
      "granite        12038\n",
      "restaurants    12006\n",
      "closet         11849\n",
      "floor          11582\n",
      "spacious       11457\n",
      "beautiful      10951\n",
      "dishwasher     10926\n",
      "location       10920\n",
      "private        10702\n",
      "ceilings       10488\n",
      "area           10465\n",
      "city           10043\n",
      "east            9826\n",
      "views           9723\n",
      "luxury          9680\n",
      "elevator        9633\n",
      "access          9274\n",
      "home            9188\n",
      "viewing         9184\n",
      "amenities       9170\n",
      "center          9150\n",
      "real            8855\n",
      "broker          8844\n",
      "light           8629\n",
      "studio          8618\n",
      "available       8278\n",
      "washer          8196\n",
      "dtype: int64\n",
      "apartment       41309\n",
      "kitchen         31423\n",
      "room            23624\n",
      "appliances      20465\n",
      "floors          20304\n",
      "                ...  \n",
      "centertenant       11\n",
      "gaining            11\n",
      "prized             11\n",
      "deposits           11\n",
      "rebny              11\n",
      "Length: 6871, dtype: int64\n"
     ]
    }
   ],
   "source": [
    "wordCount = wordCount.drop(labels=stopWordsDelete,errors='ignore')\n",
    "\n",
    "nums = list(range(999999))\n",
    "nums = list(map(str, nums))\n",
    "wordCount = wordCount.drop(labels=nums,errors='ignore')\n",
    "\n",
    "keyWordDelete = ['call','text','email','building','bedroom','please','one', 'two','three','four']\n",
    "wordCount = wordCount.drop(labels=keyWordDelete,errors='ignore')\n",
    "wordCount = wordCount.drop(labels='[0-9]*',errors='ignore')\n",
    "\n",
    "print(wordCount[wordCount > 8000])\n",
    "wordCount = wordCount[wordCount > 10]\n",
    "print(wordCount)"
   ]
  },
  {
   "cell_type": "code",
   "execution_count": 38,
   "metadata": {},
   "outputs": [
    {
     "data": {
      "image/png": "[encoded data removed]",
      "text/plain": [
       "<Figure size 432x288 with 1 Axes>"
      ]
     },
     "metadata": {
      "needs_background": "light"
     },
     "output_type": "display_data"
    }
   ],
   "source": [
    "plt.boxplot(wordCount)\n",
    "plt.show()"
   ]
  },
  {
   "cell_type": "code",
   "execution_count": null,
   "metadata": {},
   "outputs": [],
   "source": []
  },
  {
   "cell_type": "code",
   "execution_count": null,
   "metadata": {},
   "outputs": [],
   "source": []
  }
 ],
 "metadata": {
  "kernelspec": {
   "display_name": "Python 3",
   "language": "python",
   "name": "python3"
  },
  "language_info": {
   "codemirror_mode": {
    "name": "ipython",
    "version": 3
   },
   "file_extension": ".py",
   "mimetype": "text/x-python",
   "name": "python",
   "nbconvert_exporter": "python",
   "pygments_lexer": "ipython3",
   "version": "3.7.4"
  }
 },
 "nbformat": 4,
 "nbformat_minor": 2
}

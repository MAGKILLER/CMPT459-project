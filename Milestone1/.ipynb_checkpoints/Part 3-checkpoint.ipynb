{
 "cells": [
  {
   "cell_type": "code",
   "execution_count": 78,
   "metadata": {},
   "outputs": [],
   "source": [
    "import json  \n",
    "import zipfile\n",
    "import pandas as pd\n",
    "import numpy as np\n",
    "import matplotlib.pyplot as plt\n",
    "%matplotlib inline"
   ]
  },
  {
   "cell_type": "code",
   "execution_count": 96,
   "metadata": {},
   "outputs": [
    {
     "name": "stdout",
     "output_type": "stream",
     "text": [
      "train.json\n"
     ]
    }
   ],
   "source": [
    "d = None  \n",
    "data = None  \n",
    "with zipfile.ZipFile(\"./two-sigma-connect-rental-listing-inquiries/train.json.zip\", \"r\") as z:\n",
    "    for filename in z.namelist():\n",
    "        print(filename)\n",
    "        with z.open(filename) as f:\n",
    "            data = f.read()\n",
    "            d = json.loads(data.decode(\"utf-8\"))\n",
    "            \n",
    "df = pd.DataFrame(d)\n",
    "#print(df)"
   ]
  },
  {
   "cell_type": "code",
   "execution_count": 137,
   "metadata": {},
   "outputs": [
    {
     "name": "stdout",
     "output_type": "stream",
     "text": [
      "        bathrooms  bedrooms                       building_id  \\\n",
      "4             1.0         1  8579a0b0d54db803821a35a4a615e97a   \n",
      "6             1.0         2  b8e75fc949a6cd8225b455648a951712   \n",
      "9             1.0         2  cd759a988b8f23924b5a2058d5ab2b49   \n",
      "10            1.5         3  53a5b119ba8f7b61d4e010512e0dfc85   \n",
      "15            1.0         0  bfb9405149bfff42a92980b594c28234   \n",
      "...           ...       ...                               ...   \n",
      "124000        1.0         3  92bbbf38baadfde0576fc496bd41749c   \n",
      "124002        1.0         2  5565db9b7cba3603834c4aa6f2950960   \n",
      "124004        1.0         1  67997a128056ee1ed7d046bbb856e3c7   \n",
      "124008        1.0         2  3c0574a740154806c18bdf1fddd3d966   \n",
      "124009        1.0         3  d89f514c3ed0abaae52cba7017ac0701   \n",
      "\n",
      "                    created  \\\n",
      "4       2016-06-16 05:55:27   \n",
      "6       2016-06-01 05:44:33   \n",
      "9       2016-06-14 15:19:59   \n",
      "10      2016-06-24 07:54:24   \n",
      "15      2016-06-28 03:50:23   \n",
      "...                     ...   \n",
      "124000  2016-04-05 03:58:33   \n",
      "124002  2016-04-02 02:25:31   \n",
      "124004  2016-04-26 05:42:03   \n",
      "124008  2016-04-19 02:47:33   \n",
      "124009  2016-04-20 05:34:00   \n",
      "\n",
      "                                              description  \\\n",
      "4       Spacious 1 Bedroom 1 Bathroom in Williamsburg!...   \n",
      "6       BRAND NEW GUT RENOVATED TRUE 2 BEDROOMFind you...   \n",
      "9       **FLEX 2 BEDROOM WITH FULL PRESSURIZED WALL**L...   \n",
      "10      A Brand New 3 Bedroom 1.5 bath ApartmentEnjoy ...   \n",
      "15      Over-sized Studio w abundant closets. Availabl...   \n",
      "...                                                   ...   \n",
      "124000  There is 700 square feet of recently renovated...   \n",
      "124002  2 bedroom apartment with updated kitchen, rece...   \n",
      "124004  No Brokers Fee * Never Lived 1 Bedroom 1 Bathr...   \n",
      "124008  Wonderful Bright Chelsea 2 Bedroom apartment o...   \n",
      "124009  ***PRIME MIDTOWN EAST OFF PARK AVE***TRUE 3 BE...   \n",
      "\n",
      "             display_address  \\\n",
      "4        145 Borinquen Place   \n",
      "6                  East 44th   \n",
      "9           East 56th Street   \n",
      "10       Metropolitan Avenue   \n",
      "15          East 34th Street   \n",
      "...                      ...   \n",
      "124000          W 171 Street   \n",
      "124002              Broadway   \n",
      "124004  210 Brighton 15th St   \n",
      "124008      West 21st Street   \n",
      "124009             E 54th St   \n",
      "\n",
      "                                                 features  latitude  \\\n",
      "4       [Dining Room, Pre-War, Laundry in Building, Di...   40.7108   \n",
      "6       [Doorman, Elevator, Laundry in Building, Dishw...   40.7513   \n",
      "9       [Doorman, Elevator, Laundry in Building, Laund...   40.7575   \n",
      "10                                                     []   40.7145   \n",
      "15      [Doorman, Elevator, Fitness Center, Laundry in...   40.7439   \n",
      "...                                                   ...       ...   \n",
      "124000            [Elevator, Dishwasher, Hardwood Floors]   40.8433   \n",
      "124002  [Common Outdoor Space, Cats Allowed, Dogs Allo...   40.8198   \n",
      "124004  [Dining Room, Elevator, Pre-War, Laundry in Bu...   40.5765   \n",
      "124008  [Pre-War, Laundry in Unit, Dishwasher, No Fee,...   40.7448   \n",
      "124009  [Dining Room, Elevator, Laundry in Building, D...   40.7594   \n",
      "\n",
      "        listing_id  longitude                        manager_id  \\\n",
      "4          7170325   -73.9539  a10db4590843d78c784171a107bdacb4   \n",
      "6          7092344   -73.9722  955db33477af4f40004820b4aed804a0   \n",
      "9          7158677   -73.9625  c8b10a317b766204f08e613cef4ce7a0   \n",
      "10         7211212   -73.9425  5ba989232d0489da1b5f2c45f6688adc   \n",
      "15         7225292   -73.9743  2c3b41f588fbb5234d8a1e885a436cfa   \n",
      "...            ...        ...                               ...   \n",
      "124000     6824800   -73.9396  a61e21da3ba18c7a3d54cfdcc247e1f8   \n",
      "124002     6813268   -73.9578  8f90e5e10e8a2d7cf997f016d89230eb   \n",
      "124004     6927093   -73.9554  a10db4590843d78c784171a107bdacb4   \n",
      "124008     6892816   -74.0017  c3cd45f4381ac371507090e9ffabea80   \n",
      "124009     6901023   -73.9712  e90f2ded843cdb2efd65ef47d9fc8029   \n",
      "\n",
      "                                                   photos  price  \\\n",
      "4       [https://photos.renthop.com/2/7170325_3bb5ac84...   2400   \n",
      "6       [https://photos.renthop.com/2/7092344_7663c19a...   3800   \n",
      "9       [https://photos.renthop.com/2/7158677_c897a134...   3495   \n",
      "10      [https://photos.renthop.com/2/7211212_1ed4542e...   3000   \n",
      "15      [https://photos.renthop.com/2/7225292_901f1984...   2795   \n",
      "...                                                   ...    ...   \n",
      "124000  [https://photos.renthop.com/2/6824800_0682be16...   2800   \n",
      "124002  [https://photos.renthop.com/2/6813268_1e6fcc32...   2395   \n",
      "124004  [https://photos.renthop.com/2/6927093_93a52104...   1850   \n",
      "124008  [https://photos.renthop.com/2/6892816_1a8d087a...   4195   \n",
      "124009  [https://photos.renthop.com/2/6901023_02052d90...   4280   \n",
      "\n",
      "                 street_address interest_level  \n",
      "4           145 Borinquen Place         medium  \n",
      "6                 230 East 44th            low  \n",
      "9          405 East 56th Street         medium  \n",
      "10      792 Metropolitan Avenue         medium  \n",
      "15         340 East 34th Street            low  \n",
      "...                         ...            ...  \n",
      "124000         620 W 171 Street            low  \n",
      "124002            3333 Broadway         medium  \n",
      "124004     210 Brighton 15th St         medium  \n",
      "124008     350 West 21st Street         medium  \n",
      "124009            123 E 54th St           high  \n",
      "\n",
      "[49352 rows x 15 columns]\n"
     ]
    }
   ],
   "source": []
  },
  {
   "cell_type": "code",
   "execution_count": null,
   "metadata": {},
   "outputs": [],
   "source": []
  },
  {
   "cell_type": "code",
   "execution_count": 218,
   "metadata": {},
   "outputs": [
    {
     "name": "stdout",
     "output_type": "stream",
     "text": [
      "Spacious 1 Bedroom 1 Bathroom in Williamsburg!Apartment Features:- Renovated Eat in Kitchen With Dishwasher- Renovated Bathroom- Beautiful Hardwood Floors- Lots of Sunlight- Great Closet Space- Freshly Painted- Heat and Hot Water Included- Live in Super Nearby L, J, M & G Trains !<br /><br />Contact Information:Kenneth BeakExclusive AgentC: 064-692-8838Email: kagglemanager@renthop.com, Text or Email to schedule a private viewing!<br /><br /><br /><br /><br /><br /><br /><br /><br /><br /><br /><br /><br /><br /><br /><br /><p><a  website_redacted \n",
      "spacious 1 bedroom 1 bathroom in williamsburg apartment features   renovated eat in kitchen with dishwasher  renovated bathroom  beautiful hardwood floors  lots of sunlight  great closet space  freshly painted  heat and hot water included  live in super nearby l  j  m   g trains    contact information kenneth beakexclusive agentc  064 692 8838email     text or email to schedule a private viewing\n"
     ]
    }
   ],
   "source": [
    "des = df['description']\n",
    "print(des[0])\n",
    "des = des.str.lower().str.replace('<br />',' ')\n",
    "des = des.str.replace('kagglemanager\\@renthop\\.com',' ')\n",
    "des = des.str.replace('new york',' ')\n",
    "des = des.str.replace('<p><a  website_redacted',' ')\n",
    "des = des.str.replace('[^\\w\\s]',' ')\n",
    "des = des.str.strip()\n",
    "print(des[0])"
   ]
  },
  {
   "cell_type": "code",
   "execution_count": null,
   "metadata": {},
   "outputs": [],
   "source": [
    "#histOfWord = des.str.split(expand=True).stack().value_counts()\n",
    "histOfWord = des.str.split(expand=True)\n",
    "print(histOfWord)"
   ]
  },
  {
   "cell_type": "code",
   "execution_count": 205,
   "metadata": {},
   "outputs": [],
   "source": [
    "wordCount = histOfWord.stack().value_counts()"
   ]
  },
  {
   "cell_type": "code",
   "execution_count": 206,
   "metadata": {},
   "outputs": [
    {
     "name": "stdout",
     "output_type": "stream",
     "text": [
      "and           149429\n",
      "the           115053\n",
      "a              96118\n",
      "to             76199\n",
      "with           69712\n",
      "in             69679\n",
      "of             61224\n",
      "is             46312\n",
      "this           42494\n",
      "for            39643\n",
      "apartment      39385\n",
      "building       32757\n",
      "kitchen        29998\n",
      "bedroom        26819\n",
      "or             26797\n",
      "on             22312\n",
      "room           21984\n",
      "you            20817\n",
      "appliances     19161\n",
      "floors         18966\n",
      "from           18183\n",
      "space          18078\n",
      "hardwood       17730\n",
      "call           17612\n",
      "renovated      17475\n",
      "all            17237\n",
      "at             17202\n",
      "your           17163\n",
      "large          16833\n",
      "stainless      16594\n",
      "new            16568\n",
      "steel          16370\n",
      "features       16172\n",
      "an             15668\n",
      "great          15491\n",
      "dtype: int64\n"
     ]
    }
   ],
   "source": [
    "print(wordCount[wordCount>15000])"
   ]
  },
  {
   "cell_type": "code",
   "execution_count": 207,
   "metadata": {},
   "outputs": [
    {
     "data": {
      "image/png": "[encoded data removed]",
      "text/plain": [
       "<Figure size 432x288 with 1 Axes>"
      ]
     },
     "metadata": {
      "needs_background": "light"
     },
     "output_type": "display_data"
    }
   ],
   "source": [
    "plt.boxplot(wordCount)\n",
    "plt.show()"
   ]
  },
  {
   "cell_type": "code",
   "execution_count": 210,
   "metadata": {},
   "outputs": [],
   "source": [
    "#keys are copied from : https://machinelearningmastery.com/clean-text-machine-learning-python/\n",
    "stopWordsDelete = ['i', 'me', 'my', 'myself', 'we', 'our', 'ours', 'ourselves', 'you', 'your', 'yours', 'yourself', 'yourselves', 'he', 'him', 'his', 'himself', 'she', 'her', 'hers', 'herself', 'it', 'its', 'itself', 'they', 'them', 'their', 'theirs', 'themselves', 'what', 'which', 'who', 'whom', 'this', 'that', 'these', 'those', 'am', 'is', 'are', 'was', 'were', 'be', 'been', 'being', 'have', 'has', 'had', 'having', 'do', 'does', 'did', 'doing', 'a', 'an', 'the', 'and', 'but', 'if', 'or', 'because', 'as', 'until', 'while', 'of', 'at', 'by', 'for', 'with', 'about', 'against', 'between', 'into', 'through', 'during', 'before', 'after', 'above', 'below', 'to', 'from', 'up', 'down', 'in', 'out', 'on', 'off', 'over', 'under', 'again', 'further', 'then', 'once', 'here', 'there', 'when', 'where', 'why', 'how', 'all', 'any', 'both', 'each', 'few', 'more', 'most', 'other', 'some', 'such', 'no', 'nor', 'not', 'only', 'own', 'same', 'so', 'than', 'too', 'very', 's', 't', 'can', 'will', 'just', 'don', 'should', 'now', 'd', 'll', 'm', 'o', 're', 've', 'y', 'ain', 'aren', 'couldn', 'didn', 'doesn', 'hadn', 'hasn', 'haven', 'isn', 'ma', 'mightn', 'mustn', 'needn', 'shan', 'shouldn', 'wasn', 'weren', 'won', 'wouldn']"
   ]
  },
  {
   "cell_type": "code",
   "execution_count": 217,
   "metadata": {},
   "outputs": [
    {
     "name": "stdout",
     "output_type": "stream",
     "text": [
      "equivalent           9\n",
      "undoubtable          9\n",
      "onthe                9\n",
      "fidis                9\n",
      "microwavestunning    9\n",
      "                    ..\n",
      "roomsupermarket      1\n",
      "masonic              1\n",
      "visby                1\n",
      "avesbrbrelevator     1\n",
      "closetsplus          1\n",
      "Length: 57432, dtype: int64\n"
     ]
    }
   ],
   "source": [
    "wordCount = wordCount.drop(labels=stopWordsDelete,errors='ignore')\n",
    "\n",
    "nums = list(range(999999))\n",
    "nums = list(map(str, nums))\n",
    "wordCount = wordCount.drop(labels=nums,errors='ignore')\n",
    "\n",
    "keyWordDelete = ['call','text','email']\n",
    "wordCount = wordCount.drop(labels=keyWordDelete,errors='ignore')\n",
    "\n",
    "print(wordCount[wordCount <10])"
   ]
  },
  {
   "cell_type": "code",
   "execution_count": 148,
   "metadata": {},
   "outputs": [
    {
     "name": "stdout",
     "output_type": "stream",
     "text": [
      "Over-sized Studio w abundant closets. Available Immediately.<br /><br />Rent Stabilized. Shares: Case By Case. Minimum Term: 12 months. Income Required: 45x Rent. Guarantors Allowed.Guarantors Income Required: 75x Rent. No Corporate Guarantors.<br /><br />DERRICK OMANE 232-463-6268 kagglemanager@renthop.com<br /><br /><p><a  website_redacted \n"
     ]
    }
   ],
   "source": [
    "print(df.description[4])"
   ]
  },
  {
   "cell_type": "code",
   "execution_count": 173,
   "metadata": {},
   "outputs": [
    {
     "data": {
      "text/plain": [
       "range(0, 10)"
      ]
     },
     "execution_count": 173,
     "metadata": {},
     "output_type": "execute_result"
    }
   ],
   "source": [
    "range(10)"
   ]
  },
  {
   "cell_type": "code",
   "execution_count": null,
   "metadata": {},
   "outputs": [],
   "source": []
  }
 ],
 "metadata": {
  "kernelspec": {
   "display_name": "Python 3",
   "language": "python",
   "name": "python3"
  },
  "language_info": {
   "codemirror_mode": {
    "name": "ipython",
    "version": 3
   },
   "file_extension": ".py",
   "mimetype": "text/x-python",
   "name": "python",
   "nbconvert_exporter": "python",
   "pygments_lexer": "ipython3",
   "version": "3.7.4"
  }
 },
 "nbformat": 4,
 "nbformat_minor": 2
}

{
 "cells": [
  {
   "cell_type": "code",
   "execution_count": 22,
   "metadata": {},
   "outputs": [],
   "source": [
    "import json  \n",
    "import zipfile\n",
    "import pandas as pd\n",
    "from datetime import datetime\n",
    "import numpy as np\n",
    "import matplotlib.pyplot as plt\n",
    "%matplotlib inline"
   ]
  },
  {
   "cell_type": "code",
   "execution_count": 23,
   "metadata": {},
   "outputs": [
    {
     "name": "stdout",
     "output_type": "stream",
     "text": [
      "train.json\n"
     ]
    }
   ],
   "source": [
    "d1 = None  \n",
    "data = None  \n",
    "with zipfile.ZipFile(\"train.json.zip\", \"r\") as z:\n",
    "    for filename in z.namelist():\n",
    "        print(filename)\n",
    "        with z.open(filename) as f:\n",
    "            data = f.read()\n",
    "            d1 = json.loads(data.decode(\"utf-8\"))"
   ]
  },
  {
   "cell_type": "code",
   "execution_count": 24,
   "metadata": {},
   "outputs": [],
   "source": [
    "# Constructing DataFrame train from a dictionary d1\n",
    "train = pd.DataFrame(d1)"
   ]
  },
  {
   "cell_type": "code",
   "execution_count": 25,
   "metadata": {},
   "outputs": [
    {
     "name": "stdout",
     "output_type": "stream",
     "text": [
      "test.json\n"
     ]
    }
   ],
   "source": [
    "d2 = None  \n",
    "data = None  \n",
    "with zipfile.ZipFile(\"test.json.zip\", \"r\") as z:\n",
    "    for filename in z.namelist():\n",
    "        print(filename)\n",
    "        with z.open(filename) as f:\n",
    "            data = f.read()\n",
    "            d2 = json.loads(data.decode(\"utf-8\"))"
   ]
  },
  {
   "cell_type": "code",
   "execution_count": 26,
   "metadata": {},
   "outputs": [],
   "source": [
    "# Constructing DataFrame test from a dictionary d2\n",
    "test = pd.DataFrame(d2)"
   ]
  },
  {
   "cell_type": "code",
   "execution_count": 27,
   "metadata": {},
   "outputs": [],
   "source": [
    "# Seperate the data into training and testing sets\n",
    "from sklearn.model_selection import train_test_split\n",
    "# use number 0, 1, and 2 to determine 'low', 'medium' and 'high' of 'interest_level'\n",
    "train['interest'] = train['interest_level'].apply(lambda t: 0 if t == 'low' else 1 if t == 'medium' else  2)"
   ]
  },
  {
   "cell_type": "code",
   "execution_count": 8,
   "metadata": {},
   "outputs": [],
   "source": [
    "train1 = train\n",
    "test1 = test"
   ]
  },
  {
   "cell_type": "code",
   "execution_count": 9,
   "metadata": {},
   "outputs": [],
   "source": [
    "# Select 'bathrooms', bedrooms', 'lattice', 'longitude' and 'price' as features\n",
    "X1 = train1[['bathrooms', 'bedrooms', 'latitude', 'longitude', 'price'] ]\n",
    "X_test1 = test1[['bathrooms', 'bedrooms', 'latitude', 'longitude', 'price'] ]\n",
    "\n",
    "# Select 'interest_level' as interest\n",
    "Y1 = train1['interest']"
   ]
  },
  {
   "cell_type": "code",
   "execution_count": 12,
   "metadata": {},
   "outputs": [
    {
     "name": "stdout",
     "output_type": "stream",
     "text": [
      "[0.02054438 0.01805865 0.27630942 0.27595802 0.40912953]\n"
     ]
    }
   ],
   "source": [
    "from sklearn.ensemble import ExtraTreesClassifier\n",
    "# Score the importance of feature\n",
    "model1 = ExtraTreesClassifier(n_estimators=10)\n",
    "model1.fit(X1, Y1)\n",
    "print(model1.feature_importances_)"
   ]
  },
  {
   "cell_type": "code",
   "execution_count": 16,
   "metadata": {},
   "outputs": [
    {
     "name": "stdout",
     "output_type": "stream",
     "text": [
      "Elevator           25915\n",
      "Cats Allowed       23540\n",
      "Hardwood Floors    23527\n",
      "Dogs Allowed       22035\n",
      "Doorman            20898\n",
      "Dishwasher         20426\n",
      "dtype: int64\n"
     ]
    }
   ],
   "source": [
    "# Find the words that appears 20000 times in original data\n",
    "Features = pd.DataFrame(train1.features.tolist()).stack().value_counts()\n",
    "special = Features[Features>20000]\n",
    "print(special)"
   ]
  },
  {
   "cell_type": "code",
   "execution_count": 28,
   "metadata": {},
   "outputs": [],
   "source": [
    "train2 = train\n",
    "test2 = test"
   ]
  },
  {
   "cell_type": "code",
   "execution_count": 29,
   "metadata": {},
   "outputs": [],
   "source": [
    "# Insert extra fetures to training data\n",
    "train2.insert(0,\"Elevator Available\", 0)\n",
    "train2.insert(0,\"Cats Allowed\", 0)\n",
    "train2.insert(0,\"Hardwood Floors Available\", 0)\n",
    "train2.insert(0,\"Dogs Allowed\", 0)\n",
    "train2.insert(0,\"Doorman Available\", 0)\n",
    "train2.insert(0,\"Dishwasher Available\", 0)\n",
    "train2.features = train.features.astype(str)"
   ]
  },
  {
   "cell_type": "code",
   "execution_count": 31,
   "metadata": {},
   "outputs": [],
   "source": [
    "# Insert extra fetures to testing data\n",
    "test2.insert(0,\"Elevator Available\", 0)\n",
    "test2.insert(0,\"Cats Allowed\", 0)\n",
    "test2.insert(0,\"Hardwood Floors Available\", 0)\n",
    "test2.insert(0,\"Dogs Allowed\", 0)\n",
    "test2.insert(0,\"Doorman Available\", 0)\n",
    "test2.insert(0,\"Dishwasher Available\", 0)\n",
    "test2.features = test1.features.astype(str)"
   ]
  },
  {
   "cell_type": "code",
   "execution_count": 32,
   "metadata": {},
   "outputs": [],
   "source": [
    "# Add value 1 if attribute Avaliable/Allowed in original testing data\n",
    "test2.loc[test2['features'].str.contains('Elevator'), 'Elevator Available'] = 1\n",
    "test2.loc[test2['features'].str.contains('Cats Allowed'), 'Cats Allowed'] = 1\n",
    "test2.loc[test2['features'].str.contains('Hardwood Floors'), 'Hardwood Floors Available'] = 1\n",
    "test2.loc[test2['features'].str.contains('Dogs Allowed'), 'Dogs Allowed'] = 1\n",
    "test2.loc[test2['features'].str.contains('Doorman'), 'Doorman Available'] = 1\n",
    "test2.loc[test2['features'].str.contains('Dishwasher'), 'Dishwasher Available'] = 1"
   ]
  },
  {
   "cell_type": "code",
   "execution_count": 37,
   "metadata": {},
   "outputs": [],
   "source": [
    "# Select 'bathrooms', bedrooms', 'lattice', 'longitude' and 'price' as features\n",
    "X2 = train2[['Dishwasher Available', 'Doorman Available', 'Dogs Allowed', 'Hardwood Floors Available', 'Cats Allowed','Elevator Available'] ]\n",
    "X_test2 = test2[['Dishwasher Available', 'Doorman Available', 'Dogs Allowed', 'Hardwood Floors Available', 'Cats Allowed','Elevator Available'] ]\n",
    "\n",
    "# Select 'interest_level' as interest\n",
    "Y2 = train1['interest']"
   ]
  },
  {
   "cell_type": "code",
   "execution_count": null,
   "metadata": {},
   "outputs": [],
   "source": []
  }
 ],
 "metadata": {
  "kernelspec": {
   "display_name": "Python 3",
   "language": "python",
   "name": "python3"
  },
  "language_info": {
   "codemirror_mode": {
    "name": "ipython",
    "version": 3
   },
   "file_extension": ".py",
   "mimetype": "text/x-python",
   "name": "python",
   "nbconvert_exporter": "python",
   "pygments_lexer": "ipython3",
   "version": "3.6.10"
  }
 },
 "nbformat": 4,
 "nbformat_minor": 4
}

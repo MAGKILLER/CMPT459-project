{
 "cells": [
  {
   "cell_type": "code",
   "execution_count": 44,
   "metadata": {},
   "outputs": [],
   "source": [
    "from sklearn import svm\n",
    "from sklearn.model_selection import train_test_split\n",
    "from sklearn.model_selection import cross_val_score\n",
    "from sklearn.metrics import log_loss\n",
    "from sklearn.metrics import f1_score\n",
    "from sklearn import datasets\n",
    "from sklearn.preprocessing import MinMaxScaler\n",
    "import json  \n",
    "import zipfile\n",
    "import pandas as pd\n",
    "import numpy as np\n",
    "import matplotlib.pyplot as plt\n",
    "\n",
    "%matplotlib inline"
   ]
  },
  {
   "cell_type": "code",
   "execution_count": 27,
   "metadata": {},
   "outputs": [],
   "source": [
    "df = pd.read_json (r'train.json')\n",
    "#t = pd.read_json(r'test.json')\n",
    "#print(df)\n",
    "#print(t)"
   ]
  },
  {
   "cell_type": "code",
   "execution_count": 28,
   "metadata": {},
   "outputs": [],
   "source": [
    "# test = t\n",
    "# test = test.drop('building_id', axis=1)\n",
    "# test = test.drop('created', axis=1)\n",
    "# test = test.drop('description', axis=1)\n",
    "# test = test.drop('display_address', axis=1)\n",
    "# test = test.drop('listing_id', axis=1)\n",
    "# test = test.drop('photos', axis=1)\n",
    "# test = test.drop('street_address', axis=1)\n",
    "# test = test.drop('manager_id', axis=1)\n",
    "# test = test.drop('features', axis=1)"
   ]
  },
  {
   "cell_type": "code",
   "execution_count": 29,
   "metadata": {},
   "outputs": [
    {
     "name": "stdout",
     "output_type": "stream",
     "text": [
      "        outdoor  no_fee  laundry  animal_allow  bathrooms  bedrooms  \\\n",
      "4             0       0        0             0        1.0         1   \n",
      "6             0       0        0             0        1.0         2   \n",
      "9             0       0        0             0        1.0         2   \n",
      "10            0       0        0             0        1.5         3   \n",
      "15            0       0        0             0        1.0         0   \n",
      "...         ...     ...      ...           ...        ...       ...   \n",
      "124000        0       0        0             0        1.0         3   \n",
      "124002        0       0        0             0        1.0         2   \n",
      "124004        0       0        0             0        1.0         1   \n",
      "124008        0       0        0             0        1.0         2   \n",
      "124009        0       0        0             0        1.0         3   \n",
      "\n",
      "                                                 features  latitude  \\\n",
      "4       ['Dining Room', 'Pre-War', 'Laundry in Buildin...   40.7108   \n",
      "6       ['Doorman', 'Elevator', 'Laundry in Building',...   40.7513   \n",
      "9       ['Doorman', 'Elevator', 'Laundry in Building',...   40.7575   \n",
      "10                                                     []   40.7145   \n",
      "15      ['Doorman', 'Elevator', 'Fitness Center', 'Lau...   40.7439   \n",
      "...                                                   ...       ...   \n",
      "124000      ['Elevator', 'Dishwasher', 'Hardwood Floors']   40.8433   \n",
      "124002  ['Common Outdoor Space', 'Cats Allowed', 'Dogs...   40.8198   \n",
      "124004  ['Dining Room', 'Elevator', 'Pre-War', 'Laundr...   40.5765   \n",
      "124008  ['Pre-War', 'Laundry in Unit', 'Dishwasher', '...   40.7448   \n",
      "124009  ['Dining Room', 'Elevator', 'Laundry in Buildi...   40.7594   \n",
      "\n",
      "        longitude  price interest_level  \n",
      "4        -73.9539   2400         medium  \n",
      "6        -73.9722   3800            low  \n",
      "9        -73.9625   3495         medium  \n",
      "10       -73.9425   3000         medium  \n",
      "15       -73.9743   2795            low  \n",
      "...           ...    ...            ...  \n",
      "124000   -73.9396   2800            low  \n",
      "124002   -73.9578   2395         medium  \n",
      "124004   -73.9554   1850         medium  \n",
      "124008   -74.0017   4195         medium  \n",
      "124009   -73.9712   4280           high  \n",
      "\n",
      "[49352 rows x 11 columns]\n"
     ]
    }
   ],
   "source": [
    "data = df\n",
    "\n",
    "data = data.drop('building_id', axis=1)\n",
    "data = data.drop('created', axis=1)\n",
    "data = data.drop('description', axis=1)\n",
    "data = data.drop('display_address', axis=1)\n",
    "data = data.drop('listing_id', axis=1)\n",
    "data = data.drop('photos', axis=1)\n",
    "data = data.drop('street_address', axis=1)\n",
    "data = data.drop('manager_id', axis=1)\n",
    "\n",
    "data.insert(0,\"animal_allow\",0)\n",
    "data.insert(0,\"laundry\",0)\n",
    "data.insert(0,\"no_fee\",0)\n",
    "data.insert(0,\"outdoor\",0)\n",
    "# data.insert(0,\"luxry\",0)\n",
    "data.features = data.features.astype(str)\n",
    "print(data)"
   ]
  },
  {
   "cell_type": "code",
   "execution_count": 30,
   "metadata": {},
   "outputs": [
    {
     "name": "stdout",
     "output_type": "stream",
     "text": [
      "    outdoor  no_fee  laundry  animal_allow  bathrooms  bedrooms  \\\n",
      "4         0       0        1             1        1.0         1   \n",
      "6         0       1        1             0        1.0         2   \n",
      "9         0       0        1             0        1.0         2   \n",
      "10        0       0        0             0        1.5         3   \n",
      "15        0       0        1             0        1.0         0   \n",
      "16        0       1        0             0        1.0         3   \n",
      "18        0       1        1             0        2.0         3   \n",
      "19        0       1        1             0        1.0         0   \n",
      "23        0       0        0             0        0.0         1   \n",
      "32        0       0        0             1        3.0         3   \n",
      "33        0       0        1             1        1.0         0   \n",
      "36        1       1        1             1        1.0         2   \n",
      "38        1       1        1             0        1.0         0   \n",
      "39        0       0        0             0        1.0         1   \n",
      "42        0       1        1             1        2.0         2   \n",
      "43        0       0        0             0        1.0         0   \n",
      "44        0       0        0             0        1.0         2   \n",
      "46        1       1        1             1        1.0         3   \n",
      "49        0       0        0             0        1.0         1   \n",
      "61        0       0        0             0        1.0         1   \n",
      "\n",
      "                                             features  latitude  longitude  \\\n",
      "4   ['Dining Room', 'Pre-War', 'Laundry in Buildin...   40.7108   -73.9539   \n",
      "6   ['Doorman', 'Elevator', 'Laundry in Building',...   40.7513   -73.9722   \n",
      "9   ['Doorman', 'Elevator', 'Laundry in Building',...   40.7575   -73.9625   \n",
      "10                                                 []   40.7145   -73.9425   \n",
      "15  ['Doorman', 'Elevator', 'Fitness Center', 'Lau...   40.7439   -73.9743   \n",
      "16  ['Doorman', 'Elevator', 'Loft', 'Dishwasher', ...   40.7348   -73.9865   \n",
      "18  ['Fireplace', 'Laundry in Unit', 'Dishwasher',...   40.7302   -73.9826   \n",
      "19  ['Elevator', 'Laundry in Building', 'Dishwashe...   40.7769   -73.9467   \n",
      "23                                ['Hardwood Floors']   40.7346   -73.9811   \n",
      "32                   ['Cats Allowed', 'Dogs Allowed']   40.6990   -73.9943   \n",
      "33  ['Doorman', 'Elevator', 'Laundry in Building',...   40.7723   -73.9510   \n",
      "36  ['Roof Deck', 'Doorman', 'Elevator', 'Fitness ...   40.7530   -73.9959   \n",
      "38  ['Swimming Pool', 'Roof Deck', 'Doorman', 'Ele...   40.7610   -73.9990   \n",
      "39                                ['Hardwood Floors']   40.7277   -74.0000   \n",
      "42  ['Doorman', 'Elevator', 'Laundry in Building',...   40.7633   -73.9596   \n",
      "43                                    ['Reduced Fee']   40.7073   -73.9665   \n",
      "44         ['Doorman', 'Elevator', 'Hardwood Floors']   40.7528   -73.9709   \n",
      "46  ['Common Outdoor Space', 'Cats Allowed', 'Dogs...   40.7360   -73.9860   \n",
      "49                                ['Hardwood Floors']   40.7830   -73.9828   \n",
      "61                                        ['Doorman']   40.7621   -73.9486   \n",
      "\n",
      "    price interest_level  \n",
      "4    2400         medium  \n",
      "6    3800            low  \n",
      "9    3495         medium  \n",
      "10   3000         medium  \n",
      "15   2795            low  \n",
      "16   7200            low  \n",
      "18   6000            low  \n",
      "19   1945           high  \n",
      "23   2435            low  \n",
      "32   6850            low  \n",
      "33   2785            low  \n",
      "36   3100            low  \n",
      "38   2400         medium  \n",
      "39   2750            low  \n",
      "42   5465            low  \n",
      "43   3150            low  \n",
      "44   3750            low  \n",
      "46   4450           high  \n",
      "49   3200            low  \n",
      "61   2495            low  \n"
     ]
    }
   ],
   "source": [
    "data.loc[data['features'].str.contains('Cats Allowed|Dogs Allowed'), 'animal_allow'] = 1\n",
    "data.loc[data['features'].str.contains('Laundry'), 'laundry'] = 1\n",
    "data.loc[data['features'].str.contains('No Fee'), 'no_fee'] = 1\n",
    "data.loc[data['features'].str.contains('Roof Deck|Balcony|Garden/Patio|Terrace|Outdoor Space'), 'outdoor'] = 1\n",
    "# data.loc[data['features'].str.contains('Doorman|Fitness|Swimming'), 'luxry'] = 1\n",
    "#data['support'][df.name.str.contains('ball')] = 'ball support'\n",
    "print(data.head(20))"
   ]
  },
  {
   "cell_type": "code",
   "execution_count": 26,
   "metadata": {},
   "outputs": [
    {
     "name": "stdout",
     "output_type": "stream",
     "text": [
      "Elevator                25915\n",
      "Cats Allowed            23540\n",
      "Hardwood Floors         23527\n",
      "Dogs Allowed            22035\n",
      "Doorman                 20898\n",
      "Dishwasher              20426\n",
      "No Fee                  18062\n",
      "Laundry in Building     16344\n",
      "Fitness Center          13252\n",
      "Pre-War                  9148\n",
      "Laundry in Unit          8738\n",
      "Roof Deck                6542\n",
      "Outdoor Space            5268\n",
      "Dining Room              5136\n",
      "High Speed Internet      4299\n",
      "Balcony                  2992\n",
      "Swimming Pool            2730\n",
      "Laundry In Building      2593\n",
      "New Construction         2559\n",
      "Terrace                  2283\n",
      "Exclusive                2167\n",
      "Loft                     2100\n",
      "Garden/Patio             1943\n",
      "Wheelchair Access        1358\n",
      "Common Outdoor Space     1293\n",
      "HARDWOOD                  914\n",
      "Fireplace                 912\n",
      "SIMPLEX                   908\n",
      "prewar                    855\n",
      "dtype: int64\n"
     ]
    }
   ],
   "source": [
    "Features = pd.DataFrame(df.features.tolist()).stack().value_counts()\n",
    "\n",
    "Features = Features[Features>800]\n",
    "        \n",
    "print(Features)"
   ]
  },
  {
   "cell_type": "code",
   "execution_count": 7,
   "metadata": {},
   "outputs": [],
   "source": [
    "# plt.boxplot(Features)\n",
    "# plt.show()"
   ]
  },
  {
   "cell_type": "code",
   "execution_count": 8,
   "metadata": {},
   "outputs": [
    {
     "name": "stdout",
     "output_type": "stream",
     "text": [
      "        bathrooms  bedrooms  latitude  longitude  price\n",
      "0             1.0         1   40.7185   -73.9865   2950\n",
      "1             1.0         2   40.7278   -74.0000   2850\n",
      "2             1.0         0   40.7260   -74.0026   2295\n",
      "3             1.0         2   40.7321   -74.0028   2900\n",
      "5             1.0         1   40.7054   -74.0095   3254\n",
      "...           ...       ...       ...        ...    ...\n",
      "124003        1.0         1   40.7925   -73.9454   1700\n",
      "124005        1.0         2   40.7456   -73.9797   4195\n",
      "124006        1.0         0   40.7416   -73.9829   2400\n",
      "124007        2.0         2   40.7485   -73.9800   6895\n",
      "124010        1.0         3   40.7447   -73.9741   4695\n",
      "\n",
      "[74659 rows x 5 columns]\n"
     ]
    }
   ],
   "source": [
    "print(test)"
   ]
  },
  {
   "cell_type": "code",
   "execution_count": 31,
   "metadata": {},
   "outputs": [],
   "source": [
    "data = data.drop('features', axis=1)"
   ]
  },
  {
   "cell_type": "code",
   "execution_count": 32,
   "metadata": {},
   "outputs": [],
   "source": [
    "clf = svm.SVC()\n",
    "X_train, X_test , y_train, y_test = train_test_split(data.drop('interest_level', axis=1), data.interest_level, test_size=0.4, random_state=1)"
   ]
  },
  {
   "cell_type": "code",
   "execution_count": null,
   "metadata": {},
   "outputs": [],
   "source": [
    "T = test.drop('interest_level', axis=1)"
   ]
  },
  {
   "cell_type": "code",
   "execution_count": 35,
   "metadata": {},
   "outputs": [
    {
     "name": "stderr",
     "output_type": "stream",
     "text": [
      "C:\\Users\\jackl\\Anaconda3\\lib\\site-packages\\sklearn\\svm\\base.py:193: FutureWarning: The default value of gamma will change from 'auto' to 'scale' in version 0.22 to account better for unscaled features. Set gamma explicitly to 'auto' or 'scale' to avoid this warning.\n",
      "  \"avoid this warning.\", FutureWarning)\n",
      "C:\\Users\\jackl\\Anaconda3\\lib\\site-packages\\sklearn\\svm\\base.py:193: FutureWarning: The default value of gamma will change from 'auto' to 'scale' in version 0.22 to account better for unscaled features. Set gamma explicitly to 'auto' or 'scale' to avoid this warning.\n",
      "  \"avoid this warning.\", FutureWarning)\n",
      "C:\\Users\\jackl\\Anaconda3\\lib\\site-packages\\sklearn\\svm\\base.py:193: FutureWarning: The default value of gamma will change from 'auto' to 'scale' in version 0.22 to account better for unscaled features. Set gamma explicitly to 'auto' or 'scale' to avoid this warning.\n",
      "  \"avoid this warning.\", FutureWarning)\n",
      "C:\\Users\\jackl\\Anaconda3\\lib\\site-packages\\sklearn\\svm\\base.py:193: FutureWarning: The default value of gamma will change from 'auto' to 'scale' in version 0.22 to account better for unscaled features. Set gamma explicitly to 'auto' or 'scale' to avoid this warning.\n",
      "  \"avoid this warning.\", FutureWarning)\n",
      "C:\\Users\\jackl\\Anaconda3\\lib\\site-packages\\sklearn\\svm\\base.py:193: FutureWarning: The default value of gamma will change from 'auto' to 'scale' in version 0.22 to account better for unscaled features. Set gamma explicitly to 'auto' or 'scale' to avoid this warning.\n",
      "  \"avoid this warning.\", FutureWarning)\n"
     ]
    },
    {
     "name": "stdout",
     "output_type": "stream",
     "text": [
      "[0.70175261 0.70023301 0.70073954 0.7001317  0.69862181]\n"
     ]
    }
   ],
   "source": [
    "scores = cross_val_score(clf, data.drop('interest_level', axis=1), data.interest_level, cv=5)\n",
    "print(scores)"
   ]
  },
  {
   "cell_type": "code",
   "execution_count": 33,
   "metadata": {},
   "outputs": [
    {
     "name": "stderr",
     "output_type": "stream",
     "text": [
      "C:\\Users\\jackl\\Anaconda3\\lib\\site-packages\\sklearn\\svm\\base.py:193: FutureWarning: The default value of gamma will change from 'auto' to 'scale' in version 0.22 to account better for unscaled features. Set gamma explicitly to 'auto' or 'scale' to avoid this warning.\n",
      "  \"avoid this warning.\", FutureWarning)\n"
     ]
    }
   ],
   "source": [
    "clf = svm.SVC().fit(X_train, y_train)"
   ]
  },
  {
   "cell_type": "code",
   "execution_count": 38,
   "metadata": {},
   "outputs": [],
   "source": [
    "y_pre = clf.predict(X_test)"
   ]
  },
  {
   "cell_type": "code",
   "execution_count": 45,
   "metadata": {},
   "outputs": [
    {
     "ename": "ValueError",
     "evalue": "could not convert string to float: 'low'",
     "output_type": "error",
     "traceback": [
      "\u001b[1;31m---------------------------------------------------------------------------\u001b[0m",
      "\u001b[1;31mValueError\u001b[0m                                Traceback (most recent call last)",
      "\u001b[1;32m<ipython-input-45-395731acf0c4>\u001b[0m in \u001b[0;36m<module>\u001b[1;34m\u001b[0m\n\u001b[1;32m----> 1\u001b[1;33m \u001b[0mlog_loss\u001b[0m\u001b[1;33m(\u001b[0m\u001b[0my_test\u001b[0m\u001b[1;33m,\u001b[0m \u001b[0my_pre\u001b[0m\u001b[1;33m,\u001b[0m \u001b[0meps\u001b[0m\u001b[1;33m=\u001b[0m\u001b[1;36m1e-15\u001b[0m\u001b[1;33m)\u001b[0m\u001b[1;33m\u001b[0m\u001b[1;33m\u001b[0m\u001b[0m\n\u001b[0m",
      "\u001b[1;32m~\\Anaconda3\\lib\\site-packages\\sklearn\\metrics\\classification.py\u001b[0m in \u001b[0;36mlog_loss\u001b[1;34m(y_true, y_pred, eps, normalize, sample_weight, labels)\u001b[0m\n\u001b[0;32m   2118\u001b[0m     \u001b[0mThe\u001b[0m \u001b[0mlogarithm\u001b[0m \u001b[0mused\u001b[0m \u001b[1;32mis\u001b[0m \u001b[0mthe\u001b[0m \u001b[0mnatural\u001b[0m \u001b[0mlogarithm\u001b[0m \u001b[1;33m(\u001b[0m\u001b[0mbase\u001b[0m\u001b[1;33m-\u001b[0m\u001b[0me\u001b[0m\u001b[1;33m)\u001b[0m\u001b[1;33m.\u001b[0m\u001b[1;33m\u001b[0m\u001b[1;33m\u001b[0m\u001b[0m\n\u001b[0;32m   2119\u001b[0m     \"\"\"\n\u001b[1;32m-> 2120\u001b[1;33m     \u001b[0my_pred\u001b[0m \u001b[1;33m=\u001b[0m \u001b[0mcheck_array\u001b[0m\u001b[1;33m(\u001b[0m\u001b[0my_pred\u001b[0m\u001b[1;33m,\u001b[0m \u001b[0mensure_2d\u001b[0m\u001b[1;33m=\u001b[0m\u001b[1;32mFalse\u001b[0m\u001b[1;33m)\u001b[0m\u001b[1;33m\u001b[0m\u001b[1;33m\u001b[0m\u001b[0m\n\u001b[0m\u001b[0;32m   2121\u001b[0m     \u001b[0mcheck_consistent_length\u001b[0m\u001b[1;33m(\u001b[0m\u001b[0my_pred\u001b[0m\u001b[1;33m,\u001b[0m \u001b[0my_true\u001b[0m\u001b[1;33m,\u001b[0m \u001b[0msample_weight\u001b[0m\u001b[1;33m)\u001b[0m\u001b[1;33m\u001b[0m\u001b[1;33m\u001b[0m\u001b[0m\n\u001b[0;32m   2122\u001b[0m \u001b[1;33m\u001b[0m\u001b[0m\n",
      "\u001b[1;32m~\\Anaconda3\\lib\\site-packages\\sklearn\\utils\\validation.py\u001b[0m in \u001b[0;36mcheck_array\u001b[1;34m(array, accept_sparse, accept_large_sparse, dtype, order, copy, force_all_finite, ensure_2d, allow_nd, ensure_min_samples, ensure_min_features, warn_on_dtype, estimator)\u001b[0m\n\u001b[0;32m    494\u001b[0m             \u001b[1;32mtry\u001b[0m\u001b[1;33m:\u001b[0m\u001b[1;33m\u001b[0m\u001b[1;33m\u001b[0m\u001b[0m\n\u001b[0;32m    495\u001b[0m                 \u001b[0mwarnings\u001b[0m\u001b[1;33m.\u001b[0m\u001b[0msimplefilter\u001b[0m\u001b[1;33m(\u001b[0m\u001b[1;34m'error'\u001b[0m\u001b[1;33m,\u001b[0m \u001b[0mComplexWarning\u001b[0m\u001b[1;33m)\u001b[0m\u001b[1;33m\u001b[0m\u001b[1;33m\u001b[0m\u001b[0m\n\u001b[1;32m--> 496\u001b[1;33m                 \u001b[0marray\u001b[0m \u001b[1;33m=\u001b[0m \u001b[0mnp\u001b[0m\u001b[1;33m.\u001b[0m\u001b[0masarray\u001b[0m\u001b[1;33m(\u001b[0m\u001b[0marray\u001b[0m\u001b[1;33m,\u001b[0m \u001b[0mdtype\u001b[0m\u001b[1;33m=\u001b[0m\u001b[0mdtype\u001b[0m\u001b[1;33m,\u001b[0m \u001b[0morder\u001b[0m\u001b[1;33m=\u001b[0m\u001b[0morder\u001b[0m\u001b[1;33m)\u001b[0m\u001b[1;33m\u001b[0m\u001b[1;33m\u001b[0m\u001b[0m\n\u001b[0m\u001b[0;32m    497\u001b[0m             \u001b[1;32mexcept\u001b[0m \u001b[0mComplexWarning\u001b[0m\u001b[1;33m:\u001b[0m\u001b[1;33m\u001b[0m\u001b[1;33m\u001b[0m\u001b[0m\n\u001b[0;32m    498\u001b[0m                 raise ValueError(\"Complex data not supported\\n\"\n",
      "\u001b[1;32m~\\Anaconda3\\lib\\site-packages\\numpy\\core\\numeric.py\u001b[0m in \u001b[0;36masarray\u001b[1;34m(a, dtype, order)\u001b[0m\n\u001b[0;32m    536\u001b[0m \u001b[1;33m\u001b[0m\u001b[0m\n\u001b[0;32m    537\u001b[0m     \"\"\"\n\u001b[1;32m--> 538\u001b[1;33m     \u001b[1;32mreturn\u001b[0m \u001b[0marray\u001b[0m\u001b[1;33m(\u001b[0m\u001b[0ma\u001b[0m\u001b[1;33m,\u001b[0m \u001b[0mdtype\u001b[0m\u001b[1;33m,\u001b[0m \u001b[0mcopy\u001b[0m\u001b[1;33m=\u001b[0m\u001b[1;32mFalse\u001b[0m\u001b[1;33m,\u001b[0m \u001b[0morder\u001b[0m\u001b[1;33m=\u001b[0m\u001b[0morder\u001b[0m\u001b[1;33m)\u001b[0m\u001b[1;33m\u001b[0m\u001b[1;33m\u001b[0m\u001b[0m\n\u001b[0m\u001b[0;32m    539\u001b[0m \u001b[1;33m\u001b[0m\u001b[0m\n\u001b[0;32m    540\u001b[0m \u001b[1;33m\u001b[0m\u001b[0m\n",
      "\u001b[1;31mValueError\u001b[0m: could not convert string to float: 'low'"
     ]
    }
   ],
   "source": []
  },
  {
   "cell_type": "code",
   "execution_count": 43,
   "metadata": {},
   "outputs": [
    {
     "name": "stdout",
     "output_type": "stream",
     "text": [
      "0.37303670787512244\n",
      "0.7020920925991591\n",
      "0.6168373994697457\n"
     ]
    }
   ],
   "source": [
    "logprint(f1_score(y_test, y_pre, average='macro'))\n",
    "print(f1_score(y_test, y_pre, average='micro'))\n",
    "print(f1_score(y_test, y_pre, average='weighted'))"
   ]
  },
  {
   "cell_type": "code",
   "execution_count": 15,
   "metadata": {},
   "outputs": [
    {
     "data": {
      "text/plain": [
       "0.6989514209006636"
      ]
     },
     "execution_count": 15,
     "metadata": {},
     "output_type": "execute_result"
    }
   ],
   "source": [
    "\n",
    "clf.score(X_test, y_test)"
   ]
  },
  {
   "cell_type": "code",
   "execution_count": 21,
   "metadata": {},
   "outputs": [
    {
     "data": {
      "text/plain": [
       "array(['low', 'low', 'low', ..., 'low', 'low', 'low'], dtype=object)"
      ]
     },
     "execution_count": 21,
     "metadata": {},
     "output_type": "execute_result"
    }
   ],
   "source": [
    "clf.predict(test)"
   ]
  },
  {
   "cell_type": "code",
   "execution_count": 12,
   "metadata": {},
   "outputs": [
    {
     "data": {
      "text/plain": [
       "0.7150721015838709"
      ]
     },
     "execution_count": 12,
     "metadata": {},
     "output_type": "execute_result"
    }
   ],
   "source": [
    "clf.score(X_train, y_train)"
   ]
  },
  {
   "cell_type": "code",
   "execution_count": 12,
   "metadata": {},
   "outputs": [
    {
     "data": {
      "text/plain": [
       "SVC(C=1.0, cache_size=200, class_weight=None, coef0=0.0,\n",
       "    decision_function_shape='ovr', degree=3, gamma=0.1, kernel='linear',\n",
       "    max_iter=-1, probability=False, random_state=None, shrinking=True,\n",
       "    tol=0.001, verbose=False)"
      ]
     },
     "execution_count": 12,
     "metadata": {},
     "output_type": "execute_result"
    }
   ],
   "source": [
    "clf_scale = svm.SVC(kernel='linear', C=1.0, gamma=0.1)\n",
    "scaler = MinMaxScaler()\n",
    "X = scaler.fit_transform(data.drop('interest_level', axis=1))\n",
    "X_train, X_test, y_train, y_test = train_test_split(X, data.interest_level)\n",
    "clf_scale.fit(X_train, y_train)\n"
   ]
  },
  {
   "cell_type": "code",
   "execution_count": 13,
   "metadata": {},
   "outputs": [
    {
     "data": {
      "text/plain": [
       "0.6981682606581293"
      ]
     },
     "execution_count": 13,
     "metadata": {},
     "output_type": "execute_result"
    }
   ],
   "source": [
    "clf_scale.score(X_test, y_test)"
   ]
  },
  {
   "cell_type": "code",
   "execution_count": 14,
   "metadata": {},
   "outputs": [
    {
     "data": {
      "text/plain": [
       "0.6943588912303452"
      ]
     },
     "execution_count": 14,
     "metadata": {},
     "output_type": "execute_result"
    }
   ],
   "source": [
    "clf_scale = svm.SVC(kernel='poly', C=1.0, gamma=0.1)\n",
    "scaler = MinMaxScaler()\n",
    "X = scaler.fit_transform(data.drop('interest_level', axis=1))\n",
    "X_train, X_test, y_train, y_test = train_test_split(X, data.interest_level)\n",
    "clf_scale.fit(X_train, y_train)\n",
    "clf_scale.score(X_test, y_test)"
   ]
  },
  {
   "cell_type": "code",
   "execution_count": 15,
   "metadata": {},
   "outputs": [
    {
     "data": {
      "text/plain": [
       "0.6984924623115578"
      ]
     },
     "execution_count": 15,
     "metadata": {},
     "output_type": "execute_result"
    }
   ],
   "source": [
    "clf_scale = svm.SVC( C=1.0, gamma=0.1)\n",
    "scaler = MinMaxScaler()\n",
    "X = scaler.fit_transform(data.drop('interest_level', axis=1))\n",
    "X_train, X_test, y_train, y_test = train_test_split(X, data.interest_level)\n",
    "clf_scale.fit(X_train, y_train)\n",
    "clf_scale.score(X_test, y_test)"
   ]
  },
  {
   "cell_type": "code",
   "execution_count": null,
   "metadata": {},
   "outputs": [],
   "source": [
    "clf_scale = svm.SVC(kernel='linear', C=1.0, gamma=\"auto\")\n",
    "\n",
    "X_train, X_test, y_train, y_test = train_test_split(data.drop('interest_level', axis=1), data.interest_level)\n",
    "clf_scale.fit(X_train, y_train)\n",
    "clf_scale.score(X_test, y_test)"
   ]
  },
  {
   "cell_type": "code",
   "execution_count": 54,
   "metadata": {},
   "outputs": [
    {
     "data": {
      "text/plain": [
       "SVC(C=1.0, cache_size=200, class_weight=None, coef0=0.0,\n",
       "    decision_function_shape='ovr', degree=3, gamma=0.1, kernel='rbf',\n",
       "    max_iter=-1, probability=True, random_state=None, shrinking=True, tol=0.001,\n",
       "    verbose=False)"
      ]
     },
     "execution_count": 54,
     "metadata": {},
     "output_type": "execute_result"
    }
   ],
   "source": [
    "clf_lin = svm.SVC(kernel='linear', C=1.0, gamma=0.1)\n",
    "clf_poly = svm.SVC(kernel='rbf', C=1.0, gamma=0.1, probability=True)\n",
    "scaler = MinMaxScaler()  # Default behavior is to scale to [0,1]\n",
    "X = scaler.fit_transform(data.drop('interest_level', axis=1))\n",
    "y = data.interest_level\n",
    "X_train, X_test, y_train, y_test = train_test_split(X, y)\n",
    "clf_lin.fit(X_train, y_train)\n",
    "clf_poly.fit(X_train, y_train)"
   ]
  },
  {
   "cell_type": "code",
   "execution_count": 49,
   "metadata": {},
   "outputs": [
    {
     "data": {
      "text/plain": [
       "0.6914410763494894"
      ]
     },
     "execution_count": 49,
     "metadata": {},
     "output_type": "execute_result"
    }
   ],
   "source": [
    "clf_lin.score(X_test, y_test)"
   ]
  },
  {
   "cell_type": "code",
   "execution_count": 55,
   "metadata": {},
   "outputs": [
    {
     "data": {
      "text/plain": [
       "0.6951693953639163"
      ]
     },
     "execution_count": 55,
     "metadata": {},
     "output_type": "execute_result"
    }
   ],
   "source": [
    "clf_poly.score(X_test, y_test)"
   ]
  },
  {
   "cell_type": "code",
   "execution_count": 59,
   "metadata": {},
   "outputs": [],
   "source": [
    "x_de = clf_poly.decision_function(X_test)"
   ]
  },
  {
   "cell_type": "code",
   "execution_count": 60,
   "metadata": {},
   "outputs": [
    {
     "data": {
      "text/plain": [
       "3.307753251384878"
      ]
     },
     "execution_count": 60,
     "metadata": {},
     "output_type": "execute_result"
    }
   ],
   "source": [
    "log_loss(y_test, x_de, eps=1e-15)"
   ]
  },
  {
   "cell_type": "code",
   "execution_count": null,
   "metadata": {},
   "outputs": [],
   "source": []
  }
 ],
 "metadata": {
  "kernelspec": {
   "display_name": "Python 3",
   "language": "python",
   "name": "python3"
  },
  "language_info": {
   "codemirror_mode": {
    "name": "ipython",
    "version": 3
   },
   "file_extension": ".py",
   "mimetype": "text/x-python",
   "name": "python",
   "nbconvert_exporter": "python",
   "pygments_lexer": "ipython3",
   "version": "3.7.4"
  }
 },
 "nbformat": 4,
 "nbformat_minor": 2
}

{
 "cells": [
  {
   "cell_type": "code",
   "execution_count": 223,
   "metadata": {},
   "outputs": [],
   "source": [
    "from sklearn import svm\n",
    "from sklearn.model_selection import train_test_split\n",
    "from sklearn.model_selection import cross_val_score\n",
    "from sklearn import datasets\n",
    "import json  \n",
    "import zipfile\n",
    "import pandas as pd\n",
    "import numpy as np\n",
    "import matplotlib.pyplot as plt\n",
    "\n",
    "%matplotlib inline"
   ]
  },
  {
   "cell_type": "code",
   "execution_count": 224,
   "metadata": {},
   "outputs": [
    {
     "name": "stdout",
     "output_type": "stream",
     "text": [
      "        bathrooms  bedrooms                       building_id  \\\n",
      "4             1.0         1  8579a0b0d54db803821a35a4a615e97a   \n",
      "6             1.0         2  b8e75fc949a6cd8225b455648a951712   \n",
      "9             1.0         2  cd759a988b8f23924b5a2058d5ab2b49   \n",
      "10            1.5         3  53a5b119ba8f7b61d4e010512e0dfc85   \n",
      "15            1.0         0  bfb9405149bfff42a92980b594c28234   \n",
      "...           ...       ...                               ...   \n",
      "124000        1.0         3  92bbbf38baadfde0576fc496bd41749c   \n",
      "124002        1.0         2  5565db9b7cba3603834c4aa6f2950960   \n",
      "124004        1.0         1  67997a128056ee1ed7d046bbb856e3c7   \n",
      "124008        1.0         2  3c0574a740154806c18bdf1fddd3d966   \n",
      "124009        1.0         3  d89f514c3ed0abaae52cba7017ac0701   \n",
      "\n",
      "                    created  \\\n",
      "4       2016-06-16 05:55:27   \n",
      "6       2016-06-01 05:44:33   \n",
      "9       2016-06-14 15:19:59   \n",
      "10      2016-06-24 07:54:24   \n",
      "15      2016-06-28 03:50:23   \n",
      "...                     ...   \n",
      "124000  2016-04-05 03:58:33   \n",
      "124002  2016-04-02 02:25:31   \n",
      "124004  2016-04-26 05:42:03   \n",
      "124008  2016-04-19 02:47:33   \n",
      "124009  2016-04-20 05:34:00   \n",
      "\n",
      "                                              description  \\\n",
      "4       Spacious 1 Bedroom 1 Bathroom in Williamsburg!...   \n",
      "6       BRAND NEW GUT RENOVATED TRUE 2 BEDROOMFind you...   \n",
      "9       **FLEX 2 BEDROOM WITH FULL PRESSURIZED WALL**L...   \n",
      "10      A Brand New 3 Bedroom 1.5 bath ApartmentEnjoy ...   \n",
      "15      Over-sized Studio w abundant closets. Availabl...   \n",
      "...                                                   ...   \n",
      "124000  There is 700 square feet of recently renovated...   \n",
      "124002  2 bedroom apartment with updated kitchen, rece...   \n",
      "124004  No Brokers Fee * Never Lived 1 Bedroom 1 Bathr...   \n",
      "124008  Wonderful Bright Chelsea 2 Bedroom apartment o...   \n",
      "124009  ***PRIME MIDTOWN EAST OFF PARK AVE***TRUE 3 BE...   \n",
      "\n",
      "             display_address  \\\n",
      "4        145 Borinquen Place   \n",
      "6                  East 44th   \n",
      "9           East 56th Street   \n",
      "10       Metropolitan Avenue   \n",
      "15          East 34th Street   \n",
      "...                      ...   \n",
      "124000          W 171 Street   \n",
      "124002              Broadway   \n",
      "124004  210 Brighton 15th St   \n",
      "124008      West 21st Street   \n",
      "124009             E 54th St   \n",
      "\n",
      "                                                 features  latitude  \\\n",
      "4       [Dining Room, Pre-War, Laundry in Building, Di...   40.7108   \n",
      "6       [Doorman, Elevator, Laundry in Building, Dishw...   40.7513   \n",
      "9       [Doorman, Elevator, Laundry in Building, Laund...   40.7575   \n",
      "10                                                     []   40.7145   \n",
      "15      [Doorman, Elevator, Fitness Center, Laundry in...   40.7439   \n",
      "...                                                   ...       ...   \n",
      "124000            [Elevator, Dishwasher, Hardwood Floors]   40.8433   \n",
      "124002  [Common Outdoor Space, Cats Allowed, Dogs Allo...   40.8198   \n",
      "124004  [Dining Room, Elevator, Pre-War, Laundry in Bu...   40.5765   \n",
      "124008  [Pre-War, Laundry in Unit, Dishwasher, No Fee,...   40.7448   \n",
      "124009  [Dining Room, Elevator, Laundry in Building, D...   40.7594   \n",
      "\n",
      "        listing_id  longitude                        manager_id  \\\n",
      "4          7170325   -73.9539  a10db4590843d78c784171a107bdacb4   \n",
      "6          7092344   -73.9722  955db33477af4f40004820b4aed804a0   \n",
      "9          7158677   -73.9625  c8b10a317b766204f08e613cef4ce7a0   \n",
      "10         7211212   -73.9425  5ba989232d0489da1b5f2c45f6688adc   \n",
      "15         7225292   -73.9743  2c3b41f588fbb5234d8a1e885a436cfa   \n",
      "...            ...        ...                               ...   \n",
      "124000     6824800   -73.9396  a61e21da3ba18c7a3d54cfdcc247e1f8   \n",
      "124002     6813268   -73.9578  8f90e5e10e8a2d7cf997f016d89230eb   \n",
      "124004     6927093   -73.9554  a10db4590843d78c784171a107bdacb4   \n",
      "124008     6892816   -74.0017  c3cd45f4381ac371507090e9ffabea80   \n",
      "124009     6901023   -73.9712  e90f2ded843cdb2efd65ef47d9fc8029   \n",
      "\n",
      "                                                   photos  price  \\\n",
      "4       [https://photos.renthop.com/2/7170325_3bb5ac84...   2400   \n",
      "6       [https://photos.renthop.com/2/7092344_7663c19a...   3800   \n",
      "9       [https://photos.renthop.com/2/7158677_c897a134...   3495   \n",
      "10      [https://photos.renthop.com/2/7211212_1ed4542e...   3000   \n",
      "15      [https://photos.renthop.com/2/7225292_901f1984...   2795   \n",
      "...                                                   ...    ...   \n",
      "124000  [https://photos.renthop.com/2/6824800_0682be16...   2800   \n",
      "124002  [https://photos.renthop.com/2/6813268_1e6fcc32...   2395   \n",
      "124004  [https://photos.renthop.com/2/6927093_93a52104...   1850   \n",
      "124008  [https://photos.renthop.com/2/6892816_1a8d087a...   4195   \n",
      "124009  [https://photos.renthop.com/2/6901023_02052d90...   4280   \n",
      "\n",
      "                 street_address interest_level  \n",
      "4           145 Borinquen Place         medium  \n",
      "6                 230 East 44th            low  \n",
      "9          405 East 56th Street         medium  \n",
      "10      792 Metropolitan Avenue         medium  \n",
      "15         340 East 34th Street            low  \n",
      "...                         ...            ...  \n",
      "124000         620 W 171 Street            low  \n",
      "124002            3333 Broadway         medium  \n",
      "124004     210 Brighton 15th St         medium  \n",
      "124008     350 West 21st Street         medium  \n",
      "124009            123 E 54th St           high  \n",
      "\n",
      "[49352 rows x 15 columns]\n"
     ]
    }
   ],
   "source": [
    "df = pd.read_json (r'train.json')\n",
    "#t = pd.read_json(r'test.json')\n",
    "print(df)"
   ]
  },
  {
   "cell_type": "code",
   "execution_count": 225,
   "metadata": {},
   "outputs": [],
   "source": [
    "# test = t\n",
    "# test = test.drop('building_id', axis=1)\n",
    "# test = test.drop('created', axis=1)\n",
    "# test = test.drop('description', axis=1)\n",
    "# test = test.drop('display_address', axis=1)\n",
    "# test = test.drop('listing_id', axis=1)\n",
    "# test = test.drop('photos', axis=1)\n",
    "# test = test.drop('street_address', axis=1)\n",
    "# test = test.drop('manager_id', axis=1)\n",
    "# test = test.drop('features', axis=1)"
   ]
  },
  {
   "cell_type": "code",
   "execution_count": 226,
   "metadata": {},
   "outputs": [
    {
     "name": "stdout",
     "output_type": "stream",
     "text": [
      "        luxry  laundry  animal_allow  bathrooms  bedrooms  \\\n",
      "4           0        0             0        1.0         1   \n",
      "6           0        0             0        1.0         2   \n",
      "9           0        0             0        1.0         2   \n",
      "10          0        0             0        1.5         3   \n",
      "15          0        0             0        1.0         0   \n",
      "...       ...      ...           ...        ...       ...   \n",
      "124000      0        0             0        1.0         3   \n",
      "124002      0        0             0        1.0         2   \n",
      "124004      0        0             0        1.0         1   \n",
      "124008      0        0             0        1.0         2   \n",
      "124009      0        0             0        1.0         3   \n",
      "\n",
      "                                                 features  latitude  \\\n",
      "4       ['Dining Room', 'Pre-War', 'Laundry in Buildin...   40.7108   \n",
      "6       ['Doorman', 'Elevator', 'Laundry in Building',...   40.7513   \n",
      "9       ['Doorman', 'Elevator', 'Laundry in Building',...   40.7575   \n",
      "10                                                     []   40.7145   \n",
      "15      ['Doorman', 'Elevator', 'Fitness Center', 'Lau...   40.7439   \n",
      "...                                                   ...       ...   \n",
      "124000      ['Elevator', 'Dishwasher', 'Hardwood Floors']   40.8433   \n",
      "124002  ['Common Outdoor Space', 'Cats Allowed', 'Dogs...   40.8198   \n",
      "124004  ['Dining Room', 'Elevator', 'Pre-War', 'Laundr...   40.5765   \n",
      "124008  ['Pre-War', 'Laundry in Unit', 'Dishwasher', '...   40.7448   \n",
      "124009  ['Dining Room', 'Elevator', 'Laundry in Buildi...   40.7594   \n",
      "\n",
      "        longitude  price interest_level  \n",
      "4        -73.9539   2400         medium  \n",
      "6        -73.9722   3800            low  \n",
      "9        -73.9625   3495         medium  \n",
      "10       -73.9425   3000         medium  \n",
      "15       -73.9743   2795            low  \n",
      "...           ...    ...            ...  \n",
      "124000   -73.9396   2800            low  \n",
      "124002   -73.9578   2395         medium  \n",
      "124004   -73.9554   1850         medium  \n",
      "124008   -74.0017   4195         medium  \n",
      "124009   -73.9712   4280           high  \n",
      "\n",
      "[49352 rows x 10 columns]\n"
     ]
    }
   ],
   "source": [
    "data = df\n",
    "\n",
    "data = data.drop('building_id', axis=1)\n",
    "data = data.drop('created', axis=1)\n",
    "data = data.drop('description', axis=1)\n",
    "data = data.drop('display_address', axis=1)\n",
    "data = data.drop('listing_id', axis=1)\n",
    "data = data.drop('photos', axis=1)\n",
    "data = data.drop('street_address', axis=1)\n",
    "data = data.drop('manager_id', axis=1)\n",
    "\n",
    "data.insert(0,\"animal_allow\",0)\n",
    "data.insert(0,\"laundry\",0)\n",
    "data.insert(0,\"luxry\",0)\n",
    "data.features = data.features.astype(str)\n",
    "print(data)"
   ]
  },
  {
   "cell_type": "code",
   "execution_count": 227,
   "metadata": {},
   "outputs": [
    {
     "name": "stdout",
     "output_type": "stream",
     "text": [
      "    luxry  laundry  animal_allow  bathrooms  bedrooms  \\\n",
      "4       0        1             1        1.0         1   \n",
      "6       1        1             0        1.0         2   \n",
      "9       1        1             0        1.0         2   \n",
      "10      0        0             0        1.5         3   \n",
      "15      1        1             0        1.0         0   \n",
      "16      1        0             0        1.0         3   \n",
      "18      0        1             0        2.0         3   \n",
      "19      0        1             0        1.0         0   \n",
      "23      0        0             0        0.0         1   \n",
      "32      0        0             1        3.0         3   \n",
      "33      1        1             1        1.0         0   \n",
      "36      1        1             1        1.0         2   \n",
      "38      1        1             0        1.0         0   \n",
      "39      0        0             0        1.0         1   \n",
      "42      1        1             1        2.0         2   \n",
      "43      0        0             0        1.0         0   \n",
      "44      1        0             0        1.0         2   \n",
      "46      1        1             1        1.0         3   \n",
      "49      0        0             0        1.0         1   \n",
      "61      1        0             0        1.0         1   \n",
      "\n",
      "                                             features  latitude  longitude  \\\n",
      "4   ['Dining Room', 'Pre-War', 'Laundry in Buildin...   40.7108   -73.9539   \n",
      "6   ['Doorman', 'Elevator', 'Laundry in Building',...   40.7513   -73.9722   \n",
      "9   ['Doorman', 'Elevator', 'Laundry in Building',...   40.7575   -73.9625   \n",
      "10                                                 []   40.7145   -73.9425   \n",
      "15  ['Doorman', 'Elevator', 'Fitness Center', 'Lau...   40.7439   -73.9743   \n",
      "16  ['Doorman', 'Elevator', 'Loft', 'Dishwasher', ...   40.7348   -73.9865   \n",
      "18  ['Fireplace', 'Laundry in Unit', 'Dishwasher',...   40.7302   -73.9826   \n",
      "19  ['Elevator', 'Laundry in Building', 'Dishwashe...   40.7769   -73.9467   \n",
      "23                                ['Hardwood Floors']   40.7346   -73.9811   \n",
      "32                   ['Cats Allowed', 'Dogs Allowed']   40.6990   -73.9943   \n",
      "33  ['Doorman', 'Elevator', 'Laundry in Building',...   40.7723   -73.9510   \n",
      "36  ['Roof Deck', 'Doorman', 'Elevator', 'Fitness ...   40.7530   -73.9959   \n",
      "38  ['Swimming Pool', 'Roof Deck', 'Doorman', 'Ele...   40.7610   -73.9990   \n",
      "39                                ['Hardwood Floors']   40.7277   -74.0000   \n",
      "42  ['Doorman', 'Elevator', 'Laundry in Building',...   40.7633   -73.9596   \n",
      "43                                    ['Reduced Fee']   40.7073   -73.9665   \n",
      "44         ['Doorman', 'Elevator', 'Hardwood Floors']   40.7528   -73.9709   \n",
      "46  ['Common Outdoor Space', 'Cats Allowed', 'Dogs...   40.7360   -73.9860   \n",
      "49                                ['Hardwood Floors']   40.7830   -73.9828   \n",
      "61                                        ['Doorman']   40.7621   -73.9486   \n",
      "\n",
      "    price interest_level  \n",
      "4    2400         medium  \n",
      "6    3800            low  \n",
      "9    3495         medium  \n",
      "10   3000         medium  \n",
      "15   2795            low  \n",
      "16   7200            low  \n",
      "18   6000            low  \n",
      "19   1945           high  \n",
      "23   2435            low  \n",
      "32   6850            low  \n",
      "33   2785            low  \n",
      "36   3100            low  \n",
      "38   2400         medium  \n",
      "39   2750            low  \n",
      "42   5465            low  \n",
      "43   3150            low  \n",
      "44   3750            low  \n",
      "46   4450           high  \n",
      "49   3200            low  \n",
      "61   2495            low  \n"
     ]
    }
   ],
   "source": [
    "data.loc[data['features'].str.contains('Cats Allowed|Dogs Allowed'), 'animal_allow'] = 1\n",
    "data.loc[data['features'].str.contains('Laundry'), 'laundry'] = 1\n",
    "data.loc[data['features'].str.contains('Doorman|Fitness|Swimming'), 'luxry'] = 1\n",
    "#data['support'][df.name.str.contains('ball')] = 'ball support'\n",
    "print(data.head(20))"
   ]
  },
  {
   "cell_type": "code",
   "execution_count": 228,
   "metadata": {},
   "outputs": [
    {
     "name": "stdout",
     "output_type": "stream",
     "text": [
      "Elevator                25915\n",
      "Cats Allowed            23540\n",
      "Hardwood Floors         23527\n",
      "Dogs Allowed            22035\n",
      "Doorman                 20898\n",
      "Dishwasher              20426\n",
      "No Fee                  18062\n",
      "Laundry in Building     16344\n",
      "Fitness Center          13252\n",
      "Pre-War                  9148\n",
      "Laundry in Unit          8738\n",
      "Roof Deck                6542\n",
      "Outdoor Space            5268\n",
      "Dining Room              5136\n",
      "High Speed Internet      4299\n",
      "Balcony                  2992\n",
      "Swimming Pool            2730\n",
      "Laundry In Building      2593\n",
      "New Construction         2559\n",
      "Terrace                  2283\n",
      "Exclusive                2167\n",
      "Loft                     2100\n",
      "Garden/Patio             1943\n",
      "Wheelchair Access        1358\n",
      "Common Outdoor Space     1293\n",
      "HARDWOOD                  914\n",
      "Fireplace                 912\n",
      "SIMPLEX                   908\n",
      "prewar                    855\n",
      "dtype: int64\n"
     ]
    }
   ],
   "source": [
    "Features = pd.DataFrame(df.features.tolist()).stack().value_counts()\n",
    "\n",
    "Features = Features[Features>800]\n",
    "        \n",
    "print(Features)"
   ]
  },
  {
   "cell_type": "code",
   "execution_count": 229,
   "metadata": {},
   "outputs": [],
   "source": [
    "# plt.boxplot(Features)\n",
    "# plt.show()"
   ]
  },
  {
   "cell_type": "code",
   "execution_count": null,
   "metadata": {},
   "outputs": [],
   "source": []
  },
  {
   "cell_type": "code",
   "execution_count": 230,
   "metadata": {},
   "outputs": [],
   "source": [
    "data = data.drop('features', axis=1)"
   ]
  },
  {
   "cell_type": "code",
   "execution_count": 235,
   "metadata": {},
   "outputs": [
    {
     "ename": "AttributeError",
     "evalue": "module 'sklearn.svm' has no attribute 'cross_val_score'",
     "output_type": "error",
     "traceback": [
      "\u001b[0;31m---------------------------------------------------------------------------\u001b[0m",
      "\u001b[0;31mAttributeError\u001b[0m                            Traceback (most recent call last)",
      "\u001b[0;32m<ipython-input-235-d6846b82dd6b>\u001b[0m in \u001b[0;36m<module>\u001b[0;34m\u001b[0m\n\u001b[1;32m      1\u001b[0m \u001b[0mclf\u001b[0m \u001b[0;34m=\u001b[0m \u001b[0msvm\u001b[0m\u001b[0;34m.\u001b[0m\u001b[0mSVC\u001b[0m\u001b[0;34m(\u001b[0m\u001b[0mkernel\u001b[0m\u001b[0;34m=\u001b[0m\u001b[0;34m'linear'\u001b[0m\u001b[0;34m,\u001b[0m \u001b[0mC\u001b[0m\u001b[0;34m=\u001b[0m\u001b[0;36m1\u001b[0m\u001b[0;34m)\u001b[0m\u001b[0;34m\u001b[0m\u001b[0;34m\u001b[0m\u001b[0m\n\u001b[0;32m----> 2\u001b[0;31m \u001b[0mscores\u001b[0m \u001b[0;34m=\u001b[0m \u001b[0msvm\u001b[0m\u001b[0;34m.\u001b[0m\u001b[0mcross_val_score\u001b[0m\u001b[0;34m(\u001b[0m\u001b[0mclf\u001b[0m\u001b[0;34m,\u001b[0m \u001b[0mdata\u001b[0m\u001b[0;34m.\u001b[0m\u001b[0mdrop\u001b[0m\u001b[0;34m(\u001b[0m\u001b[0;34m'interest_level'\u001b[0m\u001b[0;34m,\u001b[0m \u001b[0maxis\u001b[0m\u001b[0;34m=\u001b[0m\u001b[0;36m1\u001b[0m\u001b[0;34m)\u001b[0m\u001b[0;34m,\u001b[0m \u001b[0mdata\u001b[0m\u001b[0;34m.\u001b[0m\u001b[0minterest_level\u001b[0m\u001b[0;34m,\u001b[0m \u001b[0mcv\u001b[0m\u001b[0;34m=\u001b[0m\u001b[0;36m10\u001b[0m\u001b[0;34m)\u001b[0m\u001b[0;34m\u001b[0m\u001b[0;34m\u001b[0m\u001b[0m\n\u001b[0m",
      "\u001b[0;31mAttributeError\u001b[0m: module 'sklearn.svm' has no attribute 'cross_val_score'"
     ]
    }
   ],
   "source": [
    "clf = svm.SVC(kernel='linear', C=1)\n",
    "scores = cross_val_score(clf, data.drop('interest_level', axis=1), data.interest_level, cv=10)"
   ]
  },
  {
   "cell_type": "code",
   "execution_count": 219,
   "metadata": {},
   "outputs": [],
   "source": [
    "X_train, X_test , y_train, y_test = train_test_split(data.drop('interest_level', axis=1), data.interest_level, test_size=0.4, random_state=0)"
   ]
  },
  {
   "cell_type": "code",
   "execution_count": null,
   "metadata": {},
   "outputs": [],
   "source": []
  },
  {
   "cell_type": "code",
   "execution_count": 220,
   "metadata": {},
   "outputs": [
    {
     "name": "stderr",
     "output_type": "stream",
     "text": [
      "/opt/anaconda3/lib/python3.7/site-packages/sklearn/svm/base.py:193: FutureWarning: The default value of gamma will change from 'auto' to 'scale' in version 0.22 to account better for unscaled features. Set gamma explicitly to 'auto' or 'scale' to avoid this warning.\n",
      "  \"avoid this warning.\", FutureWarning)\n"
     ]
    }
   ],
   "source": [
    "clf = svm.SVC().fit(X_train, y_train)"
   ]
  },
  {
   "cell_type": "code",
   "execution_count": 221,
   "metadata": {},
   "outputs": [
    {
     "data": {
      "text/plain": [
       "0.6979383009979231"
      ]
     },
     "execution_count": 221,
     "metadata": {},
     "output_type": "execute_result"
    }
   ],
   "source": [
    "clf.score(X_test, y_test)"
   ]
  },
  {
   "cell_type": "code",
   "execution_count": null,
   "metadata": {},
   "outputs": [],
   "source": []
  }
 ],
 "metadata": {
  "kernelspec": {
   "display_name": "Python 3",
   "language": "python",
   "name": "python3"
  },
  "language_info": {
   "codemirror_mode": {
    "name": "ipython",
    "version": 3
   },
   "file_extension": ".py",
   "mimetype": "text/x-python",
   "name": "python",
   "nbconvert_exporter": "python",
   "pygments_lexer": "ipython3",
   "version": "3.7.4"
  }
 },
 "nbformat": 4,
 "nbformat_minor": 2
}

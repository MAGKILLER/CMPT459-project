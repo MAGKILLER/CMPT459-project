{
 "cells": [
  {
   "cell_type": "code",
   "execution_count": 1,
   "metadata": {},
   "outputs": [],
   "source": [
    "from sklearn import svm\n",
    "import json  \n",
    "import zipfile\n",
    "import pandas as pd\n",
    "import numpy as np\n",
    "import matplotlib.pyplot as plt\n",
    "\n",
    "%matplotlib inline"
   ]
  },
  {
   "cell_type": "code",
   "execution_count": 17,
   "metadata": {},
   "outputs": [
    {
     "name": "stdout",
     "output_type": "stream",
     "text": [
      "        bathrooms  bedrooms                       building_id  \\\n",
      "4             1.0         1  8579a0b0d54db803821a35a4a615e97a   \n",
      "6             1.0         2  b8e75fc949a6cd8225b455648a951712   \n",
      "9             1.0         2  cd759a988b8f23924b5a2058d5ab2b49   \n",
      "10            1.5         3  53a5b119ba8f7b61d4e010512e0dfc85   \n",
      "15            1.0         0  bfb9405149bfff42a92980b594c28234   \n",
      "...           ...       ...                               ...   \n",
      "124000        1.0         3  92bbbf38baadfde0576fc496bd41749c   \n",
      "124002        1.0         2  5565db9b7cba3603834c4aa6f2950960   \n",
      "124004        1.0         1  67997a128056ee1ed7d046bbb856e3c7   \n",
      "124008        1.0         2  3c0574a740154806c18bdf1fddd3d966   \n",
      "124009        1.0         3  d89f514c3ed0abaae52cba7017ac0701   \n",
      "\n",
      "                    created  \\\n",
      "4       2016-06-16 05:55:27   \n",
      "6       2016-06-01 05:44:33   \n",
      "9       2016-06-14 15:19:59   \n",
      "10      2016-06-24 07:54:24   \n",
      "15      2016-06-28 03:50:23   \n",
      "...                     ...   \n",
      "124000  2016-04-05 03:58:33   \n",
      "124002  2016-04-02 02:25:31   \n",
      "124004  2016-04-26 05:42:03   \n",
      "124008  2016-04-19 02:47:33   \n",
      "124009  2016-04-20 05:34:00   \n",
      "\n",
      "                                              description  \\\n",
      "4       Spacious 1 Bedroom 1 Bathroom in Williamsburg!...   \n",
      "6       BRAND NEW GUT RENOVATED TRUE 2 BEDROOMFind you...   \n",
      "9       **FLEX 2 BEDROOM WITH FULL PRESSURIZED WALL**L...   \n",
      "10      A Brand New 3 Bedroom 1.5 bath ApartmentEnjoy ...   \n",
      "15      Over-sized Studio w abundant closets. Availabl...   \n",
      "...                                                   ...   \n",
      "124000  There is 700 square feet of recently renovated...   \n",
      "124002  2 bedroom apartment with updated kitchen, rece...   \n",
      "124004  No Brokers Fee * Never Lived 1 Bedroom 1 Bathr...   \n",
      "124008  Wonderful Bright Chelsea 2 Bedroom apartment o...   \n",
      "124009  ***PRIME MIDTOWN EAST OFF PARK AVE***TRUE 3 BE...   \n",
      "\n",
      "             display_address  \\\n",
      "4        145 Borinquen Place   \n",
      "6                  East 44th   \n",
      "9           East 56th Street   \n",
      "10       Metropolitan Avenue   \n",
      "15          East 34th Street   \n",
      "...                      ...   \n",
      "124000          W 171 Street   \n",
      "124002              Broadway   \n",
      "124004  210 Brighton 15th St   \n",
      "124008      West 21st Street   \n",
      "124009             E 54th St   \n",
      "\n",
      "                                                 features  latitude  \\\n",
      "4       [Dining Room, Pre-War, Laundry in Building, Di...   40.7108   \n",
      "6       [Doorman, Elevator, Laundry in Building, Dishw...   40.7513   \n",
      "9       [Doorman, Elevator, Laundry in Building, Laund...   40.7575   \n",
      "10                                                     []   40.7145   \n",
      "15      [Doorman, Elevator, Fitness Center, Laundry in...   40.7439   \n",
      "...                                                   ...       ...   \n",
      "124000            [Elevator, Dishwasher, Hardwood Floors]   40.8433   \n",
      "124002  [Common Outdoor Space, Cats Allowed, Dogs Allo...   40.8198   \n",
      "124004  [Dining Room, Elevator, Pre-War, Laundry in Bu...   40.5765   \n",
      "124008  [Pre-War, Laundry in Unit, Dishwasher, No Fee,...   40.7448   \n",
      "124009  [Dining Room, Elevator, Laundry in Building, D...   40.7594   \n",
      "\n",
      "        listing_id  longitude                        manager_id  \\\n",
      "4          7170325   -73.9539  a10db4590843d78c784171a107bdacb4   \n",
      "6          7092344   -73.9722  955db33477af4f40004820b4aed804a0   \n",
      "9          7158677   -73.9625  c8b10a317b766204f08e613cef4ce7a0   \n",
      "10         7211212   -73.9425  5ba989232d0489da1b5f2c45f6688adc   \n",
      "15         7225292   -73.9743  2c3b41f588fbb5234d8a1e885a436cfa   \n",
      "...            ...        ...                               ...   \n",
      "124000     6824800   -73.9396  a61e21da3ba18c7a3d54cfdcc247e1f8   \n",
      "124002     6813268   -73.9578  8f90e5e10e8a2d7cf997f016d89230eb   \n",
      "124004     6927093   -73.9554  a10db4590843d78c784171a107bdacb4   \n",
      "124008     6892816   -74.0017  c3cd45f4381ac371507090e9ffabea80   \n",
      "124009     6901023   -73.9712  e90f2ded843cdb2efd65ef47d9fc8029   \n",
      "\n",
      "                                                   photos  price  \\\n",
      "4       [https://photos.renthop.com/2/7170325_3bb5ac84...   2400   \n",
      "6       [https://photos.renthop.com/2/7092344_7663c19a...   3800   \n",
      "9       [https://photos.renthop.com/2/7158677_c897a134...   3495   \n",
      "10      [https://photos.renthop.com/2/7211212_1ed4542e...   3000   \n",
      "15      [https://photos.renthop.com/2/7225292_901f1984...   2795   \n",
      "...                                                   ...    ...   \n",
      "124000  [https://photos.renthop.com/2/6824800_0682be16...   2800   \n",
      "124002  [https://photos.renthop.com/2/6813268_1e6fcc32...   2395   \n",
      "124004  [https://photos.renthop.com/2/6927093_93a52104...   1850   \n",
      "124008  [https://photos.renthop.com/2/6892816_1a8d087a...   4195   \n",
      "124009  [https://photos.renthop.com/2/6901023_02052d90...   4280   \n",
      "\n",
      "                 street_address interest_level  \n",
      "4           145 Borinquen Place         medium  \n",
      "6                 230 East 44th            low  \n",
      "9          405 East 56th Street         medium  \n",
      "10      792 Metropolitan Avenue         medium  \n",
      "15         340 East 34th Street            low  \n",
      "...                         ...            ...  \n",
      "124000         620 W 171 Street            low  \n",
      "124002            3333 Broadway         medium  \n",
      "124004     210 Brighton 15th St         medium  \n",
      "124008     350 West 21st Street         medium  \n",
      "124009            123 E 54th St           high  \n",
      "\n",
      "[49352 rows x 15 columns]\n"
     ]
    }
   ],
   "source": [
    "df = pd.read_json (r'train.json')\n",
    "print (df)"
   ]
  },
  {
   "cell_type": "code",
   "execution_count": 81,
   "metadata": {},
   "outputs": [
    {
     "name": "stdout",
     "output_type": "stream",
     "text": [
      "        bathrooms  bedrooms  latitude  longitude  price interest_level\n",
      "4             1.0         1   40.7108   -73.9539   2400         medium\n",
      "6             1.0         2   40.7513   -73.9722   3800            low\n",
      "9             1.0         2   40.7575   -73.9625   3495         medium\n",
      "10            1.5         3   40.7145   -73.9425   3000         medium\n",
      "15            1.0         0   40.7439   -73.9743   2795            low\n",
      "...           ...       ...       ...        ...    ...            ...\n",
      "124000        1.0         3   40.8433   -73.9396   2800            low\n",
      "124002        1.0         2   40.8198   -73.9578   2395         medium\n",
      "124004        1.0         1   40.5765   -73.9554   1850         medium\n",
      "124008        1.0         2   40.7448   -74.0017   4195         medium\n",
      "124009        1.0         3   40.7594   -73.9712   4280           high\n",
      "\n",
      "[49352 rows x 6 columns]\n"
     ]
    }
   ],
   "source": [
    "data = df\n",
    "data = data.drop('building_id', axis=1)\n",
    "data = data.drop('created', axis=1)\n",
    "data = data.drop('description', axis=1)\n",
    "data = data.drop('display_address', axis=1)\n",
    "data = data.drop('listing_id', axis=1)\n",
    "data = data.drop('photos', axis=1)\n",
    "data = data.drop('street_address', axis=1)\n",
    "data = data.drop('manager_id', axis=1)\n",
    "data = data.drop('features', axis=1)\n",
    "print(data)"
   ]
  },
  {
   "cell_type": "code",
   "execution_count": null,
   "metadata": {},
   "outputs": [],
   "source": []
  },
  {
   "cell_type": "code",
   "execution_count": 79,
   "metadata": {},
   "outputs": [
    {
     "name": "stdout",
     "output_type": "stream",
     "text": [
      "Elevator                25915\n",
      "Cats Allowed            23540\n",
      "Hardwood Floors         23527\n",
      "Dogs Allowed            22035\n",
      "Doorman                 20898\n",
      "Dishwasher              20426\n",
      "No Fee                  18062\n",
      "Laundry in Building     16344\n",
      "Fitness Center          13252\n",
      "Pre-War                  9148\n",
      "Laundry in Unit          8738\n",
      "Roof Deck                6542\n",
      "Outdoor Space            5268\n",
      "Dining Room              5136\n",
      "High Speed Internet      4299\n",
      "Balcony                  2992\n",
      "Swimming Pool            2730\n",
      "Laundry In Building      2593\n",
      "New Construction         2559\n",
      "Terrace                  2283\n",
      "Exclusive                2167\n",
      "Loft                     2100\n",
      "Garden/Patio             1943\n",
      "Wheelchair Access        1358\n",
      "Common Outdoor Space     1293\n",
      "HARDWOOD                  914\n",
      "Fireplace                 912\n",
      "SIMPLEX                   908\n",
      "prewar                    855\n",
      "dtype: int64\n"
     ]
    }
   ],
   "source": [
    "Features = pd.DataFrame(df.features.tolist()).stack().value_counts()\n",
    "\n",
    "Features = Features[Features>800]\n",
    "        \n",
    "print(Features)\n",
    "#df.features.str.split(',\\s+', expand=True).stack().value_counts()"
   ]
  },
  {
   "cell_type": "code",
   "execution_count": 59,
   "metadata": {},
   "outputs": [
    {
     "data": {
      "image/png": "[encoded data removed]",
      "text/plain": [
       "<Figure size 432x288 with 1 Axes>"
      ]
     },
     "metadata": {
      "needs_background": "light"
     },
     "output_type": "display_data"
    }
   ],
   "source": [
    "plt.boxplot(Features)\n",
    "plt.show()"
   ]
  },
  {
   "cell_type": "code",
   "execution_count": 86,
   "metadata": {},
   "outputs": [
    {
     "ename": "AttributeError",
     "evalue": "'Series' object has no attribute 'value'",
     "output_type": "error",
     "traceback": [
      "\u001b[0;31m---------------------------------------------------------------------------\u001b[0m",
      "\u001b[0;31mAttributeError\u001b[0m                            Traceback (most recent call last)",
      "\u001b[0;32m<ipython-input-86-2879f614510a>\u001b[0m in \u001b[0;36m<module>\u001b[0;34m\u001b[0m\n\u001b[0;32m----> 1\u001b[0;31m \u001b[0msvm\u001b[0m\u001b[0;34m.\u001b[0m\u001b[0mSVC\u001b[0m\u001b[0;34m(\u001b[0m\u001b[0;34m)\u001b[0m\u001b[0;34m.\u001b[0m\u001b[0mfit\u001b[0m\u001b[0;34m(\u001b[0m\u001b[0mdata\u001b[0m\u001b[0;34m.\u001b[0m\u001b[0mbathrooms\u001b[0m\u001b[0;34m.\u001b[0m\u001b[0mvalue\u001b[0m\u001b[0;34m.\u001b[0m\u001b[0mreshape\u001b[0m\u001b[0;34m(\u001b[0m\u001b[0;34m-\u001b[0m\u001b[0;36m1\u001b[0m\u001b[0;34m,\u001b[0m \u001b[0;36m1\u001b[0m\u001b[0;34m)\u001b[0m\u001b[0;34m,\u001b[0m \u001b[0mdata\u001b[0m\u001b[0;34m.\u001b[0m\u001b[0mbedrooms\u001b[0m\u001b[0;34m.\u001b[0m\u001b[0mvalue\u001b[0m\u001b[0;34m.\u001b[0m\u001b[0mreshape\u001b[0m\u001b[0;34m(\u001b[0m\u001b[0;34m-\u001b[0m\u001b[0;36m1\u001b[0m\u001b[0;34m,\u001b[0m \u001b[0;36m1\u001b[0m\u001b[0;34m)\u001b[0m\u001b[0;34m)\u001b[0m\u001b[0;34m\u001b[0m\u001b[0;34m\u001b[0m\u001b[0m\n\u001b[0m",
      "\u001b[0;32m/opt/anaconda3/lib/python3.7/site-packages/pandas/core/generic.py\u001b[0m in \u001b[0;36m__getattr__\u001b[0;34m(self, name)\u001b[0m\n\u001b[1;32m   5177\u001b[0m             \u001b[0;32mif\u001b[0m \u001b[0mself\u001b[0m\u001b[0;34m.\u001b[0m\u001b[0m_info_axis\u001b[0m\u001b[0;34m.\u001b[0m\u001b[0m_can_hold_identifiers_and_holds_name\u001b[0m\u001b[0;34m(\u001b[0m\u001b[0mname\u001b[0m\u001b[0;34m)\u001b[0m\u001b[0;34m:\u001b[0m\u001b[0;34m\u001b[0m\u001b[0;34m\u001b[0m\u001b[0m\n\u001b[1;32m   5178\u001b[0m                 \u001b[0;32mreturn\u001b[0m \u001b[0mself\u001b[0m\u001b[0;34m[\u001b[0m\u001b[0mname\u001b[0m\u001b[0;34m]\u001b[0m\u001b[0;34m\u001b[0m\u001b[0;34m\u001b[0m\u001b[0m\n\u001b[0;32m-> 5179\u001b[0;31m             \u001b[0;32mreturn\u001b[0m \u001b[0mobject\u001b[0m\u001b[0;34m.\u001b[0m\u001b[0m__getattribute__\u001b[0m\u001b[0;34m(\u001b[0m\u001b[0mself\u001b[0m\u001b[0;34m,\u001b[0m \u001b[0mname\u001b[0m\u001b[0;34m)\u001b[0m\u001b[0;34m\u001b[0m\u001b[0;34m\u001b[0m\u001b[0m\n\u001b[0m\u001b[1;32m   5180\u001b[0m \u001b[0;34m\u001b[0m\u001b[0m\n\u001b[1;32m   5181\u001b[0m     \u001b[0;32mdef\u001b[0m \u001b[0m__setattr__\u001b[0m\u001b[0;34m(\u001b[0m\u001b[0mself\u001b[0m\u001b[0;34m,\u001b[0m \u001b[0mname\u001b[0m\u001b[0;34m,\u001b[0m \u001b[0mvalue\u001b[0m\u001b[0;34m)\u001b[0m\u001b[0;34m:\u001b[0m\u001b[0;34m\u001b[0m\u001b[0;34m\u001b[0m\u001b[0m\n",
      "\u001b[0;31mAttributeError\u001b[0m: 'Series' object has no attribute 'value'"
     ]
    }
   ],
   "source": [
    "svm.SVC().fit(data.bathrooms, data.bedrooms)"
   ]
  },
  {
   "cell_type": "code",
   "execution_count": null,
   "metadata": {},
   "outputs": [],
   "source": []
  }
 ],
 "metadata": {
  "kernelspec": {
   "display_name": "Python 3",
   "language": "python",
   "name": "python3"
  },
  "language_info": {
   "codemirror_mode": {
    "name": "ipython",
    "version": 3
   },
   "file_extension": ".py",
   "mimetype": "text/x-python",
   "name": "python",
   "nbconvert_exporter": "python",
   "pygments_lexer": "ipython3",
   "version": "3.7.4"
  }
 },
 "nbformat": 4,
 "nbformat_minor": 2
}

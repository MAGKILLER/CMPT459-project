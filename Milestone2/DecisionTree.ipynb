{
 "cells": [
  {
   "cell_type": "code",
   "execution_count": 127,
   "metadata": {},
   "outputs": [],
   "source": [
    "import json  \n",
    "import zipfile\n",
    "import pandas as pd\n",
    "from datetime import datetime\n",
    "import numpy as np\n",
    "import matplotlib.pyplot as plt\n",
    "%matplotlib inline"
   ]
  },
  {
   "cell_type": "code",
   "execution_count": 128,
   "metadata": {},
   "outputs": [
    {
     "name": "stdout",
     "output_type": "stream",
     "text": [
      "train.json\n"
     ]
    }
   ],
   "source": [
    "d = None  \n",
    "data = None  \n",
    "with zipfile.ZipFile(\"/home/wenbenc/two-sigma-connect-rental-listing-inquiries/train.json.zip\", \"r\") as z:\n",
    "    for filename in z.namelist():\n",
    "        print(filename)\n",
    "        with z.open(filename) as f:\n",
    "            data = f.read()\n",
    "            d = json.loads(data.decode(\"utf-8\"))"
   ]
  },
  {
   "cell_type": "code",
   "execution_count": 129,
   "metadata": {},
   "outputs": [],
   "source": [
    "# Constructing DataFrame my_df from a dictionary d\n",
    "my_df = pd.DataFrame(d)"
   ]
  },
  {
   "cell_type": "code",
   "execution_count": 130,
   "metadata": {},
   "outputs": [
    {
     "name": "stdout",
     "output_type": "stream",
     "text": [
      "Elevator           25915\n",
      "Cats Allowed       23540\n",
      "Hardwood Floors    23527\n",
      "Dogs Allowed       22035\n",
      "Doorman            20898\n",
      "Dishwasher         20426\n",
      "dtype: int64\n"
     ]
    }
   ],
   "source": [
    "# Find the words that appears 20000 times in original data\n",
    "special = pd.DataFrame(my_df.features.tolist()).stack().value_counts()\n",
    "special = Features[Features>20000]\n",
    "print(special)"
   ]
  },
  {
   "cell_type": "code",
   "execution_count": 131,
   "metadata": {},
   "outputs": [],
   "source": [
    "# Insert extra fetures by special to original data\n",
    "my_df.insert(0,\"Elevator Available\", 0)\n",
    "my_df.insert(0,\"Cats Allowed\", 0)\n",
    "my_df.insert(0,\"Hardwood Floors Available\", 0)\n",
    "my_df.insert(0,\"Dogs Allowed\", 0)\n",
    "my_df.insert(0,\"Doorman Available\", 0)\n",
    "my_df.insert(0,\"Dishwasher Available\", 0)\n",
    "my_df.features = my_df.features.astype(str)"
   ]
  },
  {
   "cell_type": "code",
   "execution_count": 132,
   "metadata": {},
   "outputs": [],
   "source": [
    "# Add value 1 if attribute Avaliable/Allowed in original dat\n",
    "my_df.loc[my_df['features'].str.contains('Elevator'), 'Elevator Available'] = 1\n",
    "my_df.loc[my_df['features'].str.contains('Cats Allowed'), 'Cats Allowed'] = 1\n",
    "my_df.loc[my_df['features'].str.contains('Hardwood Floors'), 'Hardwood Floors Available'] = 1\n",
    "my_df.loc[my_df['features'].str.contains('Dogs Allowed'), 'Dogs Allowed'] = 1\n",
    "my_df.loc[my_df['features'].str.contains('Doorman'), 'Doorman Available'] = 1\n",
    "my_df.loc[my_df['features'].str.contains('Dishwasher'), 'Dishwasher Available'] = 1"
   ]
  },
  {
   "cell_type": "code",
   "execution_count": 133,
   "metadata": {},
   "outputs": [],
   "source": [
    "# Import the data of NYC Transit Subway Entrance And Exit Data\n",
    "data = pd.read_csv(\"/home/wenbenc/NYC_Transit_Subway_Entrance_And_Exit_Data.csv\")"
   ]
  },
  {
   "cell_type": "code",
   "execution_count": 134,
   "metadata": {},
   "outputs": [
    {
     "name": "stdout",
     "output_type": "stream",
     "text": [
      "     Division               Line        Station Name  Station Latitude  \\\n",
      "0         BMT           4 Avenue             25th St         40.660397   \n",
      "1         BMT           4 Avenue             25th St         40.660397   \n",
      "2         BMT           4 Avenue             36th St         40.655144   \n",
      "3         BMT           4 Avenue             36th St         40.655144   \n",
      "4         BMT           4 Avenue             36th St         40.655144   \n",
      "...       ...                ...                 ...               ...   \n",
      "1863      IRT  White Plains Road          Simpson St         40.824073   \n",
      "1864      IRT  White Plains Road          Simpson St         40.824073   \n",
      "1865      IRT  White Plains Road  Wakefield-241st St         40.903125   \n",
      "1866      IRT  White Plains Road  Wakefield-241st St         40.903125   \n",
      "1867      IRT  White Plains Road  Wakefield-241st St         40.903125   \n",
      "\n",
      "      Station Longitude Route1 Route2 Route3 Route4 Route5  ...    ADA  \\\n",
      "0            -73.998091      R    NaN    NaN    NaN    NaN  ...  False   \n",
      "1            -73.998091      R    NaN    NaN    NaN    NaN  ...  False   \n",
      "2            -74.003549      N      R    NaN    NaN    NaN  ...  False   \n",
      "3            -74.003549      N      R    NaN    NaN    NaN  ...  False   \n",
      "4            -74.003549      N      R    NaN    NaN    NaN  ...  False   \n",
      "...                 ...    ...    ...    ...    ...    ...  ...    ...   \n",
      "1863         -73.893064      2      5    NaN    NaN    NaN  ...   True   \n",
      "1864         -73.893064      2      5    NaN    NaN    NaN  ...   True   \n",
      "1865         -73.850620      2      5    NaN    NaN    NaN  ...  False   \n",
      "1866         -73.850620      2      5    NaN    NaN    NaN  ...  False   \n",
      "1867         -73.850620      2      5    NaN    NaN    NaN  ...  False   \n",
      "\n",
      "     ADA Notes  Free Crossover  North South Street  East West Street  Corner  \\\n",
      "0          NaN           False             4th Ave           25th St      SW   \n",
      "1          NaN           False             4th Ave           25th St      SE   \n",
      "2          NaN            True             4th Ave           36th St      NW   \n",
      "3          NaN            True             4th Ave           36th St      NE   \n",
      "4          NaN            True             4th Ave           36th St      NW   \n",
      "...        ...             ...                 ...               ...     ...   \n",
      "1863       NaN           False     Westchester Ave        Simpson St      SW   \n",
      "1864       NaN           False     Westchester Ave        Simpson St      SE   \n",
      "1865       NaN            True     White Plains Rd          241st St      SE   \n",
      "1866       NaN            True     White Plains Rd          241st St      NW   \n",
      "1867       NaN            True     White Plains Rd          241st St      NE   \n",
      "\n",
      "     Entrance Latitude Entrance Longitude         Station Location  \\\n",
      "0            40.660489         -73.998220  (40.660397, -73.998091)   \n",
      "1            40.660323         -73.997952  (40.660397, -73.998091)   \n",
      "2            40.654676         -74.004306  (40.655144, -74.003549)   \n",
      "3            40.654365         -74.004113  (40.655144, -74.003549)   \n",
      "4            40.654490         -74.004499  (40.655144, -74.003549)   \n",
      "...                ...                ...                      ...   \n",
      "1863         40.823884         -73.893197  (40.824073, -73.893064)   \n",
      "1864         40.824118         -73.892731  (40.824073, -73.893064)   \n",
      "1865         40.903283         -73.850321   (40.903125, -73.85062)   \n",
      "1866         40.903597         -73.850360   (40.903125, -73.85062)   \n",
      "1867         40.903509         -73.850124   (40.903125, -73.85062)   \n",
      "\n",
      "            Entrance Location  \n",
      "0      (40.660489, -73.99822)  \n",
      "1     (40.660323, -73.997952)  \n",
      "2     (40.654676, -74.004306)  \n",
      "3     (40.654365, -74.004113)  \n",
      "4      (40.65449, -74.004499)  \n",
      "...                       ...  \n",
      "1863  (40.823884, -73.893197)  \n",
      "1864  (40.824118, -73.892731)  \n",
      "1865  (40.903283, -73.850321)  \n",
      "1866   (40.903597, -73.85036)  \n",
      "1867  (40.903509, -73.850124)  \n",
      "\n",
      "[1868 rows x 32 columns]\n"
     ]
    }
   ],
   "source": [
    "# print out the Transit Data\n",
    "print(data)"
   ]
  },
  {
   "cell_type": "code",
   "execution_count": 135,
   "metadata": {},
   "outputs": [
    {
     "name": "stdout",
     "output_type": "stream",
     "text": [
      "        Dishwasher Available  Doorman Available  Dogs Allowed  \\\n",
      "4                          1                  0             1   \n",
      "6                          1                  1             0   \n",
      "9                          1                  1             0   \n",
      "10                         0                  0             0   \n",
      "15                         0                  1             0   \n",
      "...                      ...                ...           ...   \n",
      "124000                     1                  0             0   \n",
      "124002                     0                  1             1   \n",
      "124004                     1                  0             1   \n",
      "124008                     1                  0             0   \n",
      "124009                     1                  0             0   \n",
      "\n",
      "        Hardwood Floors Available  Cats Allowed  Elevator Available  \\\n",
      "4                               1             1                   0   \n",
      "6                               1             0                   1   \n",
      "9                               1             0                   1   \n",
      "10                              0             0                   0   \n",
      "15                              0             0                   1   \n",
      "...                           ...           ...                 ...   \n",
      "124000                          1             0                   1   \n",
      "124002                          0             1                   1   \n",
      "124004                          1             1                   1   \n",
      "124008                          0             0                   0   \n",
      "124009                          1             0                   1   \n",
      "\n",
      "        bathrooms  bedrooms                       building_id  \\\n",
      "4             1.0         1  8579a0b0d54db803821a35a4a615e97a   \n",
      "6             1.0         2  b8e75fc949a6cd8225b455648a951712   \n",
      "9             1.0         2  cd759a988b8f23924b5a2058d5ab2b49   \n",
      "10            1.5         3  53a5b119ba8f7b61d4e010512e0dfc85   \n",
      "15            1.0         0  bfb9405149bfff42a92980b594c28234   \n",
      "...           ...       ...                               ...   \n",
      "124000        1.0         3  92bbbf38baadfde0576fc496bd41749c   \n",
      "124002        1.0         2  5565db9b7cba3603834c4aa6f2950960   \n",
      "124004        1.0         1  67997a128056ee1ed7d046bbb856e3c7   \n",
      "124008        1.0         2  3c0574a740154806c18bdf1fddd3d966   \n",
      "124009        1.0         3  d89f514c3ed0abaae52cba7017ac0701   \n",
      "\n",
      "                    created  ...       display_address  \\\n",
      "4       2016-06-16 05:55:27  ...   145 Borinquen Place   \n",
      "6       2016-06-01 05:44:33  ...             East 44th   \n",
      "9       2016-06-14 15:19:59  ...      East 56th Street   \n",
      "10      2016-06-24 07:54:24  ...   Metropolitan Avenue   \n",
      "15      2016-06-28 03:50:23  ...      East 34th Street   \n",
      "...                     ...  ...                   ...   \n",
      "124000  2016-04-05 03:58:33  ...          W 171 Street   \n",
      "124002  2016-04-02 02:25:31  ...              Broadway   \n",
      "124004  2016-04-26 05:42:03  ...  210 Brighton 15th St   \n",
      "124008  2016-04-19 02:47:33  ...      West 21st Street   \n",
      "124009  2016-04-20 05:34:00  ...             E 54th St   \n",
      "\n",
      "                                                 features latitude  \\\n",
      "4       ['Dining Room', 'Pre-War', 'Laundry in Buildin...  40.7108   \n",
      "6       ['Doorman', 'Elevator', 'Laundry in Building',...  40.7513   \n",
      "9       ['Doorman', 'Elevator', 'Laundry in Building',...  40.7575   \n",
      "10                                                     []  40.7145   \n",
      "15      ['Doorman', 'Elevator', 'Fitness Center', 'Lau...  40.7439   \n",
      "...                                                   ...      ...   \n",
      "124000      ['Elevator', 'Dishwasher', 'Hardwood Floors']  40.8433   \n",
      "124002  ['Common Outdoor Space', 'Cats Allowed', 'Dogs...  40.8198   \n",
      "124004  ['Dining Room', 'Elevator', 'Pre-War', 'Laundr...  40.5765   \n",
      "124008  ['Pre-War', 'Laundry in Unit', 'Dishwasher', '...  40.7448   \n",
      "124009  ['Dining Room', 'Elevator', 'Laundry in Buildi...  40.7594   \n",
      "\n",
      "        listing_id  longitude                        manager_id  \\\n",
      "4          7170325   -73.9539  a10db4590843d78c784171a107bdacb4   \n",
      "6          7092344   -73.9722  955db33477af4f40004820b4aed804a0   \n",
      "9          7158677   -73.9625  c8b10a317b766204f08e613cef4ce7a0   \n",
      "10         7211212   -73.9425  5ba989232d0489da1b5f2c45f6688adc   \n",
      "15         7225292   -73.9743  2c3b41f588fbb5234d8a1e885a436cfa   \n",
      "...            ...        ...                               ...   \n",
      "124000     6824800   -73.9396  a61e21da3ba18c7a3d54cfdcc247e1f8   \n",
      "124002     6813268   -73.9578  8f90e5e10e8a2d7cf997f016d89230eb   \n",
      "124004     6927093   -73.9554  a10db4590843d78c784171a107bdacb4   \n",
      "124008     6892816   -74.0017  c3cd45f4381ac371507090e9ffabea80   \n",
      "124009     6901023   -73.9712  e90f2ded843cdb2efd65ef47d9fc8029   \n",
      "\n",
      "                                                   photos price  \\\n",
      "4       [https://photos.renthop.com/2/7170325_3bb5ac84...  2400   \n",
      "6       [https://photos.renthop.com/2/7092344_7663c19a...  3800   \n",
      "9       [https://photos.renthop.com/2/7158677_c897a134...  3495   \n",
      "10      [https://photos.renthop.com/2/7211212_1ed4542e...  3000   \n",
      "15      [https://photos.renthop.com/2/7225292_901f1984...  2795   \n",
      "...                                                   ...   ...   \n",
      "124000  [https://photos.renthop.com/2/6824800_0682be16...  2800   \n",
      "124002  [https://photos.renthop.com/2/6813268_1e6fcc32...  2395   \n",
      "124004  [https://photos.renthop.com/2/6927093_93a52104...  1850   \n",
      "124008  [https://photos.renthop.com/2/6892816_1a8d087a...  4195   \n",
      "124009  [https://photos.renthop.com/2/6901023_02052d90...  4280   \n",
      "\n",
      "                 street_address interest_level  \n",
      "4           145 Borinquen Place         medium  \n",
      "6                 230 East 44th            low  \n",
      "9          405 East 56th Street         medium  \n",
      "10      792 Metropolitan Avenue         medium  \n",
      "15         340 East 34th Street            low  \n",
      "...                         ...            ...  \n",
      "124000         620 W 171 Street            low  \n",
      "124002            3333 Broadway         medium  \n",
      "124004     210 Brighton 15th St         medium  \n",
      "124008     350 West 21st Street         medium  \n",
      "124009            123 E 54th St           high  \n",
      "\n",
      "[49352 rows x 21 columns]\n"
     ]
    }
   ],
   "source": [
    "# Print out the data\n",
    "print(my_df)"
   ]
  },
  {
   "cell_type": "code",
   "execution_count": 136,
   "metadata": {},
   "outputs": [],
   "source": [
    "# Seperate the data into training and testing sets\n",
    "from sklearn.model_selection import train_test_split\n",
    "# use number 0, 1, and 2 to determine 'low', 'medium' and 'high' of 'interest_level'\n",
    "my_df['interest'] = my_df['interest_level'].apply(lambda t: 0 if t == 'low' else 1 if t == 'medium' else 2)"
   ]
  },
  {
   "cell_type": "code",
   "execution_count": 137,
   "metadata": {},
   "outputs": [],
   "source": [
    "# Select 'bathrooms', bedrooms', 'lattice', 'longitude' and 'price' as features\n",
    "x = my_df[['bathrooms', 'bedrooms', 'latitude', 'longitude', 'price'] ]\n",
    "# Select 'interest_level' as interest\n",
    "y = my_df['interest']"
   ]
  },
  {
   "cell_type": "code",
   "execution_count": 138,
   "metadata": {},
   "outputs": [],
   "source": [
    "# Select 20 percent attributes for testing and the rest 80 percent attributes for training\n",
    "x_train, x_test, y_train, y_test = train_test_split(x, y, test_size=0.20)"
   ]
  },
  {
   "cell_type": "code",
   "execution_count": 139,
   "metadata": {},
   "outputs": [
    {
     "data": {
      "text/plain": [
       "DecisionTreeClassifier(ccp_alpha=0.0, class_weight=None, criterion='gini',\n",
       "                       max_depth=None, max_features=None, max_leaf_nodes=None,\n",
       "                       min_impurity_decrease=0.0, min_impurity_split=None,\n",
       "                       min_samples_leaf=1, min_samples_split=2,\n",
       "                       min_weight_fraction_leaf=0.0, presort='deprecated',\n",
       "                       random_state=None, splitter='best')"
      ]
     },
     "execution_count": 139,
     "metadata": {},
     "output_type": "execute_result"
    }
   ],
   "source": [
    "from sklearn.tree import DecisionTreeClassifier\n",
    "# Classification use DecisionTreeClassifier from the tree library of sklearn\n",
    "classifier = DecisionTreeClassifier()\n",
    "# Train the decision tree \n",
    "classifier.fit(x_train, y_train)"
   ]
  },
  {
   "cell_type": "code",
   "execution_count": 140,
   "metadata": {},
   "outputs": [],
   "source": [
    "# Make prediction of testing data\n",
    "prediction = classifier.predict(x_test)"
   ]
  },
  {
   "cell_type": "code",
   "execution_count": 111,
   "metadata": {},
   "outputs": [
    {
     "name": "stdout",
     "output_type": "stream",
     "text": [
      "              precision    recall  f1-score   support\n",
      "\n",
      "           0       0.78      0.83      0.81      6916\n",
      "           1       0.36      0.31      0.33      2209\n",
      "           2       0.33      0.27      0.30       746\n",
      "\n",
      "    accuracy                           0.67      9871\n",
      "   macro avg       0.49      0.47      0.48      9871\n",
      "weighted avg       0.66      0.67      0.66      9871\n",
      "\n"
     ]
    }
   ],
   "source": [
    "# Report the accuracy of decision tree\n",
    "from sklearn.metrics import classification_report, confusion_matrix\n",
    "print(classification_report(y_test, prediction))"
   ]
  },
  {
   "cell_type": "code",
   "execution_count": 112,
   "metadata": {},
   "outputs": [],
   "source": [
    "# Construct the decision tree using the Iris dataset\n",
    "from sklearn.datasets import load_iris\n",
    "from sklearn import tree\n",
    "x, y = load_iris(return_X_y=True)\n",
    "classifier = tree.DecisionTreeClassifier()"
   ]
  },
  {
   "cell_type": "code",
   "execution_count": 113,
   "metadata": {},
   "outputs": [
    {
     "data": {
      "text/plain": [
       "[Text(167.4, 199.32, 'X[2] <= 2.45\\ngini = 0.667\\nsamples = 150\\nvalue = [50, 50, 50]'),\n",
       " Text(141.64615384615385, 163.07999999999998, 'gini = 0.0\\nsamples = 50\\nvalue = [50, 0, 0]'),\n",
       " Text(193.15384615384616, 163.07999999999998, 'X[3] <= 1.75\\ngini = 0.5\\nsamples = 100\\nvalue = [0, 50, 50]'),\n",
       " Text(103.01538461538462, 126.83999999999999, 'X[2] <= 4.95\\ngini = 0.168\\nsamples = 54\\nvalue = [0, 49, 5]'),\n",
       " Text(51.50769230769231, 90.6, 'X[3] <= 1.65\\ngini = 0.041\\nsamples = 48\\nvalue = [0, 47, 1]'),\n",
       " Text(25.753846153846155, 54.359999999999985, 'gini = 0.0\\nsamples = 47\\nvalue = [0, 47, 0]'),\n",
       " Text(77.26153846153846, 54.359999999999985, 'gini = 0.0\\nsamples = 1\\nvalue = [0, 0, 1]'),\n",
       " Text(154.52307692307693, 90.6, 'X[3] <= 1.55\\ngini = 0.444\\nsamples = 6\\nvalue = [0, 2, 4]'),\n",
       " Text(128.76923076923077, 54.359999999999985, 'gini = 0.0\\nsamples = 3\\nvalue = [0, 0, 3]'),\n",
       " Text(180.27692307692308, 54.359999999999985, 'X[0] <= 6.95\\ngini = 0.444\\nsamples = 3\\nvalue = [0, 2, 1]'),\n",
       " Text(154.52307692307693, 18.119999999999976, 'gini = 0.0\\nsamples = 2\\nvalue = [0, 2, 0]'),\n",
       " Text(206.03076923076924, 18.119999999999976, 'gini = 0.0\\nsamples = 1\\nvalue = [0, 0, 1]'),\n",
       " Text(283.2923076923077, 126.83999999999999, 'X[2] <= 4.85\\ngini = 0.043\\nsamples = 46\\nvalue = [0, 1, 45]'),\n",
       " Text(257.53846153846155, 90.6, 'X[0] <= 5.95\\ngini = 0.444\\nsamples = 3\\nvalue = [0, 1, 2]'),\n",
       " Text(231.7846153846154, 54.359999999999985, 'gini = 0.0\\nsamples = 1\\nvalue = [0, 1, 0]'),\n",
       " Text(283.2923076923077, 54.359999999999985, 'gini = 0.0\\nsamples = 2\\nvalue = [0, 0, 2]'),\n",
       " Text(309.04615384615386, 90.6, 'gini = 0.0\\nsamples = 43\\nvalue = [0, 0, 43]')]"
      ]
     },
     "execution_count": 113,
     "metadata": {},
     "output_type": "execute_result"
    },
    {
     "data": {
      "image/png": "[encoded data removed]",
      "text/plain": [
       "<Figure size 432x288 with 1 Axes>"
      ]
     },
     "metadata": {
      "needs_background": "light"
     },
     "output_type": "display_data"
    }
   ],
   "source": [
    "# Construct the Decision Tree\n",
    "tree.plot_tree(classifier.fit(x,y)) "
   ]
  },
  {
   "cell_type": "code",
   "execution_count": 173,
   "metadata": {},
   "outputs": [],
   "source": [
    "# Make predicton of x_train and x_test\n",
    "prediction1 = classifier.predict(x_train)\n",
    "prediction2 = classifier.predict(x_test)"
   ]
  },
  {
   "cell_type": "code",
   "execution_count": 174,
   "metadata": {},
   "outputs": [],
   "source": [
    "# Make confusion matrix\n",
    "from sklearn.metrics import confusion_matrix\n",
    "confusionMatrix1 = confusion_matrix(y_train,prediction1)\n",
    "confusionMatrix2 = confusion_matrix(y_test,prediction2)"
   ]
  },
  {
   "cell_type": "code",
   "execution_count": 175,
   "metadata": {},
   "outputs": [],
   "source": [
    "total1 = sum(sum(confusionMatrix1))\n",
    "total2 = sum(sum(confusionMatrix2))"
   ]
  },
  {
   "cell_type": "code",
   "execution_count": 177,
   "metadata": {},
   "outputs": [],
   "source": [
    "#Calculate accuracy by confusion matrix\n",
    "accuracy1 = (confusionMatrix1[0,0]+confusionMatrix1[1,1])/total1\n",
    "accuracy2 = (confusionMatrix2[0,0]+confusionMatrix2[1,1])/total2"
   ]
  },
  {
   "cell_type": "code",
   "execution_count": 178,
   "metadata": {},
   "outputs": [
    {
     "name": "stdout",
     "output_type": "stream",
     "text": [
      "0.8618576023910235\n"
     ]
    }
   ],
   "source": [
    "# Print out the accuracy1\n",
    "print(accuracy1)"
   ]
  },
  {
   "cell_type": "code",
   "execution_count": 179,
   "metadata": {},
   "outputs": [
    {
     "name": "stdout",
     "output_type": "stream",
     "text": [
      "0.6475534393678452\n"
     ]
    }
   ],
   "source": [
    "# Print out the accuracy2\n",
    "print(accuracy2)"
   ]
  },
  {
   "cell_type": "code",
   "execution_count": 193,
   "metadata": {},
   "outputs": [
    {
     "data": {
      "text/plain": [
       "DecisionTreeClassifier(ccp_alpha=0.0, class_weight=None, criterion='gini',\n",
       "                       max_depth=5, max_features=None, max_leaf_nodes=10,\n",
       "                       min_impurity_decrease=0.0, min_impurity_split=None,\n",
       "                       min_samples_leaf=5, min_samples_split=2,\n",
       "                       min_weight_fraction_leaf=0.0, presort='deprecated',\n",
       "                       random_state=None, splitter='random')"
      ]
     },
     "execution_count": 193,
     "metadata": {},
     "output_type": "execute_result"
    }
   ],
   "source": [
    "# Use pruning to reconstrct the decision tree\n",
    "dtree = tree.DecisionTreeClassifier(criterion = \"gini\", splitter = 'random', max_leaf_nodes = 10, min_samples_leaf = 5, max_depth= 5)\n",
    "dtree.fit(x_train,y_train)"
   ]
  },
  {
   "cell_type": "code",
   "execution_count": 194,
   "metadata": {},
   "outputs": [],
   "source": [
    "prediction3 = dtree.predict(x_train)\n",
    "prediction4 = dtree.predict(x_test)"
   ]
  },
  {
   "cell_type": "code",
   "execution_count": 195,
   "metadata": {},
   "outputs": [],
   "source": [
    "# Make confusion matrix\n",
    "from sklearn.metrics import confusion_matrix\n",
    "confusionMatrix3 = confusion_matrix(y_train,prediction3)\n",
    "confusionMatrix4 = confusion_matrix(y_test,prediction4)"
   ]
  },
  {
   "cell_type": "code",
   "execution_count": 196,
   "metadata": {},
   "outputs": [],
   "source": [
    "total3 = sum(sum(confusionMatrix3))\n",
    "total4 = sum(sum(confusionMatrix4))"
   ]
  },
  {
   "cell_type": "code",
   "execution_count": 197,
   "metadata": {},
   "outputs": [],
   "source": [
    "#Calculate accuracy by confusion matrix\n",
    "accuracy3 = (confusionMatrix3[0,0]+confusionMatrix3[1,1])/total3\n",
    "accuracy4 = (confusionMatrix4[0,0]+confusionMatrix4[1,1])/total4"
   ]
  },
  {
   "cell_type": "code",
   "execution_count": 198,
   "metadata": {},
   "outputs": [
    {
     "name": "stdout",
     "output_type": "stream",
     "text": [
      "0.6965375750360933\n"
     ]
    }
   ],
   "source": [
    "# Print out the accuracy3\n",
    "print(accuracy3)"
   ]
  },
  {
   "cell_type": "code",
   "execution_count": 199,
   "metadata": {},
   "outputs": [
    {
     "name": "stdout",
     "output_type": "stream",
     "text": [
      "0.6872657278897781\n"
     ]
    }
   ],
   "source": [
    "# Print out the accuracy4\n",
    "print(accuracy4)"
   ]
  },
  {
   "cell_type": "code",
   "execution_count": 114,
   "metadata": {},
   "outputs": [],
   "source": [
    "# modification: Use AdaBoost \n",
    "from sklearn.datasets import load_iris\n",
    "from sklearn.ensemble import AdaBoostClassifier\n",
    "\n",
    "x, y = load_iris(return_X_y=True)\n",
    "classifier = AdaBoostClassifier(n_estimators=100)"
   ]
  },
  {
   "cell_type": "code",
   "execution_count": 85,
   "metadata": {},
   "outputs": [
    {
     "data": {
      "text/plain": [
       "BaggingClassifier(base_estimator=AdaBoostClassifier(algorithm='SAMME.R',\n",
       "                                                    base_estimator=None,\n",
       "                                                    learning_rate=1.0,\n",
       "                                                    n_estimators=100,\n",
       "                                                    random_state=None),\n",
       "                  bootstrap=True, bootstrap_features=False, max_features=1.0,\n",
       "                  max_samples=0.8, n_estimators=100, n_jobs=None,\n",
       "                  oob_score=False, random_state=1, verbose=0, warm_start=False)"
      ]
     },
     "execution_count": 85,
     "metadata": {},
     "output_type": "execute_result"
    }
   ],
   "source": [
    "#modification: use Bagging (Bootstrap Aggregation) \n",
    "from sklearn.ensemble import BaggingClassifier\n",
    "classifer = BaggingClassifier(classifier, n_estimators = 100, max_samples = 0.8, random_state=1)\n",
    "classifer.fit(x, y)"
   ]
  },
  {
   "cell_type": "code",
   "execution_count": 22,
   "metadata": {},
   "outputs": [
    {
     "name": "stderr",
     "output_type": "stream",
     "text": [
      "/opt/anaconda3/lib/python3.7/site-packages/sklearn/model_selection/_split.py:296: FutureWarning: Setting a random_state has no effect since shuffle is False. This will raise an error in 0.24. You should leave random_state to its default (None), or set shuffle=True.\n",
      "  FutureWarning\n"
     ]
    }
   ],
   "source": [
    "# Cross-validation using k-fold (10-fold)\n",
    "from sklearn.model_selection import KFold\n",
    "from sklearn.preprocessing import MinMaxScaler\n",
    "from sklearn.svm import SVR\n",
    "import numpy as np \n",
    "scores = []\n",
    "# Using the RBF kernel of the SVR model\n",
    "best_svr = SVR(kernel='rbf')\n",
    "cv = KFold(n_splits=10, random_state=42, shuffle=False)\n",
    "for train_index, test_index in cv.split(x):\n",
    "    x_train, x_test, y_train, y_test = x[train_index], x[test_index], y[train_index], y[test_index]\n",
    "    best_svr.fit(x_train, y_train)\n",
    "    scores.append(best_svr.score(x_test, y_test))"
   ]
  },
  {
   "cell_type": "code",
   "execution_count": 23,
   "metadata": {},
   "outputs": [
    {
     "data": {
      "text/plain": [
       "array([0.        , 0.        , 0.        , 0.78806464, 0.        ,\n",
       "       0.        , 0.85989024, 0.        , 0.        , 0.        ])"
      ]
     },
     "execution_count": 23,
     "metadata": {},
     "output_type": "execute_result"
    }
   ],
   "source": [
    "#list of r2 scores\n",
    "from sklearn.model_selection import cross_val_score\n",
    "from sklearn.model_selection import train_test_split\n",
    "cross_val_score(best_svr, x, y, cv=10)"
   ]
  },
  {
   "cell_type": "code",
   "execution_count": 89,
   "metadata": {},
   "outputs": [],
   "source": [
    "# modification: Use Random Forest\n",
    "from sklearn.ensemble import RandomForestClassifier\n",
    "classifier = RandomForestClassifier(n_estimators=10)\n",
    "classifier= classifier.fit(x, y)"
   ]
  },
  {
   "cell_type": "code",
   "execution_count": 115,
   "metadata": {},
   "outputs": [
    {
     "data": {
      "text/plain": [
       "AdaBoostClassifier(algorithm='SAMME.R', base_estimator=None, learning_rate=1.0,\n",
       "                   n_estimators=100, random_state=None)"
      ]
     },
     "execution_count": 115,
     "metadata": {},
     "output_type": "execute_result"
    }
   ],
   "source": [
    "from sklearn.tree import DecisionTreeClassifier\n",
    "# Train the decision tree \n",
    "classifier.fit(x_train, y_train)"
   ]
  },
  {
   "cell_type": "code",
   "execution_count": 116,
   "metadata": {},
   "outputs": [],
   "source": [
    "# Make prediction of testing data\n",
    "prediction = classifier.predict(x_test)"
   ]
  },
  {
   "cell_type": "code",
   "execution_count": 117,
   "metadata": {},
   "outputs": [
    {
     "name": "stdout",
     "output_type": "stream",
     "text": [
      "              precision    recall  f1-score   support\n",
      "\n",
      "           0       0.74      0.97      0.84      6916\n",
      "           1       0.43      0.10      0.16      2209\n",
      "           2       0.56      0.17      0.26       746\n",
      "\n",
      "    accuracy                           0.72      9871\n",
      "   macro avg       0.57      0.41      0.42      9871\n",
      "weighted avg       0.65      0.72      0.64      9871\n",
      "\n"
     ]
    }
   ],
   "source": [
    "# Print out the accuracy and f1-score after modification\n",
    "print(classification_report(y_test, prediction))"
   ]
  },
  {
   "cell_type": "code",
   "execution_count": 118,
   "metadata": {},
   "outputs": [],
   "source": [
    "# Construct the decision tree using the Iris dataset\n",
    "from sklearn.datasets import load_iris\n",
    "from sklearn import tree\n",
    "x, y = load_iris(return_X_y=True)\n",
    "classifier = tree.DecisionTreeClassifier()"
   ]
  },
  {
   "cell_type": "code",
   "execution_count": 120,
   "metadata": {
    "scrolled": true
   },
   "outputs": [
    {
     "data": {
      "text/plain": [
       "[Text(167.4, 199.32, 'X[2] <= 2.45\\ngini = 0.667\\nsamples = 150\\nvalue = [50, 50, 50]'),\n",
       " Text(141.64615384615385, 163.07999999999998, 'gini = 0.0\\nsamples = 50\\nvalue = [50, 0, 0]'),\n",
       " Text(193.15384615384616, 163.07999999999998, 'X[3] <= 1.75\\ngini = 0.5\\nsamples = 100\\nvalue = [0, 50, 50]'),\n",
       " Text(103.01538461538462, 126.83999999999999, 'X[2] <= 4.95\\ngini = 0.168\\nsamples = 54\\nvalue = [0, 49, 5]'),\n",
       " Text(51.50769230769231, 90.6, 'X[3] <= 1.65\\ngini = 0.041\\nsamples = 48\\nvalue = [0, 47, 1]'),\n",
       " Text(25.753846153846155, 54.359999999999985, 'gini = 0.0\\nsamples = 47\\nvalue = [0, 47, 0]'),\n",
       " Text(77.26153846153846, 54.359999999999985, 'gini = 0.0\\nsamples = 1\\nvalue = [0, 0, 1]'),\n",
       " Text(154.52307692307693, 90.6, 'X[3] <= 1.55\\ngini = 0.444\\nsamples = 6\\nvalue = [0, 2, 4]'),\n",
       " Text(128.76923076923077, 54.359999999999985, 'gini = 0.0\\nsamples = 3\\nvalue = [0, 0, 3]'),\n",
       " Text(180.27692307692308, 54.359999999999985, 'X[0] <= 6.95\\ngini = 0.444\\nsamples = 3\\nvalue = [0, 2, 1]'),\n",
       " Text(154.52307692307693, 18.119999999999976, 'gini = 0.0\\nsamples = 2\\nvalue = [0, 2, 0]'),\n",
       " Text(206.03076923076924, 18.119999999999976, 'gini = 0.0\\nsamples = 1\\nvalue = [0, 0, 1]'),\n",
       " Text(283.2923076923077, 126.83999999999999, 'X[2] <= 4.85\\ngini = 0.043\\nsamples = 46\\nvalue = [0, 1, 45]'),\n",
       " Text(257.53846153846155, 90.6, 'X[0] <= 5.95\\ngini = 0.444\\nsamples = 3\\nvalue = [0, 1, 2]'),\n",
       " Text(231.7846153846154, 54.359999999999985, 'gini = 0.0\\nsamples = 1\\nvalue = [0, 1, 0]'),\n",
       " Text(283.2923076923077, 54.359999999999985, 'gini = 0.0\\nsamples = 2\\nvalue = [0, 0, 2]'),\n",
       " Text(309.04615384615386, 90.6, 'gini = 0.0\\nsamples = 43\\nvalue = [0, 0, 43]')]"
      ]
     },
     "execution_count": 120,
     "metadata": {},
     "output_type": "execute_result"
    },
    {
     "data": {
      "image/png": "[encoded data removed]",
      "text/plain": [
       "<Figure size 432x288 with 1 Axes>"
      ]
     },
     "metadata": {
      "needs_background": "light"
     },
     "output_type": "display_data"
    }
   ],
   "source": [
    "# Construct the decision tree after modification\n",
    "tree.plot_tree(classifier.fit(x,y)) "
   ]
  }
 ],
 "metadata": {
  "kernelspec": {
   "display_name": "Python 3",
   "language": "python",
   "name": "python3"
  },
  "language_info": {
   "codemirror_mode": {
    "name": "ipython",
    "version": 3
   },
   "file_extension": ".py",
   "mimetype": "text/x-python",
   "name": "python",
   "nbconvert_exporter": "python",
   "pygments_lexer": "ipython3",
   "version": "3.7.3"
  }
 },
 "nbformat": 4,
 "nbformat_minor": 2
}

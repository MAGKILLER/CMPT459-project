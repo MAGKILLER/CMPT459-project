{
 "cells": [
  {
   "cell_type": "code",
   "execution_count": 1,
   "metadata": {},
   "outputs": [],
   "source": [
    "import json  \n",
    "import zipfile\n",
    "import pandas as pd\n",
    "from datetime import datetime\n",
    "import numpy as np\n",
    "import matplotlib.pyplot as plt\n",
    "%matplotlib inline"
   ]
  },
  {
   "cell_type": "code",
   "execution_count": 2,
   "metadata": {},
   "outputs": [
    {
     "name": "stdout",
     "output_type": "stream",
     "text": [
      "train.json\n"
     ]
    }
   ],
   "source": [
    "train = None\n",
    "data_train = None\n",
    "with zipfile.ZipFile(r'/Users/scarletchen/CMPT459/train.json.zip' ,'r') as z:\n",
    "    for filename in z.namelist():\n",
    "        print(filename)\n",
    "        with z.open(filename) as f:\n",
    "            data_train = f.read()\n",
    "            train = json.loads(data_train.decode(\"utf-8\"))\n"
   ]
  },
  {
   "cell_type": "code",
   "execution_count": 3,
   "metadata": {},
   "outputs": [
    {
     "name": "stdout",
     "output_type": "stream",
     "text": [
      "test.json\n"
     ]
    }
   ],
   "source": [
    "test = None\n",
    "data_test = None\n",
    "with zipfile.ZipFile(r'/Users/scarletchen/CMPT459/test.json.zip' ,'r') as z:\n",
    "    for filename in z.namelist():\n",
    "        print(filename)\n",
    "        with z.open(filename) as f:\n",
    "            data_test = f.read()\n",
    "            test = json.loads(data_test.decode(\"utf-8\"))\n",
    "\n"
   ]
  },
  {
   "cell_type": "code",
   "execution_count": 4,
   "metadata": {},
   "outputs": [
    {
     "name": "stdout",
     "output_type": "stream",
     "text": [
      "<class 'pandas.core.frame.DataFrame'>\n",
      "Index: 74659 entries, 0 to 124010\n",
      "Data columns (total 14 columns):\n",
      "bathrooms          74659 non-null float64\n",
      "bedrooms           74659 non-null int64\n",
      "building_id        74659 non-null object\n",
      "created            74659 non-null object\n",
      "description        74659 non-null object\n",
      "display_address    74659 non-null object\n",
      "features           74659 non-null object\n",
      "latitude           74659 non-null float64\n",
      "listing_id         74659 non-null int64\n",
      "longitude          74659 non-null float64\n",
      "manager_id         74659 non-null object\n",
      "photos             74659 non-null object\n",
      "price              74659 non-null int64\n",
      "street_address     74659 non-null object\n",
      "dtypes: float64(3), int64(3), object(8)\n",
      "memory usage: 8.5+ MB\n"
     ]
    }
   ],
   "source": [
    "my_df1 = pd.DataFrame(test)\n",
    "my_df1.info()"
   ]
  },
  {
   "cell_type": "code",
   "execution_count": 5,
   "metadata": {},
   "outputs": [],
   "source": [
    "my_df2 = pd.DataFrame(train)"
   ]
  },
  {
   "cell_type": "code",
   "execution_count": 6,
   "metadata": {},
   "outputs": [],
   "source": [
    "# my_df2.info()"
   ]
  },
  {
   "cell_type": "code",
   "execution_count": 7,
   "metadata": {},
   "outputs": [],
   "source": [
    "price = zip(my_df2.price)"
   ]
  },
  {
   "cell_type": "code",
   "execution_count": 8,
   "metadata": {},
   "outputs": [
    {
     "data": {
      "text/plain": [
       "<Figure size 1224x216 with 0 Axes>"
      ]
     },
     "metadata": {},
     "output_type": "display_data"
    }
   ],
   "source": [
    "fig = plt.figure(figsize = (17,3))"
   ]
  },
  {
   "cell_type": "code",
   "execution_count": 9,
   "metadata": {},
   "outputs": [
    {
     "data": {
      "text/plain": [
       "<matplotlib.axes._subplots.AxesSubplot at 0x122810370>"
      ]
     },
     "execution_count": 9,
     "metadata": {},
     "output_type": "execute_result"
    },
    {
     "data": {
      "image/png": "[encoded data removed]",
      "text/plain": [
       "<Figure size 432x288 with 3 Axes>"
      ]
     },
     "metadata": {
      "needs_background": "light"
     },
     "output_type": "display_data"
    }
   ],
   "source": [
    "plt.subplot(131)\n",
    "my_df2.price.plot.box(vert = False,xlim=(0,2000))\n",
    "plt.subplot(132)\n",
    "my_df2.price.plot.box(vert = False,xlim=(2000,10000))\n",
    "plt.subplot(133)\n",
    "my_df2.price.plot.box(vert = False,xlim=(10000,10000000))\n"
   ]
  },
  {
   "cell_type": "code",
   "execution_count": 10,
   "metadata": {},
   "outputs": [
    {
     "name": "stdout",
     "output_type": "stream",
     "text": [
      "        bathrooms  bedrooms                       building_id  \\\n",
      "4             1.0         1  8579a0b0d54db803821a35a4a615e97a   \n",
      "6             1.0         2  b8e75fc949a6cd8225b455648a951712   \n",
      "9             1.0         2  cd759a988b8f23924b5a2058d5ab2b49   \n",
      "10            1.5         3  53a5b119ba8f7b61d4e010512e0dfc85   \n",
      "15            1.0         0  bfb9405149bfff42a92980b594c28234   \n",
      "...           ...       ...                               ...   \n",
      "124000        1.0         3  92bbbf38baadfde0576fc496bd41749c   \n",
      "124002        1.0         2  5565db9b7cba3603834c4aa6f2950960   \n",
      "124004        1.0         1  67997a128056ee1ed7d046bbb856e3c7   \n",
      "124008        1.0         2  3c0574a740154806c18bdf1fddd3d966   \n",
      "124009        1.0         3  d89f514c3ed0abaae52cba7017ac0701   \n",
      "\n",
      "                    created  \\\n",
      "4       2016-06-16 05:55:27   \n",
      "6       2016-06-01 05:44:33   \n",
      "9       2016-06-14 15:19:59   \n",
      "10      2016-06-24 07:54:24   \n",
      "15      2016-06-28 03:50:23   \n",
      "...                     ...   \n",
      "124000  2016-04-05 03:58:33   \n",
      "124002  2016-04-02 02:25:31   \n",
      "124004  2016-04-26 05:42:03   \n",
      "124008  2016-04-19 02:47:33   \n",
      "124009  2016-04-20 05:34:00   \n",
      "\n",
      "                                              description  \\\n",
      "4       Spacious 1 Bedroom 1 Bathroom in Williamsburg!...   \n",
      "6       BRAND NEW GUT RENOVATED TRUE 2 BEDROOMFind you...   \n",
      "9       **FLEX 2 BEDROOM WITH FULL PRESSURIZED WALL**L...   \n",
      "10      A Brand New 3 Bedroom 1.5 bath ApartmentEnjoy ...   \n",
      "15      Over-sized Studio w abundant closets. Availabl...   \n",
      "...                                                   ...   \n",
      "124000  There is 700 square feet of recently renovated...   \n",
      "124002  2 bedroom apartment with updated kitchen, rece...   \n",
      "124004  No Brokers Fee * Never Lived 1 Bedroom 1 Bathr...   \n",
      "124008  Wonderful Bright Chelsea 2 Bedroom apartment o...   \n",
      "124009  ***PRIME MIDTOWN EAST OFF PARK AVE***TRUE 3 BE...   \n",
      "\n",
      "             display_address  \\\n",
      "4        145 Borinquen Place   \n",
      "6                  East 44th   \n",
      "9           East 56th Street   \n",
      "10       Metropolitan Avenue   \n",
      "15          East 34th Street   \n",
      "...                      ...   \n",
      "124000          W 171 Street   \n",
      "124002              Broadway   \n",
      "124004  210 Brighton 15th St   \n",
      "124008      West 21st Street   \n",
      "124009             E 54th St   \n",
      "\n",
      "                                                 features  latitude  \\\n",
      "4       [Dining Room, Pre-War, Laundry in Building, Di...   40.7108   \n",
      "6       [Doorman, Elevator, Laundry in Building, Dishw...   40.7513   \n",
      "9       [Doorman, Elevator, Laundry in Building, Laund...   40.7575   \n",
      "10                                                     []   40.7145   \n",
      "15      [Doorman, Elevator, Fitness Center, Laundry in...   40.7439   \n",
      "...                                                   ...       ...   \n",
      "124000            [Elevator, Dishwasher, Hardwood Floors]   40.8433   \n",
      "124002  [Common Outdoor Space, Cats Allowed, Dogs Allo...   40.8198   \n",
      "124004  [Dining Room, Elevator, Pre-War, Laundry in Bu...   40.5765   \n",
      "124008  [Pre-War, Laundry in Unit, Dishwasher, No Fee,...   40.7448   \n",
      "124009  [Dining Room, Elevator, Laundry in Building, D...   40.7594   \n",
      "\n",
      "        listing_id  longitude                        manager_id  \\\n",
      "4          7170325   -73.9539  a10db4590843d78c784171a107bdacb4   \n",
      "6          7092344   -73.9722  955db33477af4f40004820b4aed804a0   \n",
      "9          7158677   -73.9625  c8b10a317b766204f08e613cef4ce7a0   \n",
      "10         7211212   -73.9425  5ba989232d0489da1b5f2c45f6688adc   \n",
      "15         7225292   -73.9743  2c3b41f588fbb5234d8a1e885a436cfa   \n",
      "...            ...        ...                               ...   \n",
      "124000     6824800   -73.9396  a61e21da3ba18c7a3d54cfdcc247e1f8   \n",
      "124002     6813268   -73.9578  8f90e5e10e8a2d7cf997f016d89230eb   \n",
      "124004     6927093   -73.9554  a10db4590843d78c784171a107bdacb4   \n",
      "124008     6892816   -74.0017  c3cd45f4381ac371507090e9ffabea80   \n",
      "124009     6901023   -73.9712  e90f2ded843cdb2efd65ef47d9fc8029   \n",
      "\n",
      "                                                   photos  price  \\\n",
      "4       [https://photos.renthop.com/2/7170325_3bb5ac84...   2400   \n",
      "6       [https://photos.renthop.com/2/7092344_7663c19a...   3800   \n",
      "9       [https://photos.renthop.com/2/7158677_c897a134...   3495   \n",
      "10      [https://photos.renthop.com/2/7211212_1ed4542e...   3000   \n",
      "15      [https://photos.renthop.com/2/7225292_901f1984...   2795   \n",
      "...                                                   ...    ...   \n",
      "124000  [https://photos.renthop.com/2/6824800_0682be16...   2800   \n",
      "124002  [https://photos.renthop.com/2/6813268_1e6fcc32...   2395   \n",
      "124004  [https://photos.renthop.com/2/6927093_93a52104...   1850   \n",
      "124008  [https://photos.renthop.com/2/6892816_1a8d087a...   4195   \n",
      "124009  [https://photos.renthop.com/2/6901023_02052d90...   4280   \n",
      "\n",
      "                 street_address interest_level  \n",
      "4           145 Borinquen Place         medium  \n",
      "6                 230 East 44th            low  \n",
      "9          405 East 56th Street         medium  \n",
      "10      792 Metropolitan Avenue         medium  \n",
      "15         340 East 34th Street            low  \n",
      "...                         ...            ...  \n",
      "124000         620 W 171 Street            low  \n",
      "124002            3333 Broadway         medium  \n",
      "124004     210 Brighton 15th St         medium  \n",
      "124008     350 West 21st Street         medium  \n",
      "124009            123 E 54th St           high  \n",
      "\n",
      "[49352 rows x 15 columns]\n"
     ]
    },
    {
     "data": {
      "image/png": "[encoded data removed]",
      "text/plain": [
       "<Figure size 1224x216 with 3 Axes>"
      ]
     },
     "metadata": {
      "needs_background": "light"
     },
     "output_type": "display_data"
    }
   ],
   "source": [
    "fig = plt.figure(figsize = (17,3))\n",
    "\n",
    "plt.subplot(131)\n",
    "my_df2.bathrooms.plot.box(vert = False,xlim=(1,4))\n",
    "plt.subplot(132)\n",
    "my_df2.bathrooms.plot.box(vert = False,xlim=(5,7))\n",
    "plt.subplot(133)\n",
    "my_df2.bathrooms.plot.box(vert = False,xlim=(8,11))\n",
    "\n",
    "print(my_df2)\n"
   ]
  },
  {
   "cell_type": "code",
   "execution_count": 11,
   "metadata": {},
   "outputs": [],
   "source": [
    "my_df2.drop(my_df2[my_df2.bathrooms == 10].index, inplace = True)\n"
   ]
  },
  {
   "cell_type": "code",
   "execution_count": 12,
   "metadata": {},
   "outputs": [],
   "source": [
    "# print(my_df2)\n"
   ]
  },
  {
   "cell_type": "code",
   "execution_count": 13,
   "metadata": {},
   "outputs": [
    {
     "data": {
      "text/plain": [
       "<Figure size 1224x216 with 0 Axes>"
      ]
     },
     "metadata": {},
     "output_type": "display_data"
    }
   ],
   "source": [
    "fig = plt.figure(figsize = (17,3))"
   ]
  },
  {
   "cell_type": "code",
   "execution_count": 14,
   "metadata": {},
   "outputs": [
    {
     "data": {
      "text/plain": [
       "<matplotlib.axes._subplots.AxesSubplot at 0x1236141f0>"
      ]
     },
     "execution_count": 14,
     "metadata": {},
     "output_type": "execute_result"
    },
    {
     "data": {
      "image/png": "[encoded data removed]",
      "text/plain": [
       "<Figure size 432x288 with 3 Axes>"
      ]
     },
     "metadata": {
      "needs_background": "light"
     },
     "output_type": "display_data"
    }
   ],
   "source": [
    "plt.subplot(131)\n",
    "my_df2.bathrooms.plot.box(vert = False,xlim=(1,4))\n",
    "plt.subplot(132)\n",
    "my_df2.bathrooms.plot.box(vert = False,xlim=(5,7))\n",
    "plt.subplot(133)\n",
    "my_df2.bathrooms.plot.box(vert = False,xlim=(8,11))\n"
   ]
  },
  {
   "cell_type": "code",
   "execution_count": 15,
   "metadata": {},
   "outputs": [],
   "source": [
    "my_df2.drop(my_df2[my_df2.price<=100].index, inplace = True)\n",
    "\n",
    "my_df2.drop(my_df2[my_df2.price>=6500].index, inplace = True)\n"
   ]
  },
  {
   "cell_type": "code",
   "execution_count": 16,
   "metadata": {},
   "outputs": [],
   "source": [
    "bins = [0,100,500,1000,1500,2000,2500,3000,3500,4000,4500,5000,5500,6000,6500,7000,7500,8000,8500,9000,9500,10000,100000000000]\n",
    "my_df2['PriceInterval'] = pd.cut(my_df2['price'],bins)\n",
    "df2_count = pd.value_counts(my_df2.PriceInterval,sort = False)\n",
    "# print(df2_count)\n"
   ]
  },
  {
   "cell_type": "code",
   "execution_count": 17,
   "metadata": {},
   "outputs": [],
   "source": [
    "# print(my_df2)"
   ]
  },
  {
   "cell_type": "code",
   "execution_count": 18,
   "metadata": {},
   "outputs": [],
   "source": [
    "my_df2.drop(my_df2[my_df2.latitude <= 40.552625].index, inplace = True)\n",
    "my_df2.drop(my_df2[my_df2.latitude >= 40.976193].index, inplace = True)\n"
   ]
  },
  {
   "cell_type": "code",
   "execution_count": 19,
   "metadata": {},
   "outputs": [],
   "source": [
    "# print(my_df2)"
   ]
  },
  {
   "cell_type": "code",
   "execution_count": 20,
   "metadata": {},
   "outputs": [],
   "source": [
    "# my_df2.drop(my_df2[my_df2.longitude <= -74.551806].index, inplace = True)\n",
    "# my_df2.drop(my_df2[my_df2.longitude >= -73,679816].index, inplace = True)"
   ]
  },
  {
   "cell_type": "code",
   "execution_count": 21,
   "metadata": {
    "scrolled": false
   },
   "outputs": [
    {
     "name": "stdout",
     "output_type": "stream",
     "text": [
      "<class 'pandas.core.frame.DataFrame'>\n",
      "Index: 46344 entries, 4 to 124009\n",
      "Data columns (total 16 columns):\n",
      "bathrooms          46344 non-null float64\n",
      "bedrooms           46344 non-null int64\n",
      "building_id        46344 non-null object\n",
      "created            46344 non-null object\n",
      "description        46344 non-null object\n",
      "display_address    46344 non-null object\n",
      "features           46344 non-null object\n",
      "latitude           46344 non-null float64\n",
      "listing_id         46344 non-null int64\n",
      "longitude          46344 non-null float64\n",
      "manager_id         46344 non-null object\n",
      "photos             46344 non-null object\n",
      "price              46344 non-null int64\n",
      "street_address     46344 non-null object\n",
      "interest_level     46344 non-null object\n",
      "PriceInterval      46344 non-null category\n",
      "dtypes: category(1), float64(3), int64(3), object(9)\n",
      "memory usage: 5.7+ MB\n"
     ]
    }
   ],
   "source": [
    "my_df2.info()"
   ]
  },
  {
   "cell_type": "code",
   "execution_count": 22,
   "metadata": {},
   "outputs": [
    {
     "name": "stdout",
     "output_type": "stream",
     "text": [
      "4         [Dining Room, Pre-War, Laundry in Building, Di...\n",
      "6         [Doorman, Elevator, Laundry in Building, Dishw...\n",
      "9         [Doorman, Elevator, Laundry in Building, Laund...\n",
      "10                                                       []\n",
      "15        [Doorman, Elevator, Fitness Center, Laundry in...\n",
      "                                ...                        \n",
      "124000              [Elevator, Dishwasher, Hardwood Floors]\n",
      "124002    [Common Outdoor Space, Cats Allowed, Dogs Allo...\n",
      "124004    [Dining Room, Elevator, Pre-War, Laundry in Bu...\n",
      "124008    [Pre-War, Laundry in Unit, Dishwasher, No Fee,...\n",
      "124009    [Dining Room, Elevator, Laundry in Building, D...\n",
      "Name: features, Length: 46344, dtype: object\n"
     ]
    }
   ],
   "source": [
    "print(my_df2.features)"
   ]
  },
  {
   "cell_type": "code",
   "execution_count": 23,
   "metadata": {},
   "outputs": [],
   "source": [
    "from sklearn.model_selection import train_test_split\n",
    "from sklearn.linear_model import LogisticRegression\n",
    "                                                    "
   ]
  },
  {
   "cell_type": "code",
   "execution_count": 24,
   "metadata": {
    "scrolled": true
   },
   "outputs": [
    {
     "data": {
      "text/html": [
       "<div>\n",
       "<style scoped>\n",
       "    .dataframe tbody tr th:only-of-type {\n",
       "        vertical-align: middle;\n",
       "    }\n",
       "\n",
       "    .dataframe tbody tr th {\n",
       "        vertical-align: top;\n",
       "    }\n",
       "\n",
       "    .dataframe thead th {\n",
       "        text-align: right;\n",
       "    }\n",
       "</style>\n",
       "<table border=\"1\" class=\"dataframe\">\n",
       "  <thead>\n",
       "    <tr style=\"text-align: right;\">\n",
       "      <th></th>\n",
       "      <th>bathrooms</th>\n",
       "      <th>bedrooms</th>\n",
       "      <th>building_id</th>\n",
       "      <th>created</th>\n",
       "      <th>description</th>\n",
       "      <th>display_address</th>\n",
       "      <th>features</th>\n",
       "      <th>latitude</th>\n",
       "      <th>listing_id</th>\n",
       "      <th>longitude</th>\n",
       "      <th>manager_id</th>\n",
       "      <th>photos</th>\n",
       "      <th>price</th>\n",
       "      <th>street_address</th>\n",
       "    </tr>\n",
       "  </thead>\n",
       "  <tbody>\n",
       "    <tr>\n",
       "      <th>0</th>\n",
       "      <td>1.0</td>\n",
       "      <td>1</td>\n",
       "      <td>79780be1514f645d7e6be99a3de696c5</td>\n",
       "      <td>2016-06-11 05:29:41</td>\n",
       "      <td>Large with awesome terrace--accessible via bed...</td>\n",
       "      <td>Suffolk Street</td>\n",
       "      <td>[Elevator, Laundry in Building, Laundry in Uni...</td>\n",
       "      <td>40.7185</td>\n",
       "      <td>7142618</td>\n",
       "      <td>-73.9865</td>\n",
       "      <td>b1b1852c416d78d7765d746cb1b8921f</td>\n",
       "      <td>[https://photos.renthop.com/2/7142618_1c45a2c8...</td>\n",
       "      <td>2950</td>\n",
       "      <td>99 Suffolk Street</td>\n",
       "    </tr>\n",
       "    <tr>\n",
       "      <th>1</th>\n",
       "      <td>1.0</td>\n",
       "      <td>2</td>\n",
       "      <td>0</td>\n",
       "      <td>2016-06-24 06:36:34</td>\n",
       "      <td>Prime Soho - between Bleecker and Houston - Ne...</td>\n",
       "      <td>Thompson Street</td>\n",
       "      <td>[Pre-War, Dogs Allowed, Cats Allowed]</td>\n",
       "      <td>40.7278</td>\n",
       "      <td>7210040</td>\n",
       "      <td>-74.0000</td>\n",
       "      <td>d0b5648017832b2427eeb9956d966a14</td>\n",
       "      <td>[https://photos.renthop.com/2/7210040_d824cc71...</td>\n",
       "      <td>2850</td>\n",
       "      <td>176 Thompson Street</td>\n",
       "    </tr>\n",
       "    <tr>\n",
       "      <th>2</th>\n",
       "      <td>1.0</td>\n",
       "      <td>0</td>\n",
       "      <td>0</td>\n",
       "      <td>2016-06-17 01:23:39</td>\n",
       "      <td>Spacious studio in Prime Location. Cleanbuildi...</td>\n",
       "      <td>Sullivan Street</td>\n",
       "      <td>[Pre-War, Dogs Allowed, Cats Allowed]</td>\n",
       "      <td>40.7260</td>\n",
       "      <td>7174566</td>\n",
       "      <td>-74.0026</td>\n",
       "      <td>e6472c7237327dd3903b3d6f6a94515a</td>\n",
       "      <td>[https://photos.renthop.com/2/7174566_ba3a35c5...</td>\n",
       "      <td>2295</td>\n",
       "      <td>115 Sullivan Street</td>\n",
       "    </tr>\n",
       "    <tr>\n",
       "      <th>3</th>\n",
       "      <td>1.0</td>\n",
       "      <td>2</td>\n",
       "      <td>f9c826104b91d868e69bd25746448c0c</td>\n",
       "      <td>2016-06-21 05:06:02</td>\n",
       "      <td>For immediate access call Bryan.&lt;br /&gt;&lt;br /&gt;Bo...</td>\n",
       "      <td>Jones Street</td>\n",
       "      <td>[Hardwood Floors, Dogs Allowed, Cats Allowed]</td>\n",
       "      <td>40.7321</td>\n",
       "      <td>7191391</td>\n",
       "      <td>-74.0028</td>\n",
       "      <td>41735645e0f8f13993c42894023f8e58</td>\n",
       "      <td>[https://photos.renthop.com/2/7191391_8c2f2d49...</td>\n",
       "      <td>2900</td>\n",
       "      <td>23 Jones Street</td>\n",
       "    </tr>\n",
       "    <tr>\n",
       "      <th>5</th>\n",
       "      <td>1.0</td>\n",
       "      <td>1</td>\n",
       "      <td>81062936e12ee5fa6cd2b965698e17d5</td>\n",
       "      <td>2016-06-16 07:24:27</td>\n",
       "      <td>Beautiful TRUE 1 bedroom in a luxury building ...</td>\n",
       "      <td>Exchange Place</td>\n",
       "      <td>[Roof Deck, Doorman, Elevator, Fitness Center,...</td>\n",
       "      <td>40.7054</td>\n",
       "      <td>7171695</td>\n",
       "      <td>-74.0095</td>\n",
       "      <td>a742cf7dd3b2627d83417bc3a1b3ec96</td>\n",
       "      <td>[https://photos.renthop.com/2/7171695_089ffee2...</td>\n",
       "      <td>3254</td>\n",
       "      <td>20 Exchange Place</td>\n",
       "    </tr>\n",
       "  </tbody>\n",
       "</table>\n",
       "</div>"
      ],
      "text/plain": [
       "   bathrooms  bedrooms                       building_id              created  \\\n",
       "0        1.0         1  79780be1514f645d7e6be99a3de696c5  2016-06-11 05:29:41   \n",
       "1        1.0         2                                 0  2016-06-24 06:36:34   \n",
       "2        1.0         0                                 0  2016-06-17 01:23:39   \n",
       "3        1.0         2  f9c826104b91d868e69bd25746448c0c  2016-06-21 05:06:02   \n",
       "5        1.0         1  81062936e12ee5fa6cd2b965698e17d5  2016-06-16 07:24:27   \n",
       "\n",
       "                                         description  display_address  \\\n",
       "0  Large with awesome terrace--accessible via bed...   Suffolk Street   \n",
       "1  Prime Soho - between Bleecker and Houston - Ne...  Thompson Street   \n",
       "2  Spacious studio in Prime Location. Cleanbuildi...  Sullivan Street   \n",
       "3  For immediate access call Bryan.<br /><br />Bo...     Jones Street   \n",
       "5  Beautiful TRUE 1 bedroom in a luxury building ...   Exchange Place   \n",
       "\n",
       "                                            features  latitude  listing_id  \\\n",
       "0  [Elevator, Laundry in Building, Laundry in Uni...   40.7185     7142618   \n",
       "1              [Pre-War, Dogs Allowed, Cats Allowed]   40.7278     7210040   \n",
       "2              [Pre-War, Dogs Allowed, Cats Allowed]   40.7260     7174566   \n",
       "3      [Hardwood Floors, Dogs Allowed, Cats Allowed]   40.7321     7191391   \n",
       "5  [Roof Deck, Doorman, Elevator, Fitness Center,...   40.7054     7171695   \n",
       "\n",
       "   longitude                        manager_id  \\\n",
       "0   -73.9865  b1b1852c416d78d7765d746cb1b8921f   \n",
       "1   -74.0000  d0b5648017832b2427eeb9956d966a14   \n",
       "2   -74.0026  e6472c7237327dd3903b3d6f6a94515a   \n",
       "3   -74.0028  41735645e0f8f13993c42894023f8e58   \n",
       "5   -74.0095  a742cf7dd3b2627d83417bc3a1b3ec96   \n",
       "\n",
       "                                              photos  price  \\\n",
       "0  [https://photos.renthop.com/2/7142618_1c45a2c8...   2950   \n",
       "1  [https://photos.renthop.com/2/7210040_d824cc71...   2850   \n",
       "2  [https://photos.renthop.com/2/7174566_ba3a35c5...   2295   \n",
       "3  [https://photos.renthop.com/2/7191391_8c2f2d49...   2900   \n",
       "5  [https://photos.renthop.com/2/7171695_089ffee2...   3254   \n",
       "\n",
       "        street_address  \n",
       "0    99 Suffolk Street  \n",
       "1  176 Thompson Street  \n",
       "2  115 Sullivan Street  \n",
       "3      23 Jones Street  \n",
       "5    20 Exchange Place  "
      ]
     },
     "execution_count": 24,
     "metadata": {},
     "output_type": "execute_result"
    }
   ],
   "source": [
    "my_df1.head(5)"
   ]
  },
  {
   "cell_type": "code",
   "execution_count": 98,
   "metadata": {
    "scrolled": false
   },
   "outputs": [],
   "source": [
    "def logloss(y_true, y_pred, eps=1e-15):\n",
    "    y_pred = np.clip(y_pred, eps, 1 - eps)\n",
    "    return -(y_true * np.log(y_pred)).sum(axis=1).mean()"
   ]
  },
  {
   "cell_type": "code",
   "execution_count": 134,
   "metadata": {},
   "outputs": [],
   "source": [
    "from sklearn.metrics import log_loss\n",
    "from sklearn.metrics import f1_score\n",
    "from sklearn.metrics import roc_auc_score"
   ]
  },
  {
   "cell_type": "code",
   "execution_count": 139,
   "metadata": {},
   "outputs": [
    {
     "name": "stdout",
     "output_type": "stream",
     "text": [
      "logistic_model1.score 0.6787743652449112\n",
      "logistic_model1.score 0.6744336569579288\n"
     ]
    },
    {
     "ename": "TypeError",
     "evalue": "Singleton array array(0.67443366) cannot be considered a valid collection.",
     "output_type": "error",
     "traceback": [
      "\u001b[0;31m---------------------------------------------------------------------------\u001b[0m",
      "\u001b[0;31mTypeError\u001b[0m                                 Traceback (most recent call last)",
      "\u001b[0;32m<ipython-input-139-c4026a5894dc>\u001b[0m in \u001b[0;36m<module>\u001b[0;34m\u001b[0m\n\u001b[1;32m     20\u001b[0m \u001b[0mf1\u001b[0m \u001b[0;34m=\u001b[0m \u001b[0mf1_score\u001b[0m\u001b[0;34m(\u001b[0m\u001b[0mY_test\u001b[0m\u001b[0;34m,\u001b[0m \u001b[0mY_test\u001b[0m\u001b[0;34m,\u001b[0m \u001b[0maverage\u001b[0m\u001b[0;34m=\u001b[0m\u001b[0;34m'weighted'\u001b[0m\u001b[0;34m)\u001b[0m\u001b[0;34m\u001b[0m\u001b[0;34m\u001b[0m\u001b[0m\n\u001b[1;32m     21\u001b[0m \u001b[0my_score\u001b[0m \u001b[0;34m=\u001b[0m \u001b[0mlogistic_model1\u001b[0m\u001b[0;34m.\u001b[0m\u001b[0mscore\u001b[0m\u001b[0;34m(\u001b[0m\u001b[0mX_test\u001b[0m\u001b[0;34m,\u001b[0m \u001b[0mY_test\u001b[0m\u001b[0;34m)\u001b[0m\u001b[0;34m\u001b[0m\u001b[0;34m\u001b[0m\u001b[0m\n\u001b[0;32m---> 22\u001b[0;31m \u001b[0mroc\u001b[0m \u001b[0;34m=\u001b[0m \u001b[0mroc_auc_score\u001b[0m\u001b[0;34m(\u001b[0m\u001b[0mY_test\u001b[0m\u001b[0;34m,\u001b[0m \u001b[0my_score\u001b[0m\u001b[0;34m)\u001b[0m\u001b[0;34m\u001b[0m\u001b[0;34m\u001b[0m\u001b[0m\n\u001b[0m\u001b[1;32m     23\u001b[0m \u001b[0;34m\u001b[0m\u001b[0m\n\u001b[1;32m     24\u001b[0m \u001b[0mprint\u001b[0m\u001b[0;34m(\u001b[0m\u001b[0mf1\u001b[0m\u001b[0;34m)\u001b[0m\u001b[0;34m\u001b[0m\u001b[0;34m\u001b[0m\u001b[0m\n",
      "\u001b[0;32m/Library/Frameworks/Python.framework/Versions/3.8/lib/python3.8/site-packages/sklearn/metrics/_ranking.py\u001b[0m in \u001b[0;36mroc_auc_score\u001b[0;34m(y_true, y_score, average, sample_weight, max_fpr, multi_class, labels)\u001b[0m\n\u001b[1;32m    367\u001b[0m     \u001b[0my_type\u001b[0m \u001b[0;34m=\u001b[0m \u001b[0mtype_of_target\u001b[0m\u001b[0;34m(\u001b[0m\u001b[0my_true\u001b[0m\u001b[0;34m)\u001b[0m\u001b[0;34m\u001b[0m\u001b[0;34m\u001b[0m\u001b[0m\n\u001b[1;32m    368\u001b[0m     \u001b[0my_true\u001b[0m \u001b[0;34m=\u001b[0m \u001b[0mcheck_array\u001b[0m\u001b[0;34m(\u001b[0m\u001b[0my_true\u001b[0m\u001b[0;34m,\u001b[0m \u001b[0mensure_2d\u001b[0m\u001b[0;34m=\u001b[0m\u001b[0;32mFalse\u001b[0m\u001b[0;34m,\u001b[0m \u001b[0mdtype\u001b[0m\u001b[0;34m=\u001b[0m\u001b[0;32mNone\u001b[0m\u001b[0;34m)\u001b[0m\u001b[0;34m\u001b[0m\u001b[0;34m\u001b[0m\u001b[0m\n\u001b[0;32m--> 369\u001b[0;31m     \u001b[0my_score\u001b[0m \u001b[0;34m=\u001b[0m \u001b[0mcheck_array\u001b[0m\u001b[0;34m(\u001b[0m\u001b[0my_score\u001b[0m\u001b[0;34m,\u001b[0m \u001b[0mensure_2d\u001b[0m\u001b[0;34m=\u001b[0m\u001b[0;32mFalse\u001b[0m\u001b[0;34m)\u001b[0m\u001b[0;34m\u001b[0m\u001b[0;34m\u001b[0m\u001b[0m\n\u001b[0m\u001b[1;32m    370\u001b[0m \u001b[0;34m\u001b[0m\u001b[0m\n\u001b[1;32m    371\u001b[0m     if y_type == \"multiclass\" or (y_type == \"binary\" and\n",
      "\u001b[0;32m/Library/Frameworks/Python.framework/Versions/3.8/lib/python3.8/site-packages/sklearn/utils/validation.py\u001b[0m in \u001b[0;36mcheck_array\u001b[0;34m(array, accept_sparse, accept_large_sparse, dtype, order, copy, force_all_finite, ensure_2d, allow_nd, ensure_min_samples, ensure_min_features, warn_on_dtype, estimator)\u001b[0m\n\u001b[1;32m    579\u001b[0m \u001b[0;34m\u001b[0m\u001b[0m\n\u001b[1;32m    580\u001b[0m     \u001b[0;32mif\u001b[0m \u001b[0mensure_min_samples\u001b[0m \u001b[0;34m>\u001b[0m \u001b[0;36m0\u001b[0m\u001b[0;34m:\u001b[0m\u001b[0;34m\u001b[0m\u001b[0;34m\u001b[0m\u001b[0m\n\u001b[0;32m--> 581\u001b[0;31m         \u001b[0mn_samples\u001b[0m \u001b[0;34m=\u001b[0m \u001b[0m_num_samples\u001b[0m\u001b[0;34m(\u001b[0m\u001b[0marray\u001b[0m\u001b[0;34m)\u001b[0m\u001b[0;34m\u001b[0m\u001b[0;34m\u001b[0m\u001b[0m\n\u001b[0m\u001b[1;32m    582\u001b[0m         \u001b[0;32mif\u001b[0m \u001b[0mn_samples\u001b[0m \u001b[0;34m<\u001b[0m \u001b[0mensure_min_samples\u001b[0m\u001b[0;34m:\u001b[0m\u001b[0;34m\u001b[0m\u001b[0;34m\u001b[0m\u001b[0m\n\u001b[1;32m    583\u001b[0m             raise ValueError(\"Found array with %d sample(s) (shape=%s) while a\"\n",
      "\u001b[0;32m/Library/Frameworks/Python.framework/Versions/3.8/lib/python3.8/site-packages/sklearn/utils/validation.py\u001b[0m in \u001b[0;36m_num_samples\u001b[0;34m(x)\u001b[0m\n\u001b[1;32m    149\u001b[0m     \u001b[0;32mif\u001b[0m \u001b[0mhasattr\u001b[0m\u001b[0;34m(\u001b[0m\u001b[0mx\u001b[0m\u001b[0;34m,\u001b[0m \u001b[0;34m'shape'\u001b[0m\u001b[0;34m)\u001b[0m \u001b[0;32mand\u001b[0m \u001b[0mx\u001b[0m\u001b[0;34m.\u001b[0m\u001b[0mshape\u001b[0m \u001b[0;32mis\u001b[0m \u001b[0;32mnot\u001b[0m \u001b[0;32mNone\u001b[0m\u001b[0;34m:\u001b[0m\u001b[0;34m\u001b[0m\u001b[0;34m\u001b[0m\u001b[0m\n\u001b[1;32m    150\u001b[0m         \u001b[0;32mif\u001b[0m \u001b[0mlen\u001b[0m\u001b[0;34m(\u001b[0m\u001b[0mx\u001b[0m\u001b[0;34m.\u001b[0m\u001b[0mshape\u001b[0m\u001b[0;34m)\u001b[0m \u001b[0;34m==\u001b[0m \u001b[0;36m0\u001b[0m\u001b[0;34m:\u001b[0m\u001b[0;34m\u001b[0m\u001b[0;34m\u001b[0m\u001b[0m\n\u001b[0;32m--> 151\u001b[0;31m             raise TypeError(\"Singleton array %r cannot be considered\"\n\u001b[0m\u001b[1;32m    152\u001b[0m                             \" a valid collection.\" % x)\n\u001b[1;32m    153\u001b[0m         \u001b[0;31m# Check that shape is returning an integer or default to len\u001b[0m\u001b[0;34m\u001b[0m\u001b[0;34m\u001b[0m\u001b[0;34m\u001b[0m\u001b[0m\n",
      "\u001b[0;31mTypeError\u001b[0m: Singleton array array(0.67443366) cannot be considered a valid collection."
     ]
    }
   ],
   "source": [
    "my_df2['target'] = my_df2['interest_level'].apply(lambda x: 0 if x == 'low' else 1 if x == 'medium' else 2)\n",
    "X = my_df2[['latitude','longitude','price','bedrooms','bathrooms']]\n",
    "#X = my_df2['latitude','longitude']\n",
    "Y = my_df2['target']\n",
    "\n",
    "total_lgl = 0\n",
    "for i in range(10):\n",
    "    X_train, X_test, Y_train, Y_test = train_test_split(X, Y, test_size = 0.1, random_state = 0,shuffle = True)\n",
    "\n",
    "    logistic_modell = LogisticRegression(multi_class = 'multinomial')\n",
    "    logistic_modell.fit(X_train, Y_train)\n",
    "    y_testp = logistic_modell.predict_proba(X_test)\n",
    "\n",
    "    total_lgl += log_loss(Y_test, y_testp, labels = [0,1,2])\n",
    "    #f1 = f1_score(Y_test, y_testp, average='weighted')\n",
    "mean_lgloss = total_lgl/10\n",
    "#one_hot = OneHotEncoder(n_values = 4, sparse = False)\n",
    "print(\"logistic_model1.score\",logistic_model1.score(X_train, Y_train))\n",
    "print(\"logistic_model1.score\",logistic_model1.score(X_test, Y_test))\n",
    "f1 = f1_score(Y_score, Y_test, average='weighted')\n",
    "y_score = logistic_model1.score(X_test, Y_test)\n",
    "roc = roc_auc_score(Y_test, y_score)\n",
    "\n",
    "print(f1)\n",
    "print(mean_lgloss)\n",
    "print(roc)"
   ]
  },
  {
   "cell_type": "code",
   "execution_count": 84,
   "metadata": {},
   "outputs": [
    {
     "ename": "ValueError",
     "evalue": "Found input variables with inconsistent numbers of samples: [4635, 74659]",
     "output_type": "error",
     "traceback": [
      "\u001b[0;31m---------------------------------------------------------------------------\u001b[0m",
      "\u001b[0;31mValueError\u001b[0m                                Traceback (most recent call last)",
      "\u001b[0;32m<ipython-input-84-db49bb904477>\u001b[0m in \u001b[0;36m<module>\u001b[0;34m\u001b[0m\n\u001b[1;32m     14\u001b[0m \u001b[0my_test\u001b[0m \u001b[0;34m=\u001b[0m \u001b[0mlogistic_modela\u001b[0m\u001b[0;34m.\u001b[0m\u001b[0mpredict_proba\u001b[0m\u001b[0;34m(\u001b[0m\u001b[0mX_test\u001b[0m\u001b[0;34m)\u001b[0m\u001b[0;34m\u001b[0m\u001b[0;34m\u001b[0m\u001b[0m\n\u001b[1;32m     15\u001b[0m \u001b[0;34m\u001b[0m\u001b[0m\n\u001b[0;32m---> 16\u001b[0;31m \u001b[0mprint\u001b[0m\u001b[0;34m(\u001b[0m\u001b[0;34m\"logistic_model1.score\"\u001b[0m\u001b[0;34m,\u001b[0m\u001b[0mlogistic_model1\u001b[0m\u001b[0;34m.\u001b[0m\u001b[0mscore\u001b[0m\u001b[0;34m(\u001b[0m\u001b[0mX_test\u001b[0m\u001b[0;34m,\u001b[0m \u001b[0mY_test\u001b[0m\u001b[0;34m)\u001b[0m\u001b[0;34m)\u001b[0m\u001b[0;34m\u001b[0m\u001b[0;34m\u001b[0m\u001b[0m\n\u001b[0m",
      "\u001b[0;32m/Library/Frameworks/Python.framework/Versions/3.8/lib/python3.8/site-packages/sklearn/base.py\u001b[0m in \u001b[0;36mscore\u001b[0;34m(self, X, y, sample_weight)\u001b[0m\n\u001b[1;32m    367\u001b[0m         \"\"\"\n\u001b[1;32m    368\u001b[0m         \u001b[0;32mfrom\u001b[0m \u001b[0;34m.\u001b[0m\u001b[0mmetrics\u001b[0m \u001b[0;32mimport\u001b[0m \u001b[0maccuracy_score\u001b[0m\u001b[0;34m\u001b[0m\u001b[0;34m\u001b[0m\u001b[0m\n\u001b[0;32m--> 369\u001b[0;31m         \u001b[0;32mreturn\u001b[0m \u001b[0maccuracy_score\u001b[0m\u001b[0;34m(\u001b[0m\u001b[0my\u001b[0m\u001b[0;34m,\u001b[0m \u001b[0mself\u001b[0m\u001b[0;34m.\u001b[0m\u001b[0mpredict\u001b[0m\u001b[0;34m(\u001b[0m\u001b[0mX\u001b[0m\u001b[0;34m)\u001b[0m\u001b[0;34m,\u001b[0m \u001b[0msample_weight\u001b[0m\u001b[0;34m=\u001b[0m\u001b[0msample_weight\u001b[0m\u001b[0;34m)\u001b[0m\u001b[0;34m\u001b[0m\u001b[0;34m\u001b[0m\u001b[0m\n\u001b[0m\u001b[1;32m    370\u001b[0m \u001b[0;34m\u001b[0m\u001b[0m\n\u001b[1;32m    371\u001b[0m \u001b[0;34m\u001b[0m\u001b[0m\n",
      "\u001b[0;32m/Library/Frameworks/Python.framework/Versions/3.8/lib/python3.8/site-packages/sklearn/metrics/_classification.py\u001b[0m in \u001b[0;36maccuracy_score\u001b[0;34m(y_true, y_pred, normalize, sample_weight)\u001b[0m\n\u001b[1;32m    183\u001b[0m \u001b[0;34m\u001b[0m\u001b[0m\n\u001b[1;32m    184\u001b[0m     \u001b[0;31m# Compute accuracy for each possible representation\u001b[0m\u001b[0;34m\u001b[0m\u001b[0;34m\u001b[0m\u001b[0;34m\u001b[0m\u001b[0m\n\u001b[0;32m--> 185\u001b[0;31m     \u001b[0my_type\u001b[0m\u001b[0;34m,\u001b[0m \u001b[0my_true\u001b[0m\u001b[0;34m,\u001b[0m \u001b[0my_pred\u001b[0m \u001b[0;34m=\u001b[0m \u001b[0m_check_targets\u001b[0m\u001b[0;34m(\u001b[0m\u001b[0my_true\u001b[0m\u001b[0;34m,\u001b[0m \u001b[0my_pred\u001b[0m\u001b[0;34m)\u001b[0m\u001b[0;34m\u001b[0m\u001b[0;34m\u001b[0m\u001b[0m\n\u001b[0m\u001b[1;32m    186\u001b[0m     \u001b[0mcheck_consistent_length\u001b[0m\u001b[0;34m(\u001b[0m\u001b[0my_true\u001b[0m\u001b[0;34m,\u001b[0m \u001b[0my_pred\u001b[0m\u001b[0;34m,\u001b[0m \u001b[0msample_weight\u001b[0m\u001b[0;34m)\u001b[0m\u001b[0;34m\u001b[0m\u001b[0;34m\u001b[0m\u001b[0m\n\u001b[1;32m    187\u001b[0m     \u001b[0;32mif\u001b[0m \u001b[0my_type\u001b[0m\u001b[0;34m.\u001b[0m\u001b[0mstartswith\u001b[0m\u001b[0;34m(\u001b[0m\u001b[0;34m'multilabel'\u001b[0m\u001b[0;34m)\u001b[0m\u001b[0;34m:\u001b[0m\u001b[0;34m\u001b[0m\u001b[0;34m\u001b[0m\u001b[0m\n",
      "\u001b[0;32m/Library/Frameworks/Python.framework/Versions/3.8/lib/python3.8/site-packages/sklearn/metrics/_classification.py\u001b[0m in \u001b[0;36m_check_targets\u001b[0;34m(y_true, y_pred)\u001b[0m\n\u001b[1;32m     78\u001b[0m     \u001b[0my_pred\u001b[0m \u001b[0;34m:\u001b[0m \u001b[0marray\u001b[0m \u001b[0;32mor\u001b[0m \u001b[0mindicator\u001b[0m \u001b[0mmatrix\u001b[0m\u001b[0;34m\u001b[0m\u001b[0;34m\u001b[0m\u001b[0m\n\u001b[1;32m     79\u001b[0m     \"\"\"\n\u001b[0;32m---> 80\u001b[0;31m     \u001b[0mcheck_consistent_length\u001b[0m\u001b[0;34m(\u001b[0m\u001b[0my_true\u001b[0m\u001b[0;34m,\u001b[0m \u001b[0my_pred\u001b[0m\u001b[0;34m)\u001b[0m\u001b[0;34m\u001b[0m\u001b[0;34m\u001b[0m\u001b[0m\n\u001b[0m\u001b[1;32m     81\u001b[0m     \u001b[0mtype_true\u001b[0m \u001b[0;34m=\u001b[0m \u001b[0mtype_of_target\u001b[0m\u001b[0;34m(\u001b[0m\u001b[0my_true\u001b[0m\u001b[0;34m)\u001b[0m\u001b[0;34m\u001b[0m\u001b[0;34m\u001b[0m\u001b[0m\n\u001b[1;32m     82\u001b[0m     \u001b[0mtype_pred\u001b[0m \u001b[0;34m=\u001b[0m \u001b[0mtype_of_target\u001b[0m\u001b[0;34m(\u001b[0m\u001b[0my_pred\u001b[0m\u001b[0;34m)\u001b[0m\u001b[0;34m\u001b[0m\u001b[0;34m\u001b[0m\u001b[0m\n",
      "\u001b[0;32m/Library/Frameworks/Python.framework/Versions/3.8/lib/python3.8/site-packages/sklearn/utils/validation.py\u001b[0m in \u001b[0;36mcheck_consistent_length\u001b[0;34m(*arrays)\u001b[0m\n\u001b[1;32m    209\u001b[0m     \u001b[0muniques\u001b[0m \u001b[0;34m=\u001b[0m \u001b[0mnp\u001b[0m\u001b[0;34m.\u001b[0m\u001b[0munique\u001b[0m\u001b[0;34m(\u001b[0m\u001b[0mlengths\u001b[0m\u001b[0;34m)\u001b[0m\u001b[0;34m\u001b[0m\u001b[0;34m\u001b[0m\u001b[0m\n\u001b[1;32m    210\u001b[0m     \u001b[0;32mif\u001b[0m \u001b[0mlen\u001b[0m\u001b[0;34m(\u001b[0m\u001b[0muniques\u001b[0m\u001b[0;34m)\u001b[0m \u001b[0;34m>\u001b[0m \u001b[0;36m1\u001b[0m\u001b[0;34m:\u001b[0m\u001b[0;34m\u001b[0m\u001b[0;34m\u001b[0m\u001b[0m\n\u001b[0;32m--> 211\u001b[0;31m         raise ValueError(\"Found input variables with inconsistent numbers of\"\n\u001b[0m\u001b[1;32m    212\u001b[0m                          \" samples: %r\" % [int(l) for l in lengths])\n\u001b[1;32m    213\u001b[0m \u001b[0;34m\u001b[0m\u001b[0m\n",
      "\u001b[0;31mValueError\u001b[0m: Found input variables with inconsistent numbers of samples: [4635, 74659]"
     ]
    }
   ],
   "source": [
    "my_df2['target'] = my_df2['interest_level'].apply(lambda x: 0 if x == 'low' else 1 if x == 'medium' else 2)\n",
    "X= my_df2[['latitude','longitude','price','bedrooms','bathrooms']]\n",
    "X_test = my_df1[['latitude','longitude','price','bedrooms','bathrooms']]\n",
    "y = my_df2['target']\n",
    "\n",
    "#X = my_df2['latitude','longitude']\n",
    "#y = my_df2['target']\n",
    "#X_train, X_test, y_train, y_test = train_test_split(X, y, shuffle = True)\n",
    "\n",
    "#X_scaled = preprocessing.scale(X)\n",
    "\n",
    "logistic_modela = LogisticRegression(multi_class = 'multinomial')\n",
    "logistic_modela.fit(X,y)\n",
    "y = logistic_modela.predict(X_test)\n",
    "y_test = logistic_modela.predict_proba(X_test)\n",
    "\n",
    "print(\"logistic_model1.score\",logistic_model1.score(X_test, Y_test))"
   ]
  },
  {
   "cell_type": "code",
   "execution_count": 26,
   "metadata": {
    "scrolled": true
   },
   "outputs": [
    {
     "data": {
      "text/html": [
       "<div>\n",
       "<style scoped>\n",
       "    .dataframe tbody tr th:only-of-type {\n",
       "        vertical-align: middle;\n",
       "    }\n",
       "\n",
       "    .dataframe tbody tr th {\n",
       "        vertical-align: top;\n",
       "    }\n",
       "\n",
       "    .dataframe thead th {\n",
       "        text-align: right;\n",
       "    }\n",
       "</style>\n",
       "<table border=\"1\" class=\"dataframe\">\n",
       "  <thead>\n",
       "    <tr style=\"text-align: right;\">\n",
       "      <th></th>\n",
       "      <th>listing_id</th>\n",
       "      <th>high</th>\n",
       "      <th>medium</th>\n",
       "      <th>low</th>\n",
       "    </tr>\n",
       "  </thead>\n",
       "  <tbody>\n",
       "    <tr>\n",
       "      <th>0</th>\n",
       "      <td>7142618</td>\n",
       "      <td>0.061924</td>\n",
       "      <td>0.225505</td>\n",
       "      <td>0.712571</td>\n",
       "    </tr>\n",
       "    <tr>\n",
       "      <th>1</th>\n",
       "      <td>7210040</td>\n",
       "      <td>0.121552</td>\n",
       "      <td>0.310961</td>\n",
       "      <td>0.567487</td>\n",
       "    </tr>\n",
       "    <tr>\n",
       "      <th>2</th>\n",
       "      <td>7174566</td>\n",
       "      <td>0.067197</td>\n",
       "      <td>0.208057</td>\n",
       "      <td>0.724746</td>\n",
       "    </tr>\n",
       "    <tr>\n",
       "      <th>3</th>\n",
       "      <td>7191391</td>\n",
       "      <td>0.115948</td>\n",
       "      <td>0.306904</td>\n",
       "      <td>0.577149</td>\n",
       "    </tr>\n",
       "    <tr>\n",
       "      <th>5</th>\n",
       "      <td>7171695</td>\n",
       "      <td>0.044542</td>\n",
       "      <td>0.199619</td>\n",
       "      <td>0.755839</td>\n",
       "    </tr>\n",
       "    <tr>\n",
       "      <th>...</th>\n",
       "      <td>...</td>\n",
       "      <td>...</td>\n",
       "      <td>...</td>\n",
       "      <td>...</td>\n",
       "    </tr>\n",
       "    <tr>\n",
       "      <th>124003</th>\n",
       "      <td>6928108</td>\n",
       "      <td>0.204935</td>\n",
       "      <td>0.317826</td>\n",
       "      <td>0.477239</td>\n",
       "    </tr>\n",
       "    <tr>\n",
       "      <th>124005</th>\n",
       "      <td>6906674</td>\n",
       "      <td>0.029799</td>\n",
       "      <td>0.190833</td>\n",
       "      <td>0.779368</td>\n",
       "    </tr>\n",
       "    <tr>\n",
       "      <th>124006</th>\n",
       "      <td>6897967</td>\n",
       "      <td>0.059975</td>\n",
       "      <td>0.199462</td>\n",
       "      <td>0.740563</td>\n",
       "    </tr>\n",
       "    <tr>\n",
       "      <th>124007</th>\n",
       "      <td>6842183</td>\n",
       "      <td>0.001398</td>\n",
       "      <td>0.056736</td>\n",
       "      <td>0.941865</td>\n",
       "    </tr>\n",
       "    <tr>\n",
       "      <th>124010</th>\n",
       "      <td>6889319</td>\n",
       "      <td>0.032620</td>\n",
       "      <td>0.221021</td>\n",
       "      <td>0.746360</td>\n",
       "    </tr>\n",
       "  </tbody>\n",
       "</table>\n",
       "<p>74659 rows × 4 columns</p>\n",
       "</div>"
      ],
      "text/plain": [
       "        listing_id      high    medium       low\n",
       "0          7142618  0.061924  0.225505  0.712571\n",
       "1          7210040  0.121552  0.310961  0.567487\n",
       "2          7174566  0.067197  0.208057  0.724746\n",
       "3          7191391  0.115948  0.306904  0.577149\n",
       "5          7171695  0.044542  0.199619  0.755839\n",
       "...            ...       ...       ...       ...\n",
       "124003     6928108  0.204935  0.317826  0.477239\n",
       "124005     6906674  0.029799  0.190833  0.779368\n",
       "124006     6897967  0.059975  0.199462  0.740563\n",
       "124007     6842183  0.001398  0.056736  0.941865\n",
       "124010     6889319  0.032620  0.221021  0.746360\n",
       "\n",
       "[74659 rows x 4 columns]"
      ]
     },
     "execution_count": 26,
     "metadata": {},
     "output_type": "execute_result"
    }
   ],
   "source": [
    "data1"
   ]
  },
  {
   "cell_type": "code",
   "execution_count": null,
   "metadata": {},
   "outputs": [],
   "source": [
    "from sklearn import preprocessing\n",
    "my_df2['target'] = my_df2['interest_level'].apply(lambda x: 0 if x == 'low' else 1 if x == 'medium' else 2)\n",
    "# my_df2['location'] = my_df2[['latitude','longitude']].values.tolist()\n",
    "# my_df2['features_keys'] = my_df2[['latitude','longitude']].values.tolist()\n",
    "X = my_df2[['bathrooms','bedrooms','longitude', 'latitude','price','Laundary in Building','Hardwood Floors','Dishwasher','Dogs Allowed','Cats Allowed','Doorman']]\n",
    "#X = my_df2[['latitude','longitude']]\n",
    "Y = my_df2['target']\n",
    "\n",
    "X_train, X_test, Y_train, Y_test = train_test_split(X, Y, test_size = 0.2, random_state = 0, shuffle = True)\n",
    "X_scaled = preprocessing.scale(X_train)\n",
    "Y_scaled = preprocessing.scale(Y_train)\n",
    "logistic_model4 = LogisticRegression(penalty = 'l2', solver = 'sag',multi_class = 'multinomial')\n",
    "logistic_model4.fit(X_scaled, Y_train)\n",
    "\n",
    "pred_test = logistic_model4.predict(X_test)\n",
    "print(classification_report(Y_test, pred_test))"
   ]
  },
  {
   "cell_type": "code",
   "execution_count": 27,
   "metadata": {
    "scrolled": true
   },
   "outputs": [
    {
     "name": "stdout",
     "output_type": "stream",
     "text": [
      "logistic_model1.score 0.6803038149490764\n",
      "logistic_model1.score 0.6794407042982911\n"
     ]
    },
    {
     "name": "stderr",
     "output_type": "stream",
     "text": [
      "/Users/scarletchen/Library/Python/3.8/lib/python/site-packages/scipy/optimize/linesearch.py:466: LineSearchWarning: The line search algorithm did not converge\n",
      "  warn('The line search algorithm did not converge', LineSearchWarning)\n",
      "/Users/scarletchen/Library/Python/3.8/lib/python/site-packages/scipy/optimize/linesearch.py:314: LineSearchWarning: The line search algorithm did not converge\n",
      "  warn('The line search algorithm did not converge', LineSearchWarning)\n",
      "/Library/Frameworks/Python.framework/Versions/3.8/lib/python3.8/site-packages/sklearn/utils/optimize.py:211: ConvergenceWarning: newton-cg failed to converge. Increase the number of iterations.\n",
      "  warnings.warn(\"newton-cg failed to converge. Increase the \"\n"
     ]
    },
    {
     "name": "stdout",
     "output_type": "stream",
     "text": [
      "logistic_model2.score 0.6803038149490764\n",
      "logistic_model2.score 0.6794407042982911\n",
      "logistic_model3.score 0.6803038149490764\n",
      "logistic_model3.score 0.6794407042982911\n",
      "logistic_model4.score 0.6803038149490764\n",
      "logistic_model4.score 0.6794407042982911\n"
     ]
    },
    {
     "name": "stderr",
     "output_type": "stream",
     "text": [
      "/Library/Frameworks/Python.framework/Versions/3.8/lib/python3.8/site-packages/sklearn/linear_model/_sag.py:329: ConvergenceWarning: The max_iter was reached which means the coef_ did not converge\n",
      "  warnings.warn(\"The max_iter was reached which means \"\n"
     ]
    }
   ],
   "source": [
    "my_df2['target'] = my_df2['interest_level'].apply(lambda x: 0 if x == 'low' else 1 if x == 'medium' else 2)\n",
    "X = my_df2[['latitude','longitude','price']]\n",
    "#X = my_df2['latitude','longitude']\n",
    "Y = my_df2['target']\n",
    "X_train, X_test, Y_train, Y_test = train_test_split(X, Y, shuffle = True)\n",
    "\n",
    "logistic_model1 = LogisticRegression(multi_class = 'multinomial')\n",
    "logistic_model1.fit(X_train, Y_train)\n",
    "\n",
    "print(\"logistic_model1.score\",logistic_model1.score(X_train, Y_train))\n",
    "print(\"logistic_model1.score\",logistic_model1.score(X_test, Y_test))\n",
    "\n",
    "logistic_model2 = LogisticRegression(penalty = 'l2', solver = 'newton-cg',multi_class = 'multinomial')\n",
    "logistic_model2.fit(X_train, Y_train)\n",
    "\n",
    "print(\"logistic_model2.score\",logistic_model2.score(X_train, Y_train))\n",
    "print(\"logistic_model2.score\",logistic_model2.score(X_test, Y_test))\n",
    "\n",
    "logistic_model3 = LogisticRegression(penalty = 'l2', solver = 'lbfgs',multi_class = 'multinomial')\n",
    "logistic_model3.fit(X_train, Y_train)\n",
    "\n",
    "print(\"logistic_model3.score\",logistic_model3.score(X_train, Y_train))\n",
    "print(\"logistic_model3.score\",logistic_model3.score(X_test, Y_test))\n",
    "\n",
    "logistic_model4 = LogisticRegression(penalty = 'l2', solver = 'sag',multi_class = 'multinomial')\n",
    "logistic_model4.fit(X_train, Y_train)\n",
    "\n",
    "print(\"logistic_model4.score\",logistic_model4.score(X_train, Y_train))\n",
    "print(\"logistic_model4.score\",logistic_model4.score(X_test, Y_test))"
   ]
  },
  {
   "cell_type": "code",
   "execution_count": 28,
   "metadata": {},
   "outputs": [],
   "source": [
    "# my_df2.info()"
   ]
  },
  {
   "cell_type": "code",
   "execution_count": 29,
   "metadata": {
    "scrolled": false
   },
   "outputs": [
    {
     "name": "stderr",
     "output_type": "stream",
     "text": [
      "/Users/scarletchen/Library/Python/3.8/lib/python/site-packages/scipy/optimize/linesearch.py:466: LineSearchWarning: The line search algorithm did not converge\n",
      "  warn('The line search algorithm did not converge', LineSearchWarning)\n",
      "/Users/scarletchen/Library/Python/3.8/lib/python/site-packages/scipy/optimize/linesearch.py:314: LineSearchWarning: The line search algorithm did not converge\n",
      "  warn('The line search algorithm did not converge', LineSearchWarning)\n"
     ]
    },
    {
     "name": "stdout",
     "output_type": "stream",
     "text": [
      "0.6780790716631901\n",
      "0.6740021574973031\n"
     ]
    },
    {
     "name": "stderr",
     "output_type": "stream",
     "text": [
      "/Library/Frameworks/Python.framework/Versions/3.8/lib/python3.8/site-packages/sklearn/utils/optimize.py:211: ConvergenceWarning: newton-cg failed to converge. Increase the number of iterations.\n",
      "  warnings.warn(\"newton-cg failed to converge. Increase the \"\n"
     ]
    }
   ],
   "source": [
    "#my_df2['target'] = my_df2['interest_level'].apply(lambda x: 0 if x == 'low' else 1 if x == 'medium' else 2)\n",
    "X = my_df2[['longitude', 'latitude','price','bedrooms','bathrooms']]\n",
    "#X = my_df2['latitude','longitude']\n",
    "Y = my_df2['target']\n",
    "X_train, X_test, Y_train, Y_test = train_test_split(X, Y, test_size = 0.1, random_state = 0,shuffle = True)\n",
    "\n",
    "logistic_model = LogisticRegression(penalty = 'l2', solver = 'newton-cg',multi_class = 'multinomial',max_iter = 100)\n",
    "logistic_model.fit(X_train, Y_train)\n",
    "\n",
    "print(logistic_model.score(X_train, Y_train))\n",
    "print(logistic_model.score(X_test, Y_test))"
   ]
  },
  {
   "cell_type": "code",
   "execution_count": null,
   "metadata": {},
   "outputs": [],
   "source": []
  },
  {
   "cell_type": "markdown",
   "metadata": {},
   "source": []
  },
  {
   "cell_type": "code",
   "execution_count": 30,
   "metadata": {},
   "outputs": [],
   "source": [
    "#keys are copied from : https://machinelearningmastery.com/clean-text-machine-learning-python/\n",
    "stopWordsDelete = ['i', 'me', 'my', 'myself', 'we', 'our', 'ours', 'ourselves', 'you', 'your', 'yours', 'yourself', 'yourselves', 'he', 'him', 'his', 'himself', 'she', 'her', 'hers', 'herself', 'it', 'its', 'itself', 'they', 'them', 'their', 'theirs', 'themselves', 'what', 'which', 'who', 'whom', 'this', 'that', 'these', 'those', 'am', 'is', 'are', 'was', 'were', 'be', 'been', 'being', 'have', 'has', 'had', 'having', 'do', 'does', 'did', 'doing', 'a', 'an', 'the', 'and', 'but', 'if', 'or', 'because', 'as', 'until', 'while', 'of', 'at', 'by', 'for', 'with', 'about', 'against', 'between', 'into', 'through', 'during', 'before', 'after', 'above', 'below', 'to', 'from', 'up', 'down', 'in', 'out', 'on', 'off', 'over', 'under', 'again', 'further', 'then', 'once', 'here', 'there', 'when', 'where', 'why', 'how', 'all', 'any', 'both', 'each', 'few', 'more', 'most', 'other', 'some', 'such', 'no', 'nor', 'not', 'only', 'own', 'same', 'so', 'than', 'too', 'very', 's', 't', 'can', 'will', 'just', 'don', 'should', 'now', 'd', 'll', 'm', 'o', 're', 've', 'y', 'ain', 'aren', 'couldn', 'didn', 'doesn', 'hadn', 'hasn', 'haven', 'isn', 'ma', 'mightn', 'mustn', 'needn', 'shan', 'shouldn', 'wasn', 'weren', 'won', 'wouldn']"
   ]
  },
  {
   "cell_type": "raw",
   "metadata": {},
   "source": []
  },
  {
   "cell_type": "code",
   "execution_count": 31,
   "metadata": {},
   "outputs": [
    {
     "name": "stdout",
     "output_type": "stream",
     "text": [
      "Spacious 1 Bedroom 1 Bathroom in Williamsburg!Apartment Features:- Renovated Eat in Kitchen With Dishwasher- Renovated Bathroom- Beautiful Hardwood Floors- Lots of Sunlight- Great Closet Space- Freshly Painted- Heat and Hot Water Included- Live in Super Nearby L, J, M & G Trains !<br /><br />Contact Information:Kenneth BeakExclusive AgentC: 064-692-8838Email: kagglemanager@renthop.com, Text or Email to schedule a private viewing!<br /><br /><br /><br /><br /><br /><br /><br /><br /><br /><br /><br /><br /><br /><br /><br /><p><a  website_redacted \n",
      "spacious 1 bedroom 1 bathroom in williamsburg!apartment features:- renovated eat in kitchen with dishwasher- renovated bathroom- beautiful hardwood floors- lots of sunlight- great closet space- freshly painted- heat and hot water included- live in super nearby l, j, m & g trains !  contact information:kenneth beakexclusive agentc: 064-692-8838email: kagglemanager@renthop.com, text or email to schedule a private viewing!                 <a  website_redacted \n",
      "spacious 1 bedroom 1 bathroom in williamsburg!apartment features:- renovated eat in kitchen with dishwasher- renovated bathroom- beautiful hardwood floors- lots of sunlight- great closet space- freshly painted- heat and hot water included- live in super nearby l, j, m & g trains !  contact information:kenneth beakexclusive agentc:  email: kagglemanager@renthop.com, text or email to schedule a private viewing!                 <a  website_redacted \n"
     ]
    }
   ],
   "source": [
    "des = my_df2['description']\n",
    "print(des[0])\n",
    "des = des.str.lower().str.replace('<.*?>',' ')\n",
    "print(des[0])\n",
    "des = des.str.replace('[0-9][0-9][0-9]-[0-9][0-9][0-9]-[0-9][0-9][0-9][0-9]',' ')\n",
    "print(des[0])\n",
    "des = des.str.replace('kagglemanager\\@renthop\\.com',' ')\n",
    "des = des.str.replace('new york',' ')\n",
    "des = des.str.replace('<a  website_redacted',' ')\n",
    "des = des.str.replace('[^\\w\\s]',' ')\n",
    "des = des.str.replace('\\_',' ')\n",
    "des = des.str.strip()"
   ]
  },
  {
   "cell_type": "code",
   "execution_count": 32,
   "metadata": {},
   "outputs": [
    {
     "name": "stdout",
     "output_type": "stream",
     "text": [
      "              0        1          2          3         4            5    \\\n",
      "4        spacious        1    bedroom          1  bathroom           in   \n",
      "6           brand      new        gut  renovated      true            2   \n",
      "9            flex        2    bedroom       with      full  pressurized   \n",
      "10              a    brand        new          3   bedroom            1   \n",
      "15           over    sized     studio          w  abundant      closets   \n",
      "...           ...      ...        ...        ...       ...          ...   \n",
      "124000      there       is        700     square      feet           of   \n",
      "124002          2  bedroom  apartment       with   updated      kitchen   \n",
      "124004         no  brokers        fee      never     lived            1   \n",
      "124008  wonderful   bright    chelsea          2   bedroom    apartment   \n",
      "124009      prime  midtown       east        off      park          ave   \n",
      "\n",
      "                 6            7               8           9    ...   517  \\\n",
      "4       williamsburg    apartment        features   renovated  ...  None   \n",
      "6        bedroomfind     yourself             and        your  ...  None   \n",
      "9               wall      looking             for         the  ...  None   \n",
      "10                 5         bath  apartmentenjoy       these  ...  None   \n",
      "15         available  immediately            rent  stabilized  ...  None   \n",
      "...              ...          ...             ...         ...  ...   ...   \n",
      "124000      recently    renovated           space          in  ...  None   \n",
      "124002      recently    installed        hardwood    flooring  ...  None   \n",
      "124004       bedroom            1        bathroom          in  ...  None   \n",
      "124008            on        quiet            tree       lined  ...  None   \n",
      "124009          true            3         bedroom       brand  ...  None   \n",
      "\n",
      "         518   519   520   521   522   523   524   525   526  \n",
      "4       None  None  None  None  None  None  None  None  None  \n",
      "6       None  None  None  None  None  None  None  None  None  \n",
      "9       None  None  None  None  None  None  None  None  None  \n",
      "10      None  None  None  None  None  None  None  None  None  \n",
      "15      None  None  None  None  None  None  None  None  None  \n",
      "...      ...   ...   ...   ...   ...   ...   ...   ...   ...  \n",
      "124000  None  None  None  None  None  None  None  None  None  \n",
      "124002  None  None  None  None  None  None  None  None  None  \n",
      "124004  None  None  None  None  None  None  None  None  None  \n",
      "124008  None  None  None  None  None  None  None  None  None  \n",
      "124009  None  None  None  None  None  None  None  None  None  \n",
      "\n",
      "[46344 rows x 527 columns]\n"
     ]
    }
   ],
   "source": [
    "histOfWord = des.str.split(expand=True)\n",
    "print(histOfWord)"
   ]
  },
  {
   "cell_type": "code",
   "execution_count": 33,
   "metadata": {
    "scrolled": true
   },
   "outputs": [],
   "source": [
    "wordCount = histOfWord.stack().value_counts()"
   ]
  },
  {
   "cell_type": "code",
   "execution_count": 34,
   "metadata": {
    "scrolled": false
   },
   "outputs": [
    {
     "name": "stdout",
     "output_type": "stream",
     "text": [
      "apartment     38803\n",
      "kitchen       29391\n",
      "room          21197\n",
      "floors        19183\n",
      "appliances    19137\n",
      "              ...  \n",
      "service        5110\n",
      "find           5105\n",
      "site           5067\n",
      "trains         5040\n",
      "wood           5035\n",
      "Length: 115, dtype: int64\n",
      "apartment     38803\n",
      "kitchen       29391\n",
      "room          21197\n",
      "floors        19183\n",
      "appliances    19137\n",
      "              ...  \n",
      "letters          11\n",
      "unusually        11\n",
      "lndry            11\n",
      "romeo            11\n",
      "promise          11\n",
      "Length: 6533, dtype: int64\n"
     ]
    }
   ],
   "source": [
    "wordCount = wordCount.drop(labels=stopWordsDelete,errors='ignore')\n",
    "\n",
    "nums = list(range(999999))\n",
    "nums = list(map(str, nums))\n",
    "wordCount = wordCount.drop(labels=nums,errors='ignore')\n",
    "\n",
    "keyWordDelete = ['call','text','email','building','bedroom','please','one', 'two','three','four']\n",
    "wordCount = wordCount.drop(labels=keyWordDelete,errors='ignore')\n",
    "wordCount = wordCount.drop(labels='[0-9]*',errors='ignore')\n",
    "\n",
    "print(wordCount[wordCount > 5000])\n",
    "wordCount = wordCount[wordCount > 10]\n",
    "print(wordCount)"
   ]
  },
  {
   "cell_type": "code",
   "execution_count": 35,
   "metadata": {
    "scrolled": true
   },
   "outputs": [],
   "source": [
    "my_df1.insert(0,\"kitchen\",0)\n",
    "my_df1.insert(0,\"renoveted\",0)\n",
    "my_df1.insert(0,\"new\",0)\n",
    "my_df1.insert(0,\"great\",0)\n",
    "my_df1.insert(0,\"locate\",0)\n",
    "my_df1.insert(0,\"high\",0)\n",
    "my_df1.insert(0,\"restaurants\",0)\n",
    "my_df1.insert(0,\"marble\",0)\n",
    "my_df1.insert(0,\"part\",0)\n",
    "my_df1.insert(0,\"location\",0)\n",
    "my_df1.insert(0,\"beautiful\",0)\n",
    "my_df1.insert(0,\"private\",0)\n",
    "my_df1.insert(0,\"luxury\",0)\n",
    "my_df1.insert(0,\"viewing\",0)\n",
    "my_df1.insert(0,\"center\",0)\n"
   ]
  },
  {
   "cell_type": "code",
   "execution_count": 36,
   "metadata": {},
   "outputs": [],
   "source": [
    "my_df1.insert(0,\"site\",0)\n",
    "my_df1.insert(0,\"trains\",0)"
   ]
  },
  {
   "cell_type": "code",
   "execution_count": 37,
   "metadata": {},
   "outputs": [],
   "source": [
    "my_df1.description= my_df1.description.astype(str)"
   ]
  },
  {
   "cell_type": "code",
   "execution_count": 38,
   "metadata": {},
   "outputs": [],
   "source": [
    "my_df1.loc[my_df1['description'].str.contains(\"kitchen\"),'kitchen'] = 1\n",
    "my_df1.loc[my_df1['description'].str.contains(\"renoveted\"),'renoveted'] = 1\n",
    "my_df1.loc[my_df1['description'].str.contains(\"new\"),'new'] = 1\n",
    "my_df1.loc[my_df1['description'].str.contains(\"great\"),'great'] = 1\n",
    "my_df1.loc[my_df1['description'].str.contains(\"locate\"),'locate'] = 1\n",
    "my_df1.loc[my_df1['description'].str.contains(\"high\"),'high'] = 1\n",
    "my_df1.loc[my_df1['description'].str.contains(\"restaurants\"),'restaurants'] = 1\n",
    "my_df1.loc[my_df1['description'].str.contains(\"marble\"),'marble'] = 1\n",
    "my_df1.loc[my_df1['description'].str.contains(\"part\"),'part'] = 1\n",
    "my_df1.loc[my_df1['description'].str.contains(\"location\"),'location'] = 1\n",
    "my_df1.loc[my_df1['description'].str.contains(\"beautiful\"),'beautiful'] = 1\n",
    "my_df1.loc[my_df1['description'].str.contains(\"private\"),'private'] = 1\n",
    "my_df1.loc[my_df1['description'].str.contains(\"luxury\"),'luxury'] = 1\n",
    "my_df1.loc[my_df1['description'].str.contains(\"viewing\"),'viewing'] = 1\n",
    "my_df1.loc[my_df1['description'].str.contains(\"center\"),'center'] = 1\n",
    "my_df1.loc[my_df1['description'].str.contains(\"site\"),'site'] = 1\n",
    "my_df1.loc[my_df1['description'].str.contains(\"trains\"),'trains'] = 1"
   ]
  },
  {
   "cell_type": "code",
   "execution_count": 39,
   "metadata": {},
   "outputs": [],
   "source": [
    "my_df2.insert(0,\"kitchen\",0)\n",
    "my_df2.insert(0,\"renoveted\",0)\n",
    "my_df2.insert(0,\"new\",0)\n",
    "my_df2.insert(0,\"great\",0)\n",
    "my_df2.insert(0,\"locate\",0)\n",
    "my_df2.insert(0,\"high\",0)\n",
    "my_df2.insert(0,\"restaurants\",0)\n",
    "my_df2.insert(0,\"marble\",0)\n",
    "my_df2.insert(0,\"part\",0)\n",
    "my_df2.insert(0,\"location\",0)\n",
    "my_df2.insert(0,\"beautiful\",0)\n",
    "my_df2.insert(0,\"private\",0)\n",
    "my_df2.insert(0,\"luxury\",0)\n",
    "my_df2.insert(0,\"viewing\",0)\n",
    "my_df2.insert(0,\"center\",0)"
   ]
  },
  {
   "cell_type": "code",
   "execution_count": 62,
   "metadata": {},
   "outputs": [],
   "source": [
    "my_df2.insert(0,\"site\",0)\n",
    "my_df2.insert(0,\"trains\",0)"
   ]
  },
  {
   "cell_type": "code",
   "execution_count": 64,
   "metadata": {},
   "outputs": [],
   "source": [
    "my_df2.description= my_df2.description.astype(str)"
   ]
  },
  {
   "cell_type": "code",
   "execution_count": 65,
   "metadata": {},
   "outputs": [],
   "source": [
    "my_df2.loc[my_df2['description'].str.contains(\"kitchen\"),'kitchen'] = 1\n",
    "my_df2.loc[my_df2['description'].str.contains(\"renoveted\"),'renoveted'] = 1\n",
    "my_df2.loc[my_df2['description'].str.contains(\"new\"),'new'] = 1\n",
    "my_df2.loc[my_df2['description'].str.contains(\"great\"),'great'] = 1\n",
    "my_df2.loc[my_df2['description'].str.contains(\"locate\"),'locate'] = 1\n",
    "my_df2.loc[my_df2['description'].str.contains(\"high\"),'high'] = 1\n",
    "my_df2.loc[my_df2['description'].str.contains(\"restaurants\"),'restaurants'] = 1\n",
    "my_df2.loc[my_df2['description'].str.contains(\"marble\"),'marble'] = 1\n",
    "my_df2.loc[my_df2['description'].str.contains(\"part\"),'part'] = 1\n",
    "my_df2.loc[my_df2['description'].str.contains(\"location\"),'location'] = 1\n",
    "my_df2.loc[my_df2['description'].str.contains(\"beautiful\"),'beautiful'] = 1\n",
    "my_df2.loc[my_df2['description'].str.contains(\"private\"),'private'] = 1\n",
    "my_df2.loc[my_df2['description'].str.contains(\"luxury\"),'luxury'] = 1\n",
    "my_df2.loc[my_df2['description'].str.contains(\"viewing\"),'viewing'] = 1\n",
    "my_df2.loc[my_df2['description'].str.contains(\"center\"),'center'] = 1\n",
    "my_df2.loc[my_df2['description'].str.contains(\"site\"),'site'] = 1\n",
    "my_df2.loc[my_df2['description'].str.contains(\"trains\"),'trains'] = 1"
   ]
  },
  {
   "cell_type": "code",
   "execution_count": 40,
   "metadata": {},
   "outputs": [],
   "source": [
    "# my_df2['target'] = my_df2['interest_level'].apply(lambda x: 0 if x == 'low' else 1 if x == 'medium' else 2)\n",
    "# X = my_df2[['longitude', 'latitude','price']]\n",
    "# #X = my_df2['latitude','longitude']\n",
    "# Y = my_df2['target']\n",
    "# X_train, X_test, Y_train, Y_test = train_test_split(X, Y, shuffle = True)\n",
    "\n",
    "# logistic_model = LogisticRegression(multi_class = 'multinomial')\n",
    "# logistic_model.fit(X_train, Y_train)\n",
    "\n",
    "# print(logistic_model.score(X_train, Y_train))\n",
    "# print(logistic_model.score(X_test, Y_test))"
   ]
  },
  {
   "cell_type": "code",
   "execution_count": 67,
   "metadata": {},
   "outputs": [
    {
     "data": {
      "text/html": [
       "<div>\n",
       "<style scoped>\n",
       "    .dataframe tbody tr th:only-of-type {\n",
       "        vertical-align: middle;\n",
       "    }\n",
       "\n",
       "    .dataframe tbody tr th {\n",
       "        vertical-align: top;\n",
       "    }\n",
       "\n",
       "    .dataframe thead th {\n",
       "        text-align: right;\n",
       "    }\n",
       "</style>\n",
       "<table border=\"1\" class=\"dataframe\">\n",
       "  <thead>\n",
       "    <tr style=\"text-align: right;\">\n",
       "      <th></th>\n",
       "      <th>Doorman</th>\n",
       "      <th>Cats Allowed</th>\n",
       "      <th>Dogs Allowed</th>\n",
       "      <th>Dishwasher</th>\n",
       "      <th>Hardwood Floors</th>\n",
       "      <th>Laundary in Building</th>\n",
       "      <th>trains</th>\n",
       "      <th>site</th>\n",
       "      <th>center</th>\n",
       "      <th>viewing</th>\n",
       "      <th>...</th>\n",
       "      <th>description</th>\n",
       "      <th>display_address</th>\n",
       "      <th>features</th>\n",
       "      <th>latitude</th>\n",
       "      <th>listing_id</th>\n",
       "      <th>longitude</th>\n",
       "      <th>manager_id</th>\n",
       "      <th>photos</th>\n",
       "      <th>price</th>\n",
       "      <th>street_address</th>\n",
       "    </tr>\n",
       "  </thead>\n",
       "  <tbody>\n",
       "    <tr>\n",
       "      <th>0</th>\n",
       "      <td>0</td>\n",
       "      <td>0</td>\n",
       "      <td>0</td>\n",
       "      <td>1</td>\n",
       "      <td>1</td>\n",
       "      <td>1</td>\n",
       "      <td>0</td>\n",
       "      <td>1</td>\n",
       "      <td>0</td>\n",
       "      <td>0</td>\n",
       "      <td>...</td>\n",
       "      <td>Large with awesome terrace--accessible via bed...</td>\n",
       "      <td>Suffolk Street</td>\n",
       "      <td>['Elevator', 'Laundry in Building', 'Laundry i...</td>\n",
       "      <td>40.7185</td>\n",
       "      <td>7142618</td>\n",
       "      <td>-73.9865</td>\n",
       "      <td>b1b1852c416d78d7765d746cb1b8921f</td>\n",
       "      <td>[https://photos.renthop.com/2/7142618_1c45a2c8...</td>\n",
       "      <td>2950</td>\n",
       "      <td>99 Suffolk Street</td>\n",
       "    </tr>\n",
       "    <tr>\n",
       "      <th>1</th>\n",
       "      <td>0</td>\n",
       "      <td>1</td>\n",
       "      <td>1</td>\n",
       "      <td>0</td>\n",
       "      <td>0</td>\n",
       "      <td>0</td>\n",
       "      <td>0</td>\n",
       "      <td>0</td>\n",
       "      <td>0</td>\n",
       "      <td>1</td>\n",
       "      <td>...</td>\n",
       "      <td>Prime Soho - between Bleecker and Houston - Ne...</td>\n",
       "      <td>Thompson Street</td>\n",
       "      <td>['Pre-War', 'Dogs Allowed', 'Cats Allowed']</td>\n",
       "      <td>40.7278</td>\n",
       "      <td>7210040</td>\n",
       "      <td>-74.0000</td>\n",
       "      <td>d0b5648017832b2427eeb9956d966a14</td>\n",
       "      <td>[https://photos.renthop.com/2/7210040_d824cc71...</td>\n",
       "      <td>2850</td>\n",
       "      <td>176 Thompson Street</td>\n",
       "    </tr>\n",
       "    <tr>\n",
       "      <th>2</th>\n",
       "      <td>0</td>\n",
       "      <td>1</td>\n",
       "      <td>1</td>\n",
       "      <td>0</td>\n",
       "      <td>0</td>\n",
       "      <td>0</td>\n",
       "      <td>0</td>\n",
       "      <td>0</td>\n",
       "      <td>0</td>\n",
       "      <td>0</td>\n",
       "      <td>...</td>\n",
       "      <td>Spacious studio in Prime Location. Cleanbuildi...</td>\n",
       "      <td>Sullivan Street</td>\n",
       "      <td>['Pre-War', 'Dogs Allowed', 'Cats Allowed']</td>\n",
       "      <td>40.7260</td>\n",
       "      <td>7174566</td>\n",
       "      <td>-74.0026</td>\n",
       "      <td>e6472c7237327dd3903b3d6f6a94515a</td>\n",
       "      <td>[https://photos.renthop.com/2/7174566_ba3a35c5...</td>\n",
       "      <td>2295</td>\n",
       "      <td>115 Sullivan Street</td>\n",
       "    </tr>\n",
       "    <tr>\n",
       "      <th>3</th>\n",
       "      <td>0</td>\n",
       "      <td>1</td>\n",
       "      <td>1</td>\n",
       "      <td>0</td>\n",
       "      <td>1</td>\n",
       "      <td>0</td>\n",
       "      <td>0</td>\n",
       "      <td>1</td>\n",
       "      <td>0</td>\n",
       "      <td>0</td>\n",
       "      <td>...</td>\n",
       "      <td>For immediate access call Bryan.&lt;br /&gt;&lt;br /&gt;Bo...</td>\n",
       "      <td>Jones Street</td>\n",
       "      <td>['Hardwood Floors', 'Dogs Allowed', 'Cats Allo...</td>\n",
       "      <td>40.7321</td>\n",
       "      <td>7191391</td>\n",
       "      <td>-74.0028</td>\n",
       "      <td>41735645e0f8f13993c42894023f8e58</td>\n",
       "      <td>[https://photos.renthop.com/2/7191391_8c2f2d49...</td>\n",
       "      <td>2900</td>\n",
       "      <td>23 Jones Street</td>\n",
       "    </tr>\n",
       "    <tr>\n",
       "      <th>5</th>\n",
       "      <td>1</td>\n",
       "      <td>1</td>\n",
       "      <td>1</td>\n",
       "      <td>0</td>\n",
       "      <td>0</td>\n",
       "      <td>1</td>\n",
       "      <td>1</td>\n",
       "      <td>1</td>\n",
       "      <td>0</td>\n",
       "      <td>0</td>\n",
       "      <td>...</td>\n",
       "      <td>Beautiful TRUE 1 bedroom in a luxury building ...</td>\n",
       "      <td>Exchange Place</td>\n",
       "      <td>['Roof Deck', 'Doorman', 'Elevator', 'Fitness ...</td>\n",
       "      <td>40.7054</td>\n",
       "      <td>7171695</td>\n",
       "      <td>-74.0095</td>\n",
       "      <td>a742cf7dd3b2627d83417bc3a1b3ec96</td>\n",
       "      <td>[https://photos.renthop.com/2/7171695_089ffee2...</td>\n",
       "      <td>3254</td>\n",
       "      <td>20 Exchange Place</td>\n",
       "    </tr>\n",
       "    <tr>\n",
       "      <th>7</th>\n",
       "      <td>1</td>\n",
       "      <td>1</td>\n",
       "      <td>1</td>\n",
       "      <td>1</td>\n",
       "      <td>1</td>\n",
       "      <td>1</td>\n",
       "      <td>0</td>\n",
       "      <td>1</td>\n",
       "      <td>0</td>\n",
       "      <td>0</td>\n",
       "      <td>...</td>\n",
       "      <td>Beautiful 2 bedroom unit with 2 full bathrooms...</td>\n",
       "      <td>W 42nd St.</td>\n",
       "      <td>['Cats Allowed', 'Dogs Allowed', 'No Fee', 'Do...</td>\n",
       "      <td>40.7610</td>\n",
       "      <td>7225206</td>\n",
       "      <td>-73.9983</td>\n",
       "      <td>93e03c5179b8f3229fc1c63c0f75d11b</td>\n",
       "      <td>[https://photos.renthop.com/2/7225206_6b8ac259...</td>\n",
       "      <td>4990</td>\n",
       "      <td>650 W 42nd St.</td>\n",
       "    </tr>\n",
       "    <tr>\n",
       "      <th>8</th>\n",
       "      <td>0</td>\n",
       "      <td>1</td>\n",
       "      <td>1</td>\n",
       "      <td>0</td>\n",
       "      <td>0</td>\n",
       "      <td>0</td>\n",
       "      <td>0</td>\n",
       "      <td>0</td>\n",
       "      <td>0</td>\n",
       "      <td>0</td>\n",
       "      <td>...</td>\n",
       "      <td></td>\n",
       "      <td>Irving Pl</td>\n",
       "      <td>['Elevator', 'Cats Allowed', 'Dogs Allowed']</td>\n",
       "      <td>40.7358</td>\n",
       "      <td>7200075</td>\n",
       "      <td>-73.9877</td>\n",
       "      <td>7422eabb4c6c3448c000f7be84e5c1b8</td>\n",
       "      <td>[https://photos.renthop.com/2/7200075_abfbded7...</td>\n",
       "      <td>20000</td>\n",
       "      <td>47 Irving Pl</td>\n",
       "    </tr>\n",
       "    <tr>\n",
       "      <th>11</th>\n",
       "      <td>1</td>\n",
       "      <td>0</td>\n",
       "      <td>0</td>\n",
       "      <td>0</td>\n",
       "      <td>1</td>\n",
       "      <td>1</td>\n",
       "      <td>0</td>\n",
       "      <td>1</td>\n",
       "      <td>0</td>\n",
       "      <td>0</td>\n",
       "      <td>...</td>\n",
       "      <td>LOW FEE, AMAZING OVER-SIZED STUDIO IN A LUXURY...</td>\n",
       "      <td>Third Ave</td>\n",
       "      <td>['Doorman', 'Elevator', 'Laundry in Building',...</td>\n",
       "      <td>40.7814</td>\n",
       "      <td>7145074</td>\n",
       "      <td>-73.9507</td>\n",
       "      <td>5642b01c61afd6b54601365aedc96b68</td>\n",
       "      <td>[https://photos.renthop.com/2/7145074_025b6af2...</td>\n",
       "      <td>2150</td>\n",
       "      <td>1619 Third Ave</td>\n",
       "    </tr>\n",
       "    <tr>\n",
       "      <th>12</th>\n",
       "      <td>0</td>\n",
       "      <td>0</td>\n",
       "      <td>0</td>\n",
       "      <td>0</td>\n",
       "      <td>0</td>\n",
       "      <td>0</td>\n",
       "      <td>0</td>\n",
       "      <td>0</td>\n",
       "      <td>0</td>\n",
       "      <td>0</td>\n",
       "      <td>...</td>\n",
       "      <td></td>\n",
       "      <td>Rivington St</td>\n",
       "      <td>['No Fee']</td>\n",
       "      <td>40.7216</td>\n",
       "      <td>7193645</td>\n",
       "      <td>-73.9927</td>\n",
       "      <td>64249f81378907ae7cf65e8ccb4bd8dc</td>\n",
       "      <td>[https://photos.renthop.com/2/7193645_61e67bb1...</td>\n",
       "      <td>6500</td>\n",
       "      <td>8 Rivington St</td>\n",
       "    </tr>\n",
       "    <tr>\n",
       "      <th>13</th>\n",
       "      <td>0</td>\n",
       "      <td>1</td>\n",
       "      <td>1</td>\n",
       "      <td>0</td>\n",
       "      <td>0</td>\n",
       "      <td>0</td>\n",
       "      <td>0</td>\n",
       "      <td>0</td>\n",
       "      <td>0</td>\n",
       "      <td>0</td>\n",
       "      <td>...</td>\n",
       "      <td></td>\n",
       "      <td>West 37th Street</td>\n",
       "      <td>['Fitness Center', 'Cats Allowed', 'Dogs Allow...</td>\n",
       "      <td>40.7553</td>\n",
       "      <td>7147703</td>\n",
       "      <td>-73.9953</td>\n",
       "      <td>11215cda1d873d587dcdf455001c1b84</td>\n",
       "      <td>[https://photos.renthop.com/2/7147703_1fb336cd...</td>\n",
       "      <td>3365</td>\n",
       "      <td>400 West 37th Street</td>\n",
       "    </tr>\n",
       "    <tr>\n",
       "      <th>14</th>\n",
       "      <td>0</td>\n",
       "      <td>0</td>\n",
       "      <td>0</td>\n",
       "      <td>0</td>\n",
       "      <td>0</td>\n",
       "      <td>0</td>\n",
       "      <td>1</td>\n",
       "      <td>0</td>\n",
       "      <td>0</td>\n",
       "      <td>0</td>\n",
       "      <td>...</td>\n",
       "      <td>&lt;![CDATA[1 bedroom, 2500, Upper East Side&lt;br /...</td>\n",
       "      <td>E. 64th Street</td>\n",
       "      <td>[]</td>\n",
       "      <td>40.7623</td>\n",
       "      <td>7182218</td>\n",
       "      <td>-73.9590</td>\n",
       "      <td>e6472c7237327dd3903b3d6f6a94515a</td>\n",
       "      <td>[https://photos.renthop.com/2/7182218_79365560...</td>\n",
       "      <td>2500</td>\n",
       "      <td>410 E. 64th Street</td>\n",
       "    </tr>\n",
       "    <tr>\n",
       "      <th>17</th>\n",
       "      <td>1</td>\n",
       "      <td>0</td>\n",
       "      <td>0</td>\n",
       "      <td>1</td>\n",
       "      <td>1</td>\n",
       "      <td>1</td>\n",
       "      <td>0</td>\n",
       "      <td>1</td>\n",
       "      <td>0</td>\n",
       "      <td>0</td>\n",
       "      <td>...</td>\n",
       "      <td>This fabulous one Bedroom apartment features f...</td>\n",
       "      <td>West 54th Street</td>\n",
       "      <td>['Swimming Pool', 'Roof Deck', 'Doorman', 'Ele...</td>\n",
       "      <td>40.7678</td>\n",
       "      <td>7132136</td>\n",
       "      <td>-73.9915</td>\n",
       "      <td>0577b9cf7d26e41800d814cb70b2bbf0</td>\n",
       "      <td>[https://photos.renthop.com/2/7132136_00f58564...</td>\n",
       "      <td>3777</td>\n",
       "      <td>550 West 54th Street</td>\n",
       "    </tr>\n",
       "    <tr>\n",
       "      <th>20</th>\n",
       "      <td>1</td>\n",
       "      <td>1</td>\n",
       "      <td>1</td>\n",
       "      <td>1</td>\n",
       "      <td>0</td>\n",
       "      <td>1</td>\n",
       "      <td>0</td>\n",
       "      <td>1</td>\n",
       "      <td>0</td>\n",
       "      <td>1</td>\n",
       "      <td>...</td>\n",
       "      <td>Amazing building located in Upper East Side. S...</td>\n",
       "      <td>E 94 St.</td>\n",
       "      <td>['Doorman', 'Elevator', 'Fitness Center', 'Lau...</td>\n",
       "      <td>40.7823</td>\n",
       "      <td>7130670</td>\n",
       "      <td>-73.9459</td>\n",
       "      <td>e6472c7237327dd3903b3d6f6a94515a</td>\n",
       "      <td>[https://photos.renthop.com/2/7130670_0e7b093c...</td>\n",
       "      <td>2400</td>\n",
       "      <td>345 E 94 St.</td>\n",
       "    </tr>\n",
       "    <tr>\n",
       "      <th>21</th>\n",
       "      <td>0</td>\n",
       "      <td>1</td>\n",
       "      <td>0</td>\n",
       "      <td>0</td>\n",
       "      <td>0</td>\n",
       "      <td>0</td>\n",
       "      <td>0</td>\n",
       "      <td>0</td>\n",
       "      <td>0</td>\n",
       "      <td>0</td>\n",
       "      <td>...</td>\n",
       "      <td></td>\n",
       "      <td>Park Place</td>\n",
       "      <td>['Cats Allowed']</td>\n",
       "      <td>40.6782</td>\n",
       "      <td>7151855</td>\n",
       "      <td>-73.9750</td>\n",
       "      <td>7f6d00384a19d9bdd15ff36ddbad699a</td>\n",
       "      <td>[https://photos.renthop.com/2/7151855_96c43e24...</td>\n",
       "      <td>2800</td>\n",
       "      <td>108 Park Place</td>\n",
       "    </tr>\n",
       "    <tr>\n",
       "      <th>22</th>\n",
       "      <td>1</td>\n",
       "      <td>0</td>\n",
       "      <td>0</td>\n",
       "      <td>0</td>\n",
       "      <td>0</td>\n",
       "      <td>1</td>\n",
       "      <td>0</td>\n",
       "      <td>1</td>\n",
       "      <td>0</td>\n",
       "      <td>0</td>\n",
       "      <td>...</td>\n",
       "      <td>Beautiful  1BR in the Upper West Side&lt;p&gt;&lt;a  we...</td>\n",
       "      <td>W 69 Street</td>\n",
       "      <td>['Doorman', 'Elevator', 'Laundry in Building']</td>\n",
       "      <td>40.7749</td>\n",
       "      <td>7158358</td>\n",
       "      <td>-73.9782</td>\n",
       "      <td>2b6d9435a0e6c4019e5ffcb53389c3dd</td>\n",
       "      <td>[https://photos.renthop.com/2/7158358_dfd9ad9f...</td>\n",
       "      <td>3150</td>\n",
       "      <td>19 W 69 Street</td>\n",
       "    </tr>\n",
       "    <tr>\n",
       "      <th>24</th>\n",
       "      <td>0</td>\n",
       "      <td>0</td>\n",
       "      <td>0</td>\n",
       "      <td>1</td>\n",
       "      <td>1</td>\n",
       "      <td>1</td>\n",
       "      <td>0</td>\n",
       "      <td>1</td>\n",
       "      <td>0</td>\n",
       "      <td>0</td>\n",
       "      <td>...</td>\n",
       "      <td>This HUGE 2BR W/D UNIT IN apartment in an ELEV...</td>\n",
       "      <td>W 13 Street</td>\n",
       "      <td>['Elevator', 'Laundry in Building', 'Laundry i...</td>\n",
       "      <td>40.7372</td>\n",
       "      <td>7221001</td>\n",
       "      <td>-73.9981</td>\n",
       "      <td>3793e58c60343a3fd6846ca2d2ef3c7f</td>\n",
       "      <td>[https://photos.renthop.com/2/7221001_871cb76a...</td>\n",
       "      <td>5400</td>\n",
       "      <td>117 W 13 Street</td>\n",
       "    </tr>\n",
       "    <tr>\n",
       "      <th>25</th>\n",
       "      <td>0</td>\n",
       "      <td>1</td>\n",
       "      <td>0</td>\n",
       "      <td>0</td>\n",
       "      <td>0</td>\n",
       "      <td>0</td>\n",
       "      <td>0</td>\n",
       "      <td>1</td>\n",
       "      <td>0</td>\n",
       "      <td>0</td>\n",
       "      <td>...</td>\n",
       "      <td>TEMPTING GENEROUS WING E70 2BR\\r\\rBeautiful sp...</td>\n",
       "      <td>TEMPTING GENEROUS WING E70 2BR</td>\n",
       "      <td>['Cats Allowed', 'Exclusive', 'Hardwood', 'Hig...</td>\n",
       "      <td>40.7675</td>\n",
       "      <td>7100305</td>\n",
       "      <td>-73.9594</td>\n",
       "      <td>b89e62bf8cdc98e9fb8b97d9bc627197</td>\n",
       "      <td>[https://photos.renthop.com/2/7100305_881443ac...</td>\n",
       "      <td>2250</td>\n",
       "      <td>east 70</td>\n",
       "    </tr>\n",
       "    <tr>\n",
       "      <th>26</th>\n",
       "      <td>1</td>\n",
       "      <td>0</td>\n",
       "      <td>0</td>\n",
       "      <td>1</td>\n",
       "      <td>1</td>\n",
       "      <td>1</td>\n",
       "      <td>0</td>\n",
       "      <td>1</td>\n",
       "      <td>0</td>\n",
       "      <td>0</td>\n",
       "      <td>...</td>\n",
       "      <td>LOCATION LOCATION LOCATION ? LIVE IN THE HEART...</td>\n",
       "      <td>Greenwich St.</td>\n",
       "      <td>['Swimming Pool', 'Roof Deck', 'Balcony', 'Doo...</td>\n",
       "      <td>40.7180</td>\n",
       "      <td>7096581</td>\n",
       "      <td>-74.0112</td>\n",
       "      <td>7b73a97a2516d3c33de0d452f21d4e79</td>\n",
       "      <td>[https://photos.renthop.com/2/7096581_0e241eff...</td>\n",
       "      <td>4250</td>\n",
       "      <td>310 Greenwich St.</td>\n",
       "    </tr>\n",
       "    <tr>\n",
       "      <th>27</th>\n",
       "      <td>1</td>\n",
       "      <td>1</td>\n",
       "      <td>1</td>\n",
       "      <td>1</td>\n",
       "      <td>1</td>\n",
       "      <td>1</td>\n",
       "      <td>0</td>\n",
       "      <td>1</td>\n",
       "      <td>0</td>\n",
       "      <td>0</td>\n",
       "      <td>...</td>\n",
       "      <td>This luxury building is located in one of New ...</td>\n",
       "      <td>Columbus Ave</td>\n",
       "      <td>['Doorman', 'No Fee', 'Cats Allowed', 'Hardwoo...</td>\n",
       "      <td>40.7943</td>\n",
       "      <td>7177904</td>\n",
       "      <td>-73.9675</td>\n",
       "      <td>ed938c10056b05ed7d476d3bed075b08</td>\n",
       "      <td>[https://photos.renthop.com/2/7177904_f91c3e31...</td>\n",
       "      <td>3000</td>\n",
       "      <td>784 Columbus Ave</td>\n",
       "    </tr>\n",
       "    <tr>\n",
       "      <th>28</th>\n",
       "      <td>0</td>\n",
       "      <td>0</td>\n",
       "      <td>0</td>\n",
       "      <td>0</td>\n",
       "      <td>0</td>\n",
       "      <td>0</td>\n",
       "      <td>0</td>\n",
       "      <td>0</td>\n",
       "      <td>0</td>\n",
       "      <td>0</td>\n",
       "      <td>...</td>\n",
       "      <td>This 2 bedroom apartment is located in a walk ...</td>\n",
       "      <td>Macombs Place</td>\n",
       "      <td>['Pre-War']</td>\n",
       "      <td>40.8261</td>\n",
       "      <td>7122823</td>\n",
       "      <td>-73.9387</td>\n",
       "      <td>8b53ccf4338806ab1be3dd0267711649</td>\n",
       "      <td>[https://photos.renthop.com/2/7122823_bcec713e...</td>\n",
       "      <td>1785</td>\n",
       "      <td>28 Macombs Place</td>\n",
       "    </tr>\n",
       "  </tbody>\n",
       "</table>\n",
       "<p>20 rows × 37 columns</p>\n",
       "</div>"
      ],
      "text/plain": [
       "    Doorman  Cats Allowed  Dogs Allowed  Dishwasher  Hardwood Floors  \\\n",
       "0         0             0             0           1                1   \n",
       "1         0             1             1           0                0   \n",
       "2         0             1             1           0                0   \n",
       "3         0             1             1           0                1   \n",
       "5         1             1             1           0                0   \n",
       "7         1             1             1           1                1   \n",
       "8         0             1             1           0                0   \n",
       "11        1             0             0           0                1   \n",
       "12        0             0             0           0                0   \n",
       "13        0             1             1           0                0   \n",
       "14        0             0             0           0                0   \n",
       "17        1             0             0           1                1   \n",
       "20        1             1             1           1                0   \n",
       "21        0             1             0           0                0   \n",
       "22        1             0             0           0                0   \n",
       "24        0             0             0           1                1   \n",
       "25        0             1             0           0                0   \n",
       "26        1             0             0           1                1   \n",
       "27        1             1             1           1                1   \n",
       "28        0             0             0           0                0   \n",
       "\n",
       "    Laundary in Building  trains  site  center  viewing  ...  \\\n",
       "0                      1       0     1       0        0  ...   \n",
       "1                      0       0     0       0        1  ...   \n",
       "2                      0       0     0       0        0  ...   \n",
       "3                      0       0     1       0        0  ...   \n",
       "5                      1       1     1       0        0  ...   \n",
       "7                      1       0     1       0        0  ...   \n",
       "8                      0       0     0       0        0  ...   \n",
       "11                     1       0     1       0        0  ...   \n",
       "12                     0       0     0       0        0  ...   \n",
       "13                     0       0     0       0        0  ...   \n",
       "14                     0       1     0       0        0  ...   \n",
       "17                     1       0     1       0        0  ...   \n",
       "20                     1       0     1       0        1  ...   \n",
       "21                     0       0     0       0        0  ...   \n",
       "22                     1       0     1       0        0  ...   \n",
       "24                     1       0     1       0        0  ...   \n",
       "25                     0       0     1       0        0  ...   \n",
       "26                     1       0     1       0        0  ...   \n",
       "27                     1       0     1       0        0  ...   \n",
       "28                     0       0     0       0        0  ...   \n",
       "\n",
       "                                          description  \\\n",
       "0   Large with awesome terrace--accessible via bed...   \n",
       "1   Prime Soho - between Bleecker and Houston - Ne...   \n",
       "2   Spacious studio in Prime Location. Cleanbuildi...   \n",
       "3   For immediate access call Bryan.<br /><br />Bo...   \n",
       "5   Beautiful TRUE 1 bedroom in a luxury building ...   \n",
       "7   Beautiful 2 bedroom unit with 2 full bathrooms...   \n",
       "8                                                       \n",
       "11  LOW FEE, AMAZING OVER-SIZED STUDIO IN A LUXURY...   \n",
       "12                                                      \n",
       "13                                                      \n",
       "14  <![CDATA[1 bedroom, 2500, Upper East Side<br /...   \n",
       "17  This fabulous one Bedroom apartment features f...   \n",
       "20  Amazing building located in Upper East Side. S...   \n",
       "21                                                      \n",
       "22  Beautiful  1BR in the Upper West Side<p><a  we...   \n",
       "24  This HUGE 2BR W/D UNIT IN apartment in an ELEV...   \n",
       "25  TEMPTING GENEROUS WING E70 2BR\\r\\rBeautiful sp...   \n",
       "26  LOCATION LOCATION LOCATION ? LIVE IN THE HEART...   \n",
       "27  This luxury building is located in one of New ...   \n",
       "28  This 2 bedroom apartment is located in a walk ...   \n",
       "\n",
       "                   display_address  \\\n",
       "0                   Suffolk Street   \n",
       "1                  Thompson Street   \n",
       "2                  Sullivan Street   \n",
       "3                     Jones Street   \n",
       "5                   Exchange Place   \n",
       "7                       W 42nd St.   \n",
       "8                        Irving Pl   \n",
       "11                       Third Ave   \n",
       "12                    Rivington St   \n",
       "13                West 37th Street   \n",
       "14                  E. 64th Street   \n",
       "17                West 54th Street   \n",
       "20                        E 94 St.   \n",
       "21                      Park Place   \n",
       "22                     W 69 Street   \n",
       "24                     W 13 Street   \n",
       "25  TEMPTING GENEROUS WING E70 2BR   \n",
       "26                   Greenwich St.   \n",
       "27                    Columbus Ave   \n",
       "28                   Macombs Place   \n",
       "\n",
       "                                             features  latitude  listing_id  \\\n",
       "0   ['Elevator', 'Laundry in Building', 'Laundry i...   40.7185     7142618   \n",
       "1         ['Pre-War', 'Dogs Allowed', 'Cats Allowed']   40.7278     7210040   \n",
       "2         ['Pre-War', 'Dogs Allowed', 'Cats Allowed']   40.7260     7174566   \n",
       "3   ['Hardwood Floors', 'Dogs Allowed', 'Cats Allo...   40.7321     7191391   \n",
       "5   ['Roof Deck', 'Doorman', 'Elevator', 'Fitness ...   40.7054     7171695   \n",
       "7   ['Cats Allowed', 'Dogs Allowed', 'No Fee', 'Do...   40.7610     7225206   \n",
       "8        ['Elevator', 'Cats Allowed', 'Dogs Allowed']   40.7358     7200075   \n",
       "11  ['Doorman', 'Elevator', 'Laundry in Building',...   40.7814     7145074   \n",
       "12                                         ['No Fee']   40.7216     7193645   \n",
       "13  ['Fitness Center', 'Cats Allowed', 'Dogs Allow...   40.7553     7147703   \n",
       "14                                                 []   40.7623     7182218   \n",
       "17  ['Swimming Pool', 'Roof Deck', 'Doorman', 'Ele...   40.7678     7132136   \n",
       "20  ['Doorman', 'Elevator', 'Fitness Center', 'Lau...   40.7823     7130670   \n",
       "21                                   ['Cats Allowed']   40.6782     7151855   \n",
       "22     ['Doorman', 'Elevator', 'Laundry in Building']   40.7749     7158358   \n",
       "24  ['Elevator', 'Laundry in Building', 'Laundry i...   40.7372     7221001   \n",
       "25  ['Cats Allowed', 'Exclusive', 'Hardwood', 'Hig...   40.7675     7100305   \n",
       "26  ['Swimming Pool', 'Roof Deck', 'Balcony', 'Doo...   40.7180     7096581   \n",
       "27  ['Doorman', 'No Fee', 'Cats Allowed', 'Hardwoo...   40.7943     7177904   \n",
       "28                                        ['Pre-War']   40.8261     7122823   \n",
       "\n",
       "    longitude                        manager_id  \\\n",
       "0    -73.9865  b1b1852c416d78d7765d746cb1b8921f   \n",
       "1    -74.0000  d0b5648017832b2427eeb9956d966a14   \n",
       "2    -74.0026  e6472c7237327dd3903b3d6f6a94515a   \n",
       "3    -74.0028  41735645e0f8f13993c42894023f8e58   \n",
       "5    -74.0095  a742cf7dd3b2627d83417bc3a1b3ec96   \n",
       "7    -73.9983  93e03c5179b8f3229fc1c63c0f75d11b   \n",
       "8    -73.9877  7422eabb4c6c3448c000f7be84e5c1b8   \n",
       "11   -73.9507  5642b01c61afd6b54601365aedc96b68   \n",
       "12   -73.9927  64249f81378907ae7cf65e8ccb4bd8dc   \n",
       "13   -73.9953  11215cda1d873d587dcdf455001c1b84   \n",
       "14   -73.9590  e6472c7237327dd3903b3d6f6a94515a   \n",
       "17   -73.9915  0577b9cf7d26e41800d814cb70b2bbf0   \n",
       "20   -73.9459  e6472c7237327dd3903b3d6f6a94515a   \n",
       "21   -73.9750  7f6d00384a19d9bdd15ff36ddbad699a   \n",
       "22   -73.9782  2b6d9435a0e6c4019e5ffcb53389c3dd   \n",
       "24   -73.9981  3793e58c60343a3fd6846ca2d2ef3c7f   \n",
       "25   -73.9594  b89e62bf8cdc98e9fb8b97d9bc627197   \n",
       "26   -74.0112  7b73a97a2516d3c33de0d452f21d4e79   \n",
       "27   -73.9675  ed938c10056b05ed7d476d3bed075b08   \n",
       "28   -73.9387  8b53ccf4338806ab1be3dd0267711649   \n",
       "\n",
       "                                               photos  price  \\\n",
       "0   [https://photos.renthop.com/2/7142618_1c45a2c8...   2950   \n",
       "1   [https://photos.renthop.com/2/7210040_d824cc71...   2850   \n",
       "2   [https://photos.renthop.com/2/7174566_ba3a35c5...   2295   \n",
       "3   [https://photos.renthop.com/2/7191391_8c2f2d49...   2900   \n",
       "5   [https://photos.renthop.com/2/7171695_089ffee2...   3254   \n",
       "7   [https://photos.renthop.com/2/7225206_6b8ac259...   4990   \n",
       "8   [https://photos.renthop.com/2/7200075_abfbded7...  20000   \n",
       "11  [https://photos.renthop.com/2/7145074_025b6af2...   2150   \n",
       "12  [https://photos.renthop.com/2/7193645_61e67bb1...   6500   \n",
       "13  [https://photos.renthop.com/2/7147703_1fb336cd...   3365   \n",
       "14  [https://photos.renthop.com/2/7182218_79365560...   2500   \n",
       "17  [https://photos.renthop.com/2/7132136_00f58564...   3777   \n",
       "20  [https://photos.renthop.com/2/7130670_0e7b093c...   2400   \n",
       "21  [https://photos.renthop.com/2/7151855_96c43e24...   2800   \n",
       "22  [https://photos.renthop.com/2/7158358_dfd9ad9f...   3150   \n",
       "24  [https://photos.renthop.com/2/7221001_871cb76a...   5400   \n",
       "25  [https://photos.renthop.com/2/7100305_881443ac...   2250   \n",
       "26  [https://photos.renthop.com/2/7096581_0e241eff...   4250   \n",
       "27  [https://photos.renthop.com/2/7177904_f91c3e31...   3000   \n",
       "28  [https://photos.renthop.com/2/7122823_bcec713e...   1785   \n",
       "\n",
       "          street_address  \n",
       "0      99 Suffolk Street  \n",
       "1    176 Thompson Street  \n",
       "2    115 Sullivan Street  \n",
       "3        23 Jones Street  \n",
       "5      20 Exchange Place  \n",
       "7         650 W 42nd St.  \n",
       "8           47 Irving Pl  \n",
       "11        1619 Third Ave  \n",
       "12        8 Rivington St  \n",
       "13  400 West 37th Street  \n",
       "14    410 E. 64th Street  \n",
       "17  550 West 54th Street  \n",
       "20          345 E 94 St.  \n",
       "21        108 Park Place  \n",
       "22        19 W 69 Street  \n",
       "24       117 W 13 Street  \n",
       "25               east 70  \n",
       "26     310 Greenwich St.  \n",
       "27      784 Columbus Ave  \n",
       "28      28 Macombs Place  \n",
       "\n",
       "[20 rows x 37 columns]"
      ]
     },
     "execution_count": 67,
     "metadata": {},
     "output_type": "execute_result"
    }
   ],
   "source": [
    "my_df1.head(20)"
   ]
  },
  {
   "cell_type": "code",
   "execution_count": null,
   "metadata": {
    "scrolled": true
   },
   "outputs": [],
   "source": []
  },
  {
   "cell_type": "code",
   "execution_count": null,
   "metadata": {},
   "outputs": [],
   "source": []
  },
  {
   "cell_type": "code",
   "execution_count": null,
   "metadata": {},
   "outputs": [],
   "source": []
  },
  {
   "cell_type": "code",
   "execution_count": 41,
   "metadata": {},
   "outputs": [],
   "source": [
    "mapping = []\n",
    "from sklearn.preprocessing import LabelEncoder\n",
    "\n"
   ]
  },
  {
   "cell_type": "code",
   "execution_count": 42,
   "metadata": {
    "scrolled": false
   },
   "outputs": [
    {
     "data": {
      "text/plain": [
       "['Dining Room',\n",
       " 'Pre-War',\n",
       " 'Laundry in Building',\n",
       " 'Dishwasher',\n",
       " 'Hardwood Floors',\n",
       " 'Dogs Allowed',\n",
       " 'Cats Allowed']"
      ]
     },
     "execution_count": 42,
     "metadata": {},
     "output_type": "execute_result"
    }
   ],
   "source": [
    "# if my_df2.description\n",
    "# my_df2['kitchen'] =  \n",
    "my_df2['features'][0]"
   ]
  },
  {
   "cell_type": "code",
   "execution_count": 43,
   "metadata": {},
   "outputs": [],
   "source": [
    "features_dict = {}\n",
    "def get_features(features):\n",
    "    for f in features:\n",
    "        f = f.strip('!')\n",
    "        f = f.strip('*')\n",
    "        f = f.strip(' ')\n",
    "        \n",
    "        if f in features_dict.keys():\n",
    "            features_dict[f] += 1\n",
    "        else:\n",
    "            features_dict[f] = 1\n",
    "            \n",
    "temp = my_df2['features'].apply(get_features)"
   ]
  },
  {
   "cell_type": "code",
   "execution_count": 44,
   "metadata": {},
   "outputs": [],
   "source": [
    "features_dict.keys()\n",
    "features_columns = {}\n",
    "features_list = []\n",
    "\n",
    "for key in features_dict.keys():\n",
    "    if features_dict[key] >= 20000:\n",
    "        features_list.append(key)\n",
    "        features_columns[key] = []\n",
    "        "
   ]
  },
  {
   "cell_type": "code",
   "execution_count": 45,
   "metadata": {},
   "outputs": [],
   "source": [
    "my_df1.insert(0,\"Laundary in Building\",0)\n",
    "my_df1.insert(0,\"Hardwood Floors\",0)\n",
    "my_df1.insert(0,\"Dishwasher\",0)\n",
    "my_df1.insert(0,\"Dogs Allowed\",0)\n",
    "my_df1.insert(0,\"Cats Allowed\",0)\n",
    "my_df1.insert(0,\"Doorman\",0)"
   ]
  },
  {
   "cell_type": "code",
   "execution_count": 46,
   "metadata": {},
   "outputs": [],
   "source": [
    "my_df1.features= my_df1.features.astype(str)"
   ]
  },
  {
   "cell_type": "code",
   "execution_count": 47,
   "metadata": {},
   "outputs": [],
   "source": [
    "\n",
    "my_df1.loc[my_df1['features'].str.contains(\"Laundry in Building\"),'Laundary in Building'] = 1\n",
    "my_df1.loc[my_df1['features'].str.contains(\"Hardwood Floors\"),'Hardwood Floors'] = 1\n",
    "my_df1.loc[my_df1['features'].str.contains(\"Dishwasher\"),'Dishwasher'] = 1\n",
    "my_df1.loc[my_df1['features'].str.contains(\"Dogs Allowed\"),'Dogs Allowed'] = 1\n",
    "my_df1.loc[my_df1['features'].str.contains(\"Cats Allowed\"),'Cats Allowed'] = 1\n",
    "my_df1.loc[my_df1['features'].str.contains(\"Doorman\"),'Doorman'] = 1"
   ]
  },
  {
   "cell_type": "code",
   "execution_count": 48,
   "metadata": {},
   "outputs": [],
   "source": [
    "my_df2.insert(0,\"Laundary in Building\",0)\n",
    "my_df2.insert(0,\"Hardwood Floors\",0)\n",
    "my_df2.insert(0,\"Dishwasher\",0)\n",
    "my_df2.insert(0,\"Dogs Allowed\",0)\n",
    "my_df2.insert(0,\"Cats Allowed\",0)\n",
    "my_df2.insert(0,\"Doorman\",0)"
   ]
  },
  {
   "cell_type": "code",
   "execution_count": 49,
   "metadata": {},
   "outputs": [],
   "source": [
    "my_df2.features= my_df2.features.astype(str)"
   ]
  },
  {
   "cell_type": "code",
   "execution_count": 50,
   "metadata": {},
   "outputs": [],
   "source": [
    "my_df2.loc[my_df2['features'].str.contains(\"Laundry in Building\"),'Laundary in Building'] = 1\n",
    "my_df2.loc[my_df2['features'].str.contains(\"Hardwood Floors\"),'Hardwood Floors'] = 1\n",
    "my_df2.loc[my_df2['features'].str.contains(\"Dishwasher\"),'Dishwasher'] = 1\n",
    "my_df2.loc[my_df2['features'].str.contains(\"Dogs Allowed\"),'Dogs Allowed'] = 1\n",
    "my_df2.loc[my_df2['features'].str.contains(\"Cats Allowed\"),'Cats Allowed'] = 1\n",
    "my_df2.loc[my_df2['features'].str.contains(\"Doorman\"),'Doorman'] = 1"
   ]
  },
  {
   "cell_type": "code",
   "execution_count": 51,
   "metadata": {},
   "outputs": [],
   "source": [
    "#my_df2['location'] = my_df2[['latitude','longitude']].values.tolist()\n",
    "#my_df2['features_keys'] = my_df2[['Laundary in Building','Hardwood Floors','Dishwasher','Dogs Allowed','Cats Allowed','Doorman']].values.tolist()\n",
    "#my_df2.head(20)\n"
   ]
  },
  {
   "cell_type": "code",
   "execution_count": null,
   "metadata": {},
   "outputs": [],
   "source": []
  },
  {
   "cell_type": "code",
   "execution_count": 52,
   "metadata": {},
   "outputs": [],
   "source": [
    "from sklearn.metrics import classification_report"
   ]
  },
  {
   "cell_type": "code",
   "execution_count": 144,
   "metadata": {
    "scrolled": true
   },
   "outputs": [
    {
     "name": "stdout",
     "output_type": "stream",
     "text": [
      "              precision    recall  f1-score   support\n",
      "\n",
      "           0       0.68      1.00      0.81      6296\n",
      "           1       0.00      0.00      0.00      2190\n",
      "           2       0.00      0.00      0.00       783\n",
      "\n",
      "    accuracy                           0.68      9269\n",
      "   macro avg       0.23      0.33      0.27      9269\n",
      "weighted avg       0.46      0.68      0.55      9269\n",
      "\n"
     ]
    },
    {
     "name": "stderr",
     "output_type": "stream",
     "text": [
      "/Library/Frameworks/Python.framework/Versions/3.8/lib/python3.8/site-packages/sklearn/metrics/_classification.py:1272: UndefinedMetricWarning: Precision and F-score are ill-defined and being set to 0.0 in labels with no predicted samples. Use `zero_division` parameter to control this behavior.\n",
      "  _warn_prf(average, modifier, msg_start, len(result))\n"
     ]
    }
   ],
   "source": [
    "from sklearn import preprocessing\n",
    "my_df2['target'] = my_df2['interest_level'].apply(lambda x: 0 if x == 'low' else 1 if x == 'medium' else 2)\n",
    "# my_df2['location'] = my_df2[['latitude','longitude']].values.tolist()\n",
    "# my_df2['features_keys'] = my_df2[['latitude','longitude']].values.tolist()\n",
    "X = my_df2[['bathrooms','bedrooms','longitude', 'latitude','price','Laundary in Building','Hardwood Floors','Dishwasher','Dogs Allowed','Cats Allowed','Doorman']]\n",
    "#X = my_df2[['latitude','longitude']]\n",
    "Y = my_df2['target']\n",
    "\n",
    "X_train, X_test, Y_train, Y_test = train_test_split(X, Y, test_size = 0.2, random_state = 0, shuffle = True)\n",
    "X_scaled = preprocessing.scale(X_train)\n",
    "Y_scaled = preprocessing.scale(Y_train)\n",
    "logistic_model4 = LogisticRegression(penalty = 'l2', solver = 'sag',multi_class = 'multinomial')\n",
    "logistic_model4.fit(X_scaled, Y_train)\n",
    "\n",
    "pred_test = logistic_model4.predict(X_test)\n",
    "print(classification_report(Y_test, pred_test))\n",
    "\n",
    "\n"
   ]
  },
  {
   "cell_type": "code",
   "execution_count": 54,
   "metadata": {},
   "outputs": [
    {
     "name": "stderr",
     "output_type": "stream",
     "text": [
      "/Library/Frameworks/Python.framework/Versions/3.8/lib/python3.8/site-packages/sklearn/linear_model/_sag.py:329: ConvergenceWarning: The max_iter was reached which means the coef_ did not converge\n",
      "  warnings.warn(\"The max_iter was reached which means \"\n"
     ]
    }
   ],
   "source": [
    "my_df2['target'] = my_df2['interest_level'].apply(lambda x: 0 if x == 'low' else 1 if x == 'medium' else 2)\n",
    "X= my_df2[['bathrooms','bedrooms','longitude', 'latitude','price']]\n",
    "X_test = my_df1[['bathrooms','bedrooms','longitude', 'latitude','price']]\n",
    "y = my_df2['target']\n",
    "\n",
    "#X = my_df2['latitude','longitude']\n",
    "#y = my_df2['target']\n",
    "#X_train, X_test, y_train, y_test = train_test_split(X, y, shuffle = True)\n",
    "\n",
    "#X_scaled = preprocessing.scale(X)\n",
    "logistic_modela = LogisticRegression(penalty = 'l2', solver = 'sag',multi_class = 'multinomial' )\n",
    "logistic_modela.fit(X,y)\n",
    "y = logistic_modela.predict(X_test)\n",
    "y_test = logistic_modela.predict_proba(X_test)\n",
    "test_data = {'listing_id' : my_df1['listing_id'],'high': y_test[:,2],'medium': y_test[:,1],'low': y_test[:,0]}\n",
    "\n",
    "data1 = pd.DataFrame(data = test_data)\n",
    "data1\n",
    "data1.to_csv(\"test_Data.csv\", index = False)"
   ]
  },
  {
   "cell_type": "code",
   "execution_count": 55,
   "metadata": {},
   "outputs": [
    {
     "name": "stderr",
     "output_type": "stream",
     "text": [
      "/Library/Frameworks/Python.framework/Versions/3.8/lib/python3.8/site-packages/sklearn/linear_model/_sag.py:329: ConvergenceWarning: The max_iter was reached which means the coef_ did not converge\n",
      "  warnings.warn(\"The max_iter was reached which means \"\n"
     ]
    }
   ],
   "source": [
    "my_df2['target'] = my_df2['interest_level'].apply(lambda x: 0 if x == 'low' else 1 if x == 'medium' else 2)\n",
    "X= my_df2[['bathrooms','bedrooms','longitude', 'latitude','price']]\n",
    "X_test = my_df1[['bathrooms','bedrooms','longitude', 'latitude','price']]\n",
    "y = my_df2['target']\n",
    "\n",
    "#X = my_df2['latitude','longitude']\n",
    "#y = my_df2['target']\n",
    "#X_train, X_test, y_train, y_test = train_test_split(X, y, shuffle = True)\n",
    "\n",
    "#X_scaled = preprocessing.scale(X)\n",
    "logistic_modela = LogisticRegression(penalty = 'l2', solver = 'sag',multi_class = 'multinomial', class_weight = 'balanced')\n",
    "logistic_modela.fit(X,y)\n",
    "y = logistic_modela.predict(X_test)\n",
    "y_test = logistic_modela.predict_proba(X_test)\n",
    "test_data = {'listing_id' : my_df1['listing_id'],'high': y_test[:,2],'medium': y_test[:,1],'low': y_test[:,0]}\n",
    "\n",
    "data1 = pd.DataFrame(data = test_data)\n",
    "data1\n",
    "data1.to_csv(\"test_Data4.csv\", index = False)"
   ]
  },
  {
   "cell_type": "code",
   "execution_count": 56,
   "metadata": {},
   "outputs": [
    {
     "name": "stderr",
     "output_type": "stream",
     "text": [
      "/Library/Frameworks/Python.framework/Versions/3.8/lib/python3.8/site-packages/sklearn/linear_model/_logistic.py:938: ConvergenceWarning: lbfgs failed to converge (status=1):\n",
      "STOP: TOTAL NO. of ITERATIONS REACHED LIMIT.\n",
      "\n",
      "Increase the number of iterations (max_iter) or scale the data as shown in:\n",
      "    https://scikit-learn.org/stable/modules/preprocessing.html\n",
      "Please also refer to the documentation for alternative solver options:\n",
      "    https://scikit-learn.org/stable/modules/linear_model.html#logistic-regression\n",
      "  n_iter_i = _check_optimize_result(\n"
     ]
    }
   ],
   "source": [
    "my_df2['target'] = my_df2['interest_level'].apply(lambda x: 0 if x == 'low' else 1 if x == 'medium' else 2)\n",
    "X= my_df2[['bathrooms','bedrooms','longitude', 'latitude','price','Laundary in Building','Hardwood Floors','Dishwasher','Dogs Allowed','Cats Allowed','Doorman']]\n",
    "X_test = my_df1[['bathrooms','bedrooms','longitude', 'latitude','price','Laundary in Building','Hardwood Floors','Dishwasher','Dogs Allowed','Cats Allowed','Doorman']]\n",
    "y = my_df2['target']\n",
    "\n",
    "#X = my_df2['latitude','longitude']\n",
    "#y = my_df2['target']\n",
    "#X_train, X_test, y_train, y_test = train_test_split(X, y, shuffle = True)\n",
    "\n",
    "#X_scaled = preprocessing.scale(X)\n",
    "logistic_modela = LogisticRegression(multi_class = 'multinomial')\n",
    "logistic_modela.fit(X,y)\n",
    "y = logistic_modela.predict(X_test)\n",
    "y_test = logistic_modela.predict_proba(X_test)\n",
    "test_data = {'listing_id' : my_df1['listing_id'],'high': y_test[:,2],'medium': y_test[:,1],'low': y_test[:,0]}\n",
    "\n",
    "data1 = pd.DataFrame(data = test_data)\n",
    "data1\n",
    "data1.to_csv(\"test_Data6.csv\", index = False)"
   ]
  },
  {
   "cell_type": "code",
   "execution_count": 57,
   "metadata": {},
   "outputs": [],
   "source": [
    "my_df2['target'] = my_df2['interest_level'].apply(lambda x: 0 if x == 'low' else 1 if x == 'medium' else 2)\n",
    "X= my_df2[['bathrooms','bedrooms','longitude', 'latitude','price','Laundary in Building','Hardwood Floors','Dishwasher','Dogs Allowed','Cats Allowed','Doorman']]\n",
    "X_test = my_df1[['bathrooms','bedrooms','longitude', 'latitude','price','Laundary in Building','Hardwood Floors','Dishwasher','Dogs Allowed','Cats Allowed','Doorman']]\n",
    "y = my_df2['target']\n",
    "\n",
    "#X = my_df2['latitude','longitude']\n",
    "#y = my_df2['target']\n",
    "#X_train, X_test, y_train, y_test = train_test_split(X, y, shuffle = True)\n",
    "\n",
    "#X_scaled = preprocessing.scale(X)\n",
    "logistic_modela = LogisticRegression(multi_class = 'multinomial', C = 0.0001)\n",
    "logistic_modela.fit(X,y)\n",
    "y = logistic_modela.predict(X_test)\n",
    "y_test = logistic_modela.predict_proba(X_test)\n",
    "test_data = {'listing_id' : my_df1['listing_id'],'high': y_test[:,2],'medium': y_test[:,1],'low': y_test[:,0]}\n",
    "data1 = pd.DataFrame(data = test_data)\n",
    "data1\n",
    "data1.to_csv(\"test_Data7.csv\", index = False)"
   ]
  },
  {
   "cell_type": "code",
   "execution_count": 58,
   "metadata": {},
   "outputs": [],
   "source": [
    "my_df2['target'] = my_df2['interest_level'].apply(lambda x: 0 if x == 'low' else 1 if x == 'medium' else 2)\n",
    "X= my_df2[['bathrooms','bedrooms','longitude', 'latitude','price','Laundary in Building','Hardwood Floors','Dishwasher','Dogs Allowed','Cats Allowed','Doorman']]\n",
    "X_test = my_df1[['bathrooms','bedrooms','longitude', 'latitude','price','Laundary in Building','Hardwood Floors','Dishwasher','Dogs Allowed','Cats Allowed','Doorman']]\n",
    "y = my_df2['target']\n",
    "\n",
    "#X = my_df2['latitude','longitude']\n",
    "#y = my_df2['target']\n",
    "#X_train, X_test, y_train, y_test = train_test_split(X, y, shuffle = True)\n",
    "\n",
    "#X_scaled = preprocessing.scale(X)\n",
    "logistic_modela = LogisticRegression(penalty = 'l1', solver = 'liblinear')\n",
    "logistic_modela.fit(X,y)\n",
    "y = logistic_modela.predict(X_test)\n",
    "y_test = logistic_modela.predict_proba(X_test)\n",
    "test_data = {'listing_id' : my_df1['listing_id'],'high': y_test[:,2],'medium': y_test[:,1],'low': y_test[:,0]}\n",
    "data1 = pd.DataFrame(data = test_data)\n",
    "data1\n",
    "data1.to_csv(\"test_Data8.csv\", index = False)"
   ]
  },
  {
   "cell_type": "code",
   "execution_count": null,
   "metadata": {},
   "outputs": [],
   "source": []
  },
  {
   "cell_type": "code",
   "execution_count": 69,
   "metadata": {},
   "outputs": [],
   "source": [
    "my_df2['target'] = my_df2['interest_level'].apply(lambda x: 0 if x == 'low' else 1 if x == 'medium' else 2)\n",
    "X= my_df2[['bathrooms','bedrooms','longitude', 'latitude','price','Laundary in Building','Hardwood Floors','Dishwasher','Dogs Allowed','Cats Allowed','Doorman','kitchen','renoveted','new','great','locate','high','restaurants','marble','part','location','beautiful','private','luxury','viewing','center','site','trains']]\n",
    "X_test = my_df1[['bathrooms','bedrooms','longitude', 'latitude','price','Laundary in Building','Hardwood Floors','Dishwasher','Dogs Allowed','Cats Allowed','Doorman','kitchen','renoveted','new','great','locate','high','restaurants','marble','part','location','beautiful','private','luxury','viewing','center','site','trains']]\n",
    "y = my_df2['target']\n",
    "\n",
    "#X = my_df2['latitude','longitude']\n",
    "#y = my_df2['target']\n",
    "#X_train, X_test, y_train, y_test = train_test_split(X, y, shuffle = True)\n",
    "\n",
    "#X_scaled = preprocessing.scale(X)\n",
    "logistic_modela = LogisticRegression(penalty = 'l1', solver = 'liblinear')\n",
    "logistic_modela.fit(X,y)\n",
    "y = logistic_modela.predict(X_test)\n",
    "y_test = logistic_modela.predict_proba(X_test)\n",
    "test_data = {'listing_id' : my_df1['listing_id'],'high': y_test[:,2],'medium': y_test[:,1],'low': y_test[:,0]}\n",
    "data1 = pd.DataFrame(data = test_data)\n",
    "data1\n",
    "data1.to_csv(\"test_Data9.csv\", index = False)"
   ]
  },
  {
   "cell_type": "code",
   "execution_count": 73,
   "metadata": {},
   "outputs": [],
   "source": [
    "X= my_df2[['bathrooms','bedrooms','longitude', 'latitude','price','Laundary in Building','Hardwood Floors','Dishwasher','Dogs Allowed','Cats Allowed','Doorman','kitchen','renoveted','new','great','locate','high','restaurants','marble','part','location','beautiful','private','luxury','viewing','center','site','trains']]\n",
    "X_test = my_df1[['bathrooms','bedrooms','longitude', 'latitude','price','Laundary in Building','Hardwood Floors','Dishwasher','Dogs Allowed','Cats Allowed','Doorman','kitchen','renoveted','new','great','locate','high','restaurants','marble','part','location','beautiful','private','luxury','viewing','center','site','trains']]\n",
    "y = my_df2['target']\n",
    "\n",
    "#X = my_df2['latitude','longitude']\n",
    "#y = my_df2['target']\n",
    "#X_train, X_test, y_train, y_test = train_test_split(X, y, shuffle = True)\n",
    "\n",
    "#X_scaled = preprocessing.scale(X)\n",
    "logistic_modela = LogisticRegression(penalty = 'l1', solver = 'liblinear', class_weight = 'balanced')\n",
    "logistic_modela.fit(X,y)\n",
    "y = logistic_modela.predict(X_test)\n",
    "y_test = logistic_modela.predict_proba(X_test)\n",
    "test_data = {'listing_id' : my_df1['listing_id'],'high': y_test[:,2],'medium': y_test[:,1],'low': y_test[:,0]}\n",
    "data1 = pd.DataFrame(data = test_data)\n",
    "data1\n",
    "data1.to_csv(\"test_Data10.csv\", index = False)"
   ]
  },
  {
   "cell_type": "code",
   "execution_count": 74,
   "metadata": {},
   "outputs": [],
   "source": [
    "X= my_df2[['bathrooms','bedrooms','longitude', 'latitude','price','Laundary in Building','Hardwood Floors','Dishwasher','Dogs Allowed','Cats Allowed','Doorman','kitchen','renoveted','new','great','locate','high','restaurants','marble','part','location','beautiful','private','luxury','viewing','center','site','trains']]\n",
    "X_test = my_df1[['bathrooms','bedrooms','longitude', 'latitude','price','Laundary in Building','Hardwood Floors','Dishwasher','Dogs Allowed','Cats Allowed','Doorman','kitchen','renoveted','new','great','locate','high','restaurants','marble','part','location','beautiful','private','luxury','viewing','center','site','trains']]\n",
    "y = my_df2['target']\n",
    "\n",
    "#X = my_df2['latitude','longitude']\n",
    "#y = my_df2['target']\n",
    "#X_train, X_test, y_train, y_test = train_test_split(X, y, shuffle = True)\n",
    "\n",
    "X_scaled = preprocessing.scale(X)\n",
    "logistic_modela = LogisticRegression(penalty = 'l1', solver = 'liblinear')\n",
    "logistic_modela.fit(X_scaled,y)\n",
    "y = logistic_modela.predict(X_test)\n",
    "y_test = logistic_modela.predict_proba(X_test)\n",
    "test_data = {'listing_id' : my_df1['listing_id'],'high': y_test[:,2],'medium': y_test[:,1],'low': y_test[:,0]}\n",
    "data1 = pd.DataFrame(data = test_data)\n",
    "data1\n",
    "data1.to_csv(\"test_Data11.csv\", index = False)"
   ]
  },
  {
   "cell_type": "code",
   "execution_count": 77,
   "metadata": {},
   "outputs": [],
   "source": [
    "X= my_df2[['bathrooms','bedrooms','longitude', 'latitude','price','Laundary in Building','Hardwood Floors','Dishwasher','Dogs Allowed','Cats Allowed','Doorman','kitchen','renoveted','new','great','locate','high','restaurants','marble','part','location','beautiful','private','luxury','viewing','center','site','trains']]\n",
    "X_test = my_df1[['bathrooms','bedrooms','longitude', 'latitude','price','Laundary in Building','Hardwood Floors','Dishwasher','Dogs Allowed','Cats Allowed','Doorman','kitchen','renoveted','new','great','locate','high','restaurants','marble','part','location','beautiful','private','luxury','viewing','center','site','trains']]\n",
    "y = my_df2['target']\n",
    "\n",
    "#X = my_df2['latitude','longitude']\n",
    "#y = my_df2['target']\n",
    "#X_train, X_test, y_train, y_test = train_test_split(X, y, shuffle = True)\n",
    "\n",
    "#X_scaled = preprocessing.scale(X)\n",
    "logistic_modela = LogisticRegression(penalty = 'l1', solver = 'liblinear', C = 0.0001)\n",
    "logistic_modela.fit(X,y)\n",
    "y = logistic_modela.predict(X_test)\n",
    "y_test = logistic_modela.predict_proba(X_test)\n",
    "test_data = {'listing_id' : my_df1['listing_id'],'high': y_test[:,2],'medium': y_test[:,1],'low': y_test[:,0]}\n",
    "data1 = pd.DataFrame(data = test_data)\n",
    "data1\n",
    "data1.to_csv(\"test_Data14.csv\", index = False)"
   ]
  },
  {
   "cell_type": "code",
   "execution_count": 160,
   "metadata": {},
   "outputs": [
    {
     "name": "stderr",
     "output_type": "stream",
     "text": [
      "/Users/scarletchen/Library/Python/3.8/lib/python/site-packages/scipy/optimize/linesearch.py:466: LineSearchWarning: The line search algorithm did not converge\n",
      "  warn('The line search algorithm did not converge', LineSearchWarning)\n",
      "/Users/scarletchen/Library/Python/3.8/lib/python/site-packages/scipy/optimize/linesearch.py:314: LineSearchWarning: The line search algorithm did not converge\n",
      "  warn('The line search algorithm did not converge', LineSearchWarning)\n",
      "/Library/Frameworks/Python.framework/Versions/3.8/lib/python3.8/site-packages/sklearn/utils/optimize.py:211: ConvergenceWarning: newton-cg failed to converge. Increase the number of iterations.\n",
      "  warnings.warn(\"newton-cg failed to converge. Increase the \"\n"
     ]
    },
    {
     "ename": "AttributeError",
     "evalue": "'LogisticRegression' object has no attribute 'accuracy_score'",
     "output_type": "error",
     "traceback": [
      "\u001b[0;31m---------------------------------------------------------------------------\u001b[0m",
      "\u001b[0;31mAttributeError\u001b[0m                            Traceback (most recent call last)",
      "\u001b[0;32m<ipython-input-160-e3a0b499c602>\u001b[0m in \u001b[0;36m<module>\u001b[0;34m\u001b[0m\n\u001b[1;32m     12\u001b[0m \u001b[0my\u001b[0m \u001b[0;34m=\u001b[0m \u001b[0mlogistic_modela\u001b[0m\u001b[0;34m.\u001b[0m\u001b[0mpredict\u001b[0m\u001b[0;34m(\u001b[0m\u001b[0mX_test\u001b[0m\u001b[0;34m)\u001b[0m\u001b[0;34m\u001b[0m\u001b[0;34m\u001b[0m\u001b[0m\n\u001b[1;32m     13\u001b[0m \u001b[0;31m#y_test = logistic_modela.predict_proba(X_test)\u001b[0m\u001b[0;34m\u001b[0m\u001b[0;34m\u001b[0m\u001b[0;34m\u001b[0m\u001b[0m\n\u001b[0;32m---> 14\u001b[0;31m \u001b[0mprint\u001b[0m\u001b[0;34m(\u001b[0m\u001b[0;34m\"logistic_model1.score\"\u001b[0m\u001b[0;34m,\u001b[0m\u001b[0mlogistic_modela\u001b[0m\u001b[0;34m.\u001b[0m\u001b[0maccuracy_score\u001b[0m\u001b[0;34m(\u001b[0m\u001b[0mX_test\u001b[0m\u001b[0;34m,\u001b[0m \u001b[0my_test\u001b[0m\u001b[0;34m)\u001b[0m\u001b[0;34m)\u001b[0m\u001b[0;34m\u001b[0m\u001b[0;34m\u001b[0m\u001b[0m\n\u001b[0m\u001b[1;32m     15\u001b[0m \u001b[0;34m\u001b[0m\u001b[0m\n\u001b[1;32m     16\u001b[0m \u001b[0;31m#test_data = {'listing_id' : my_df1['listing_id'],'high': y_test[:,2],'medium': y_test[:,1],'low': y_test[:,0]}\u001b[0m\u001b[0;34m\u001b[0m\u001b[0;34m\u001b[0m\u001b[0;34m\u001b[0m\u001b[0m\n",
      "\u001b[0;31mAttributeError\u001b[0m: 'LogisticRegression' object has no attribute 'accuracy_score'"
     ]
    }
   ],
   "source": [
    "X= my_df2[['bathrooms','bedrooms','longitude', 'latitude','price','Laundary in Building','Hardwood Floors','Dishwasher','Dogs Allowed','Cats Allowed','Doorman','kitchen','renoveted','new','great','locate','high','restaurants','marble','part','location','beautiful','private','luxury','viewing','center','site','trains']]\n",
    "X_test = my_df1[['bathrooms','bedrooms','longitude', 'latitude','price','Laundary in Building','Hardwood Floors','Dishwasher','Dogs Allowed','Cats Allowed','Doorman','kitchen','renoveted','new','great','locate','high','restaurants','marble','part','location','beautiful','private','luxury','viewing','center','site','trains']]\n",
    "y = my_df2['target']\n",
    "\n",
    "#X = my_df2['latitude','longitude']\n",
    "#y = my_df2['target']\n",
    "X_train, X_test, y_train, y_test = train_test_split(X, Y, test_size = 0.2, random_state = 0,shuffle = True)\n",
    "\n",
    "#X_scaled = preprocessing.scale(X)\n",
    "logistic_modela = LogisticRegression(penalty = 'l2', solver = 'newton-cg', C = 0.1, multi_class = 'multinomial')\n",
    "logistic_modela.fit(X,y)\n",
    "y = logistic_modela.predict(X_test)\n",
    "#y_test = logistic_modela.predict_proba(X_test)\n",
    "print(\"logistic_model1.score\",logistic_modela.accuracy_score(X_test, y_test))\n",
    "\n",
    "#test_data = {'listing_id' : my_df1['listing_id'],'high': y_test[:,2],'medium': y_test[:,1],'low': y_test[:,0]}\n",
    "#data1 = pd.DataFrame(data = test_data)\n",
    "#data1\n",
    "#data1.to_csv(\"test_Data15.csv\", index = False)"
   ]
  },
  {
   "cell_type": "code",
   "execution_count": 145,
   "metadata": {},
   "outputs": [
    {
     "name": "stderr",
     "output_type": "stream",
     "text": [
      "/Users/scarletchen/Library/Python/3.8/lib/python/site-packages/scipy/optimize/linesearch.py:466: LineSearchWarning: The line search algorithm did not converge\n",
      "  warn('The line search algorithm did not converge', LineSearchWarning)\n",
      "/Users/scarletchen/Library/Python/3.8/lib/python/site-packages/scipy/optimize/linesearch.py:314: LineSearchWarning: The line search algorithm did not converge\n",
      "  warn('The line search algorithm did not converge', LineSearchWarning)\n",
      "/Library/Frameworks/Python.framework/Versions/3.8/lib/python3.8/site-packages/sklearn/utils/optimize.py:211: ConvergenceWarning: newton-cg failed to converge. Increase the number of iterations.\n",
      "  warnings.warn(\"newton-cg failed to converge. Increase the \"\n"
     ]
    },
    {
     "ename": "NameError",
     "evalue": "name 'y_train' is not defined",
     "output_type": "error",
     "traceback": [
      "\u001b[0;31m---------------------------------------------------------------------------\u001b[0m",
      "\u001b[0;31mNameError\u001b[0m                                 Traceback (most recent call last)",
      "\u001b[0;32m<ipython-input-145-331203ad6f32>\u001b[0m in \u001b[0;36m<module>\u001b[0;34m\u001b[0m\n\u001b[1;32m     18\u001b[0m \u001b[0mpred_test\u001b[0m \u001b[0;34m=\u001b[0m \u001b[0mlogistic_modela\u001b[0m\u001b[0;34m.\u001b[0m\u001b[0mpredict\u001b[0m\u001b[0;34m(\u001b[0m\u001b[0mX_test\u001b[0m\u001b[0;34m)\u001b[0m\u001b[0;34m\u001b[0m\u001b[0;34m\u001b[0m\u001b[0m\n\u001b[1;32m     19\u001b[0m \u001b[0;34m\u001b[0m\u001b[0m\n\u001b[0;32m---> 20\u001b[0;31m \u001b[0mprint\u001b[0m\u001b[0;34m(\u001b[0m\u001b[0mclassification_report\u001b[0m\u001b[0;34m(\u001b[0m\u001b[0my_train\u001b[0m\u001b[0;34m,\u001b[0m\u001b[0my_test\u001b[0m\u001b[0;34m)\u001b[0m\u001b[0;34m)\u001b[0m\u001b[0;34m\u001b[0m\u001b[0;34m\u001b[0m\u001b[0m\n\u001b[0m\u001b[1;32m     21\u001b[0m \u001b[0;34m\u001b[0m\u001b[0m\n\u001b[1;32m     22\u001b[0m \u001b[0;34m\u001b[0m\u001b[0m\n",
      "\u001b[0;31mNameError\u001b[0m: name 'y_train' is not defined"
     ]
    }
   ],
   "source": [
    "X= my_df2[['bathrooms','bedrooms','longitude', 'latitude','price','Laundary in Building','Hardwood Floors','Dishwasher','Dogs Allowed','Cats Allowed','Doorman','kitchen','renoveted','new','great','locate','high','restaurants','marble','part','location','beautiful','private','luxury','viewing','center','site','trains']]\n",
    "X_test = my_df1[['bathrooms','bedrooms','longitude', 'latitude','price','Laundary in Building','Hardwood Floors','Dishwasher','Dogs Allowed','Cats Allowed','Doorman','kitchen','renoveted','new','great','locate','high','restaurants','marble','part','location','beautiful','private','luxury','viewing','center','site','trains']]\n",
    "y = my_df2['target']\n",
    "\n",
    "#X = my_df2['latitude','longitude']\n",
    "#y = my_df2['target']\n",
    "#X_train, X_test, y_train, y_test = train_test_split(X, y, shuffle = True)\n",
    "\n",
    "#X_scaled = preprocessing.scale(X)\n",
    "logistic_modela = LogisticRegression(penalty = 'l2', solver = 'newton-cg', C = 0.1, multi_class = 'multinomial')\n",
    "logistic_modela.fit(X,y)\n",
    "y = logistic_modela.predict(X_test)\n",
    "y_test = logistic_modela.predict_proba(X_test)\n",
    "test_data = {'listing_id' : my_df1['listing_id'],'high': y_test[:,2],'medium': y_test[:,1],'low': y_test[:,0]}\n",
    "#data1 = pd.DataFrame(data = test_data)\n",
    "\n",
    "data1 = pd.DataFrame(data = test_data)\n",
    "pred_test = logistic_modela.predict(X_test)\n",
    "\n",
    "print(classification_report(y_train,y_test))\n",
    "\n",
    "\n"
   ]
  },
  {
   "cell_type": "code",
   "execution_count": 148,
   "metadata": {},
   "outputs": [
    {
     "name": "stderr",
     "output_type": "stream",
     "text": [
      "/Users/scarletchen/Library/Python/3.8/lib/python/site-packages/scipy/optimize/linesearch.py:466: LineSearchWarning: The line search algorithm did not converge\n",
      "  warn('The line search algorithm did not converge', LineSearchWarning)\n",
      "/Users/scarletchen/Library/Python/3.8/lib/python/site-packages/scipy/optimize/linesearch.py:314: LineSearchWarning: The line search algorithm did not converge\n",
      "  warn('The line search algorithm did not converge', LineSearchWarning)\n"
     ]
    },
    {
     "name": "stdout",
     "output_type": "stream",
     "text": [
      "logistic_model1.score 0.6847741065407957\n",
      "logistic_model1.score 0.6787139928794907\n"
     ]
    },
    {
     "name": "stderr",
     "output_type": "stream",
     "text": [
      "/Library/Frameworks/Python.framework/Versions/3.8/lib/python3.8/site-packages/sklearn/utils/optimize.py:204: UserWarning: Line Search failed\n",
      "  warnings.warn('Line Search failed')\n"
     ]
    },
    {
     "ename": "ValueError",
     "evalue": "Classification metrics can't handle a mix of continuous-multioutput and multiclass targets",
     "output_type": "error",
     "traceback": [
      "\u001b[0;31m---------------------------------------------------------------------------\u001b[0m",
      "\u001b[0;31mValueError\u001b[0m                                Traceback (most recent call last)",
      "\u001b[0;32m<ipython-input-148-b7f7b49c1875>\u001b[0m in \u001b[0;36m<module>\u001b[0;34m\u001b[0m\n\u001b[1;32m     19\u001b[0m \u001b[0mprint\u001b[0m\u001b[0;34m(\u001b[0m\u001b[0;34m\"logistic_model1.score\"\u001b[0m\u001b[0;34m,\u001b[0m\u001b[0mlogistic_modell\u001b[0m\u001b[0;34m.\u001b[0m\u001b[0mscore\u001b[0m\u001b[0;34m(\u001b[0m\u001b[0mX_test\u001b[0m\u001b[0;34m,\u001b[0m \u001b[0mY_test\u001b[0m\u001b[0;34m)\u001b[0m\u001b[0;34m)\u001b[0m\u001b[0;34m\u001b[0m\u001b[0;34m\u001b[0m\u001b[0m\n\u001b[1;32m     20\u001b[0m \u001b[0;34m\u001b[0m\u001b[0m\n\u001b[0;32m---> 21\u001b[0;31m \u001b[0mprint\u001b[0m\u001b[0;34m(\u001b[0m\u001b[0mclassification_report\u001b[0m\u001b[0;34m(\u001b[0m\u001b[0mX_test\u001b[0m\u001b[0;34m,\u001b[0m\u001b[0mY_test\u001b[0m\u001b[0;34m)\u001b[0m\u001b[0;34m)\u001b[0m\u001b[0;34m\u001b[0m\u001b[0;34m\u001b[0m\u001b[0m\n\u001b[0m\u001b[1;32m     22\u001b[0m \u001b[0;31m#print(mean_lgloss)\u001b[0m\u001b[0;34m\u001b[0m\u001b[0;34m\u001b[0m\u001b[0;34m\u001b[0m\u001b[0m\n\u001b[1;32m     23\u001b[0m \u001b[0;34m\u001b[0m\u001b[0m\n",
      "\u001b[0;32m/Library/Frameworks/Python.framework/Versions/3.8/lib/python3.8/site-packages/sklearn/metrics/_classification.py\u001b[0m in \u001b[0;36mclassification_report\u001b[0;34m(y_true, y_pred, labels, target_names, sample_weight, digits, output_dict, zero_division)\u001b[0m\n\u001b[1;32m   1969\u001b[0m     \"\"\"\n\u001b[1;32m   1970\u001b[0m \u001b[0;34m\u001b[0m\u001b[0m\n\u001b[0;32m-> 1971\u001b[0;31m     \u001b[0my_type\u001b[0m\u001b[0;34m,\u001b[0m \u001b[0my_true\u001b[0m\u001b[0;34m,\u001b[0m \u001b[0my_pred\u001b[0m \u001b[0;34m=\u001b[0m \u001b[0m_check_targets\u001b[0m\u001b[0;34m(\u001b[0m\u001b[0my_true\u001b[0m\u001b[0;34m,\u001b[0m \u001b[0my_pred\u001b[0m\u001b[0;34m)\u001b[0m\u001b[0;34m\u001b[0m\u001b[0;34m\u001b[0m\u001b[0m\n\u001b[0m\u001b[1;32m   1972\u001b[0m \u001b[0;34m\u001b[0m\u001b[0m\n\u001b[1;32m   1973\u001b[0m     \u001b[0mlabels_given\u001b[0m \u001b[0;34m=\u001b[0m \u001b[0;32mTrue\u001b[0m\u001b[0;34m\u001b[0m\u001b[0;34m\u001b[0m\u001b[0m\n",
      "\u001b[0;32m/Library/Frameworks/Python.framework/Versions/3.8/lib/python3.8/site-packages/sklearn/metrics/_classification.py\u001b[0m in \u001b[0;36m_check_targets\u001b[0;34m(y_true, y_pred)\u001b[0m\n\u001b[1;32m     87\u001b[0m \u001b[0;34m\u001b[0m\u001b[0m\n\u001b[1;32m     88\u001b[0m     \u001b[0;32mif\u001b[0m \u001b[0mlen\u001b[0m\u001b[0;34m(\u001b[0m\u001b[0my_type\u001b[0m\u001b[0;34m)\u001b[0m \u001b[0;34m>\u001b[0m \u001b[0;36m1\u001b[0m\u001b[0;34m:\u001b[0m\u001b[0;34m\u001b[0m\u001b[0;34m\u001b[0m\u001b[0m\n\u001b[0;32m---> 89\u001b[0;31m         raise ValueError(\"Classification metrics can't handle a mix of {0} \"\n\u001b[0m\u001b[1;32m     90\u001b[0m                          \"and {1} targets\".format(type_true, type_pred))\n\u001b[1;32m     91\u001b[0m \u001b[0;34m\u001b[0m\u001b[0m\n",
      "\u001b[0;31mValueError\u001b[0m: Classification metrics can't handle a mix of continuous-multioutput and multiclass targets"
     ]
    }
   ],
   "source": [
    "my_df2['target'] = my_df2['interest_level'].apply(lambda x: 0 if x == 'low' else 1 if x == 'medium' else 2)\n",
    "X= my_df2[['bathrooms','bedrooms','longitude', 'latitude','price','Laundary in Building','Hardwood Floors','Dishwasher','Dogs Allowed','Cats Allowed','Doorman','kitchen','renoveted','new','great','locate','high','restaurants','marble','part','location','beautiful','private','luxury','viewing','center','site','trains']]\n",
    "#X = my_df2['latitude','longitude']\n",
    "Y = my_df2['target']\n",
    "\n",
    "total_lgl = 0\n",
    "#for i in range(10):\n",
    "X_train, X_test, Y_train, Y_test = train_test_split(X, Y, test_size = 0.2, random_state = 0,shuffle = True)\n",
    "\n",
    "logistic_modell = LogisticRegression(penalty = 'l2', solver = 'newton-cg', C = 0.1, multi_class = 'multinomial')\n",
    "logistic_modell.fit(X_train, Y_train)\n",
    "y_testp = logistic_modell.predict_proba(X_test)\n",
    "\n",
    "total_lgl += log_loss(Y_test, y_testp, labels = [0,1,2])\n",
    "\n",
    "#mean_lgloss = total_lgl/10\n",
    "#one_hot = OneHotEncoder(n_values = 4, sparse = False)\n",
    "print(\"logistic_model1.score\",logistic_modell.score(X_train, Y_train))\n",
    "print(\"logistic_model1.score\",logistic_modell.score(X_test, Y_test))\n",
    "\n",
    "print(classification_report(X_test,Y_test))\n",
    "#print(mean_lgloss)\n",
    "\n"
   ]
  },
  {
   "cell_type": "code",
   "execution_count": 59,
   "metadata": {},
   "outputs": [],
   "source": [
    "# from sklearn import preprocessing\n",
    "# #my_df2['target'] = my_df2['interest_level'].apply(lambda x: 0 if x == 'low' else 1 if x == 'medium' else 2)\n",
    "# # my_df2['location'] = my_df2[['latitude','longitude']].values.tolist()\n",
    "# # my_df2['features_keys'] = my_df2[['latitude','longitude']].values.tolist()\n",
    "# X = my_df2[['bathrooms','bedrooms','longitude', 'latitude','price','Laundary in Building','Hardwood Floors','Dishwasher','Dogs Allowed','Cats Allowed','Doorman']]\n",
    "# #X = my_df2[['latitude','longitude']]\n",
    "# Y = my_df2['target']\n",
    "# train_X, test_\n",
    "\n",
    "# logistic_model4 = LogisticRegression(penalty = 'l2', solver = 'sag',multi_class = 'multinomial')\n",
    "\n",
    "# logistic_model4.predict_proba(X[:2, :])\n",
    "# logistic_model4.score(X,Y)\n",
    "\n",
    "\n"
   ]
  },
  {
   "cell_type": "code",
   "execution_count": 60,
   "metadata": {},
   "outputs": [
    {
     "ename": "ValueError",
     "evalue": "DataFrame constructor not properly called!",
     "output_type": "error",
     "traceback": [
      "\u001b[0;31m---------------------------------------------------------------------------\u001b[0m",
      "\u001b[0;31mValueError\u001b[0m                                Traceback (most recent call last)",
      "\u001b[0;32m<ipython-input-60-c1e044ed2bf0>\u001b[0m in \u001b[0;36m<module>\u001b[0;34m\u001b[0m\n\u001b[1;32m      3\u001b[0m \u001b[0mY\u001b[0m \u001b[0;34m=\u001b[0m \u001b[0mmy_df2\u001b[0m\u001b[0;34m[\u001b[0m\u001b[0;34m'target'\u001b[0m\u001b[0;34m]\u001b[0m\u001b[0;34m\u001b[0m\u001b[0;34m\u001b[0m\u001b[0m\n\u001b[1;32m      4\u001b[0m \u001b[0;34m\u001b[0m\u001b[0m\n\u001b[0;32m----> 5\u001b[0;31m \u001b[0mproba_df\u001b[0m \u001b[0;34m=\u001b[0m \u001b[0mpd\u001b[0m\u001b[0;34m.\u001b[0m\u001b[0mDataFrame\u001b[0m\u001b[0;34m(\u001b[0m\u001b[0mlogistic_model4\u001b[0m\u001b[0;34m)\u001b[0m\u001b[0;34m\u001b[0m\u001b[0;34m\u001b[0m\u001b[0m\n\u001b[0m",
      "\u001b[0;32m~/Library/Python/3.8/lib/python/site-packages/pandas/core/frame.py\u001b[0m in \u001b[0;36m__init__\u001b[0;34m(self, data, index, columns, dtype, copy)\u001b[0m\n\u001b[1;32m    483\u001b[0m                 )\n\u001b[1;32m    484\u001b[0m             \u001b[0;32melse\u001b[0m\u001b[0;34m:\u001b[0m\u001b[0;34m\u001b[0m\u001b[0;34m\u001b[0m\u001b[0m\n\u001b[0;32m--> 485\u001b[0;31m                 \u001b[0;32mraise\u001b[0m \u001b[0mValueError\u001b[0m\u001b[0;34m(\u001b[0m\u001b[0;34m\"DataFrame constructor not properly called!\"\u001b[0m\u001b[0;34m)\u001b[0m\u001b[0;34m\u001b[0m\u001b[0;34m\u001b[0m\u001b[0m\n\u001b[0m\u001b[1;32m    486\u001b[0m \u001b[0;34m\u001b[0m\u001b[0m\n\u001b[1;32m    487\u001b[0m         \u001b[0mNDFrame\u001b[0m\u001b[0;34m.\u001b[0m\u001b[0m__init__\u001b[0m\u001b[0;34m(\u001b[0m\u001b[0mself\u001b[0m\u001b[0;34m,\u001b[0m \u001b[0mmgr\u001b[0m\u001b[0;34m,\u001b[0m \u001b[0mfastpath\u001b[0m\u001b[0;34m=\u001b[0m\u001b[0;32mTrue\u001b[0m\u001b[0;34m)\u001b[0m\u001b[0;34m\u001b[0m\u001b[0;34m\u001b[0m\u001b[0m\n",
      "\u001b[0;31mValueError\u001b[0m: DataFrame constructor not properly called!"
     ]
    }
   ],
   "source": [
    "X = my_df2[['bathrooms','bedrooms','longitude', 'latitude','price','Laundary in Building','Hardwood Floors','Dishwasher','Dogs Allowed','Cats Allowed','Doorman']]\n",
    "#X = my_df2[['latitude','longitude']]\n",
    "Y = my_df2['target']\n",
    "\n",
    "proba_df = pd.DataFrame(logistic_model4)"
   ]
  },
  {
   "cell_type": "code",
   "execution_count": null,
   "metadata": {
    "scrolled": false
   },
   "outputs": [],
   "source": [
    "my_df2.head(20)"
   ]
  },
  {
   "cell_type": "code",
   "execution_count": null,
   "metadata": {},
   "outputs": [],
   "source": [
    "# def get_features_colomns(features):\n",
    "#     for key in features_columns:\n",
    "#         if key in features:\n",
    "#             features_columns[key].append(True)\n",
    "#         else:\n",
    "#             features_columns[key].append(False)\n",
    "        \n",
    "# temp = my_df2['features'].apply(get_features_colomns)\n"
   ]
  },
  {
   "cell_type": "code",
   "execution_count": null,
   "metadata": {},
   "outputs": [],
   "source": [
    "# my_df2.info()\n",
    "# my_df2.target.isnull()"
   ]
  },
  {
   "cell_type": "code",
   "execution_count": null,
   "metadata": {},
   "outputs": [],
   "source": [
    "# my_df2 = pd.concat([my_df2, pd.DataFrame.from_dict(features_columns)], axis = 1)"
   ]
  },
  {
   "cell_type": "code",
   "execution_count": null,
   "metadata": {
    "scrolled": false
   },
   "outputs": [],
   "source": [
    "my_df2.info()"
   ]
  },
  {
   "cell_type": "code",
   "execution_count": null,
   "metadata": {},
   "outputs": [],
   "source": [
    "my_df2.target.isnull()"
   ]
  },
  {
   "cell_type": "code",
   "execution_count": null,
   "metadata": {
    "scrolled": true
   },
   "outputs": [],
   "source": [
    "my_df2.target.isnull()"
   ]
  },
  {
   "cell_type": "code",
   "execution_count": null,
   "metadata": {
    "scrolled": false
   },
   "outputs": [],
   "source": [
    "#my_df2['target'] = my_df2['interest_level'].apply(lambda x: 0 if x == 'low' else 1 if x == 'medium' else 2)\n",
    "X = my_df2[['bathrooms','bedrooms','longitude', 'latitude','price','']]\n",
    "#X = my_df2[['latitude','longitude']]\n",
    "y = my_df2['target'].astype('int')\n",
    "X_train, X_test, y_train, y_test = train_test_split(X, y, shuffle = True)\n",
    "\n",
    "logistic_model = LogisticRegression()\n",
    "logistic_model.fit(X_train, y_train)\n",
    "\n",
    "#print(logistic_model.score(X_train, y_train))\n",
    "print(logistic_model.score(X_test, y_test))"
   ]
  },
  {
   "cell_type": "code",
   "execution_count": null,
   "metadata": {
    "scrolled": true
   },
   "outputs": [],
   "source": []
  },
  {
   "cell_type": "code",
   "execution_count": null,
   "metadata": {},
   "outputs": [],
   "source": []
  }
 ],
 "metadata": {
  "kernelspec": {
   "display_name": "Python 3",
   "language": "python",
   "name": "python3"
  },
  "language_info": {
   "codemirror_mode": {
    "name": "ipython",
    "version": 3
   },
   "file_extension": ".py",
   "mimetype": "text/x-python",
   "name": "python",
   "nbconvert_exporter": "python",
   "pygments_lexer": "ipython3",
   "version": "3.8.1"
  }
 },
 "nbformat": 4,
 "nbformat_minor": 4
}

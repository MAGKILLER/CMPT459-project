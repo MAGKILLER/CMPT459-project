{
 "cells": [
  {
   "cell_type": "code",
   "execution_count": 1,
   "metadata": {},
   "outputs": [],
   "source": [
    "import json  \n",
    "import zipfile\n",
    "import pandas as pd\n",
    "from datetime import datetime\n",
    "import numpy as np\n",
    "import matplotlib.pyplot as plt\n",
    "%matplotlib inline"
   ]
  },
  {
   "cell_type": "code",
   "execution_count": 2,
   "metadata": {},
   "outputs": [
    {
     "name": "stdout",
     "output_type": "stream",
     "text": [
      "train.json\n"
     ]
    }
   ],
   "source": [
    "train = None\n",
    "data_train = None\n",
    "with zipfile.ZipFile(r'/Users/scarletchen/CMPT459/assignment3/train.json.zip' ,'r') as z:\n",
    "    for filename in z.namelist():\n",
    "        print(filename)\n",
    "        with z.open(filename) as f:\n",
    "            data_train = f.read()\n",
    "            train = json.loads(data_train.decode(\"utf-8\"))"
   ]
  },
  {
   "cell_type": "code",
   "execution_count": 3,
   "metadata": {},
   "outputs": [
    {
     "name": "stdout",
     "output_type": "stream",
     "text": [
      "test.json\n"
     ]
    }
   ],
   "source": [
    "test = None\n",
    "data_test = None\n",
    "with zipfile.ZipFile(r'/Users/scarletchen/CMPT459/assignment3/test.json.zip' ,'r') as z:\n",
    "    for filename in z.namelist():\n",
    "        print(filename)\n",
    "        with z.open(filename) as f:\n",
    "            data_test = f.read()\n",
    "            test = json.loads(data_test.decode(\"utf-8\"))\n",
    "\n",
    "\n"
   ]
  },
  {
   "cell_type": "code",
   "execution_count": 4,
   "metadata": {},
   "outputs": [],
   "source": [
    "test = pd.DataFrame(test)\n",
    "train = pd.DataFrame(train)"
   ]
  },
  {
   "cell_type": "code",
   "execution_count": 5,
   "metadata": {},
   "outputs": [],
   "source": [
    "price = zip(train.price)"
   ]
  },
  {
   "cell_type": "code",
   "execution_count": 6,
   "metadata": {},
   "outputs": [],
   "source": [
    "train.drop(train[train.bathrooms == 10].index, inplace = True)"
   ]
  },
  {
   "cell_type": "code",
   "execution_count": 7,
   "metadata": {},
   "outputs": [],
   "source": [
    "train.drop(train[train.price<=100].index, inplace = True)\n",
    "train.drop(train[train.price>=6500].index, inplace = True)"
   ]
  },
  {
   "cell_type": "code",
   "execution_count": 8,
   "metadata": {},
   "outputs": [],
   "source": [
    "train.drop(train[train.latitude <= 40.552625].index, inplace = True)\n",
    "train.drop(train[train.latitude >= 40.976193].index, inplace = True)\n",
    "\n"
   ]
  },
  {
   "cell_type": "code",
   "execution_count": 9,
   "metadata": {
    "scrolled": false
   },
   "outputs": [],
   "source": [
    "# train.drop(train[train.longitude <= -74.551806].index, inplace = True)\n",
    "# train.drop(train[train.longitude >= -73,679816].index, inplace = True)"
   ]
  },
  {
   "cell_type": "code",
   "execution_count": 10,
   "metadata": {},
   "outputs": [],
   "source": [
    "#print(train.features)"
   ]
  },
  {
   "cell_type": "code",
   "execution_count": 11,
   "metadata": {},
   "outputs": [],
   "source": [
    "from sklearn import neighbors\n",
    "from sklearn.model_selection import train_test_split"
   ]
  },
  {
   "cell_type": "code",
   "execution_count": 12,
   "metadata": {},
   "outputs": [],
   "source": [
    "test.insert(0,\"kitchen\",0)\n",
    "test.insert(0,\"renoveted\",0)\n",
    "test.insert(0,\"new\",0)\n",
    "test.insert(0,\"great\",0)\n",
    "test.insert(0,\"locate\",0)\n",
    "test.insert(0,\"high\",0)\n",
    "test.insert(0,\"restaurants\",0)\n",
    "test.insert(0,\"marble\",0)\n",
    "test.insert(0,\"part\",0)\n",
    "test.insert(0,\"location\",0)\n",
    "test.insert(0,\"beautiful\",0)\n",
    "test.insert(0,\"private\",0)\n",
    "test.insert(0,\"luxury\",0)\n",
    "test.insert(0,\"viewing\",0)\n",
    "test.insert(0,\"center\",0)\n",
    "test.insert(0,\"site\",0)\n",
    "test.insert(0,\"trains\",0)"
   ]
  },
  {
   "cell_type": "code",
   "execution_count": null,
   "metadata": {},
   "outputs": [],
   "source": []
  },
  {
   "cell_type": "code",
   "execution_count": 13,
   "metadata": {},
   "outputs": [],
   "source": [
    "test.description= test.description.astype(str)"
   ]
  },
  {
   "cell_type": "code",
   "execution_count": 14,
   "metadata": {},
   "outputs": [],
   "source": [
    "test.loc[test['description'].str.contains(\"kitchen\"),'kitchen'] = 1\n",
    "test.loc[test['description'].str.contains(\"renoveted\"),'renoveted'] = 1\n",
    "test.loc[test['description'].str.contains(\"new\"),'new'] = 1\n",
    "test.loc[test['description'].str.contains(\"great\"),'great'] = 1\n",
    "test.loc[test['description'].str.contains(\"locate\"),'locate'] = 1\n",
    "test.loc[test['description'].str.contains(\"high\"),'high'] = 1\n",
    "test.loc[test['description'].str.contains(\"restaurants\"),'restaurants'] = 1\n",
    "test.loc[test['description'].str.contains(\"marble\"),'marble'] = 1\n",
    "test.loc[test['description'].str.contains(\"part\"),'part'] = 1\n",
    "test.loc[test['description'].str.contains(\"location\"),'location'] = 1\n",
    "test.loc[test['description'].str.contains(\"beautiful\"),'beautiful'] = 1\n",
    "test.loc[test['description'].str.contains(\"private\"),'private'] = 1\n",
    "test.loc[test['description'].str.contains(\"luxury\"),'luxury'] = 1\n",
    "test.loc[test['description'].str.contains(\"viewing\"),'viewing'] = 1\n",
    "test.loc[test['description'].str.contains(\"center\"),'center'] = 1\n",
    "test.loc[test['description'].str.contains(\"site\"),'site'] = 1\n",
    "test.loc[test['description'].str.contains(\"trains\"),'trains'] = 1"
   ]
  },
  {
   "cell_type": "code",
   "execution_count": 15,
   "metadata": {},
   "outputs": [],
   "source": [
    "train.insert(0,\"kitchen\",0)\n",
    "train.insert(0,\"renoveted\",0)\n",
    "train.insert(0,\"new\",0)\n",
    "train.insert(0,\"great\",0)\n",
    "train.insert(0,\"locate\",0)\n",
    "train.insert(0,\"high\",0)\n",
    "train.insert(0,\"restaurants\",0)\n",
    "train.insert(0,\"marble\",0)\n",
    "train.insert(0,\"part\",0)\n",
    "train.insert(0,\"location\",0)\n",
    "train.insert(0,\"beautiful\",0)\n",
    "train.insert(0,\"private\",0)\n",
    "train.insert(0,\"luxury\",0)\n",
    "train.insert(0,\"viewing\",0)\n",
    "train.insert(0,\"center\",0)\n",
    "train.insert(0,\"site\",0)\n",
    "train.insert(0,\"trains\",0)"
   ]
  },
  {
   "cell_type": "code",
   "execution_count": 16,
   "metadata": {},
   "outputs": [],
   "source": [
    "train.description= train.description.astype(str)"
   ]
  },
  {
   "cell_type": "code",
   "execution_count": 17,
   "metadata": {},
   "outputs": [],
   "source": [
    "train.loc[train['description'].str.contains(\"kitchen\"),'kitchen'] = 1\n",
    "train.loc[train['description'].str.contains(\"renoveted\"),'renoveted'] = 1\n",
    "train.loc[train['description'].str.contains(\"new\"),'new'] = 1\n",
    "train.loc[train['description'].str.contains(\"great\"),'great'] = 1\n",
    "train.loc[train['description'].str.contains(\"locate\"),'locate'] = 1\n",
    "train.loc[train['description'].str.contains(\"high\"),'high'] = 1\n",
    "train.loc[train['description'].str.contains(\"restaurants\"),'restaurants'] = 1\n",
    "train.loc[train['description'].str.contains(\"marble\"),'marble'] = 1\n",
    "train.loc[train['description'].str.contains(\"part\"),'part'] = 1\n",
    "train.loc[train['description'].str.contains(\"location\"),'location'] = 1\n",
    "train.loc[train['description'].str.contains(\"beautiful\"),'beautiful'] = 1\n",
    "train.loc[train['description'].str.contains(\"private\"),'private'] = 1\n",
    "train.loc[train['description'].str.contains(\"luxury\"),'luxury'] = 1\n",
    "train.loc[train['description'].str.contains(\"viewing\"),'viewing'] = 1\n",
    "train.loc[train['description'].str.contains(\"center\"),'center'] = 1\n",
    "train.loc[train['description'].str.contains(\"site\"),'site'] = 1\n",
    "train.loc[train['description'].str.contains(\"trains\"),'trains'] = 1"
   ]
  },
  {
   "cell_type": "code",
   "execution_count": 18,
   "metadata": {},
   "outputs": [],
   "source": [
    "test.insert(0,\"Laundary in Building\",0)\n",
    "test.insert(0,\"Hardwood Floors\",0)\n",
    "test.insert(0,\"Dishwasher\",0)\n",
    "test.insert(0,\"Dogs Allowed\",0)\n",
    "test.insert(0,\"Cats Allowed\",0)\n",
    "test.insert(0,\"Doorman\",0)"
   ]
  },
  {
   "cell_type": "code",
   "execution_count": 19,
   "metadata": {},
   "outputs": [],
   "source": [
    "test.features= test.features.astype(str)\n",
    "test.loc[test['features'].str.contains(\"Laundry in Building\"),'Laundary in Building'] = 1\n",
    "test.loc[test['features'].str.contains(\"Hardwood Floors\"),'Hardwood Floors'] = 1\n",
    "test.loc[test['features'].str.contains(\"Dishwasher\"),'Dishwasher'] = 1\n",
    "test.loc[test['features'].str.contains(\"Dogs Allowed\"),'Dogs Allowed'] = 1\n",
    "test.loc[test['features'].str.contains(\"Cats Allowed\"),'Cats Allowed'] = 1\n",
    "test.loc[test['features'].str.contains(\"Doorman\"),'Doorman'] = 1"
   ]
  },
  {
   "cell_type": "code",
   "execution_count": 20,
   "metadata": {},
   "outputs": [],
   "source": [
    "train.insert(0,\"Laundary in Building\",0)\n",
    "train.insert(0,\"Hardwood Floors\",0)\n",
    "train.insert(0,\"Dishwasher\",0)\n",
    "train.insert(0,\"Dogs Allowed\",0)\n",
    "train.insert(0,\"Cats Allowed\",0)\n",
    "train.insert(0,\"Doorman\",0)"
   ]
  },
  {
   "cell_type": "code",
   "execution_count": 21,
   "metadata": {},
   "outputs": [],
   "source": [
    "train.features= train.features.astype(str)\n",
    "train.loc[train['features'].str.contains(\"Laundry in Building\"),'Laundary in Building'] = 1\n",
    "train.loc[train['features'].str.contains(\"Hardwood Floors\"),'Hardwood Floors'] = 1\n",
    "train.loc[train['features'].str.contains(\"Dishwasher\"),'Dishwasher'] = 1\n",
    "train.loc[train['features'].str.contains(\"Dogs Allowed\"),'Dogs Allowed'] = 1\n",
    "train.loc[train['features'].str.contains(\"Cats Allowed\"),'Cats Allowed'] = 1\n",
    "train.loc[train['features'].str.contains(\"Doorman\"),'Doorman'] = 1"
   ]
  },
  {
   "cell_type": "code",
   "execution_count": 22,
   "metadata": {},
   "outputs": [],
   "source": [
    "from sklearn.metrics import log_loss\n",
    "from sklearn.metrics import f1_score\n",
    "from sklearn.metrics import roc_auc_score\n",
    "from sklearn.metrics import classification_report"
   ]
  },
  {
   "cell_type": "code",
   "execution_count": 23,
   "metadata": {},
   "outputs": [
    {
     "name": "stdout",
     "output_type": "stream",
     "text": [
      "logistic_model1.score 0.6980984490896831\n",
      "logistic_model1.score 0.6776351278455065\n"
     ]
    }
   ],
   "source": [
    "train['target'] = train['interest_level'].apply(lambda x: 0 if x == 'low' else 1 if x == 'medium' else 2)\n",
    "X = train[['latitude','longitude','price','bedrooms','bathrooms']]\n",
    "#X = my_df2['latitude','longitude']\n",
    "Y = train['target']\n",
    "\n",
    "total_lgl = 0\n",
    "for i in range(10):\n",
    "    X_train, X_test, Y_train, Y_test = train_test_split(X, Y, test_size = 0.2, random_state = 0,shuffle = True)\n",
    "\n",
    "    clf = neighbors.KNeighborsClassifier(30)\n",
    "    clf.fit(X_train, Y_train)\n",
    "    \n",
    "    y_testp = clf.predict_proba(X_test)\n",
    "\n",
    "    total_lgl += log_loss(Y_test, y_testp, labels = [0,1,2])\n",
    "    #f1 = f1_score(Y_test, y_testp, average='weighted')\n",
    "mean_lgloss = total_lgl/10\n",
    "#one_hot = OneHotEncoder(n_values = 4, sparse = False)\n",
    "print(\"logistic_model1.score\",clf.score(X_train, Y_train))\n",
    "print(\"logistic_model1.score\",clf.score(X_test, Y_test))\n",
    "#f1 = f1_score(Y_score, Y_test, average='weighted')\n",
    "#y_score = clf.score(X_test, Y_test)\n",
    "#roc = roc_auc_score(Y_test, y_score)\n",
    "\n",
    "#print(f1)\n",
    "#print(mean_lgloss)\n",
    "#print(roc)"
   ]
  },
  {
   "cell_type": "code",
   "execution_count": 24,
   "metadata": {},
   "outputs": [
    {
     "name": "stdout",
     "output_type": "stream",
     "text": [
      "              precision    recall  f1-score   support\n",
      "\n",
      "           0       0.72      0.96      0.82      6296\n",
      "           1       0.50      0.14      0.22      2190\n",
      "           2       0.59      0.15      0.23       783\n",
      "\n",
      "    accuracy                           0.70      9269\n",
      "   macro avg       0.60      0.42      0.43      9269\n",
      "weighted avg       0.65      0.70      0.63      9269\n",
      "\n"
     ]
    }
   ],
   "source": [
    "train['target'] = train['interest_level'].apply(lambda x: 0 if x == 'low' else 1 if x == 'medium' else 2)\n",
    "\n",
    "X = train[['bathrooms','bedrooms','longitude', 'latitude','price','Laundary in Building','Hardwood Floors','Dishwasher','Dogs Allowed','Cats Allowed','Doorman']]\n",
    "Y = train['target']\n",
    "\n",
    "X_train, X_test, Y_train, Y_test = train_test_split(X, Y, test_size = 0.2, random_state = 0, shuffle = True)\n",
    "#X_scaled = preprocessing.scale(X_train)\n",
    "#Y_scaled = preprocessing.scale(Y_train)\n",
    "clf = neighbors.KNeighborsClassifier(30)\n",
    "clf.fit(X,Y)\n",
    "\n",
    "pred_test = clf.predict(X_test)\n",
    "print(classification_report(Y_test, pred_test))\n",
    "\n"
   ]
  },
  {
   "cell_type": "code",
   "execution_count": 41,
   "metadata": {},
   "outputs": [
    {
     "name": "stdout",
     "output_type": "stream",
     "text": [
      "              precision    recall  f1-score   support\n",
      "\n",
      "           0       0.72      0.96      0.82      6296\n",
      "           1       0.50      0.14      0.22      2190\n",
      "           2       0.59      0.15      0.23       783\n",
      "\n",
      "    accuracy                           0.70      9269\n",
      "   macro avg       0.60      0.42      0.43      9269\n",
      "weighted avg       0.65      0.70      0.63      9269\n",
      "\n"
     ]
    }
   ],
   "source": [
    "train['target'] = train['interest_level'].apply(lambda x: 0 if x == 'low' else 1 if x == 'medium' else 2)\n",
    "X= train[['bathrooms','bedrooms','longitude', 'latitude','price']]\n",
    "X_test = test[['bathrooms','bedrooms','longitude', 'latitude','price']]\n",
    "y = train['target']\n",
    "\n",
    "clf = neighbors.KNeighborsClassifier(30)\n",
    "clf.fit(X,y)\n",
    "\n",
    "y = clf.predict(X_test)\n",
    "y_test = clf.predict_proba(X_test)\n",
    "test_data = {'listing_id' : test['listing_id'],'high': y_test[:,2],'medium': y_test[:,1],'low': y_test[:,0]}\n",
    "\n",
    "data1 = pd.DataFrame(data = test_data)\n",
    "print(classification_report(Y_test, pred_test))\n",
    "#data1\n",
    "#data1.to_csv(\"test_Data1.csv\", index = False)"
   ]
  },
  {
   "cell_type": "code",
   "execution_count": 26,
   "metadata": {},
   "outputs": [],
   "source": [
    "train['target'] = train['interest_level'].apply(lambda x: 0 if x == 'low' else 1 if x == 'medium' else 2)\n",
    "X= train[['bathrooms','bedrooms','longitude', 'latitude','price']]\n",
    "X_test = test[['bathrooms','bedrooms','longitude', 'latitude','price']]\n",
    "y = train['target']\n",
    "\n",
    "clf = neighbors.KNeighborsClassifier(30)\n",
    "clf.fit(X,y)\n",
    "\n",
    "y = clf.predict(X_test)\n",
    "y_test = clf.predict_proba(X_test)\n",
    "test_data = {'listing_id' : test['listing_id'],'high': y_test[:,0],'medium': y_test[:,1],'low': y_test[:,2]}\n",
    "\n",
    "data1 = pd.DataFrame(data = test_data)\n",
    "data1\n",
    "data1.to_csv(\"test_Data2.csv\", index = False)"
   ]
  },
  {
   "cell_type": "code",
   "execution_count": 27,
   "metadata": {},
   "outputs": [],
   "source": [
    "train['target'] = train['interest_level'].apply(lambda x: 0 if x == 'low' else 1 if x == 'medium' else 2)\n",
    "X= train[['bathrooms','bedrooms','longitude', 'latitude','price']]\n",
    "X_test = test[['bathrooms','bedrooms','longitude', 'latitude','price']]\n",
    "y = train['target']\n",
    "\n",
    "clf = neighbors.KNeighborsClassifier()\n",
    "clf.fit(X,y)\n",
    "\n",
    "y = clf.predict(X_test)\n",
    "y_test = clf.predict_proba(X_test)\n",
    "test_data = {'listing_id' : test['listing_id'],'high': y_test[:,2],'medium': y_test[:,1],'low': y_test[:,0]}\n",
    "\n",
    "data1 = pd.DataFrame(data = test_data)\n",
    "data1\n",
    "data1.to_csv(\"test_Data3.csv\", index = False)"
   ]
  },
  {
   "cell_type": "code",
   "execution_count": 28,
   "metadata": {},
   "outputs": [],
   "source": [
    "train['target'] = train['interest_level'].apply(lambda x: 0 if x == 'low' else 1 if x == 'medium' else 2)\n",
    "X= train[['bathrooms','bedrooms','longitude', 'latitude','price']]\n",
    "X_test = test[['bathrooms','bedrooms','longitude', 'latitude','price']]\n",
    "y = train['target']\n",
    "\n",
    "clf = neighbors.KNeighborsClassifier(100)\n",
    "clf.fit(X,y)\n",
    "\n",
    "y = clf.predict(X_test)\n",
    "y_test = clf.predict_proba(X_test)\n",
    "test_data = {'listing_id' : test['listing_id'],'high': y_test[:,2],'medium': y_test[:,1],'low': y_test[:,0]}\n",
    "\n",
    "data1 = pd.DataFrame(data = test_data)\n",
    "data1\n",
    "data1.to_csv(\"test_Data4.csv\", index = False)"
   ]
  },
  {
   "cell_type": "code",
   "execution_count": 29,
   "metadata": {},
   "outputs": [],
   "source": [
    "train['target'] = train['interest_level'].apply(lambda x: 0 if x == 'low' else 1 if x == 'medium' else 2)\n",
    "X= train[['bathrooms','bedrooms','longitude', 'latitude','price']]\n",
    "X_test = test[['bathrooms','bedrooms','longitude', 'latitude','price']]\n",
    "y = train['target']\n",
    "\n",
    "clf = neighbors.KNeighborsClassifier(1000, n_jobs = -1)\n",
    "clf.fit(X,y)\n",
    "\n",
    "y = clf.predict(X_test)\n",
    "y_test = clf.predict_proba(X_test)\n",
    "test_data = {'listing_id' : test['listing_id'],'high': y_test[:,2],'medium': y_test[:,1],'low': y_test[:,0]}\n",
    "\n",
    "data1 = pd.DataFrame(data = test_data)\n",
    "data1\n",
    "data1.to_csv(\"test_Data5.csv\", index = False)"
   ]
  },
  {
   "cell_type": "code",
   "execution_count": 30,
   "metadata": {},
   "outputs": [],
   "source": [
    "train['target'] = train['interest_level'].apply(lambda x: 0 if x == 'low' else 1 if x == 'medium' else 2)\n",
    "X= train[['bathrooms','bedrooms','longitude', 'latitude','price']]\n",
    "X_test = test[['bathrooms','bedrooms','longitude', 'latitude','price']]\n",
    "y = train['target']\n",
    "\n",
    "clf = neighbors.KNeighborsClassifier(n_neighbors = 500, n_jobs = -1)\n",
    "clf.fit(X,y)\n",
    "\n",
    "y = clf.predict(X_test)\n",
    "y_test = clf.predict_proba(X_test)\n",
    "test_data = {'listing_id' : test['listing_id'],'high': y_test[:,2],'medium': y_test[:,1],'low': y_test[:,0]}\n",
    "\n",
    "data1 = pd.DataFrame(data = test_data)\n",
    "data1\n",
    "data1.to_csv(\"test_Data6.csv\", index = False)"
   ]
  },
  {
   "cell_type": "code",
   "execution_count": 31,
   "metadata": {},
   "outputs": [],
   "source": [
    "train['target'] = train['interest_level'].apply(lambda x: 0 if x == 'low' else 1 if x == 'medium' else 2)\n",
    "X= train[['bathrooms','bedrooms','longitude', 'latitude','price']]\n",
    "X_test = test[['bathrooms','bedrooms','longitude', 'latitude','price']]\n",
    "y = train['target']\n",
    "\n",
    "clf = neighbors.KNeighborsClassifier(n_neighbors = 100, n_jobs = -1)\n",
    "clf.fit(X,y)\n",
    "\n",
    "y = clf.predict(X_test)\n",
    "y_test = clf.predict_proba(X_test)\n",
    "test_data = {'listing_id' : test['listing_id'],'high': y_test[:,2],'medium': y_test[:,1],'low': y_test[:,0]}\n",
    "\n",
    "data1 = pd.DataFrame(data = test_data)\n",
    "data1\n",
    "data1.to_csv(\"test_Data7.csv\", index = False)"
   ]
  },
  {
   "cell_type": "code",
   "execution_count": 32,
   "metadata": {},
   "outputs": [],
   "source": [
    "train['target'] = train['interest_level'].apply(lambda x: 0 if x == 'low' else 1 if x == 'medium' else 2)\n",
    "X= train[['bathrooms','bedrooms','longitude', 'latitude','price']]\n",
    "X_test = test[['bathrooms','bedrooms','longitude', 'latitude','price']]\n",
    "y = train['target']\n",
    "\n",
    "clf = neighbors.KNeighborsClassifier(n_neighbors = 50, n_jobs = -1)\n",
    "clf.fit(X,y)\n",
    "\n",
    "y = clf.predict(X_test)\n",
    "y_test = clf.predict_proba(X_test)\n",
    "test_data = {'listing_id' : test['listing_id'],'high': y_test[:,2],'medium': y_test[:,1],'low': y_test[:,0]}\n",
    "\n",
    "data1 = pd.DataFrame(data = test_data)\n",
    "data1\n",
    "data1.to_csv(\"test_Data8.csv\", index = False)"
   ]
  },
  {
   "cell_type": "code",
   "execution_count": 33,
   "metadata": {},
   "outputs": [],
   "source": [
    "train['target'] = train['interest_level'].apply(lambda x: 0 if x == 'low' else 1 if x == 'medium' else 2)\n",
    "X= train[['bathrooms','bedrooms','longitude', 'latitude','price']]\n",
    "X_test = test[['bathrooms','bedrooms','longitude', 'latitude','price']]\n",
    "y = train['target']\n",
    "\n",
    "clf = neighbors.KNeighborsClassifier(n_neighbors = 100, n_jobs = -1)\n",
    "clf.fit(X,y)\n",
    "\n",
    "y = clf.predict(X_test)\n",
    "y_test = clf.predict_proba(X_test)\n",
    "test_data = {'listing_id' : test['listing_id'],'high': y_test[:,2],'medium': y_test[:,1],'low': y_test[:,0]}\n",
    "\n",
    "data1 = pd.DataFrame(data = test_data)\n",
    "data1\n",
    "data1.to_csv(\"test_Data9.csv\", index = False)"
   ]
  },
  {
   "cell_type": "code",
   "execution_count": 34,
   "metadata": {},
   "outputs": [
    {
     "name": "stdout",
     "output_type": "stream",
     "text": [
      "<class 'pandas.core.frame.DataFrame'>\n",
      "Index: 74659 entries, 0 to 124010\n",
      "Data columns (total 37 columns):\n",
      "Doorman                 74659 non-null int64\n",
      "Cats Allowed            74659 non-null int64\n",
      "Dogs Allowed            74659 non-null int64\n",
      "Dishwasher              74659 non-null int64\n",
      "Hardwood Floors         74659 non-null int64\n",
      "Laundary in Building    74659 non-null int64\n",
      "trains                  74659 non-null int64\n",
      "site                    74659 non-null int64\n",
      "center                  74659 non-null int64\n",
      "viewing                 74659 non-null int64\n",
      "luxury                  74659 non-null int64\n",
      "private                 74659 non-null int64\n",
      "beautiful               74659 non-null int64\n",
      "location                74659 non-null int64\n",
      "part                    74659 non-null int64\n",
      "marble                  74659 non-null int64\n",
      "restaurants             74659 non-null int64\n",
      "high                    74659 non-null int64\n",
      "locate                  74659 non-null int64\n",
      "great                   74659 non-null int64\n",
      "new                     74659 non-null int64\n",
      "renoveted               74659 non-null int64\n",
      "kitchen                 74659 non-null int64\n",
      "bathrooms               74659 non-null float64\n",
      "bedrooms                74659 non-null int64\n",
      "building_id             74659 non-null object\n",
      "created                 74659 non-null object\n",
      "description             74659 non-null object\n",
      "display_address         74659 non-null object\n",
      "features                74659 non-null object\n",
      "latitude                74659 non-null float64\n",
      "listing_id              74659 non-null int64\n",
      "longitude               74659 non-null float64\n",
      "manager_id              74659 non-null object\n",
      "photos                  74659 non-null object\n",
      "price                   74659 non-null int64\n",
      "street_address          74659 non-null object\n",
      "dtypes: float64(3), int64(26), object(8)\n",
      "memory usage: 21.6+ MB\n"
     ]
    }
   ],
   "source": [
    "test.info()"
   ]
  },
  {
   "cell_type": "code",
   "execution_count": 35,
   "metadata": {},
   "outputs": [],
   "source": [
    "train['target'] = train['interest_level'].apply(lambda x: 0 if x == 'low' else 1 if x == 'medium' else 2)\n",
    "X= train[['bathrooms','bedrooms','longitude', 'latitude','price','Laundary in Building','Hardwood Floors','Dishwasher','Dogs Allowed','Cats Allowed','Doorman','kitchen','renoveted','new','great','locate','high','restaurants','marble','part','location','beautiful','private','luxury','viewing','center','site','trains']]\n",
    "X_test = test[['bathrooms','bedrooms','longitude', 'latitude','price','Laundary in Building','Hardwood Floors','Dishwasher','Dogs Allowed','Cats Allowed','Doorman','kitchen','renoveted','new','great','locate','high','restaurants','marble','part','location','beautiful','private','luxury','viewing','center','site','trains']]\n",
    "y = train['target']\n",
    "\n",
    "clf = neighbors.KNeighborsClassifier(n_neighbors = 100, n_jobs = -1)\n",
    "clf.fit(X,y)\n",
    "\n",
    "y = clf.predict(X_test)\n",
    "y_test = clf.predict_proba(X_test)\n",
    "test_data = {'listing_id' : test['listing_id'],'high': y_test[:,2],'medium': y_test[:,1],'low': y_test[:,0]}\n",
    "\n",
    "data1 = pd.DataFrame(data = test_data)\n",
    "data1\n",
    "data1.to_csv(\"test_Data10.csv\", index = False)"
   ]
  },
  {
   "cell_type": "code",
   "execution_count": 37,
   "metadata": {},
   "outputs": [],
   "source": [
    "train['target'] = train['interest_level'].apply(lambda x: 0 if x == 'low' else 1 if x == 'medium' else 2)\n",
    "X= train[['bathrooms','bedrooms','longitude', 'latitude','price','Laundary in Building','Hardwood Floors','Dishwasher','Dogs Allowed','Cats Allowed','Doorman','kitchen','renoveted','new','great','locate','high','restaurants','marble','part','location','beautiful','private','luxury','viewing','center','site','trains']]\n",
    "X_test = test[['bathrooms','bedrooms','longitude', 'latitude','price','Laundary in Building','Hardwood Floors','Dishwasher','Dogs Allowed','Cats Allowed','Doorman','kitchen','renoveted','new','great','locate','high','restaurants','marble','part','location','beautiful','private','luxury','viewing','center','site','trains']]\n",
    "y = train['target']\n",
    "\n",
    "clf = neighbors.KNeighborsClassifier(n_neighbors = 100, n_jobs = -1, weights = 'distance')\n",
    "clf.fit(X,y)\n",
    "\n",
    "y = clf.predict(X_test)\n",
    "y_test = clf.predict_proba(X_test)\n",
    "test_data = {'listing_id' : test['listing_id'],'high': y_test[:,2],'medium': y_test[:,1],'low': y_test[:,0]}\n",
    "\n",
    "data1 = pd.DataFrame(data = test_data)\n",
    "data1\n",
    "data1.to_csv(\"test_Data11.csv\", index = False)"
   ]
  },
  {
   "cell_type": "code",
   "execution_count": 38,
   "metadata": {},
   "outputs": [],
   "source": [
    "train['target'] = train['interest_level'].apply(lambda x: 0 if x == 'low' else 1 if x == 'medium' else 2)\n",
    "X= train[['bathrooms','bedrooms','longitude', 'latitude','price','Laundary in Building','Hardwood Floors','Dishwasher','Dogs Allowed','Cats Allowed','Doorman','kitchen','renoveted','new','great','locate','high','restaurants','marble','part','location','beautiful','private','luxury','viewing','center','site','trains']]\n",
    "X_test = test[['bathrooms','bedrooms','longitude', 'latitude','price','Laundary in Building','Hardwood Floors','Dishwasher','Dogs Allowed','Cats Allowed','Doorman','kitchen','renoveted','new','great','locate','high','restaurants','marble','part','location','beautiful','private','luxury','viewing','center','site','trains']]\n",
    "y = train['target']\n",
    "\n",
    "clf = neighbors.KNeighborsClassifier(n_neighbors = 100, n_jobs = -1)\n",
    "clf.fit(X,y)\n",
    "\n",
    "y = clf.predict(X_test)\n",
    "y_test = clf.predict_proba(X_test)\n",
    "test_data = {'listing_id' : test['listing_id'],'high': y_test[:,2],'medium': y_test[:,1],'low': y_test[:,0]}\n",
    "\n",
    "data1 = pd.DataFrame(data = test_data)\n",
    "data1\n",
    "data1.to_csv(\"test_Data12.csv\", index = False)"
   ]
  },
  {
   "cell_type": "code",
   "execution_count": 39,
   "metadata": {},
   "outputs": [],
   "source": [
    "train['target'] = train['interest_level'].apply(lambda x: 0 if x == 'low' else 1 if x == 'medium' else 2)\n",
    "X= train[['bathrooms','bedrooms','longitude', 'latitude','price','Laundary in Building','Hardwood Floors','Dishwasher','Dogs Allowed','Cats Allowed','Doorman','kitchen','renoveted','new','great','locate','high','restaurants','marble','part','location','beautiful','private','luxury','viewing','center','site','trains']]\n",
    "X_test = test[['bathrooms','bedrooms','longitude', 'latitude','price','Laundary in Building','Hardwood Floors','Dishwasher','Dogs Allowed','Cats Allowed','Doorman','kitchen','renoveted','new','great','locate','high','restaurants','marble','part','location','beautiful','private','luxury','viewing','center','site','trains']]\n",
    "y = train['target']\n",
    "\n",
    "clf = neighbors.KNeighborsClassifier(n_neighbors = 100, n_jobs = -1, leaf_size = 1)\n",
    "clf.fit(X,y)\n",
    "\n",
    "y = clf.predict(X_test)\n",
    "y_test = clf.predict_proba(X_test)\n",
    "test_data = {'listing_id' : test['listing_id'],'high': y_test[:,2],'medium': y_test[:,1],'low': y_test[:,0]}\n",
    "\n",
    "data1 = pd.DataFrame(data = test_data)\n",
    "data1\n",
    "data1.to_csv(\"test_Data13.csv\", index = False)"
   ]
  },
  {
   "cell_type": "code",
   "execution_count": 59,
   "metadata": {},
   "outputs": [],
   "source": [
    "train['target'] = train['interest_level'].apply(lambda x: 0 if x == 'low' else 1 if x == 'medium' else 2)\n",
    "X= train[['bathrooms','bedrooms','longitude', 'latitude','price','Laundary in Building','Hardwood Floors','Dishwasher','Dogs Allowed','Cats Allowed','Doorman','kitchen','renoveted','new','great','locate','high','restaurants','marble','part','location','beautiful','private','luxury','viewing','center','site','trains']]\n",
    "X_test = test[['bathrooms','bedrooms','longitude', 'latitude','price','Laundary in Building','Hardwood Floors','Dishwasher','Dogs Allowed','Cats Allowed','Doorman','kitchen','renoveted','new','great','locate','high','restaurants','marble','part','location','beautiful','private','luxury','viewing','center','site','trains']]\n",
    "y = train['target']\n",
    "\n",
    "clf = neighbors.KNeighborsClassifier(n_neighbors = 10000, n_jobs = -1, leaf_size = 1)\n",
    "clf.fit(X,y)\n",
    "\n",
    "y = clf.predict(X_test)\n",
    "y_test = clf.predict_proba(X_test)\n",
    "test_data = {'listing_id' : test['listing_id'],'high': y_test[:,2],'medium': y_test[:,1],'low': y_test[:,0]}\n",
    "\n",
    "data1 = pd.DataFrame(data = test_data)\n",
    "data1\n",
    "data1.to_csv(\"test_Data13.csv\", index = False)"
   ]
  },
  {
   "cell_type": "code",
   "execution_count": 63,
   "metadata": {},
   "outputs": [],
   "source": [
    "train['target'] = train['interest_level'].apply(lambda x: 0 if x == 'low' else 1 if x == 'medium' else 2)\n",
    "X= train[['bathrooms','bedrooms','longitude', 'latitude','price','Laundary in Building','Hardwood Floors','Dishwasher','Dogs Allowed','Cats Allowed','Doorman','kitchen','renoveted','new','great','locate','high','restaurants','marble','part','location','beautiful','private','luxury','viewing','center','site','trains']]\n",
    "X_test = test[['bathrooms','bedrooms','longitude', 'latitude','price','Laundary in Building','Hardwood Floors','Dishwasher','Dogs Allowed','Cats Allowed','Doorman','kitchen','renoveted','new','great','locate','high','restaurants','marble','part','location','beautiful','private','luxury','viewing','center','site','trains']]\n",
    "y = train['target']\n",
    "\n",
    "clf = neighbors.KNeighborsClassifier(n_neighbors = 750, n_jobs = -1, leaf_size = 1)\n",
    "clf.fit(X,y)\n",
    "\n",
    "y = clf.predict(X_test)\n",
    "y_test = clf.predict_proba(X_test)\n",
    "test_data = {'listing_id' : test['listing_id'],'high': y_test[:,2],'medium': y_test[:,1],'low': y_test[:,0]}\n",
    "\n",
    "data1 = pd.DataFrame(data = test_data)\n",
    "data1\n",
    "data1.to_csv(\"test_Data14.csv\", index = False)"
   ]
  },
  {
   "cell_type": "code",
   "execution_count": 65,
   "metadata": {},
   "outputs": [],
   "source": [
    "train['target'] = train['interest_level'].apply(lambda x: 0 if x == 'low' else 1 if x == 'medium' else 2)\n",
    "X= train[['bathrooms','bedrooms','longitude', 'latitude','price','Laundary in Building','Hardwood Floors','Dishwasher','Dogs Allowed','Cats Allowed','Doorman','kitchen','renoveted','new','great','locate','high','restaurants','marble','part','location','beautiful','private','luxury','viewing','center','site','trains']]\n",
    "X_test = test[['bathrooms','bedrooms','longitude', 'latitude','price','Laundary in Building','Hardwood Floors','Dishwasher','Dogs Allowed','Cats Allowed','Doorman','kitchen','renoveted','new','great','locate','high','restaurants','marble','part','location','beautiful','private','luxury','viewing','center','site','trains']]\n",
    "y = train['target']\n",
    "\n",
    "clf = neighbors.KNeighborsClassifier(n_neighbors = 1250, n_jobs = -1, leaf_size = 1)\n",
    "clf.fit(X,y)\n",
    "\n",
    "y = clf.predict(X_test)\n",
    "y_test = clf.predict_proba(X_test)\n",
    "test_data = {'listing_id' : test['listing_id'],'high': y_test[:,2],'medium': y_test[:,1],'low': y_test[:,0]}\n",
    "\n",
    "data1 = pd.DataFrame(data = test_data)\n",
    "data1\n",
    "data1.to_csv(\"test_Data15.csv\", index = False)"
   ]
  },
  {
   "cell_type": "code",
   "execution_count": 66,
   "metadata": {},
   "outputs": [],
   "source": [
    "train['target'] = train['interest_level'].apply(lambda x: 0 if x == 'low' else 1 if x == 'medium' else 2)\n",
    "X= train[['bathrooms','bedrooms','longitude', 'latitude','price','Laundary in Building','Hardwood Floors','Dishwasher','Dogs Allowed','Cats Allowed','Doorman','kitchen','renoveted','new','great','locate','high','restaurants','marble','part','location','beautiful','private','luxury','viewing','center','site','trains']]\n",
    "X_test = test[['bathrooms','bedrooms','longitude', 'latitude','price','Laundary in Building','Hardwood Floors','Dishwasher','Dogs Allowed','Cats Allowed','Doorman','kitchen','renoveted','new','great','locate','high','restaurants','marble','part','location','beautiful','private','luxury','viewing','center','site','trains']]\n",
    "y = train['target']\n",
    "\n",
    "clf = neighbors.KNeighborsClassifier(n_neighbors = 900, n_jobs = -1, leaf_size = 1)\n",
    "clf.fit(X,y)\n",
    "\n",
    "y = clf.predict(X_test)\n",
    "y_test = clf.predict_proba(X_test)\n",
    "test_data = {'listing_id' : test['listing_id'],'high': y_test[:,2],'medium': y_test[:,1],'low': y_test[:,0]}\n",
    "\n",
    "data1 = pd.DataFrame(data = test_data)\n",
    "data1\n",
    "data1.to_csv(\"test_Data14.csv\", index = False)"
   ]
  },
  {
   "cell_type": "code",
   "execution_count": 69,
   "metadata": {},
   "outputs": [],
   "source": [
    "train['target'] = train['interest_level'].apply(lambda x: 0 if x == 'low' else 1 if x == 'medium' else 2)\n",
    "X= train[['bathrooms','bedrooms','longitude', 'latitude','price','Laundary in Building','Hardwood Floors','Dishwasher','Dogs Allowed','Cats Allowed','Doorman','kitchen','renoveted','new','great','locate','high','restaurants','marble','part','location','beautiful','private','luxury','viewing','center','site','trains']]\n",
    "X_test = test[['bathrooms','bedrooms','longitude', 'latitude','price','Laundary in Building','Hardwood Floors','Dishwasher','Dogs Allowed','Cats Allowed','Doorman','kitchen','renoveted','new','great','locate','high','restaurants','marble','part','location','beautiful','private','luxury','viewing','center','site','trains']]\n",
    "y = train['target']\n",
    "\n",
    "clf = neighbors.KNeighborsClassifier(n_neighbors = 875, n_jobs = -1, leaf_size = 1)\n",
    "clf.fit(X,y)\n",
    "\n",
    "y = clf.predict(X_test)\n",
    "y_test = clf.predict_proba(X_test)\n",
    "test_data = {'listing_id' : test['listing_id'],'high': y_test[:,2],'medium': y_test[:,1],'low': y_test[:,0]}\n",
    "\n",
    "data1 = pd.DataFrame(data = test_data)\n",
    "data1\n",
    "data1.to_csv(\"test_Data17.csv\", index = False)"
   ]
  },
  {
   "cell_type": "code",
   "execution_count": 70,
   "metadata": {},
   "outputs": [],
   "source": [
    "train['target'] = train['interest_level'].apply(lambda x: 0 if x == 'low' else 1 if x == 'medium' else 2)\n",
    "X= train[['bathrooms','bedrooms','longitude', 'latitude','price','Laundary in Building','Hardwood Floors','Dishwasher','Dogs Allowed','Cats Allowed','Doorman','kitchen','renoveted','new','great','locate','high','restaurants','marble','part','location','beautiful','private','luxury','viewing','center','site','trains']]\n",
    "X_test = test[['bathrooms','bedrooms','longitude', 'latitude','price','Laundary in Building','Hardwood Floors','Dishwasher','Dogs Allowed','Cats Allowed','Doorman','kitchen','renoveted','new','great','locate','high','restaurants','marble','part','location','beautiful','private','luxury','viewing','center','site','trains']]\n",
    "y = train['target']\n",
    "\n",
    "clf = neighbors.KNeighborsClassifier(n_neighbors = 800, n_jobs = -1, leaf_size = 1)\n",
    "clf.fit(X,y)\n",
    "\n",
    "y = clf.predict(X_test)\n",
    "y_test = clf.predict_proba(X_test)\n",
    "test_data = {'listing_id' : test['listing_id'],'high': y_test[:,2],'medium': y_test[:,1],'low': y_test[:,0]}\n",
    "\n",
    "data1 = pd.DataFrame(data = test_data)\n",
    "data1\n",
    "data1.to_csv(\"test_Data18.csv\", index = False)"
   ]
  },
  {
   "cell_type": "code",
   "execution_count": 71,
   "metadata": {},
   "outputs": [],
   "source": [
    "train['target'] = train['interest_level'].apply(lambda x: 0 if x == 'low' else 1 if x == 'medium' else 2)\n",
    "X= train[['bathrooms','bedrooms','longitude', 'latitude','price','Laundary in Building','Hardwood Floors','Dishwasher','Dogs Allowed','Cats Allowed','Doorman','kitchen','renoveted','new','great','locate','high','restaurants','marble','part','location','beautiful','private','luxury','viewing','center','site','trains']]\n",
    "X_test = test[['bathrooms','bedrooms','longitude', 'latitude','price','Laundary in Building','Hardwood Floors','Dishwasher','Dogs Allowed','Cats Allowed','Doorman','kitchen','renoveted','new','great','locate','high','restaurants','marble','part','location','beautiful','private','luxury','viewing','center','site','trains']]\n",
    "y = train['target']\n",
    "\n",
    "clf = neighbors.KNeighborsClassifier(n_neighbors = 700, n_jobs = -1, leaf_size = 1)\n",
    "clf.fit(X,y)\n",
    "\n",
    "y = clf.predict(X_test)\n",
    "y_test = clf.predict_proba(X_test)\n",
    "test_data = {'listing_id' : test['listing_id'],'high': y_test[:,2],'medium': y_test[:,1],'low': y_test[:,0]}\n",
    "\n",
    "data1 = pd.DataFrame(data = test_data)\n",
    "data1\n",
    "data1.to_csv(\"test_Data19.csv\", index = False)"
   ]
  },
  {
   "cell_type": "code",
   "execution_count": 72,
   "metadata": {},
   "outputs": [],
   "source": [
    "train['target'] = train['interest_level'].apply(lambda x: 0 if x == 'low' else 1 if x == 'medium' else 2)\n",
    "X= train[['bathrooms','bedrooms','longitude', 'latitude','price','Laundary in Building','Hardwood Floors','Dishwasher','Dogs Allowed','Cats Allowed','Doorman','kitchen','renoveted','new','great','locate','high','restaurants','marble','part','location','beautiful','private','luxury','viewing','center','site','trains']]\n",
    "X_test = test[['bathrooms','bedrooms','longitude', 'latitude','price','Laundary in Building','Hardwood Floors','Dishwasher','Dogs Allowed','Cats Allowed','Doorman','kitchen','renoveted','new','great','locate','high','restaurants','marble','part','location','beautiful','private','luxury','viewing','center','site','trains']]\n",
    "y = train['target']\n",
    "\n",
    "clf = neighbors.KNeighborsClassifier(n_neighbors = 600, n_jobs = -1, leaf_size = 1)\n",
    "clf.fit(X,y)\n",
    "\n",
    "y = clf.predict(X_test)\n",
    "y_test = clf.predict_proba(X_test)\n",
    "test_data = {'listing_id' : test['listing_id'],'high': y_test[:,2],'medium': y_test[:,1],'low': y_test[:,0]}\n",
    "\n",
    "data1 = pd.DataFrame(data = test_data)\n",
    "data1\n",
    "data1.to_csv(\"test_Data19.csv\", index = False)"
   ]
  },
  {
   "cell_type": "code",
   "execution_count": 73,
   "metadata": {},
   "outputs": [],
   "source": [
    "train['target'] = train['interest_level'].apply(lambda x: 0 if x == 'low' else 1 if x == 'medium' else 2)\n",
    "X= train[['bathrooms','bedrooms','longitude', 'latitude','price','Laundary in Building','Hardwood Floors','Dishwasher','Dogs Allowed','Cats Allowed','Doorman','kitchen','renoveted','new','great','locate','high','restaurants','marble','part','location','beautiful','private','luxury','viewing','center','site','trains']]\n",
    "X_test = test[['bathrooms','bedrooms','longitude', 'latitude','price','Laundary in Building','Hardwood Floors','Dishwasher','Dogs Allowed','Cats Allowed','Doorman','kitchen','renoveted','new','great','locate','high','restaurants','marble','part','location','beautiful','private','luxury','viewing','center','site','trains']]\n",
    "y = train['target']\n",
    "\n",
    "clf = neighbors.KNeighborsClassifier(n_neighbors = 100, n_jobs = -1, leaf_size = 1)\n",
    "clf.fit(X,y)\n",
    "\n",
    "y = clf.predict(X_test)\n",
    "y_test = clf.predict_proba(X_test)\n",
    "test_data = {'listing_id' : test['listing_id'],'high': y_test[:,2],'medium': y_test[:,1],'low': y_test[:,0]}\n",
    "\n",
    "data1 = pd.DataFrame(data = test_data)\n",
    "data1\n",
    "data1.to_csv(\"test_Data20.csv\", index = False)"
   ]
  },
  {
   "cell_type": "code",
   "execution_count": 74,
   "metadata": {},
   "outputs": [],
   "source": [
    "train['target'] = train['interest_level'].apply(lambda x: 0 if x == 'low' else 1 if x == 'medium' else 2)\n",
    "X= train[['bathrooms','bedrooms','longitude', 'latitude','price','Laundary in Building','Hardwood Floors','Dishwasher','Dogs Allowed','Cats Allowed','Doorman','kitchen','renoveted','new','great','locate','high','restaurants','marble','part','location','beautiful','private','luxury','viewing','center','site','trains']]\n",
    "X_test = test[['bathrooms','bedrooms','longitude', 'latitude','price','Laundary in Building','Hardwood Floors','Dishwasher','Dogs Allowed','Cats Allowed','Doorman','kitchen','renoveted','new','great','locate','high','restaurants','marble','part','location','beautiful','private','luxury','viewing','center','site','trains']]\n",
    "y = train['target']\n",
    "\n",
    "clf = neighbors.KNeighborsClassifier(n_neighbors = 75, n_jobs = -1, leaf_size = 1)\n",
    "clf.fit(X,y)\n",
    "\n",
    "y = clf.predict(X_test)\n",
    "y_test = clf.predict_proba(X_test)\n",
    "test_data = {'listing_id' : test['listing_id'],'high': y_test[:,2],'medium': y_test[:,1],'low': y_test[:,0]}\n",
    "\n",
    "data1 = pd.DataFrame(data = test_data)\n",
    "data1\n",
    "data1.to_csv(\"test_Data21.csv\", index = False)"
   ]
  },
  {
   "cell_type": "code",
   "execution_count": 75,
   "metadata": {},
   "outputs": [],
   "source": [
    "train['target'] = train['interest_level'].apply(lambda x: 0 if x == 'low' else 1 if x == 'medium' else 2)\n",
    "X= train[['longitude', 'latitude','price']]\n",
    "X_test = test[['longitude', 'latitude','price']]\n",
    "y = train['target']\n",
    "\n",
    "clf = neighbors.KNeighborsClassifier(n_neighbors = 100, n_jobs = -1, leaf_size = 1)\n",
    "clf.fit(X,y)\n",
    "\n",
    "y = clf.predict(X_test)\n",
    "y_test = clf.predict_proba(X_test)\n",
    "test_data = {'listing_id' : test['listing_id'],'high': y_test[:,2],'medium': y_test[:,1],'low': y_test[:,0]}\n",
    "\n",
    "data1 = pd.DataFrame(data = test_data)\n",
    "data1\n",
    "data1.to_csv(\"test_Data22.csv\", index = False)"
   ]
  },
  {
   "cell_type": "code",
   "execution_count": 77,
   "metadata": {},
   "outputs": [],
   "source": [
    "train['target'] = train['interest_level'].apply(lambda x: 0 if x == 'low' else 1 if x == 'medium' else 2)\n",
    "X= train[['bathrooms','bedrooms','longitude', 'latitude','price']]\n",
    "X_test = test[['bathrooms','bedrooms','longitude', 'latitude','price']]\n",
    "y = train['target']\n",
    "\n",
    "clf = neighbors.KNeighborsClassifier(n_neighbors = 100, n_jobs = -1, leaf_size = 1)\n",
    "clf.fit(X,y)\n",
    "\n",
    "y = clf.predict(X_test)\n",
    "y_test = clf.predict_proba(X_test)\n",
    "test_data = {'listing_id' : test['listing_id'],'high': y_test[:,2],'medium': y_test[:,1],'low': y_test[:,0]}\n",
    "\n",
    "data1 = pd.DataFrame(data = test_data)\n",
    "data1\n",
    "data1.to_csv(\"test_Data23.csv\", index = False)"
   ]
  },
  {
   "cell_type": "code",
   "execution_count": 67,
   "metadata": {},
   "outputs": [],
   "source": [
    "train['target'] = train['interest_level'].apply(lambda x: 0 if x == 'low' else 1 if x == 'medium' else 2)\n",
    "X= train[['bathrooms','bedrooms','longitude', 'latitude','price','Laundary in Building','Hardwood Floors','Dishwasher','Dogs Allowed','Cats Allowed','Doorman','kitchen','renoveted','new','great','locate','high','restaurants','marble','part','location','beautiful','private','luxury','viewing','center','site','trains']]\n",
    "X_test = test[['bathrooms','bedrooms','longitude', 'latitude','price','Laundary in Building','Hardwood Floors','Dishwasher','Dogs Allowed','Cats Allowed','Doorman','kitchen','renoveted','new','great','locate','high','restaurants','marble','part','location','beautiful','private','luxury','viewing','center','site','trains']]\n",
    "y = train['target']\n",
    "\n",
    "clf = neighbors.KNeighborsClassifier(n_neighbors = 975, n_jobs = -1, leaf_size = 1)\n",
    "clf.fit(X,y)\n",
    "\n",
    "y = clf.predict(X_test)\n",
    "y_test = clf.predict_proba(X_test)\n",
    "test_data = {'listing_id' : test['listing_id'],'high': y_test[:,2],'medium': y_test[:,1],'low': y_test[:,0]}\n",
    "\n",
    "data1 = pd.DataFrame(data = test_data)\n",
    "data1\n",
    "data1.to_csv(\"test_Data16.csv\", index = False)"
   ]
  },
  {
   "cell_type": "code",
   "execution_count": null,
   "metadata": {},
   "outputs": [],
   "source": []
  },
  {
   "cell_type": "code",
   "execution_count": 68,
   "metadata": {},
   "outputs": [],
   "source": [
    "train['target'] = train['interest_level'].apply(lambda x: 0 if x == 'low' else 1 if x == 'medium' else 2)\n",
    "X= train[['bathrooms','bedrooms','longitude', 'latitude','price','Laundary in Building','Hardwood Floors','Dishwasher','Dogs Allowed','Cats Allowed','Doorman','kitchen','renoveted','new','great','locate','high','restaurants','marble','part','location','beautiful','private','luxury','viewing','center','site','trains']]\n",
    "X_test = test[['bathrooms','bedrooms','longitude', 'latitude','price','Laundary in Building','Hardwood Floors','Dishwasher','Dogs Allowed','Cats Allowed','Doorman','kitchen','renoveted','new','great','locate','high','restaurants','marble','part','location','beautiful','private','luxury','viewing','center','site','trains']]\n",
    "y = train['target']\n",
    "\n",
    "clf = neighbors.KNeighborsClassifier(n_neighbors = 1000, n_jobs = -1, leaf_size = 1)\n",
    "clf.fit(X,y)\n",
    "\n",
    "y = clf.predict(X_test)\n",
    "y_test = clf.predict_proba(X_test)\n",
    "test_data = {'listing_id' : test['listing_id'],'high': y_test[:,2],'medium': y_test[:,1],'low': y_test[:,0]}\n",
    "\n",
    "data1 = pd.DataFrame(data = test_data)\n",
    "data1\n",
    "data1.to_csv(\"test_Data14.csv\", index = False)"
   ]
  },
  {
   "cell_type": "code",
   "execution_count": 61,
   "metadata": {},
   "outputs": [
    {
     "name": "stdout",
     "output_type": "stream",
     "text": [
      "best_score: 0.768791997547214\n",
      "best_k 1000\n"
     ]
    }
   ],
   "source": [
    "train['target'] = train['interest_level'].apply(lambda x: 0 if x == 'low' else 1 if x == 'medium' else 2)\n",
    "X = train[['latitude','longitude','price','bedrooms','bathrooms']]\n",
    "#X = my_df2['latitude','longitude']\n",
    "Y = train['target']\n",
    "\n",
    "best_lgl = 100\n",
    "best_k = 1\n",
    "for k in range(999,1001):\n",
    "    X_train, X_test, Y_train, Y_test = train_test_split(X, Y, test_size = 0.2, random_state = 0,shuffle = True)\n",
    "\n",
    "    clf = neighbors.KNeighborsClassifier(n_neighbors = k, n_jobs = -1)\n",
    "    clf.fit(X_train, Y_train)\n",
    "    \n",
    "    y_testp = clf.predict_proba(X_test)\n",
    "\n",
    "    lgl = log_loss(Y_test, y_testp, labels = [0,1,2])\n",
    "    \n",
    "    if lgl < best_lgl:\n",
    "        best_lgl = lgl\n",
    "        best_k = k\n",
    "    \n",
    "    #f1 = f1_score(Y_test, y_testp, average='weighted')\n",
    "#mean_lgloss = total_lgl/10\n",
    "#one_hot = OneHotEncoder(n_values = 4, sparse = False)\n",
    "#print(\"logistic_model1.score\",clf.score(X_train, Y_train))\n",
    "#print(\"logistic_model1.score\",clf.score(X_test, Y_test))\n",
    "#f1 = f1_score(Y_score, Y_test, average='weighted')\n",
    "#y_score = clf.score(X_test, Y_test)\n",
    "#roc = roc_auc_score(Y_test, y_score)\n",
    "\n",
    "#print(f1)\n",
    "#print(mean_lgloss)\n",
    "#print(roc)\n",
    "print(\"best_score:\",best_lgl)\n",
    "print(\"best_k\", k)"
   ]
  },
  {
   "cell_type": "code",
   "execution_count": 82,
   "metadata": {},
   "outputs": [
    {
     "name": "stdout",
     "output_type": "stream",
     "text": [
      "logistic_model1.score 0.6843964935940661\n",
      "logistic_model1.score 0.6821663609882404\n"
     ]
    }
   ],
   "source": [
    "train['target'] = train['interest_level'].apply(lambda x: 0 if x == 'low' else 1 if x == 'medium' else 2)\n",
    "X= train[['bathrooms','bedrooms','longitude', 'latitude','price','Laundary in Building','Hardwood Floors','Dishwasher','Dogs Allowed','Cats Allowed','Doorman','kitchen','renoveted','new','great','locate','high','restaurants','marble','part','location','beautiful','private','luxury','viewing','center','site','trains']]\n",
    "#X = my_df2['latitude','longitude']\n",
    "Y = train['target']\n",
    "\n",
    "total_lgl = 0\n",
    "#for i in range(10):\n",
    "X_train, X_test, Y_train, Y_test = train_test_split(X, Y, test_size = 0.2, random_state = 0,shuffle = True)\n",
    "\n",
    "clf = neighbors.KNeighborsClassifier(n_neighbors = 1000, n_jobs = -1, leaf_size = 1)\n",
    "clf.fit(X,Y)\n",
    "#y_testp = logistic_modell.predict_proba(X_test)\n",
    "\n",
    "#total_lgl += log_loss(Y_test, y_testp, labels = [0,1,2])\n",
    "\n",
    "#mean_lgloss = total_lgl/10\n",
    "#one_hot = OneHotEncoder(n_values = 4, sparse = False)\n",
    "print(\"logistic_model1.score\",clf.score(X_train, Y_train))\n",
    "print(\"logistic_model1.score\",clf.score(X_test, Y_test))\n",
    "\n",
    "#print(classification_report(X_test,Y_test))\n",
    "#print(mean_lgloss)"
   ]
  },
  {
   "cell_type": "code",
   "execution_count": null,
   "metadata": {},
   "outputs": [],
   "source": []
  },
  {
   "cell_type": "code",
   "execution_count": null,
   "metadata": {},
   "outputs": [],
   "source": []
  }
 ],
 "metadata": {
  "kernelspec": {
   "display_name": "Python 3",
   "language": "python",
   "name": "python3"
  },
  "language_info": {
   "codemirror_mode": {
    "name": "ipython",
    "version": 3
   },
   "file_extension": ".py",
   "mimetype": "text/x-python",
   "name": "python",
   "nbconvert_exporter": "python",
   "pygments_lexer": "ipython3",
   "version": "3.8.1"
  }
 },
 "nbformat": 4,
 "nbformat_minor": 4
}
